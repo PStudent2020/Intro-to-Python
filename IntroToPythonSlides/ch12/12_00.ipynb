{
 "cells": [
  {
   "cell_type": "markdown",
   "metadata": {},
   "source": [
    "# 12. Natural Language Processing (NLP)"
   ]
  },
  {
   "cell_type": "markdown",
   "metadata": {},
   "source": [
    "# Objectives \n",
    "* Perform **NLP** tasks fundamental to many of our later case studies\n",
    "* **TextBlob**, **NLTK**, **Textatistic** and **spaCy** libraries\n",
    "* **Tokenize text** into words and sentences\n",
    "* **Parts-of-speech tagging**\n",
    "* **Sentiment analysis** for determining whether text is positive, negative or neutral\n",
    "* **Detect the language of text** and **translate between languages**"
   ]
  },
  {
   "cell_type": "markdown",
   "metadata": {},
   "source": [
    "# Objectives (cont.)\n",
    "* Word roots via **stemming** and **lemmatization**\n",
    "* **Spell checking** and **correction** \n",
    "* Word **definitions**, **synonyms** and **antonyms** **===CURRENTLY DELETED AND IN DUMP FILE===**\n",
    "* Remove **stop words** from text\n",
    "* Create **word cloud visualizations**\n",
    "* **Readability assessment**\n",
    "* **Named entity recognition** and **similarity detection**"
   ]
  },
  {
   "cell_type": "markdown",
   "metadata": {},
   "source": [
    "* [12.1 Introduction](./12_01.ipynb)\n",
    "* [12.2 TextBlob](./12_02.00.ipynb)\n",
    "    * [12.2.1 Create a TextBlob](./12_02.01-07.ipynb) &mdash; **Sections 12.2.1-7 are in one notebook**\n",
    "    * 12.2.2 Tokenizing Text into Sentences and Words\n",
    "    * 12.2.3 Parts-of-Speech Tagging\n",
    "    * 12.2.4 Extracting Noun Phrases\n",
    "    * 12.2.5 Sentiment Analysis with TextBlob’s Default Sentiment Analyzer\n",
    "    * 12.2.6 Sentiment Analysis with the NaiveBayesAnalyzer\n",
    "    * 12.2.7 Language Detection and Translation\n",
    "    * [12.2.8 Inflection: Pluralization and Singularization](./12_02.08.ipynb)\n",
    "    * [12.2.9 Spell Checking and Correction](./12_02.09.ipynb)\n",
    "    * [12.2.10 Normalization: Stemming and Lemmatization](./12_02.10.ipynb)\n",
    "    * [12.2.11 Word Frequencies](./12_02.11.ipynb)\n",
    "    * [12.2.12 Getting Definitions, Synonyms and Antonyms from WordNet](./12_02.12.ipynb)\n",
    "    * [12.2.13 Deleting Stop Words](./12_02.13.ipynb)\n",
    "    * [12.2.14 n-grams](./12_02.14.ipynb)\n",
    "* 12.3 Visualizing Word Frequencies with Bar Charts and Word Clouds\n",
    "    * [12.3.1 Visualizing Word Frequencies with Pandas](./12_03.01.ipynb)\n",
    "    * [12.3.2 Visualizing Word Frequencies with Word Clouds](./12_03.02.ipynb)\n",
    "* [12.4 Readability Assessment with Textatistic](./12_04.ipynb)\n",
    "* [12.5 Named Entity Recognition with spaCy](./12_05.ipynb)\n",
    "* [12.6 Similarity Detection with spaCy](./12_06.ipynb)\n",
    "* [12.7 Other NLP Libraries and Tools](./12_07.ipynb)\n",
    "* [12.8 Machine Learning and Deep Learning Natural Language Applications](./12_08.ipynb)\n",
    "* [12.9 Natural Language Datasets](./12_09.ipynb)\n",
    "* 12.10 Wrap-Up\n",
    "* Exercises"
   ]
  },
  {
   "cell_type": "markdown",
   "metadata": {},
   "source": [
    "------\n",
    "&copy;1992&ndash;2020 by Pearson Education, Inc. All Rights Reserved. This content is based on Chapter 5 of the book [**Intro to Python for Computer Science and Data Science: Learning to Program with AI, Big Data and the Cloud**](https://amzn.to/2VvdnxE).\n",
    "\n",
    "DISCLAIMER: The authors and publisher of this book have used their \n",
    "best efforts in preparing the book. These efforts include the \n",
    "development, research, and testing of the theories and programs \n",
    "to determine their effectiveness. The authors and publisher make \n",
    "no warranty of any kind, expressed or implied, with regard to these \n",
    "programs or to the documentation contained in these books. The authors \n",
    "and publisher shall not be liable in any event for incidental or \n",
    "consequential damages in connection with, or arising out of, the \n",
    "furnishing, performance, or use of these programs.                  "
   ]
  }
 ],
 "metadata": {
  "celltoolbar": "Slideshow",
  "kernelspec": {
   "display_name": "Python 3",
   "language": "python",
   "name": "python3"
  },
  "language_info": {
   "codemirror_mode": {
    "name": "ipython",
    "version": 3
   },
   "file_extension": ".py",
   "mimetype": "text/x-python",
   "name": "python",
   "nbconvert_exporter": "python",
   "pygments_lexer": "ipython3",
   "version": "3.7.3"
  }
 },
 "nbformat": 4,
 "nbformat_minor": 2
}
