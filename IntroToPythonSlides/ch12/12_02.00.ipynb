{
 "cells": [
  {
   "cell_type": "markdown",
   "metadata": {},
   "source": [
    "# 12.2 TextBlob\n",
    "* https://textblob.readthedocs.io/en/latest/\n",
    "* Object-oriented NLP text-processing library that is built on the NLTK and pattern NLP libraries\n",
    "* Some of the NLP tasks TextBlob can perform include:\n",
    "    * Tokenization—splitting text into pieces called tokens, which are meaningful units, such as words and numbers\n",
    "    * Parts-of-speech (POS) tagging—identifying each word’s part of speech, such as noun, verb, adjective, etc.\n",
    "    * Noun phrase extraction—locating groups of words that represent nouns, such as “red brick factory.”\n",
    "        * The phrase “red brick factory” illustrates why natural language is such a difficult subject. Is a “red brick factory” a factory that makes red bricks? Is it a red factory that makes bricks of any color? Is it a factory built of red bricks that makes products of any type? In today’s music world, it could even be the name of a rock band or the name of a game on your smartphone.\n",
    "    * Sentiment analysis—determining whether text has positive, neutral or negative sentiment.\n",
    "    * Inter-language translation and language detection powered by Google Translate."
   ]
  },
  {
   "cell_type": "markdown",
   "metadata": {},
   "source": [
    "# 12.2 TextBlob (cont.)\n",
    "* Some of the NLP tasks TextBlob can perform include: (cont.)\n",
    "    * [Inflection](https://en.wikipedia.org/wiki/Inflection.)—pluralizing and singularizing words. There are other aspects of inflection that are not part of TextBlob.\n",
    "    * Spell checking and spelling correction.\n",
    "    * Stemming—reducing words to their stems by removing prefixes or suffixes. For example, the stem of “varieties” is “varieti.”\n",
    "    * Lemmatization—like stemming, but produces real words based on the original words’ context. For example, the lemmatized form of “varieties” is “variety.”\n",
    "    * Word frequencies—determining how often each word appears in a corpus.\n",
    "    * WordNet integration for finding word definitions, synonyms and antonyms.\n",
    "    * Stop word elimination—removing common words, such as a, an, the, I, we, you and more to analyze the important words in a corpus.\n",
    "    * n-grams—producing sets of consecutive words in a corpus for use in identifying words that frequently appear adjacent to one another."
   ]
  },
  {
   "cell_type": "markdown",
   "metadata": {},
   "source": [
    "# 12.2 TextBlob (cont.)\n",
    "### Installing the TextBlob Module\n",
    "```\n",
    "conda install -c conda-forge textblob\n",
    "```\n",
    "\n",
    "* Once installation completes, execute the following command to download the NLTK corpora used by TextBlob:\n",
    ">```\n",
    "ipython -m textblob.download_corpora\n",
    "```"
   ]
  },
  {
   "cell_type": "markdown",
   "metadata": {},
   "source": [
    "# 12.2 TextBlob (cont.)\n",
    "### Project Gutenberg\n",
    "* Great source of text for analysis is the free e-books at Project Gutenberg:\n",
    "> https://www.gutenberg.org\n",
    "* Over 57,000 e-books in various formats, including plain text files\n",
    "* Out of copyright in the United States\n",
    "* [Terms of Use and copyright in other countries](https://www.gutenberg.org/wiki/Gutenberg:Terms_of_Use)\n",
    "* Some examples use the plain-text e-book file for Shakespeare’s Romeo and Juliet:\n",
    "https://www.gutenberg.org/ebooks/1513\n",
    "* You’re required to copy books for programmatic access\n",
    "> https://www.gutenberg.org/wiki/Gutenberg:Information_About_Robot_Access_to_our_Pages\n",
    "* To download\n",
    "    * Right click the Plain Text UTF-8 link on a book’s web page\n",
    "    * Select **Save Link As…** (Chrome/FireFox), **Download Linked File As…** (Safari) or **Save target as** (Microsoft Edge)\n",
    "* Save Romeo and Juliet as `RomeoAndJuliet.txt` in the `ch12` examples \n",
    "* **For analysis purposes, we removed the Project Gutenberg text before \"THE TRAGEDY OF ROMEO AND JULIET\", as well as the Project Guttenberg information at the end of the file starting with: \"End of the Project Gutenberg EBook of Romeo and Juliet, by William Shakespeare\"**"
   ]
  },
  {
   "cell_type": "markdown",
   "metadata": {},
   "source": [
    "------\n",
    "&copy;1992&ndash;2020 by Pearson Education, Inc. All Rights Reserved. This content is based on Chapter 5 of the book [**Intro to Python for Computer Science and Data Science: Learning to Program with AI, Big Data and the Cloud**](https://amzn.to/2VvdnxE).\n",
    "\n",
    "DISCLAIMER: The authors and publisher of this book have used their \n",
    "best efforts in preparing the book. These efforts include the \n",
    "development, research, and testing of the theories and programs \n",
    "to determine their effectiveness. The authors and publisher make \n",
    "no warranty of any kind, expressed or implied, with regard to these \n",
    "programs or to the documentation contained in these books. The authors \n",
    "and publisher shall not be liable in any event for incidental or \n",
    "consequential damages in connection with, or arising out of, the \n",
    "furnishing, performance, or use of these programs.                  "
   ]
  }
 ],
 "metadata": {
  "celltoolbar": "Slideshow",
  "kernelspec": {
   "display_name": "Python 3",
   "language": "python",
   "name": "python3"
  },
  "language_info": {
   "codemirror_mode": {
    "name": "ipython",
    "version": 3
   },
   "file_extension": ".py",
   "mimetype": "text/x-python",
   "name": "python",
   "nbconvert_exporter": "python",
   "pygments_lexer": "ipython3",
   "version": "3.7.3"
  }
 },
 "nbformat": 4,
 "nbformat_minor": 2
}
