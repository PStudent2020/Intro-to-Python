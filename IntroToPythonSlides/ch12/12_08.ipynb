{
 "cells": [
  {
   "cell_type": "markdown",
   "metadata": {},
   "source": [
    "# 12.8 Machine Learning and Deep Learning Natural Language Applications\n",
    "* **Answering natural language questions**—For example, our publisher Pearson Education, has a partnership with **IBM Watson** that uses **Watson as a virtual tutor**. Students ask Watson natural language questions and get answers. \n",
    "* **Summarizing documents**—analyzing documents and producing **short summaries** (**abstracts**) that can, for example, be **included with search results** and can help you decide what to read. \n",
    "* **Speech synthesis (speech-to-text)**, **speech recognition (text-to-speech)**, **inter-language text-to-text translation**.\n",
    "* **Collaborative filtering**—used to implement **recommender systems** (“if you liked this movie, you might also like…”).\n",
    "* **Text classification**—e.g., **classifying news articles by categories**, such as world news, national news, local news, sports, business, entertainment, etc.\n",
    "* **Topic modeling**—finding the **topics** discussed in documents. \n",
    "* **Sarcasm detection**—often used with **sentiment analysis**.\n",
    "* **Text simplification**—making text **more concise** and **easier to read**.\n",
    "* **Speech to sign language and vice versa**—to enable a conversation with a hearing-impaired person.\n",
    "* **Lip reader technology**—for people who can’t speak, convert lip movement to text or speech to enable conversation. \n",
    "* **Closed captioning**—**automatically** adding text captions to video."
   ]
  },
  {
   "cell_type": "markdown",
   "metadata": {},
   "source": [
    "------\n",
    "&copy;1992&ndash;2020 by Pearson Education, Inc. All Rights Reserved. This content is based on Chapter 5 of the book [**Intro to Python for Computer Science and Data Science: Learning to Program with AI, Big Data and the Cloud**](https://amzn.to/2VvdnxE).\n",
    "\n",
    "DISCLAIMER: The authors and publisher of this book have used their \n",
    "best efforts in preparing the book. These efforts include the \n",
    "development, research, and testing of the theories and programs \n",
    "to determine their effectiveness. The authors and publisher make \n",
    "no warranty of any kind, expressed or implied, with regard to these \n",
    "programs or to the documentation contained in these books. The authors \n",
    "and publisher shall not be liable in any event for incidental or \n",
    "consequential damages in connection with, or arising out of, the \n",
    "furnishing, performance, or use of these programs.                  "
   ]
  }
 ],
 "metadata": {
  "kernelspec": {
   "display_name": "Python 3",
   "language": "python",
   "name": "python3"
  },
  "language_info": {
   "codemirror_mode": {
    "name": "ipython",
    "version": 3
   },
   "file_extension": ".py",
   "mimetype": "text/x-python",
   "name": "python",
   "nbconvert_exporter": "python",
   "pygments_lexer": "ipython3",
   "version": "3.7.3"
  }
 },
 "nbformat": 4,
 "nbformat_minor": 2
}
