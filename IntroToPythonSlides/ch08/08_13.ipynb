{
 "cells": [
  {
   "cell_type": "markdown",
   "metadata": {},
   "source": [
    "# 8.13 Intro to Data Science: Pandas, Regular Expressions and Data Munging \n",
    "* Data does not always come in forms ready for analysis\n",
    "* Data could be\n",
    "    * wrong format\n",
    "    * incorrect \n",
    "    * missing\n",
    "* Data scientists can spend as much as 75% of their time preparing data before they begin their studies\n",
    "* Called **data munging** or **data wrangling**"
   ]
  },
  {
   "cell_type": "markdown",
   "metadata": {},
   "source": [
    "# 8.13 Intro to Data Science: Pandas, Regular Expressions and Data Munging (cont.)\n",
    "* Two of the most important steps in data munging are _data cleaning_ and _transforming data_ into optimal formats for database systems and analytics software\n",
    "* Common data cleaning examples include: \n",
    "    * deleting observations with missing values,\n",
    "    * substituting reasonable values for missing values,\n",
    "    * deleting observations with bad values,\n",
    "    * substituting reasonable values for bad values,\n",
    "    * tossing outliers (although sometimes you’ll want to keep them),\n",
    "    * duplicate elimination (although sometimes duplicates are valid),\n",
    "    * dealing with inconsistent data,\n",
    "    * and more. "
   ]
  },
  {
   "cell_type": "markdown",
   "metadata": {},
   "source": [
    "# 8.13 Intro to Data Science: Pandas, Regular Expressions and Data Munging (cont.)\n",
    "* Data cleaning is a difficult and messy process where you could easily make bad decisions that would negatively impact your results\n",
    "* The actions data scientists take can vary per project, be based on the quality and nature of the data and be affected by evolving organization and professional standards\n",
    "* Common data transformations include:\n",
    "    * removing unnecessary data and _features_ (we’ll say more about features in the data science case studies),\n",
    "    * combining related features,\n",
    "    * sampling data to obtain a representative subset (we’ll see in the data science case studies that _random sampling_ is particularly effective for this and we’ll say why),\n",
    "    * standardizing data formats,\n",
    "    * grouping data,\n",
    "    * and more."
   ]
  },
  {
   "cell_type": "markdown",
   "metadata": {},
   "source": [
    "### Cleaning Your Data \n",
    "* Bad data values and missing values can significantly impact data analysis\n",
    "* Some data scientists advise against any attempts to insert “reasonable values” \n",
    "    * Instead, they advocate clearly marking missing data and leaving it up to the data analytics package to handle the issue"
   ]
  },
  {
   "cell_type": "markdown",
   "metadata": {},
   "source": [
    "### Cleaning Your Data (cont.)\n",
    "* Consider a hospital that records patients’ temperatures (and probably other vital signs) four times per day\n",
    "* Assume that the data consists of a name and four `float` values, such as\n",
    "```python\n",
    "['Brown, Sue', 98.6, 98.4, 98.7, 0.0]\n",
    "```\n",
    "* Patient’s first three recorded temperatures are 99.7, 98.4 and 98.7\n",
    "* Last temperature was missing and recorded as 0.0, perhaps because the sensor malfunctioned\n",
    "* Average of the first three values is 98.57, which is close to normal\n",
    "* If you calculate the average temperature _including_ the missing value for which 0.0 was substituted, the average is only 73.93, clearly a questionable result\n",
    "* Crucial to “get the data right.” \n",
    "* One way to clean the data is to substitute a _reasonable_ value for the missing temperature, such as the average of the patient’s other readings"
   ]
  },
  {
   "cell_type": "markdown",
   "metadata": {},
   "source": [
    "### Data Validation\n",
    "* `Series` of five-digit ZIP Codes from a dictionary of city-name/five-digit-ZIP-Code key–value pairs\n",
    "* Intentionally entered an invalid ZIP Code for Miami"
   ]
  },
  {
   "cell_type": "code",
   "execution_count": 1,
   "metadata": {},
   "outputs": [],
   "source": [
    "import pandas as pd"
   ]
  },
  {
   "cell_type": "code",
   "execution_count": 2,
   "metadata": {},
   "outputs": [],
   "source": [
    "zips = pd.Series({'Boston': '02215', 'Miami': '3310'})"
   ]
  },
  {
   "cell_type": "code",
   "execution_count": 3,
   "metadata": {},
   "outputs": [
    {
     "data": {
      "text/plain": [
       "Boston    02215\n",
       "Miami      3310\n",
       "dtype: object"
      ]
     },
     "execution_count": 3,
     "metadata": {},
     "output_type": "execute_result"
    }
   ],
   "source": [
    "zips"
   ]
  },
  {
   "cell_type": "markdown",
   "metadata": {},
   "source": [
    "### Data Validation (cont.)\n",
    "* The “second column” represents the `Series`’ ZIP Code _values_ (from the dictionary’s values)\n",
    "* The “first column” represents their _indices_ (from the dictionary’s keys)\n",
    "* Can use regular expressions with Pandas to validate data\n",
    "* The **`str` attribute** of a `Series` provides string-processing and various regular expression methods\n",
    "* Use the `str` attribute’s **`match` method** to check whether each ZIP Code is valid: "
   ]
  },
  {
   "cell_type": "code",
   "execution_count": 4,
   "metadata": {},
   "outputs": [
    {
     "data": {
      "text/plain": [
       "Boston     True\n",
       "Miami     False\n",
       "dtype: bool"
      ]
     },
     "execution_count": 4,
     "metadata": {},
     "output_type": "execute_result"
    }
   ],
   "source": [
    "zips.str.match(r'\\d{5}')"
   ]
  },
  {
   "cell_type": "markdown",
   "metadata": {},
   "source": [
    "* `match` applies the regular expression `\\d{5}` to _each_ `Series` element\n",
    "* Returns a new `Series` containing `True` for each valid element"
   ]
  },
  {
   "cell_type": "markdown",
   "metadata": {},
   "source": [
    "### Data Validation (cont.)\n",
    "* Several ways to deal with invalid data\n",
    "* One is to catch it at its source and interact with the source to correct the value\n",
    "    * Not always possible\n",
    "* In the case of the bad Miami ZIP Code of `3310`, we might look for Miami ZIP Codes beginning with 3310\n",
    "    * There are two—`33101` and `33109`\n",
    "    * We could pick one of those"
   ]
  },
  {
   "cell_type": "markdown",
   "metadata": {},
   "source": [
    "### Data Validation (cont.)\n",
    "* Sometimes, rather than matching an _entire_ value to a pattern, you’ll want to know whether a value contains a _substring_ that matches the pattern\n",
    "* Use method **`contains`** instead of `match`"
   ]
  },
  {
   "cell_type": "code",
   "execution_count": 5,
   "metadata": {},
   "outputs": [],
   "source": [
    "cities = pd.Series(['Boston, MA 02215', 'Miami, FL 33101'])"
   ]
  },
  {
   "cell_type": "code",
   "execution_count": 6,
   "metadata": {},
   "outputs": [
    {
     "data": {
      "text/plain": [
       "0    Boston, MA 02215\n",
       "1     Miami, FL 33101\n",
       "dtype: object"
      ]
     },
     "execution_count": 6,
     "metadata": {},
     "output_type": "execute_result"
    }
   ],
   "source": [
    "cities"
   ]
  },
  {
   "cell_type": "code",
   "execution_count": 7,
   "metadata": {},
   "outputs": [
    {
     "data": {
      "text/plain": [
       "0    True\n",
       "1    True\n",
       "dtype: bool"
      ]
     },
     "execution_count": 7,
     "metadata": {},
     "output_type": "execute_result"
    }
   ],
   "source": [
    "cities.str.contains(r' [A-Z]{2} ')"
   ]
  },
  {
   "cell_type": "code",
   "execution_count": 8,
   "metadata": {},
   "outputs": [
    {
     "data": {
      "text/plain": [
       "0    False\n",
       "1    False\n",
       "dtype: bool"
      ]
     },
     "execution_count": 8,
     "metadata": {},
     "output_type": "execute_result"
    }
   ],
   "source": [
    "cities.str.match(r' [A-Z]{2} ')"
   ]
  },
  {
   "cell_type": "markdown",
   "metadata": {},
   "source": [
    "### Reformatting Your Data\n",
    "* Consider munging data into a different format\n",
    "* Assume that an application requires U.S. phone numbers in the format ###-###-####\n",
    "* The phone numbers have been provided to us as 10-digit strings without hyphens"
   ]
  },
  {
   "cell_type": "code",
   "execution_count": 9,
   "metadata": {},
   "outputs": [],
   "source": [
    "contacts = [['Mike Green', 'demo1@deitel.com', '5555555555'],\n",
    "            ['Sue Brown', 'demo2@deitel.com', '5555551234']]   "
   ]
  },
  {
   "cell_type": "code",
   "execution_count": 10,
   "metadata": {},
   "outputs": [],
   "source": [
    "contactsdf = pd.DataFrame(contacts, \n",
    "                          columns=['Name', 'Email', 'Phone'])"
   ]
  },
  {
   "cell_type": "code",
   "execution_count": 11,
   "metadata": {},
   "outputs": [
    {
     "data": {
      "text/html": [
       "<div>\n",
       "<style scoped>\n",
       "    .dataframe tbody tr th:only-of-type {\n",
       "        vertical-align: middle;\n",
       "    }\n",
       "\n",
       "    .dataframe tbody tr th {\n",
       "        vertical-align: top;\n",
       "    }\n",
       "\n",
       "    .dataframe thead th {\n",
       "        text-align: right;\n",
       "    }\n",
       "</style>\n",
       "<table border=\"1\" class=\"dataframe\">\n",
       "  <thead>\n",
       "    <tr style=\"text-align: right;\">\n",
       "      <th></th>\n",
       "      <th>Name</th>\n",
       "      <th>Email</th>\n",
       "      <th>Phone</th>\n",
       "    </tr>\n",
       "  </thead>\n",
       "  <tbody>\n",
       "    <tr>\n",
       "      <th>0</th>\n",
       "      <td>Mike Green</td>\n",
       "      <td>demo1@deitel.com</td>\n",
       "      <td>5555555555</td>\n",
       "    </tr>\n",
       "    <tr>\n",
       "      <th>1</th>\n",
       "      <td>Sue Brown</td>\n",
       "      <td>demo2@deitel.com</td>\n",
       "      <td>5555551234</td>\n",
       "    </tr>\n",
       "  </tbody>\n",
       "</table>\n",
       "</div>"
      ],
      "text/plain": [
       "         Name             Email       Phone\n",
       "0  Mike Green  demo1@deitel.com  5555555555\n",
       "1   Sue Brown  demo2@deitel.com  5555551234"
      ]
     },
     "execution_count": 11,
     "metadata": {},
     "output_type": "execute_result"
    }
   ],
   "source": [
    "contactsdf"
   ]
  },
  {
   "cell_type": "markdown",
   "metadata": {},
   "source": [
    "### Reformatting Your Data (cont.)\n",
    "* Munge the data with functional-style programming\n",
    "* Can _map_ the phone numbers to the proper format by calling the `Series` method **`map`** on the `DataFrame`’s `'Phone'` column\n",
    "* `map`’s argument is a _function_ that receives a value and returns the _mapped_ value\n",
    "* Our function `get_formatted_phone` maps 10 consecutive digits into the format ###-###-####"
   ]
  },
  {
   "cell_type": "code",
   "execution_count": 12,
   "metadata": {},
   "outputs": [],
   "source": [
    "import re"
   ]
  },
  {
   "cell_type": "code",
   "execution_count": 13,
   "metadata": {},
   "outputs": [],
   "source": [
    "def get_formatted_phone(value):\n",
    "    result = re.fullmatch(r'(\\d{3})(\\d{3})(\\d{4})', value)\n",
    "    return '-'.join(result.groups()) if result else value"
   ]
  },
  {
   "cell_type": "markdown",
   "metadata": {},
   "source": [
    "### Reformatting Your Data (cont.)\n",
    "* Regular expression in the block’s first statement matches _only_ 10 consecutive digits\n",
    "* Captures substrings containing the first three digits, the next three digits and the last four digits\n",
    "* `return` statement:\n",
    "    * If `result` is `None`, returns `value` unmodified\n",
    "    * Otherwise, calls `result.groups()` to get a tuple containing the captured substrings and pass that tuple to string method `join` to concatenate the elements, separating each from the next with `'-'` to form the mapped phone number"
   ]
  },
  {
   "cell_type": "markdown",
   "metadata": {},
   "source": [
    "### Reformatting Your Data (cont.)\n",
    "* `Series` method `map` returns a new `Series` containing the results of calling its function argument for each value in the column"
   ]
  },
  {
   "cell_type": "code",
   "execution_count": 14,
   "metadata": {},
   "outputs": [],
   "source": [
    "formatted_phone = contactsdf['Phone'].map(get_formatted_phone)"
   ]
  },
  {
   "cell_type": "code",
   "execution_count": 15,
   "metadata": {},
   "outputs": [
    {
     "data": {
      "text/plain": [
       "0    555-555-5555\n",
       "1    555-555-1234\n",
       "Name: Phone, dtype: object"
      ]
     },
     "execution_count": 15,
     "metadata": {},
     "output_type": "execute_result"
    }
   ],
   "source": [
    "formatted_phone"
   ]
  },
  {
   "cell_type": "markdown",
   "metadata": {},
   "source": [
    "* Once you’ve confirmed that the data is in the correct format, you can update it in the original `DataFrame` "
   ]
  },
  {
   "cell_type": "code",
   "execution_count": 16,
   "metadata": {},
   "outputs": [],
   "source": [
    "contactsdf['Phone'] = formatted_phone"
   ]
  },
  {
   "cell_type": "code",
   "execution_count": 17,
   "metadata": {},
   "outputs": [
    {
     "data": {
      "text/html": [
       "<div>\n",
       "<style scoped>\n",
       "    .dataframe tbody tr th:only-of-type {\n",
       "        vertical-align: middle;\n",
       "    }\n",
       "\n",
       "    .dataframe tbody tr th {\n",
       "        vertical-align: top;\n",
       "    }\n",
       "\n",
       "    .dataframe thead th {\n",
       "        text-align: right;\n",
       "    }\n",
       "</style>\n",
       "<table border=\"1\" class=\"dataframe\">\n",
       "  <thead>\n",
       "    <tr style=\"text-align: right;\">\n",
       "      <th></th>\n",
       "      <th>Name</th>\n",
       "      <th>Email</th>\n",
       "      <th>Phone</th>\n",
       "    </tr>\n",
       "  </thead>\n",
       "  <tbody>\n",
       "    <tr>\n",
       "      <th>0</th>\n",
       "      <td>Mike Green</td>\n",
       "      <td>demo1@deitel.com</td>\n",
       "      <td>555-555-5555</td>\n",
       "    </tr>\n",
       "    <tr>\n",
       "      <th>1</th>\n",
       "      <td>Sue Brown</td>\n",
       "      <td>demo2@deitel.com</td>\n",
       "      <td>555-555-1234</td>\n",
       "    </tr>\n",
       "  </tbody>\n",
       "</table>\n",
       "</div>"
      ],
      "text/plain": [
       "         Name             Email         Phone\n",
       "0  Mike Green  demo1@deitel.com  555-555-5555\n",
       "1   Sue Brown  demo2@deitel.com  555-555-1234"
      ]
     },
     "execution_count": 17,
     "metadata": {},
     "output_type": "execute_result"
    }
   ],
   "source": [
    "contactsdf"
   ]
  },
  {
   "cell_type": "markdown",
   "metadata": {},
   "source": [
    "------\n",
    "&copy;1992&ndash;2020 by Pearson Education, Inc. All Rights Reserved. This content is based on Chapter 5 of the book [**Intro to Python for Computer Science and Data Science: Learning to Program with AI, Big Data and the Cloud**](https://amzn.to/2VvdnxE).\n",
    "\n",
    "DISCLAIMER: The authors and publisher of this book have used their \n",
    "best efforts in preparing the book. These efforts include the \n",
    "development, research, and testing of the theories and programs \n",
    "to determine their effectiveness. The authors and publisher make \n",
    "no warranty of any kind, expressed or implied, with regard to these \n",
    "programs or to the documentation contained in these books. The authors \n",
    "and publisher shall not be liable in any event for incidental or \n",
    "consequential damages in connection with, or arising out of, the \n",
    "furnishing, performance, or use of these programs.                  "
   ]
  }
 ],
 "metadata": {
  "kernelspec": {
   "display_name": "Python 3",
   "language": "python",
   "name": "python3"
  },
  "language_info": {
   "codemirror_mode": {
    "name": "ipython",
    "version": 3
   },
   "file_extension": ".py",
   "mimetype": "text/x-python",
   "name": "python",
   "nbconvert_exporter": "python",
   "pygments_lexer": "ipython3",
   "version": "3.7.3"
  }
 },
 "nbformat": 4,
 "nbformat_minor": 2
}
