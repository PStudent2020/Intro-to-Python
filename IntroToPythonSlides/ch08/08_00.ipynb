{
 "cells": [
  {
   "cell_type": "markdown",
   "metadata": {},
   "source": [
    "# 8. Strings: A Deeper Look "
   ]
  },
  {
   "cell_type": "markdown",
   "metadata": {},
   "source": [
    "# Objectives\n",
    "In this chapter, you’ll:\n",
    "* Understand text processing.\n",
    "* Use string methods.\n",
    "* Format string content.\n",
    "* Concatenate and repeat strings.\n",
    "* Strip whitespace from the ends of strings.\n",
    "* Change characters from lowercase to uppercase and vice versa."
   ]
  },
  {
   "cell_type": "markdown",
   "metadata": {},
   "source": [
    "# Objectives (cont.)\n",
    "* Compare strings with the comparison operators.\n",
    "* Search strings for substrings and replace substrings.\n",
    "* Split strings into tokens.\n",
    "* Concatenate strings into a single string with a specified separator between items.\n",
    "* Create and use regular expressions to match patterns in strings, replace substrings and validate data."
   ]
  },
  {
   "cell_type": "markdown",
   "metadata": {},
   "source": [
    "# Objectives (cont.)\n",
    "* Use regular expression metacharacters, quantifiers, character classes and grouping.\n",
    "* Understand how critical string manipulations are to natural language processing.\n",
    "* Understand the data science terms data munging, data wrangling and data cleaning, and use regular expressions to munge data into preferred formats. "
   ]
  },
  {
   "cell_type": "markdown",
   "metadata": {},
   "source": [
    "### Outline\n",
    "* [8.1 Introduction](08_01.ipynb)\n",
    "* 8.2 Formatting Strings\n",
    "> * [8.2.1 Presentation Types](08_02.01.ipynb)\n",
    "> * [8.2.2 Field Widths and Alignment](08_02.01.ipynb)\n",
    "> * [8.2.3 Numeric Formatting](08_02.01.ipynb)\n",
    "> * [8.2.4 String’s `format` Method](08_02.01.ipynb)\n",
    "* [8.3 Concatenating and Repeating Strings](08_03.ipynb)\n",
    "* [8.4 Stripping Whitespace from Strings](08_04.ipynb)\n",
    "* [8.5 Changing Character Case](08_05.ipynb)\n",
    "* [8.6 Comparison Operators for Strings](08_06.ipynb)\n",
    "* [8.7 Searching for Substrings](08_07.ipynb)\n",
    "* [8.8 Replacing Substrings](08_08.ipynb)\n",
    "* [8.9 Splitting and Joining Strings](08_09.ipynb)\n",
    "* [8.10 Characters and Character-Testing Methods](08_10.ipynb)\n",
    "* [8.11 Raw Strings](08_11.ipynb)\n",
    "* [8.12 Introduction to Regular Expressions](08_12.ipynb)\n",
    "> * [8.12.1 `re` Module and Function `fullmatch`](08_12.01.ipynb)\n",
    "> * [8.12.2 Replacing Substrings and Splitting Strings](08_12.02.ipynb)\n",
    "> * [8.12.3 Other Search Functions; Accessing Matches](08_12.03.ipynb)\n",
    "* [8.13 Intro to Data Science: Pandas, Regular Expressions and Data Munging](08_13.ipynb)\n",
    "* 8.14 Wrap-Up "
   ]
  },
  {
   "cell_type": "markdown",
   "metadata": {},
   "source": [
    "------\n",
    "&copy;1992&ndash;2020 by Pearson Education, Inc. All Rights Reserved. This content is based on Chapter 5 of the book [**Intro to Python for Computer Science and Data Science: Learning to Program with AI, Big Data and the Cloud**](https://amzn.to/2VvdnxE).\n",
    "\n",
    "DISCLAIMER: The authors and publisher of this book have used their \n",
    "best efforts in preparing the book. These efforts include the \n",
    "development, research, and testing of the theories and programs \n",
    "to determine their effectiveness. The authors and publisher make \n",
    "no warranty of any kind, expressed or implied, with regard to these \n",
    "programs or to the documentation contained in these books. The authors \n",
    "and publisher shall not be liable in any event for incidental or \n",
    "consequential damages in connection with, or arising out of, the \n",
    "furnishing, performance, or use of these programs.                  "
   ]
  }
 ],
 "metadata": {
  "celltoolbar": "Slideshow",
  "kernelspec": {
   "display_name": "Python 3",
   "language": "python",
   "name": "python3"
  },
  "language_info": {
   "codemirror_mode": {
    "name": "ipython",
    "version": 3
   },
   "file_extension": ".py",
   "mimetype": "text/x-python",
   "name": "python",
   "nbconvert_exporter": "python",
   "pygments_lexer": "ipython3",
   "version": "3.7.3"
  }
 },
 "nbformat": 4,
 "nbformat_minor": 2
}
