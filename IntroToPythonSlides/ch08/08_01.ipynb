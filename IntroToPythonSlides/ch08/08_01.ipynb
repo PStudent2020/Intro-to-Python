{
 "cells": [
  {
   "cell_type": "markdown",
   "metadata": {},
   "source": [
    "# 8.1 Introduction\n",
    "* Strings support many of the same sequence operations as lists and tuples\n",
    "* Strings, like tuples, are immutable\n",
    "* Here, we take a deeper look at strings \n",
    "* Introduce regular expressions and the `re` module for matching patterns in text\n",
    "    * Particularly important in today’s data rich applications"
   ]
  },
  {
   "cell_type": "markdown",
   "metadata": {},
   "source": [
    "# 8.1 Introduction (cont.)\n",
    "* Table below shows many string-processing and NLP-related applications"
   ]
  },
  {
   "cell_type": "markdown",
   "metadata": {},
   "source": [
    "| String and NLP applications\n",
    "| ------------------------\n",
    "| Anagrams\n",
    "| Automated grading of written homework\n",
    "| Automated teaching systems\n",
    "| Categorizing articles\n",
    "| Chatbots\n",
    "| Compilers and interpreters\n",
    "| Creative writing\n",
    "| Cryptography\n",
    "| Document classification\n",
    "| Document similarity\n",
    "| Document summarization\n",
    "| Electronic book readers\n",
    "| Fraud detection\n",
    "| Grammar checkers\n",
    "| Inter-language translation\n",
    "| Legal document preparation\n",
    "| Monitoring social media posts\n",
    "| Natural language understanding\n",
    "| Opinion analysis\n",
    "| Page-composition software\n",
    "| Palindromes\n",
    "| Parts-of-speech tagging\n",
    "| Project Gutenberg free books\n",
    "| Reading books, articles, documentation and absorbing knowledge\n",
    "| Search engines\n",
    "| Sentiment analysis\n",
    "| Spam classification\n",
    "| Speech-to-text engines\n",
    "| Spell checkers\n",
    "| Steganography\n",
    "| Text editors\n",
    "| Text-to-speech engines\n",
    "| Web scraping\n",
    "| Who authored Shakespeare’s works?\n",
    "| Word clouds\n",
    "| Word games\n",
    "| Writing medical diagnoses from x-rays, scans, blood tests\n",
    "| and many more… \t\t\n",
    "\t\t\n",
    "\t\t\n",
    "\t\t\n",
    "\t\t\n",
    "\t\t\n",
    "\t\t\n",
    "\t\t\n",
    "\t\t\n",
    "\t\t\n",
    "\t\t\n",
    "\t\t"
   ]
  },
  {
   "cell_type": "markdown",
   "metadata": {},
   "source": [
    "------\n",
    "&copy;1992&ndash;2020 by Pearson Education, Inc. All Rights Reserved. This content is based on Chapter 5 of the book [**Intro to Python for Computer Science and Data Science: Learning to Program with AI, Big Data and the Cloud**](https://amzn.to/2VvdnxE).\n",
    "\n",
    "DISCLAIMER: The authors and publisher of this book have used their \n",
    "best efforts in preparing the book. These efforts include the \n",
    "development, research, and testing of the theories and programs \n",
    "to determine their effectiveness. The authors and publisher make \n",
    "no warranty of any kind, expressed or implied, with regard to these \n",
    "programs or to the documentation contained in these books. The authors \n",
    "and publisher shall not be liable in any event for incidental or \n",
    "consequential damages in connection with, or arising out of, the \n",
    "furnishing, performance, or use of these programs.                  "
   ]
  }
 ],
 "metadata": {
  "celltoolbar": "Slideshow",
  "kernelspec": {
   "display_name": "Python 3",
   "language": "python",
   "name": "python3"
  },
  "language_info": {
   "codemirror_mode": {
    "name": "ipython",
    "version": 3
   },
   "file_extension": ".py",
   "mimetype": "text/x-python",
   "name": "python",
   "nbconvert_exporter": "python",
   "pygments_lexer": "ipython3",
   "version": "3.7.3"
  }
 },
 "nbformat": 4,
 "nbformat_minor": 2
}
