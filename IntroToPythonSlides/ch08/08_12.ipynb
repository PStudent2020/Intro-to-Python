{
 "cells": [
  {
   "cell_type": "markdown",
   "metadata": {},
   "source": [
    "# 8.12 Introduction to Regular Expressions\n",
    "* A **regular expression** describes a **search pattern** for **matching** characters in other strings\n",
    "* Can help you extract data from unstructured text\n",
    "* Can help you ensure that data is in the correct format before processing it"
   ]
  },
  {
   "cell_type": "markdown",
   "metadata": {},
   "source": [
    "### Validating Data\n",
    "* Often use regular expressions to **validate the data**\n",
    "    * A U.S. ZIP Code consists of five digits (such as 02215) or five digits followed by a hyphen and four more digits (such as 02215-4775)\n",
    "    * A string last name contains only letters, spaces, apostrophes and hyphens\n",
    "    * An e-mail address contains only the allowed characters in the allowed orde\n",
    "    * A U.S. Social Security number contains three digits, a hyphen, two digits, a hyphen and four digits, and adheres to other rules about the specific numbers that can be used in each group of digits\n",
    "* Rarely need to create your own regular expressions \n",
    "* Repositories of existing regular expressions that you can copy and use\n",
    "    * `https://regex101.com` \n",
    "    * `http://www.regexlib.com` \n",
    "    * `https://www.regular-expressions.info` "
   ]
  },
  {
   "cell_type": "markdown",
   "metadata": {},
   "source": [
    "### Other Uses of Regular Expressions\n",
    "* Extract data from text (sometimes known as **scraping**)\n",
    "    * e.g., locating all URLs in a web page\n",
    "    * You might prefer tools like BeautifulSoup, XPath and lxml for this\n",
    "* Clean data\n",
    "    * Removing data that’s not required, removing duplicate data, handling incomplete data, fixing typos, ensuring consistent data formats, dealing with outliers and more\n",
    "* Transform data into other formats\n",
    "    * Reformatting data that was collected as tab-separated or space-separated values into comma-separated values (CSV) for an application that requires data to be in CSV format"
   ]
  },
  {
   "cell_type": "markdown",
   "metadata": {},
   "source": [
    "------\n",
    "&copy;1992&ndash;2020 by Pearson Education, Inc. All Rights Reserved. This content is based on Chapter 5 of the book [**Intro to Python for Computer Science and Data Science: Learning to Program with AI, Big Data and the Cloud**](https://amzn.to/2VvdnxE).\n",
    "\n",
    "DISCLAIMER: The authors and publisher of this book have used their \n",
    "best efforts in preparing the book. These efforts include the \n",
    "development, research, and testing of the theories and programs \n",
    "to determine their effectiveness. The authors and publisher make \n",
    "no warranty of any kind, expressed or implied, with regard to these \n",
    "programs or to the documentation contained in these books. The authors \n",
    "and publisher shall not be liable in any event for incidental or \n",
    "consequential damages in connection with, or arising out of, the \n",
    "furnishing, performance, or use of these programs.                  "
   ]
  }
 ],
 "metadata": {
  "kernelspec": {
   "display_name": "Python 3",
   "language": "python",
   "name": "python3"
  },
  "language_info": {
   "codemirror_mode": {
    "name": "ipython",
    "version": 3
   },
   "file_extension": ".py",
   "mimetype": "text/x-python",
   "name": "python",
   "nbconvert_exporter": "python",
   "pygments_lexer": "ipython3",
   "version": "3.7.3"
  }
 },
 "nbformat": 4,
 "nbformat_minor": 2
}
