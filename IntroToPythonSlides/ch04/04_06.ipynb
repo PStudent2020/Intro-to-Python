{
 "cells": [
  {
   "cell_type": "markdown",
   "metadata": {},
   "source": [
    "# 4.6 Python Standard Library\n",
    "* You write Python programs by combining functions and classes (that is, custom types) that you create with preexisting functions and classes defined in modules, such as those in the Python Standard Library and other libraries. \n",
    "* Avoid “reinventing the wheel.”\n",
    "* A module is a file that groups related functions, data and classes. \n",
    "* A **package** groups related modules. \n",
    "* The [Python Standard Library](https://docs.python.org/3/library/) is provided with the core Python language. \n",
    "* Its packages and modules contain capabilities for a wide variety of everyday programming tasks. "
   ]
  },
  {
   "cell_type": "markdown",
   "metadata": {},
   "source": [
    "| Some popular Python Standard Library modules \n",
    "| ----------------------\t\n",
    "| `collections`—Data structures beyond lists, tuples, dictionaries and sets.\n",
    "| Cryptography modules—Encrypting data for secure transmission.\n",
    "| `csv`—Processing comma-separated value files (like those in Excel).\n",
    "| `datetime`—Date and time manipulations. Also modules `time` and `calendar`. \n",
    "| `decimal`—Fixed-point and floating-point arithmetic, including monetary calculations.\n",
    "| `doctest`—Embed validation tests and expected results in docstrings for simple unit testing.\n",
    "| `gettext` and `locale`—Internationalization and localization modules. \n",
    "| `json`—JavaScript Object Notation (JSON) processing used with web services and NoSQL document databases.\n",
    "| `math`—Common math constants and operations.\n",
    "| `os`—Interacting with the operating system.\n",
    "| `profile`, `pstats`, `timeit`—Performance analysis.\n",
    "| `random`—Pseudorandom numbers.\n",
    "| `re`—Regular expressions for pattern matching.\n",
    "| `sqlite3`—SQLite relational database access.\n",
    "| `statistics`—Mathematical statistics functions such as `mean`, `median`, `mode` and `variance`.\n",
    "| `string`—String processing.\n",
    "| `sys`—Command-line argument processing; standard input, standard output and standard error streams.\n",
    "| `tkinter`—Graphical user interfaces (GUIs) and canvas-based graphics.\n",
    "| `turtle`—Turtle graphics.\n",
    "| `webbrowser`—For conveniently displaying web pages in Python apps.\n"
   ]
  },
  {
   "cell_type": "markdown",
   "metadata": {},
   "source": [
    "------\n",
    "&copy;1992&ndash;2020 by Pearson Education, Inc. All Rights Reserved. This content is based on Chapter 4 of the book [**Intro to Python for Computer Science and Data Science: Learning to Program with AI, Big Data and the Cloud**](https://amzn.to/2VvdnxE).\n",
    "\n",
    "DISCLAIMER: The authors and publisher of this book have used their \n",
    "best efforts in preparing the book. These efforts include the \n",
    "development, research, and testing of the theories and programs \n",
    "to determine their effectiveness. The authors and publisher make \n",
    "no warranty of any kind, expressed or implied, with regard to these \n",
    "programs or to the documentation contained in these books. The authors \n",
    "and publisher shall not be liable in any event for incidental or \n",
    "consequential damages in connection with, or arising out of, the \n",
    "furnishing, performance, or use of these programs.                  "
   ]
  }
 ],
 "metadata": {
  "kernelspec": {
   "display_name": "Python 3",
   "language": "python",
   "name": "python3"
  },
  "language_info": {
   "codemirror_mode": {
    "name": "ipython",
    "version": 3
   },
   "file_extension": ".py",
   "mimetype": "text/x-python",
   "name": "python",
   "nbconvert_exporter": "python",
   "pygments_lexer": "ipython3",
   "version": "3.7.3"
  }
 },
 "nbformat": 4,
 "nbformat_minor": 2
}
