{
 "cells": [
  {
   "cell_type": "markdown",
   "metadata": {},
   "source": [
    "# 4.8 Using IPython Tab Completion for Discovery\n",
    "* View a module’s documentation in IPython interactive mode via **tab completion**.\n",
    "* After you type a portion of an identifier and press _Tab_, IPython completes the identifier for you or provides a list of identifiers that begin with what you’ve typed so far. "
   ]
  },
  {
   "cell_type": "code",
   "execution_count": null,
   "metadata": {},
   "outputs": [],
   "source": [
    "import math"
   ]
  },
  {
   "cell_type": "code",
   "execution_count": null,
   "metadata": {},
   "outputs": [],
   "source": [
    "# press <Tab> after ma  \n",
    "ma"
   ]
  },
  {
   "cell_type": "markdown",
   "metadata": {},
   "source": [
    "\n",
    "### Viewing Identifiers in a Module\n",
    "* To view a list of identifiers defined in a module, type the module’s name and a dot (`.`), then press _Tab_:"
   ]
  },
  {
   "cell_type": "code",
   "execution_count": null,
   "metadata": {},
   "outputs": [],
   "source": [
    "# press <Tab> after the dot   \n",
    "math."
   ]
  },
  {
   "cell_type": "markdown",
   "metadata": {},
   "source": [
    "* Python does not have _constants_, although many objects in Python are immutable (nonmodifiable). \n",
    "* Even though `pi` and `e` are real-world constants, **you must not assign new values to them**, because that would change their values. \n",
    "* To help distinguish constants from other variables, the style guide recommends naming your custom constants with all capital letters. "
   ]
  },
  {
   "cell_type": "markdown",
   "metadata": {},
   "source": [
    "### Using the Currently Highlighted Function\n",
    "* As you navigate through the identifiers, if you wish to use a currently highlighted function, simply start typing its arguments in parentheses. \n",
    "* If you need more information about the currently highlighted item, you can view its docstring by typing a question mark (`?`) following the name and pressing _Enter_ to view the help documentation. "
   ]
  },
  {
   "cell_type": "code",
   "execution_count": null,
   "metadata": {},
   "outputs": [],
   "source": [
    "math.fabs?"
   ]
  },
  {
   "cell_type": "markdown",
   "metadata": {},
   "source": [
    "* The `builtin_function_or_method` shown above indicates that `fabs` is part of a Python Standard Library module. \n",
    "* Such modules are considered to be built into Python. \n",
    "* In this case, `fabs` is a built-in function from the `math` module."
   ]
  },
  {
   "cell_type": "markdown",
   "metadata": {},
   "source": [
    "------\n",
    "&copy;1992&ndash;2020 by Pearson Education, Inc. All Rights Reserved. This content is based on Chapter 4 of the book [**Intro to Python for Computer Science and Data Science: Learning to Program with AI, Big Data and the Cloud**](https://amzn.to/2VvdnxE).\n",
    "\n",
    "DISCLAIMER: The authors and publisher of this book have used their \n",
    "best efforts in preparing the book. These efforts include the \n",
    "development, research, and testing of the theories and programs \n",
    "to determine their effectiveness. The authors and publisher make \n",
    "no warranty of any kind, expressed or implied, with regard to these \n",
    "programs or to the documentation contained in these books. The authors \n",
    "and publisher shall not be liable in any event for incidental or \n",
    "consequential damages in connection with, or arising out of, the \n",
    "furnishing, performance, or use of these programs.                  "
   ]
  }
 ],
 "metadata": {
  "kernelspec": {
   "display_name": "Python 3",
   "language": "python",
   "name": "python3"
  },
  "language_info": {
   "codemirror_mode": {
    "name": "ipython",
    "version": 3
   },
   "file_extension": ".py",
   "mimetype": "text/x-python",
   "name": "python",
   "nbconvert_exporter": "python",
   "pygments_lexer": "ipython3",
   "version": "3.7.3"
  }
 },
 "nbformat": 4,
 "nbformat_minor": 2
}
