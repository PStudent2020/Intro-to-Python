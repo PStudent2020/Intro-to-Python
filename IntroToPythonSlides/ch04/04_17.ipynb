{
 "cells": [
  {
   "cell_type": "markdown",
   "metadata": {},
   "source": [
    "# 4.17 Functional-Style Programming\n",
    "* Python offers “functional-style” features that help you write code which is less likely to contain errors, more concise and easier to read, debug and modify. \n",
    "* The chart below lists most of Python’s key functional-style programming capabilities and shows in parentheses the chapters in which we initially cover many of them."
   ]
  },
  {
   "cell_type": "markdown",
   "metadata": {},
   "source": [
    "| Functional-style programming topics\n",
    "| -----------------------\n",
    "| avoiding side effects (4)\n",
    "| closures \n",
    "| declarative programming (4)\n",
    "| decorators (10)\n",
    "| dictionary comprehensions (6)\n",
    "| `filter`/`map`/`reduce` (5)\n",
    "| `functools` module \n",
    "| generator expressions (5)\n",
    "| generator functions\n",
    "| higher-order functions (5)\n",
    "| immutability (4)\n",
    "| internal iteration (4)\n",
    "| iterators (3)\n",
    "| `itertools` module (16)\n",
    "| `lambda` expressions (5)\n",
    "| lazy evaluation (5)\n",
    "| list comprehensions (5)\n",
    "| operator module (5, 11, 16)\n",
    "| pure functions (4)\n",
    "| range function (3, 4)\n",
    "| reductions (3, 5)\n",
    "| set comprehensions (6)"
   ]
  },
  {
   "cell_type": "markdown",
   "metadata": {},
   "source": [
    "### What vs. How\n",
    "* Functional-style programming lets you simply say _what_ you want to do. \n",
    "* Typically, library code handles the _how_ for you. \n",
    "* Can eliminate many errors. \n",
    "* Functional-style programming emphasizes **immutability**. \n",
    "* Python’s `for` statement and `range` function _hide_ most counter-controlled iteration details. \n",
    "    * You specify _what_ values `range` should produce and the variable that should receive each value as it’s produced. \n",
    "    * Function `range` _knows how_ to produce those values. \n",
    "    * The `for` statement _knows how_ to get each value from `range` and _how_ to stop iterating when there are no more values. \n",
    "* Specifying _what_, but not _how_, is an important aspect of **internal iteration**—a key functional-style programming concept. \n",
    "* Stating what you _want_ done rather than programming _how_ to do it is known as **declarative programming**. "
   ]
  },
  {
   "cell_type": "markdown",
   "metadata": {},
   "source": [
    "### Pure Functions\n",
    "* A **pure function’s** result depends only on the argument(s) you pass to it. \n",
    "* Given a particular argument (or arguments), a pure function always produces the same result. \n",
    "* A pure function does not have _side effects_. "
   ]
  },
  {
   "cell_type": "code",
   "execution_count": null,
   "metadata": {},
   "outputs": [],
   "source": [
    "values = [1, 2, 3]"
   ]
  },
  {
   "cell_type": "code",
   "execution_count": null,
   "metadata": {},
   "outputs": [],
   "source": [
    "sum(values)"
   ]
  },
  {
   "cell_type": "code",
   "execution_count": null,
   "metadata": {},
   "outputs": [],
   "source": [
    "sum(values)  # same call always returns same result"
   ]
  },
  {
   "cell_type": "code",
   "execution_count": null,
   "metadata": {},
   "outputs": [],
   "source": [
    "values"
   ]
  },
  {
   "cell_type": "markdown",
   "metadata": {},
   "source": [
    "------\n",
    "&copy;1992&ndash;2020 by Pearson Education, Inc. All Rights Reserved. This content is based on Chapter 4 of the book [**Intro to Python for Computer Science and Data Science: Learning to Program with AI, Big Data and the Cloud**](https://amzn.to/2VvdnxE).\n",
    "\n",
    "DISCLAIMER: The authors and publisher of this book have used their \n",
    "best efforts in preparing the book. These efforts include the \n",
    "development, research, and testing of the theories and programs \n",
    "to determine their effectiveness. The authors and publisher make \n",
    "no warranty of any kind, expressed or implied, with regard to these \n",
    "programs or to the documentation contained in these books. The authors \n",
    "and publisher shall not be liable in any event for incidental or \n",
    "consequential damages in connection with, or arising out of, the \n",
    "furnishing, performance, or use of these programs.                  "
   ]
  }
 ],
 "metadata": {
  "kernelspec": {
   "display_name": "Python 3",
   "language": "python",
   "name": "python3"
  },
  "language_info": {
   "codemirror_mode": {
    "name": "ipython",
    "version": 3
   },
   "file_extension": ".py",
   "mimetype": "text/x-python",
   "name": "python",
   "nbconvert_exporter": "python",
   "pygments_lexer": "ipython3",
   "version": "3.7.3"
  }
 },
 "nbformat": 4,
 "nbformat_minor": 2
}
