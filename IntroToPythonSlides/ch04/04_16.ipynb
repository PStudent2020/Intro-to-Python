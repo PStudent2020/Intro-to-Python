{
 "cells": [
  {
   "cell_type": "markdown",
   "metadata": {},
   "source": [
    "# 4.16 Function-Call Stack\n",
    "* A stack is like a pile of dishes. \n",
    "* When you add a dish to the pile, you place it on the top. \n",
    "* When you remove a dish from the pile, you take it from the top. \n",
    "* Stacks are last-in, first-out (LIFO) data structures."
   ]
  },
  {
   "cell_type": "markdown",
   "metadata": {},
   "source": [
    "### Stacks and Your Web Browser’s Back Button\n",
    "* A stack of webpage addresses supports a browser’s back button. \n",
    "* For each new web page you visit, the browser pushes the address of the page you were viewing onto the back button’s stack. \n",
    "* When you press the browser’s back button, the browser pops the top stack element to get the prior web page’s address, then displays that web page."
   ]
  },
  {
   "cell_type": "markdown",
   "metadata": {},
   "source": [
    "### Stack Frames\n",
    "* Function-call stack supports the function call/return mechanism. \n",
    "* Eventually, each function must return program control to the point at which it was called. \n",
    "* For each function call, the interpreter pushes an entry called a stack frame (or an activation record) onto the stack. \n",
    "* Contains the return location that the called function needs so it can return control to its caller. \n",
    "* When the function finishes executing, the interpreter pops the function’s stack frame, and control transfers to the return location that was popped.\n",
    "* The top stack frame always contains the information the currently executing function needs to return control to its caller. "
   ]
  },
  {
   "cell_type": "markdown",
   "metadata": {},
   "source": [
    "### Local Variables and Stack Frames\n",
    "* Most functions have one or more parameters and possibly local variables that need to:\n",
    "    * exist while the function is executing,\n",
    "    * remain active if the function makes calls to other functions, and\n",
    "    * “go away” when the function returns to its caller.\n",
    "* A stack frame stores the function’s local variables. "
   ]
  },
  {
   "cell_type": "markdown",
   "metadata": {},
   "source": [
    "### Stack Overflow\n",
    "* The amount of memory in a computer is finite, so only a certain amount of memory can be used to store stack frames on the function-call stack. \n",
    "* If the function-call stack runs out of memory as a result of too many function calls, a fatal error known as stack overflow occurs."
   ]
  },
  {
   "cell_type": "markdown",
   "metadata": {},
   "source": [
    "### Principle of Least Privilege\n",
    "* States that code should be granted only the amount of privilege and access that it needs to accomplish its designated task, but no more. \n",
    "* An example of this is the scope of a local variable, which should not be visible when it’s not needed. \n",
    "* This is why a function’s local variables are placed in stack frames on the function-call stack, so they can be used by that function while it executes and go away when it returns. \n",
    "* The principle of least privilege  your programs more robust by preventing code from accidentally (or maliciously) modifying variable values that should not be accessible to it."
   ]
  },
  {
   "cell_type": "markdown",
   "metadata": {},
   "source": [
    "------\n",
    "&copy;1992&ndash;2020 by Pearson Education, Inc. All Rights Reserved. This content is based on Chapter 4 of the book [**Intro to Python for Computer Science and Data Science: Learning to Program with AI, Big Data and the Cloud**](https://amzn.to/2VvdnxE).\n",
    "\n",
    "DISCLAIMER: The authors and publisher of this book have used their \n",
    "best efforts in preparing the book. These efforts include the \n",
    "development, research, and testing of the theories and programs \n",
    "to determine their effectiveness. The authors and publisher make \n",
    "no warranty of any kind, expressed or implied, with regard to these \n",
    "programs or to the documentation contained in these books. The authors \n",
    "and publisher shall not be liable in any event for incidental or \n",
    "consequential damages in connection with, or arising out of, the \n",
    "furnishing, performance, or use of these programs.                  "
   ]
  }
 ],
 "metadata": {
  "kernelspec": {
   "display_name": "Python 3",
   "language": "python",
   "name": "python3"
  },
  "language_info": {
   "codemirror_mode": {
    "name": "ipython",
    "version": 3
   },
   "file_extension": ".py",
   "mimetype": "text/x-python",
   "name": "python",
   "nbconvert_exporter": "python",
   "pygments_lexer": "ipython3",
   "version": "3.7.3"
  }
 },
 "nbformat": 4,
 "nbformat_minor": 2
}
