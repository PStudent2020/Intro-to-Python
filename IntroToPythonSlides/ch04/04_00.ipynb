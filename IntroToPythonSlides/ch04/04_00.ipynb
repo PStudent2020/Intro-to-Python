{
 "cells": [
  {
   "cell_type": "markdown",
   "metadata": {
    "slideshow": {
     "slide_type": "slide"
    }
   },
   "source": [
    "# 4. Functions"
   ]
  },
  {
   "cell_type": "markdown",
   "metadata": {
    "slideshow": {
     "slide_type": "slide"
    }
   },
   "source": [
    "### Objectives \n",
    "* Create custom functions.\n",
    "* Import and use Python Standard Library modules, such as `random` and `math`, to reuse code and avoid “reinventing the wheel.”\n",
    "* Pass data between functions.\n",
    "* Generate a range of random numbers. "
   ]
  },
  {
   "cell_type": "markdown",
   "metadata": {
    "slideshow": {
     "slide_type": "slide"
    }
   },
   "source": [
    "### Objectives (cont.)\n",
    "* Learn simulation techniques using random-number generation.\n",
    "* Seed the random number generator to ensure reproducibility.\n",
    "* Pack values into a tuple and unpack values from a tuple.\n",
    "* Return multiple values from a function via a tuple.\n",
    "* Understand how an identifier’s scope determines where in your program you can use it."
   ]
  },
  {
   "cell_type": "markdown",
   "metadata": {
    "slideshow": {
     "slide_type": "slide"
    }
   },
   "source": [
    "### Objectives (cont.)\n",
    "* Create functions with default parameter values.\n",
    "* Call functions with keyword arguments.\n",
    "* Create functions that can receive any number of arguments.\n",
    "* Use methods of an object."
   ]
  },
  {
   "cell_type": "markdown",
   "metadata": {
    "slideshow": {
     "slide_type": "slide"
    }
   },
   "source": [
    "### Outline\n",
    "* [4.1   \tIntroduction](04_01.ipynb)\n",
    "* [4.2   \tDefining Functions](04_02.ipynb)\n",
    "* [4.3   \tFunctions with Multiple Parameters](04_03.ipynb)\n",
    "* [4.4   \tRandom-Number Generation](04_04.ipynb)\n",
    "* [4.5   \tCase Study: A Game of Chance](04_05.ipynb)\n",
    "* [4.6   \tPython Standard Library](04_06.ipynb)\n",
    "* [4.7   \t`math` Module Functions](04_07.ipynb)\n",
    "* [4.8   \tUsing IPython Tab Completion for Discovery](04_08.ipynb)\n",
    "* [4.9   \tDefault Parameter Values](04_09.ipynb)\n",
    "* [4.10   \tKeyword Arguments](04_10.ipynb)\n",
    "* [4.11   \tArbitrary Argument Lists](04_11.ipynb)\n",
    "* [4.12   \tMethods: Functions That Belong to Objects](04_12.ipynb)\n",
    "* [4.13   \tScope Rules](04_13.ipynb)\n",
    "* [4.14   \timport: A Deeper Look](04_14.ipynb)\n",
    "* [4.15   \tPassing Arguments to Functions: A Deeper Look](04_15.ipynb)\n",
    "* [4.16   \tFunction-Call Stack](04_16.ipynb)\n",
    "* [4.17   \tFunctional-Style Programming](04_17.ipynb)\n",
    "* [4.18   \tIntro to Data Science: Measures of Dispersion](04_18.ipynb)\n",
    "* 4.19   \tWrap-Up\n",
    "* Exercises\n"
   ]
  },
  {
   "cell_type": "markdown",
   "metadata": {},
   "source": [
    "------\n",
    "&copy;1992&ndash;2020 by Pearson Education, Inc. All Rights Reserved. This content is based on Chapter 4 of the book [**Intro to Python for Computer Science and Data Science: Learning to Program with AI, Big Data and the Cloud**](https://amzn.to/2VvdnxE).\n",
    "\n",
    "DISCLAIMER: The authors and publisher of this book have used their \n",
    "best efforts in preparing the book. These efforts include the \n",
    "development, research, and testing of the theories and programs \n",
    "to determine their effectiveness. The authors and publisher make \n",
    "no warranty of any kind, expressed or implied, with regard to these \n",
    "programs or to the documentation contained in these books. The authors \n",
    "and publisher shall not be liable in any event for incidental or \n",
    "consequential damages in connection with, or arising out of, the \n",
    "furnishing, performance, or use of these programs.                  "
   ]
  }
 ],
 "metadata": {
  "celltoolbar": "Slideshow",
  "kernelspec": {
   "display_name": "Python 3",
   "language": "python",
   "name": "python3"
  },
  "language_info": {
   "codemirror_mode": {
    "name": "ipython",
    "version": 3
   },
   "file_extension": ".py",
   "mimetype": "text/x-python",
   "name": "python",
   "nbconvert_exporter": "python",
   "pygments_lexer": "ipython3",
   "version": "3.7.3"
  }
 },
 "nbformat": 4,
 "nbformat_minor": 2
}
