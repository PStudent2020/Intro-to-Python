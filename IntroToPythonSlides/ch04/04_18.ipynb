{
 "cells": [
  {
   "cell_type": "markdown",
   "metadata": {},
   "source": [
    "# 4.18 Intro to Data Science: Measures of Dispersion\n",
    "* Considered the measures of central tendency—mean, median and mode. \n",
    "* Help us categorize typical values in a group.\n",
    "* An entire group is called a **population**. \n",
    "* Sometimes a population is quite large, such as the people likely to vote in the next U.S. presidential election, which is a number in excess of 100,000,000 people. \n",
    "* For practical reasons, the polling organizations trying to predict who will become the next president work with carefully selected small subsets of the population known as **samples**. \n",
    "* Hear we introduce **measures of dispersio**n (also called **measures of variability**) that help you understand how **spread out** the values are. \n",
    "* We’ll calculate each measure of dispersion both by hand and with functions from the module `statistics`, using the following population of 10 six-sided die rolls:\n",
    "> 1, 3, 4, 2, 6, 5, 3, 4, 5, 2"
   ]
  },
  {
   "cell_type": "markdown",
   "metadata": {},
   "source": [
    "### Variance\n",
    "* To determine variance, begin with the mean of these values—3.5. \n",
    "* Next, subtract the mean from every die value:\n",
    "> -2.5, -0.5, 0.5, -1.5, 2.5, 1.5, -0.5, 0.5, 1.5, -1.5\n",
    "* Then, square each of these results (yielding only positives):\n",
    "> 6.25, 0.25, 0.25, 2.25, 6.25, 2.25, 0.25, 0.25, 2.25, 2.25\n",
    "* Finally, calculate the mean of these squares, which is 2.25 (22.5 / 10)—this is the **population\n",
    "variance**. \n",
    "* Squaring the difference between each die value and the mean of all die values emphasizes **outliers**—the values that are farthest from the mean—which can be important in data analysis.\n",
    "* The following code uses the `statistics` module’s `pvariance` function to confirm our manual result:"
   ]
  },
  {
   "cell_type": "code",
   "execution_count": null,
   "metadata": {},
   "outputs": [],
   "source": [
    "import statistics"
   ]
  },
  {
   "cell_type": "code",
   "execution_count": null,
   "metadata": {},
   "outputs": [],
   "source": [
    "statistics.pvariance([1, 3, 4, 2, 6, 5, 3, 4, 5, 2])"
   ]
  },
  {
   "cell_type": "markdown",
   "metadata": {},
   "source": [
    "### Standard Deviation\n",
    "* The standard deviation is the square root of the variance (in this case, 1.5), which tones\n",
    "down the effect of the outliers. \n",
    "* The smaller the variance and standard deviation are, the closer the data values are to the mean and the less overall dispersion (that is, spread) there is between the values and the mean. \n",
    "* The following code calculates the population standard deviation with the `statistics` module’s `pstdev` function, confirming our manual\n",
    "result:"
   ]
  },
  {
   "cell_type": "code",
   "execution_count": null,
   "metadata": {},
   "outputs": [],
   "source": [
    "statistics.pstdev([1, 3, 4, 2, 6, 5, 3, 4, 5, 2])"
   ]
  },
  {
   "cell_type": "code",
   "execution_count": null,
   "metadata": {},
   "outputs": [],
   "source": [
    "import math"
   ]
  },
  {
   "cell_type": "code",
   "execution_count": null,
   "metadata": {},
   "outputs": [],
   "source": [
    "math.sqrt(statistics.pvariance([1, 3, 4, 2, 6, 5, 3, 4, 5, 2]))\n"
   ]
  },
  {
   "cell_type": "markdown",
   "metadata": {},
   "source": [
    "### Advantage of Population Standard Deviation vs. Population Variance\n",
    "* Suppose you’ve recorded the March Fahrenheit temperatures in your area. \n",
    "* You might have 31 numbers such as 19, 32, 28 and 35. \n",
    "* The units for these numbers are degrees.\n",
    "* When you square your temperatures to calculate the population variance, the units of the population variance become **“degrees squared.”**\n",
    "* When you take the square root of the population variance to calculate the population standard deviation, the units once again become **degrees**, which are the same units as your temperatures."
   ]
  },
  {
   "cell_type": "markdown",
   "metadata": {},
   "source": [
    "------\n",
    "&copy;1992&ndash;2020 by Pearson Education, Inc. All Rights Reserved. This content is based on Chapter 4 of the book [**Intro to Python for Computer Science and Data Science: Learning to Program with AI, Big Data and the Cloud**](https://amzn.to/2VvdnxE).\n",
    "\n",
    "DISCLAIMER: The authors and publisher of this book have used their \n",
    "best efforts in preparing the book. These efforts include the \n",
    "development, research, and testing of the theories and programs \n",
    "to determine their effectiveness. The authors and publisher make \n",
    "no warranty of any kind, expressed or implied, with regard to these \n",
    "programs or to the documentation contained in these books. The authors \n",
    "and publisher shall not be liable in any event for incidental or \n",
    "consequential damages in connection with, or arising out of, the \n",
    "furnishing, performance, or use of these programs.                  "
   ]
  }
 ],
 "metadata": {
  "kernelspec": {
   "display_name": "Python 3",
   "language": "python",
   "name": "python3"
  },
  "language_info": {
   "codemirror_mode": {
    "name": "ipython",
    "version": 3
   },
   "file_extension": ".py",
   "mimetype": "text/x-python",
   "name": "python",
   "nbconvert_exporter": "python",
   "pygments_lexer": "ipython3",
   "version": "3.7.3"
  }
 },
 "nbformat": 4,
 "nbformat_minor": 2
}
