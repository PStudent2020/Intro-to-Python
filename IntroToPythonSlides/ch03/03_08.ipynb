{
 "cells": [
  {
   "cell_type": "markdown",
   "metadata": {},
   "source": [
    "# 3.8 `for` Statement\n",
    "* Repeat an action or several actions for each item in a sequence of items.\n",
    "* A string is a sequence of individual characters."
   ]
  },
  {
   "cell_type": "code",
   "execution_count": null,
   "metadata": {},
   "outputs": [],
   "source": [
    "for character in 'Programming':\n",
    "    print(character, end='  ')"
   ]
  },
  {
   "cell_type": "markdown",
   "metadata": {},
   "source": [
    "* Upon entering the `for` loop, Python assigns the 'P' in 'Programming' to the **target variable** between keywords `for` and `in`.\n",
    "* After executing the suite, Python assigns to character the next item in the sequence (that is, the '`r`' in '`Programming`'), then executes the suite again. \n",
    "* Continues while there are more items in the sequence.\n",
    "* Using the target variable in the suite is common but not required. "
   ]
  },
  {
   "cell_type": "markdown",
   "metadata": {},
   "source": [
    "### `for` Statement Flowchart\n",
    "![Flowchart of the for statement’s flow of control.](./ch03images/AAHBDOF0.png \"Flowchart of the for statement’s flow of control\")"
   ]
  },
  {
   "cell_type": "markdown",
   "metadata": {},
   "source": [
    "### Function `print`’s `end` Keyword Argument \n",
    "* `print` displays its argument(s), then moves the cursor to the next line. \n",
    "* Can change this behavior with the argument `end`:\n",
    ">```python\n",
    "print(character, end='  ') \n",
    "```\n",
    "* `end` is a **keyword argument**, but it's not a Python keyword. \n",
    "* The _Style Guide for Python Code_ recommends placing no spaces around a keyword argument’s =. \n",
    "* Keyword arguments are sometimes called named arguments."
   ]
  },
  {
   "cell_type": "markdown",
   "metadata": {},
   "source": [
    "### Function `print`’s `sep` Keyword Argument \n",
    "* Keyword argument `sep` (short for separator) specifies the string that appears between the items that print displays. \n",
    "* A space character by default. \n",
    "* To remove the spaces, use an empty string with no characters between its quotes."
   ]
  },
  {
   "cell_type": "code",
   "execution_count": null,
   "metadata": {},
   "outputs": [],
   "source": [
    "print(10, 20, 30, sep=', ')"
   ]
  },
  {
   "cell_type": "markdown",
   "metadata": {},
   "source": [
    "## 3.8.1 Iterables, Lists and Iterators\n",
    "* The sequence to the right of the `for` statement’s in keyword must be an iterable. \n",
    "    * An object from which the `for` statement can take one item at a time. \n",
    "* One of the most common iterables is a list, which is a comma-separated collection of items enclosed in square brackets (`[` and `]`). "
   ]
  },
  {
   "cell_type": "code",
   "execution_count": null,
   "metadata": {},
   "outputs": [],
   "source": [
    "total = 0"
   ]
  },
  {
   "cell_type": "code",
   "execution_count": null,
   "metadata": {},
   "outputs": [],
   "source": [
    "for number in [2, -3, 0, 17, 9]:\n",
    "    total = total + number"
   ]
  },
  {
   "cell_type": "code",
   "execution_count": null,
   "metadata": {},
   "outputs": [],
   "source": [
    "total"
   ]
  },
  {
   "cell_type": "markdown",
   "metadata": {},
   "source": [
    "* Each sequence has an iterator. \n",
    "* The for statement uses the iterator “behind the scenes” to get each consecutive item until there are no more to process. "
   ]
  },
  {
   "cell_type": "markdown",
   "metadata": {},
   "source": [
    "## 3.8.2 Built-In `range` Function and Generators\n",
    "* Creates an iterable object that represents a sequence of consecutive integer values starting from 0 and continuing up to, but not including, the argument value."
   ]
  },
  {
   "cell_type": "code",
   "execution_count": null,
   "metadata": {},
   "outputs": [],
   "source": [
    "for counter in range(10):\n",
    "    print(counter, end=' ')"
   ]
  },
  {
   "cell_type": "markdown",
   "metadata": {},
   "source": [
    "### Off-By-One Errors\n",
    "A logic error known as an off-by-one error occurs when you assume that `range`’s argument value is included in the generated sequence. \n"
   ]
  },
  {
   "cell_type": "markdown",
   "metadata": {},
   "source": [
    "------\n",
    "&copy;1992&ndash;2020 by Pearson Education, Inc. All Rights Reserved. This content is based on Chapter 3 of the book [**Intro to Python for Computer Science and Data Science: Learning to Program with AI, Big Data and the Cloud**](https://amzn.to/2VvdnxE).\n",
    "\n",
    "DISCLAIMER: The authors and publisher of this book have used their \n",
    "best efforts in preparing the book. These efforts include the \n",
    "development, research, and testing of the theories and programs \n",
    "to determine their effectiveness. The authors and publisher make \n",
    "no warranty of any kind, expressed or implied, with regard to these \n",
    "programs or to the documentation contained in these books. The authors \n",
    "and publisher shall not be liable in any event for incidental or \n",
    "consequential damages in connection with, or arising out of, the \n",
    "furnishing, performance, or use of these programs.                  "
   ]
  }
 ],
 "metadata": {
  "kernelspec": {
   "display_name": "Python 3",
   "language": "python",
   "name": "python3"
  },
  "language_info": {
   "codemirror_mode": {
    "name": "ipython",
    "version": 3
   },
   "file_extension": ".py",
   "mimetype": "text/x-python",
   "name": "python",
   "nbconvert_exporter": "python",
   "pygments_lexer": "ipython3",
   "version": "3.7.3"
  }
 },
 "nbformat": 4,
 "nbformat_minor": 2
}
