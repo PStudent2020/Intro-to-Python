{
 "cells": [
  {
   "cell_type": "markdown",
   "metadata": {},
   "source": [
    "# 3.14 Using Type Decimal for Monetary Amounts\n",
    "* Python’s built-in floating-point numbers work well for most applications. \n",
    "* Floating-point values are stored in binary format. \n",
    "* Some floating-point values are represented only approximately when they’re converted to binary. "
   ]
  },
  {
   "cell_type": "code",
   "execution_count": null,
   "metadata": {},
   "outputs": [],
   "source": [
    "amount = 112.31"
   ]
  },
  {
   "cell_type": "code",
   "execution_count": null,
   "metadata": {},
   "outputs": [],
   "source": [
    "print(amount)"
   ]
  },
  {
   "cell_type": "markdown",
   "metadata": {},
   "source": [
    "* Print `amount` with 20 digits of precision to the right of the decimal point to see that the actual floating-point value in memory is not exactly `112.31`—it’s only an approximation:"
   ]
  },
  {
   "cell_type": "code",
   "execution_count": null,
   "metadata": {},
   "outputs": [],
   "source": [
    "print(f'{amount:.20f}')"
   ]
  },
  {
   "cell_type": "markdown",
   "metadata": {},
   "source": [
    "* The **Python Standard Library** provides many predefined capabilities you can use in your Python code to avoid “reinventing the wheel.” \n",
    "* Type **`Decimal`**, which uses a special coding scheme to solve the problem of to-the-penny precision. \n",
    "    * Banks also have to deal with issues like using a _fair rounding algorithm_ when calculating daily interest on accounts&mdash;type `Decimal` offers such capabilities.\n"
   ]
  },
  {
   "cell_type": "markdown",
   "metadata": {},
   "source": [
    "### Importing Type Decimal from the decimal Module \n",
    "* The Python Standard Library is divided into groups of related capabilities called **modules**. \n",
    "* The **`decimal`** module defines type `Decimal` and its capabilities. \n",
    "* Must **`import`** to use capabilities from a module."
   ]
  },
  {
   "cell_type": "code",
   "execution_count": null,
   "metadata": {},
   "outputs": [],
   "source": [
    "from decimal import Decimal"
   ]
  },
  {
   "cell_type": "markdown",
   "metadata": {},
   "source": [
    "### Creating Decimals"
   ]
  },
  {
   "cell_type": "markdown",
   "metadata": {},
   "source": [
    "* Typically create a `Decimal` from a string."
   ]
  },
  {
   "cell_type": "code",
   "execution_count": null,
   "metadata": {},
   "outputs": [],
   "source": [
    "principal = Decimal('1000.00')"
   ]
  },
  {
   "cell_type": "code",
   "execution_count": null,
   "metadata": {},
   "outputs": [],
   "source": [
    "principal"
   ]
  },
  {
   "cell_type": "code",
   "execution_count": null,
   "metadata": {},
   "outputs": [],
   "source": [
    "rate = Decimal('0.05')"
   ]
  },
  {
   "cell_type": "code",
   "execution_count": null,
   "metadata": {},
   "outputs": [],
   "source": [
    "rate"
   ]
  },
  {
   "cell_type": "markdown",
   "metadata": {},
   "source": [
    "### Decimal Arithmetic \n",
    "* `Decimal`s support the standard arithmetic operators and augmented assignments."
   ]
  },
  {
   "cell_type": "code",
   "execution_count": null,
   "metadata": {},
   "outputs": [],
   "source": [
    "x = Decimal('10.5')"
   ]
  },
  {
   "cell_type": "code",
   "execution_count": null,
   "metadata": {},
   "outputs": [],
   "source": [
    "y = Decimal('2')"
   ]
  },
  {
   "cell_type": "code",
   "execution_count": null,
   "metadata": {},
   "outputs": [],
   "source": [
    "x + y"
   ]
  },
  {
   "cell_type": "code",
   "execution_count": null,
   "metadata": {},
   "outputs": [],
   "source": [
    "x // y"
   ]
  },
  {
   "cell_type": "code",
   "execution_count": null,
   "metadata": {},
   "outputs": [],
   "source": [
    "x += y"
   ]
  },
  {
   "cell_type": "code",
   "execution_count": null,
   "metadata": {},
   "outputs": [],
   "source": [
    "x"
   ]
  },
  {
   "cell_type": "markdown",
   "metadata": {},
   "source": [
    "* May perform arithmetic between `Decimal`s and integers, but _not_ between `Decimal`s and floating-point numbers."
   ]
  },
  {
   "cell_type": "markdown",
   "metadata": {},
   "source": [
    "### Compound-Interest Problem Requirements Statement\n",
    "Requirements statement: \n",
    ">_A person invests $1000 in a savings account yielding 5% interest. Assuming that the person leaves all interest on deposit in the account, calculate and display the amount of money in the account at the end of each year for 10 years. Use the following formula for determining these amounts:_\n",
    "\n",
    ">> _a_ = _p_(1 + _r_)<sup><em>n</em></sup>\n",
    "\n",
    "> _where_\n",
    "\n",
    ">> _p_ is the original amount invested (i.e., the principal),\n",
    "\n",
    ">> _r_ is the annual interest rate,\n",
    "\n",
    ">> _n_ is the number of years and\n",
    "\n",
    ">> _a_ is the amount on deposit at the end of the *n* <sup>th</sup> year."
   ]
  },
  {
   "cell_type": "markdown",
   "metadata": {},
   "source": [
    "### Calculating Compound Interest\n",
    "* For each year, the loop displays a formatted string containing the year number and the amount on deposit at the end of that year"
   ]
  },
  {
   "cell_type": "code",
   "execution_count": null,
   "metadata": {},
   "outputs": [],
   "source": [
    "for year in range(1, 11):\n",
    "    amount = principal * (1 + rate) ** year \n",
    "    print(f'{year:>2}{amount:>10.2f}')"
   ]
  },
  {
   "cell_type": "markdown",
   "metadata": {},
   "source": [
    "### Formatting the Year and Amount on Deposit\n",
    "```python\n",
    "print(f'{year:>2}{amount:>10.2f}')\n",
    "```\n",
    "\n",
    "* Uses an f-string with two placeholders to format the loop’s output. \n",
    "\n",
    "```python\n",
    "{year:>2}\n",
    "```\n",
    "\n",
    "* Uses the format specifier `>2` to indicate that `year`’s value should be **right aligned (`>`)** in a field of width `2`\n",
    "* The **field width** specifies the number of character positions to use when displaying the value. \n",
    "\n",
    "![The numbers 1 and 10 each formatted in a field width of 2](ch03images/formatting.png \"The numbers 1 and 10 each formatted in a field width of 2\")\n",
    "\n",
    "* Can **left align** values with <. \n",
    "\n",
    "```python\n",
    "{amount:>10.2f}\n",
    "```\n",
    "* Formats `amount` as a floating-point number (`f`) right aligned (`>`) in a field width of `10` with a decimal point and two digits to the right of the decimal point (`.2`). \n",
    "\n",
    "![1050.0 formatted with The format specifier 10.2f](ch03images/formatting2.png \"1050.0 formatted with The format specifier 10.2f\")"
   ]
  },
  {
   "cell_type": "markdown",
   "metadata": {},
   "source": [
    "------\n",
    "&copy;1992&ndash;2020 by Pearson Education, Inc. All Rights Reserved. This content is based on Chapter 3 of the book [**Intro to Python for Computer Science and Data Science: Learning to Program with AI, Big Data and the Cloud**](https://amzn.to/2VvdnxE).\n",
    "\n",
    "DISCLAIMER: The authors and publisher of this book have used their \n",
    "best efforts in preparing the book. These efforts include the \n",
    "development, research, and testing of the theories and programs \n",
    "to determine their effectiveness. The authors and publisher make \n",
    "no warranty of any kind, expressed or implied, with regard to these \n",
    "programs or to the documentation contained in these books. The authors \n",
    "and publisher shall not be liable in any event for incidental or \n",
    "consequential damages in connection with, or arising out of, the \n",
    "furnishing, performance, or use of these programs.                  "
   ]
  }
 ],
 "metadata": {
  "kernelspec": {
   "display_name": "Python 3",
   "language": "python",
   "name": "python3"
  },
  "language_info": {
   "codemirror_mode": {
    "name": "ipython",
    "version": 3
   },
   "file_extension": ".py",
   "mimetype": "text/x-python",
   "name": "python",
   "nbconvert_exporter": "python",
   "pygments_lexer": "ipython3",
   "version": "3.7.3"
  }
 },
 "nbformat": 4,
 "nbformat_minor": 2
}
