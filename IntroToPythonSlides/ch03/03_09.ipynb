{
 "cells": [
  {
   "cell_type": "markdown",
   "metadata": {},
   "source": [
    "# 3.9 Augmented Assignments \n",
    "* Abbreviate assignment expressions in which the same variable name appears on the left and right of the `=`."
   ]
  },
  {
   "cell_type": "code",
   "execution_count": null,
   "metadata": {},
   "outputs": [],
   "source": [
    "total = 0"
   ]
  },
  {
   "cell_type": "code",
   "execution_count": null,
   "metadata": {},
   "outputs": [],
   "source": [
    "for number in [1, 2, 3, 4, 5]:\n",
    "    total += number  # add number to total and store in number"
   ]
  },
  {
   "cell_type": "code",
   "execution_count": null,
   "metadata": {},
   "outputs": [],
   "source": [
    "total"
   ]
  },
  {
   "cell_type": "markdown",
   "metadata": {},
   "source": [
    "* In the following table assume: `c = 3`, `d = 5`, `e = 4`, `f = 2`, `g = 9`, `h = 12`\n",
    "\n",
    "| Augmented assignment | Sample expression| Explanation| Assigns\n",
    "| :----- | :----- | :----- | :-----\n",
    "| `+=` | `c += 7` | `c = c + 7` | `10 to c`\n",
    "| `-=` | `d -= 4` | `d = d - 4` | `1 to d`\n",
    "| `*=` | `e *= 5`  | `e = e * 5` | `20 to e`\n",
    "| `**=` | `f **= 3` | `f = f ** 3` | `8 to f`\n",
    "| `/=` | `g /= 2` | `g = g / 2` | `4.5 to g`\n",
    "| `//=` | `g //= 2` | `g = g // 2` | `4 to g`\n",
    "| `%=` | `h %= 9` | `h = h % 9` | `3 to h`"
   ]
  },
  {
   "cell_type": "markdown",
   "metadata": {},
   "source": [
    "------\n",
    "&copy;1992&ndash;2020 by Pearson Education, Inc. All Rights Reserved. This content is based on Chapter 3 of the book [**Intro to Python for Computer Science and Data Science: Learning to Program with AI, Big Data and the Cloud**](https://amzn.to/2VvdnxE).\n",
    "\n",
    "DISCLAIMER: The authors and publisher of this book have used their \n",
    "best efforts in preparing the book. These efforts include the \n",
    "development, research, and testing of the theories and programs \n",
    "to determine their effectiveness. The authors and publisher make \n",
    "no warranty of any kind, expressed or implied, with regard to these \n",
    "programs or to the documentation contained in these books. The authors \n",
    "and publisher shall not be liable in any event for incidental or \n",
    "consequential damages in connection with, or arising out of, the \n",
    "furnishing, performance, or use of these programs.                  "
   ]
  }
 ],
 "metadata": {
  "kernelspec": {
   "display_name": "Python 3",
   "language": "python",
   "name": "python3"
  },
  "language_info": {
   "codemirror_mode": {
    "name": "ipython",
    "version": 3
   },
   "file_extension": ".py",
   "mimetype": "text/x-python",
   "name": "python",
   "nbconvert_exporter": "python",
   "pygments_lexer": "ipython3",
   "version": "3.7.3"
  }
 },
 "nbformat": 4,
 "nbformat_minor": 2
}
