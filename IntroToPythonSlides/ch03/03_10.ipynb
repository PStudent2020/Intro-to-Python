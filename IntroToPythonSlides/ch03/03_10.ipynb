{
 "cells": [
  {
   "cell_type": "markdown",
   "metadata": {},
   "source": [
    "# 3.10 Program Development: Sequence-Controlled Iteration\n",
    "* Most challenging part of solving a problem on a computer is developing an algorithm for the solution. \n",
    "* Once a correct algorithm has been specified, creating a working Python program from the algorithm is typically straightforward. "
   ]
  },
  {
   "cell_type": "markdown",
   "metadata": {},
   "source": [
    "## 3.10.1 Requirements Statement\n",
    "* A **requirements statement** describes what a program is supposed to do, but not how the program should do it. \n",
    "* Consider the following simple requirements statement:\n",
    "> A class of ten students took a quiz. Their grades (integers in the range 0 – 100) are 98, 76, 71, 87, 83, 90, 57, 79, 82, 94. Determine the class average on the quiz.\n",
    "* Once you know the problem’s requirements, you can begin creating an algorithm to solve it. Then, you can implement that solution as a program.\n",
    "* The algorithm for solving this problem must: \n",
    "    * Keep a running total of the grades. \n",
    "    * Calculate the average—the total of the grades divided by the number of grades. \n",
    "    * Display the result. "
   ]
  },
  {
   "cell_type": "markdown",
   "metadata": {},
   "source": [
    "## 3.10.2 Pseudocode for the Algorithm\n",
    "_Set total to zero_  \n",
    "_Set grade counter to zero_  \n",
    "_Set grades to a list of the ten grades_  \n",
    "  \n",
    "_For each grade in the grades list:_  \n",
    "> _Add the grade to the total_  \n",
    "> _Add one to the grade counter_  \n",
    "  \n",
    "_Set the class average to the total divided by the number of grades_  \n",
    "_Display the class average_\n",
    "\n",
    "* Note the mentions of **total** and **grade counter**. \n",
    "* We'll use these in the script to calculate the average. \n",
    "* Variables for totaling and counting normally are initialized to zero."
   ]
  },
  {
   "cell_type": "markdown",
   "metadata": {},
   "source": [
    "## 3.10.3 Coding the Algorithm in Python\n",
    "```python\n",
    "# fig03_01.py\n",
    "\"\"\"Class average program with sequence-controlled iteration.\"\"\"\n",
    "\n",
    "# initialization phase\n",
    "total = 0  # sum of grades\n",
    "grade_counter = 0  \n",
    "grades = [98, 76, 71, 87, 83, 90, 57, 79, 82, 94]  # list of 10 grades\n",
    "\n",
    "# processing phase\n",
    "for grade in grades:  \n",
    "    total += grade  # add current grade to the running total\n",
    "    grade_counter += 1  # indicate that one more grade was processed\n",
    "\n",
    "# termination phase\n",
    "average = total / grade_counter\n",
    "print(f'Class average is {average}')\n",
    "```"
   ]
  },
  {
   "cell_type": "code",
   "execution_count": null,
   "metadata": {},
   "outputs": [],
   "source": [
    "run fig03_01.py"
   ]
  },
  {
   "cell_type": "markdown",
   "metadata": {},
   "source": [
    "### Execution Phases\n",
    "* Initialization phase creates the variables needed to process the grades and set these variables to appropriate initial values.\n",
    "* Processing phase processes the grades, calculating the running total and counting the number of grades processed so far.\n",
    "* Termination phase calculates and displays the class average.\n",
    "* Many scripts can be decomposed into these three phases."
   ]
  },
  {
   "cell_type": "markdown",
   "metadata": {},
   "source": [
    "## 3.10.4 Introduction to Formatted Strings\n",
    "* An **f-string** (short for formatted string) allows inserting values into a string.\n",
    "* The letter f before the string’s opening quote indicates it’s an f-string. \n",
    "* You specify where to insert values by using placeholders delimited by curly braces ({ and }). \n",
    "* `{average}` converts the variable average’s value to a string representation, then replaces `{average}` with that *&replacement text**. \n",
    "* Replacement-text expressions may contain values, variables or other expressions."
   ]
  },
  {
   "cell_type": "markdown",
   "metadata": {},
   "source": [
    "------\n",
    "&copy;1992&ndash;2020 by Pearson Education, Inc. All Rights Reserved. This content is based on Chapter 3 of the book [**Intro to Python for Computer Science and Data Science: Learning to Program with AI, Big Data and the Cloud**](https://amzn.to/2VvdnxE).\n",
    "\n",
    "DISCLAIMER: The authors and publisher of this book have used their \n",
    "best efforts in preparing the book. These efforts include the \n",
    "development, research, and testing of the theories and programs \n",
    "to determine their effectiveness. The authors and publisher make \n",
    "no warranty of any kind, expressed or implied, with regard to these \n",
    "programs or to the documentation contained in these books. The authors \n",
    "and publisher shall not be liable in any event for incidental or \n",
    "consequential damages in connection with, or arising out of, the \n",
    "furnishing, performance, or use of these programs.                  "
   ]
  }
 ],
 "metadata": {
  "kernelspec": {
   "display_name": "Python 3",
   "language": "python",
   "name": "python3"
  },
  "language_info": {
   "codemirror_mode": {
    "name": "ipython",
    "version": 3
   },
   "file_extension": ".py",
   "mimetype": "text/x-python",
   "name": "python",
   "nbconvert_exporter": "python",
   "pygments_lexer": "ipython3",
   "version": "3.7.3"
  }
 },
 "nbformat": 4,
 "nbformat_minor": 2
}
