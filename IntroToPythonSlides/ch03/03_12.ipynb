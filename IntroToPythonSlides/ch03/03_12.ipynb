{
 "cells": [
  {
   "cell_type": "markdown",
   "metadata": {},
   "source": [
    "# 3.12 Program Development: Nested Control Statements\n",
    "### Requirements statement:\n",
    "> A college offers a course that prepares students for the state licensing exam for real-estate brokers. Last year, several of the students who completed this course took the licensing examination. The college wants to know how well its students did on the exam. You have been asked to write a program to summarize the results. You have been given a list of these 10 students. Next to each name is written a 1 if the student passed the exam and a 2 if the student failed.\n",
    "\n",
    "> Analyze the results of the exam as follows:\n",
    ">> Input each test result (i.e., a 1 or a 2). Display the message “Enter result” each time the program requests another test result.  \n",
    "\n",
    ">> Count the number of test results of each type.\n",
    "\n",
    ">> Display a summary of the test results indicating the number of students who passed and the number of students who failed.\n",
    "\n",
    ">> If more than eight students passed the exam, display “Bonus to instructor.”\n",
    "\n",
    "* Observations about the problem:\n",
    "    * The program must process 10 test results. We’ll use a for statement and the range function to control iteration.\n",
    "    * Each test result is a number—either a 1 or a 2. Each time the program reads a test result, the program must determine if the number is a 1 or a 2. We test for a 1 in our algorithm. If the number is not a 1, we assume that it’s a 2. \n",
    "    * We’ll use two counters—one to count the number of students who passed the exam and one to count the number of students who failed.\n",
    "    * After the script processes all the results, it must decide if more than eight students passed the exam so that it can bonus the instructor."
   ]
  },
  {
   "cell_type": "markdown",
   "metadata": {},
   "source": [
    "### Top-Down, Stepwise Refinement\n",
    "* Pseudocode representation of the top:\n",
    "> Analyze exam results and decide whether instructor should receive a bonus\n",
    "\n",
    "* **First Refinement**\n",
    "> Initialize variables  \n",
    "> Input the ten exam grades and count passes and failures  \n",
    "> Summarize the exam results and decide whether instructor should receive a bonus\n",
    "\n",
    "* **Second Refinement**\n",
    "    * Commit to specific variables. \n",
    "    * Need counters to record the passes and failures, and a variable to store the user input. \n",
    "    * _Initialize variables_ can be refined as follows:\n",
    ">>Initialize passes to zero  \n",
    ">>Initialize failures to zero\n",
    "* _Input the ten exam grades and count passes and failures_ requires a loop that successively inputs the result of each exam. \n",
    "* We know there are ten exam results, so the `for` statement and the `range` function are appropriate. \n",
    "* The refinement is\n",
    "\n",
    "> For each of the ten students   \n",
    ">> Input the next exam result\n",
    ">>  \n",
    ">> If the student passed  \n",
    "&nbsp;&nbsp;&nbsp;&nbsp;&nbsp;Add one to passes  \n",
    ">> Else  \n",
    "&nbsp;&nbsp;&nbsp;&nbsp;&nbsp;Add one to failures\n",
    "\n",
    "* _Summarize the exam results and decide whether instructor should receive a bonus_ may be refined as follows:\n",
    "> Display the number of passes  \n",
    "> Display the number of failures\n",
    ">  \n",
    "> If more than eight students passed  \n",
    "&nbsp;&nbsp;&nbsp;&nbsp;&nbsp;Display “Bonus to instructor”"
   ]
  },
  {
   "cell_type": "markdown",
   "metadata": {},
   "source": [
    "### Complete Pseudocode Algorithm\n",
    "> Initialize passes to zero  \n",
    "> Initialize failures to zero  \n",
    ">  \n",
    "> For each of the ten students  \n",
    ">> Input the next exam result  \n",
    ">>  \n",
    ">> If the student passed  \n",
    "&nbsp;&nbsp;&nbsp;&nbsp;&nbsp;Add one to passes\n",
    "\n",
    ">> Else  \n",
    "&nbsp;&nbsp;&nbsp;&nbsp;&nbsp;Add one to failures\n",
    "\n",
    "> Display the number of passes  \n",
    "> Display the number of failures  \n",
    ">  \n",
    "> If more than eight students passed   \n",
    "&nbsp;&nbsp;&nbsp;&nbsp;&nbsp;Display “Bonus to instructor”"
   ]
  },
  {
   "cell_type": "markdown",
   "metadata": {},
   "source": [
    "### Implementing the Algorithm\n",
    "\n",
    "```python\n",
    "# fig03_03.py\n",
    "\"\"\"Using nested control statements to analyze examination results.\"\"\"\n",
    "\n",
    "# initialize variables\n",
    "passes = 0  # number of passes\n",
    "failures = 0  # number of failures\n",
    "\n",
    "# process 10 students\n",
    "for student in range(10):\n",
    "    # get one exam result\n",
    "    result = int(input('Enter result (1=pass, 2=fail): '))\n",
    "\n",
    "    if result == 1:\n",
    "        passes = passes + 1\n",
    "    else:\n",
    "        failures = failures + 1\n",
    "\n",
    "# termination phase\n",
    "print('Passed:', passes)\n",
    "print('Failed:', failures)\n",
    "\n",
    "if passes > 8:\n",
    "    print('Bonus to instructor')\n",
    "```"
   ]
  },
  {
   "cell_type": "code",
   "execution_count": 1,
   "metadata": {},
   "outputs": [
    {
     "name": "stdin",
     "output_type": "stream",
     "text": [
      "Enter result (1=pass, 2=fail):  1\n",
      "Enter result (1=pass, 2=fail):  2\n",
      "Enter result (1=pass, 2=fail):  2\n",
      "Enter result (1=pass, 2=fail):  1\n",
      "Enter result (1=pass, 2=fail):  1\n",
      "Enter result (1=pass, 2=fail):  2\n",
      "Enter result (1=pass, 2=fail):  2\n",
      "Enter result (1=pass, 2=fail):  1\n",
      "Enter result (1=pass, 2=fail):  1\n",
      "Enter result (1=pass, 2=fail):  2\n"
     ]
    },
    {
     "name": "stdout",
     "output_type": "stream",
     "text": [
      "Passed: 5\n",
      "Failed: 5\n"
     ]
    }
   ],
   "source": [
    "run fig03_03.py"
   ]
  },
  {
   "cell_type": "code",
   "execution_count": 2,
   "metadata": {},
   "outputs": [
    {
     "name": "stdin",
     "output_type": "stream",
     "text": [
      "Enter result (1=pass, 2=fail):  1\n",
      "Enter result (1=pass, 2=fail):  1\n",
      "Enter result (1=pass, 2=fail):  2\n",
      "Enter result (1=pass, 2=fail):  1\n",
      "Enter result (1=pass, 2=fail):  1\n",
      "Enter result (1=pass, 2=fail):  1\n",
      "Enter result (1=pass, 2=fail):  1\n",
      "Enter result (1=pass, 2=fail):  1\n",
      "Enter result (1=pass, 2=fail):  1\n",
      "Enter result (1=pass, 2=fail):  1\n"
     ]
    },
    {
     "name": "stdout",
     "output_type": "stream",
     "text": [
      "Passed: 9\n",
      "Failed: 1\n",
      "Bonus to instructor\n"
     ]
    }
   ],
   "source": [
    "run fig03_03.py"
   ]
  },
  {
   "cell_type": "markdown",
   "metadata": {},
   "source": [
    "------\n",
    "&copy;1992&ndash;2020 by Pearson Education, Inc. All Rights Reserved. This content is based on Chapter 3 of the book [**Intro to Python for Computer Science and Data Science: Learning to Program with AI, Big Data and the Cloud**](https://amzn.to/2VvdnxE).\n",
    "\n",
    "DISCLAIMER: The authors and publisher of this book have used their \n",
    "best efforts in preparing the book. These efforts include the \n",
    "development, research, and testing of the theories and programs \n",
    "to determine their effectiveness. The authors and publisher make \n",
    "no warranty of any kind, expressed or implied, with regard to these \n",
    "programs or to the documentation contained in these books. The authors \n",
    "and publisher shall not be liable in any event for incidental or \n",
    "consequential damages in connection with, or arising out of, the \n",
    "furnishing, performance, or use of these programs.                  "
   ]
  }
 ],
 "metadata": {
  "kernelspec": {
   "display_name": "Python 3",
   "language": "python",
   "name": "python3"
  },
  "language_info": {
   "codemirror_mode": {
    "name": "ipython",
    "version": 3
   },
   "file_extension": ".py",
   "mimetype": "text/x-python",
   "name": "python",
   "nbconvert_exporter": "python",
   "pygments_lexer": "ipython3",
   "version": "3.7.3"
  }
 },
 "nbformat": 4,
 "nbformat_minor": 2
}
