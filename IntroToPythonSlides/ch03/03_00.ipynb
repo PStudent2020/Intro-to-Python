{
 "cells": [
  {
   "cell_type": "markdown",
   "metadata": {
    "slideshow": {
     "slide_type": "slide"
    }
   },
   "source": [
    "# 3. Control Statements and Program Development"
   ]
  },
  {
   "cell_type": "markdown",
   "metadata": {
    "slideshow": {
     "slide_type": "slide"
    }
   },
   "source": [
    "### Objectives \n",
    "* Decide whether to execute actions with the statements `if`, `if`…`else` and if…elif…else.\n",
    "* Execute statements repeatedly with `while` and `for`.\n",
    "* Shorten assignment expressions with augmented assignments.\n",
    "* Use the `for` statement and the built-in `range` function to repeat actions for a sequence of values.\n",
    "* Perform sentinel-controlled iteration with `while`."
   ]
  },
  {
   "cell_type": "markdown",
   "metadata": {
    "slideshow": {
     "slide_type": "slide"
    }
   },
   "source": [
    "### Objectives (cont.)\n",
    "* Learn problem-solving skills: understanding problem requirements, dividing problems into smaller pieces, developing algorithms to solve problems and implementing those algorithms in code. \n",
    "* Develop algorithms through the process of top-down, stepwise refinement. \n",
    "* Create compound conditions with the Boolean operators `and`, `or` and `not`."
   ]
  },
  {
   "cell_type": "markdown",
   "metadata": {
    "slideshow": {
     "slide_type": "slide"
    }
   },
   "source": [
    "### Objectives (cont.)\n",
    "* Stop looping with `break`.\n",
    "* Force the next iteration of a loop with `continue`.\n",
    "* Use some functional-style programming features to write scripts that are more concise, clearer, easier to debug and easier to parallelize."
   ]
  },
  {
   "cell_type": "markdown",
   "metadata": {
    "slideshow": {
     "slide_type": "slide"
    }
   },
   "source": [
    "### Outline\n",
    "* 3.1   \tIntroduction \n",
    "* [3.2   \tAlgorithms](03_02.ipynb)\n",
    "* [3.3   \tPseudocode](03_03.ipynb)\n",
    "* [3.4   \tControl Statements](03_04.ipynb)\n",
    "* [3.5   \tif Statement](03_05.ipynb)\n",
    "* [3.6   \tif…else and if…elif…else Statements](03_06.ipynb)\n",
    "* [3.7   \twhile Statement](03_07.ipynb)"
   ]
  },
  {
   "cell_type": "markdown",
   "metadata": {
    "slideshow": {
     "slide_type": "slide"
    }
   },
   "source": [
    "### Outline\n",
    "* [3.8   \tfor Statement](03_08.ipynb)\n",
    "    * 3.8.1 \tIterables, Lists and Iterators\n",
    "    * 3.8.2 \tBuilt-In range Function\n",
    "* [3.9   \tAugmented Assignments](03_09.ipynb)\n",
    "* [3.10   \tProgram Development: Sequence-Controlled Iteration](03_10.ipynb)\n",
    "    * 3.10.1 \tRequirements Statement\n",
    "    * 3.10.2 \tPseudocode for the Algorithm\n",
    "    * 3.10.3 \tCoding the Algorithm in Python\n",
    "    * 3.10.4 \tIntroduction to Formatted Strings\n",
    "* [3.11   \tProgram Development: Sentinel-Controlled Iteration](03_11.ipynb)"
   ]
  },
  {
   "cell_type": "markdown",
   "metadata": {
    "slideshow": {
     "slide_type": "slide"
    }
   },
   "source": [
    "### Outline\n",
    "* [3.12   \tProgram Development: Nested Control Statements](03_12.ipynb)\n",
    "* [3.13   \tBuilt-In Function range: A Deeper Look](03_13.ipynb)\n",
    "* [3.14   \tUsing Type Decimal for Monetary Amounts](03_14.ipynb)\n",
    "* [3.15   \tbreak and continue Statements](03_15.ipynb)\n",
    "* [3.16   \tBoolean Operators and, or and not](03_16.ipynb)\n",
    "* [3.17   \tIntro to Data Science: Measures of Central Tendency—Mean, Median and Mode](03_17.ipynb)\n",
    "* 3.18   \tWrap-Up "
   ]
  },
  {
   "cell_type": "markdown",
   "metadata": {},
   "source": [
    "------\n",
    "&copy;1992&ndash;2020 by Pearson Education, Inc. All Rights Reserved. This content is based on Chapter 3 of the book [**Intro to Python for Computer Science and Data Science: Learning to Program with AI, Big Data and the Cloud**](https://amzn.to/2VvdnxE).\n",
    "\n",
    "DISCLAIMER: The authors and publisher of this book have used their \n",
    "best efforts in preparing the book. These efforts include the \n",
    "development, research, and testing of the theories and programs \n",
    "to determine their effectiveness. The authors and publisher make \n",
    "no warranty of any kind, expressed or implied, with regard to these \n",
    "programs or to the documentation contained in these books. The authors \n",
    "and publisher shall not be liable in any event for incidental or \n",
    "consequential damages in connection with, or arising out of, the \n",
    "furnishing, performance, or use of these programs.                  "
   ]
  }
 ],
 "metadata": {
  "celltoolbar": "Slideshow",
  "kernelspec": {
   "display_name": "Python 3",
   "language": "python",
   "name": "python3"
  },
  "language_info": {
   "codemirror_mode": {
    "name": "ipython",
    "version": 3
   },
   "file_extension": ".py",
   "mimetype": "text/x-python",
   "name": "python",
   "nbconvert_exporter": "python",
   "pygments_lexer": "ipython3",
   "version": "3.7.3"
  }
 },
 "nbformat": 4,
 "nbformat_minor": 2
}
