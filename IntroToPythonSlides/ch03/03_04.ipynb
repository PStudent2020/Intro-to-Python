{
 "cells": [
  {
   "cell_type": "markdown",
   "metadata": {
    "slideshow": {
     "slide_type": "slide"
    }
   },
   "source": [
    "# 3.4 Control Statements"
   ]
  },
  {
   "cell_type": "markdown",
   "metadata": {
    "slideshow": {
     "slide_type": "slide"
    }
   },
   "source": [
    "* Usually, statements in a program execute in the order in which they’re written. \n",
    "    * Called sequential execution. \n",
    "* Various Python statements enable you to specify that the next statement to execute may be other than the next one in sequence. \n",
    "    * Called transfer of control and is achieved with Python control statements. "
   ]
  },
  {
   "cell_type": "markdown",
   "metadata": {
    "slideshow": {
     "slide_type": "slide"
    }
   },
   "source": [
    "### Forms of Control\n",
    "* All programs can be written using three forms of control\n",
    "    * Sequential execution\n",
    "    * The selection statement \n",
    "    * The iteration statement. \n",
    "* Python statements execute one after the other “in sequence,” unless directed otherwise. "
   ]
  },
  {
   "cell_type": "markdown",
   "metadata": {},
   "source": [
    "### Flowcharts (1 of 3)\n",
    "* Graphical representation of an algorithm or a part of one. \n",
    "* Drawn using rectangles, diamonds, rounded rectangles and small circles connected by arrows called flowlines. \n",
    "* Clearly show how forms of control operate. "
   ]
  },
  {
   "cell_type": "markdown",
   "metadata": {},
   "source": [
    "### Flowcharts (2 of 3)\n",
    "* Flowchart segment showing sequential execution: \n",
    "![Flowchart segment showing sequential execution of two statements](./ch03images/AAHBDOB0.png \"Flowchart segment showing sequential execution of two statements\")"
   ]
  },
  {
   "cell_type": "markdown",
   "metadata": {},
   "source": [
    "### Flowcharts (3 of 3)\n",
    "* Rectangle (or action) symbol indicates any action\n",
    "* Flowlines show the order in which the actions execute. \n",
    "* In a flowchart for a complete algorithm, the first symbol is a rounded rectangle containing the word “Begin.” The last symbol is a rounded rectangle containing the word “End.” \n",
    "* In a flowchart for only a part of an algorithm, use small circles called connector symbols."
   ]
  },
  {
   "cell_type": "markdown",
   "metadata": {},
   "source": [
    "### Selection Statements\n",
    "* Three selection statements that execute code based on a condition—an expression that evaluates to either `True` or `False`: \n",
    "    * `if` performs an action if a condition is `True` or skips the action if the condition is `False`. \n",
    "    * `if`…`else` statement performs an action if a condition is `True` or performs a different action if the condition is `False`. \n",
    "    * `if`…`elif`…`else` statement performs one of many different actions, depending on the truth or falsity of several conditions. \n",
    "* Anywhere a single action can be placed, a group of actions can be placed. "
   ]
  },
  {
   "cell_type": "markdown",
   "metadata": {},
   "source": [
    "### Iteration Statements\n",
    "* Two iteration statements\n",
    "    * `while`  repeats an action (or a group of actions) as long as a condition remains True. \n",
    "    * `for` statement repeats an action (or a group of actions) for every item in a sequence of items. "
   ]
  },
  {
   "cell_type": "markdown",
   "metadata": {},
   "source": [
    "### Keywords\n",
    "* Notice that a few (shown in **bold**) start with an uppercase letter.\n",
    "\n",
    "| &nbsp; | &nbsp; | &nbsp; | &nbsp; | &nbsp; |\n",
    "| :------ | :------ | :------ | :------ | :------ | \n",
    "| `and` | `as` | `assert` | `async` | `await` |\n",
    "| `break` | `class` | `continue` | `def` | `del` |\n",
    "| `elif` | `else` | `except` | **`False`** | `finally` |\n",
    "| `for` | `from` | `global` | `if` | `import` \n",
    "| `in` | `is` | `lambda` | **`None`** | `nonlocal` |\n",
    "| `not` | `or` | `pass`| `raise` | `return` |\n",
    "| **`True`** | `try` | `while` | `with` | `yield` |"
   ]
  },
  {
   "cell_type": "markdown",
   "metadata": {},
   "source": [
    "### Control Statements Summary\n",
    "* You form each Python program by combining as many control statements of each type as you need for the algorithm the program implements. \n",
    "* With Single-entry/single-exit (one way in/one way out) control statements, the exit point of one connects to the entry point of the next. \n",
    "    * Similar to the way a child stacks building blocks—hence, the term control-statement stacking. "
   ]
  },
  {
   "cell_type": "markdown",
   "metadata": {},
   "source": [
    "------\n",
    "&copy;1992&ndash;2020 by Pearson Education, Inc. All Rights Reserved. This content is based on Chapter 3 of the book [**Intro to Python for Computer Science and Data Science: Learning to Program with AI, Big Data and the Cloud**](https://amzn.to/2VvdnxE).\n",
    "\n",
    "DISCLAIMER: The authors and publisher of this book have used their \n",
    "best efforts in preparing the book. These efforts include the \n",
    "development, research, and testing of the theories and programs \n",
    "to determine their effectiveness. The authors and publisher make \n",
    "no warranty of any kind, expressed or implied, with regard to these \n",
    "programs or to the documentation contained in these books. The authors \n",
    "and publisher shall not be liable in any event for incidental or \n",
    "consequential damages in connection with, or arising out of, the \n",
    "furnishing, performance, or use of these programs.                  "
   ]
  }
 ],
 "metadata": {
  "celltoolbar": "Slideshow",
  "kernelspec": {
   "display_name": "Python 3",
   "language": "python",
   "name": "python3"
  },
  "language_info": {
   "codemirror_mode": {
    "name": "ipython",
    "version": 3
   },
   "file_extension": ".py",
   "mimetype": "text/x-python",
   "name": "python",
   "nbconvert_exporter": "python",
   "pygments_lexer": "ipython3",
   "version": "3.7.3"
  }
 },
 "nbformat": 4,
 "nbformat_minor": 2
}
