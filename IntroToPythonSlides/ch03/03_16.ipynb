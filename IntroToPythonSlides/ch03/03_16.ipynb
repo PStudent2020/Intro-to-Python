{
 "cells": [
  {
   "cell_type": "markdown",
   "metadata": {},
   "source": [
    "# 3.16 Boolean Operators `and`, `or` and `not` "
   ]
  },
  {
   "cell_type": "markdown",
   "metadata": {},
   "source": [
    "### Boolean Operator `and`\n",
    "* Ensure that two conditions are both `True` with the **Boolean `and` operator**. "
   ]
  },
  {
   "cell_type": "code",
   "execution_count": null,
   "metadata": {},
   "outputs": [],
   "source": [
    "gender = 'Female'"
   ]
  },
  {
   "cell_type": "code",
   "execution_count": null,
   "metadata": {},
   "outputs": [],
   "source": [
    "age = 70"
   ]
  },
  {
   "cell_type": "code",
   "execution_count": null,
   "metadata": {},
   "outputs": [],
   "source": [
    "if gender == 'Female' and age >= 65:\n",
    "    print('Senior female')"
   ]
  },
  {
   "cell_type": "markdown",
   "metadata": {},
   "source": [
    "* _Truth table_ for the `and` operator:\n",
    "\n",
    "expression1 | expression2 | expression1 `and` expression2\n",
    ":-------- | :-------- | :--------\n",
    "`False` \t| `False` \t| `False` \n",
    "`False` \t| `True`  \t| `False` \n",
    "`True`  \t| `False` \t| `False` \n",
    "`True`  \t| `True`  \t| `True`  "
   ]
  },
  {
   "cell_type": "markdown",
   "metadata": {},
   "source": [
    "### Boolean Operator `or`\n",
    "* Ensure that one _or_ both of two conditions are `True` with the **Boolean `or` operator**."
   ]
  },
  {
   "cell_type": "code",
   "execution_count": null,
   "metadata": {},
   "outputs": [],
   "source": [
    "semester_average = 83"
   ]
  },
  {
   "cell_type": "code",
   "execution_count": null,
   "metadata": {},
   "outputs": [],
   "source": [
    "final_exam = 95"
   ]
  },
  {
   "cell_type": "code",
   "execution_count": null,
   "metadata": {},
   "outputs": [],
   "source": [
    "if semester_average >= 90 or final_exam >= 90:\n",
    "    print('Student gets an A')"
   ]
  },
  {
   "cell_type": "markdown",
   "metadata": {},
   "source": [
    "* _Truth table_ for the `or` operator:\n",
    "\n",
    "expression1 | expression2 | expression1 or expression2\n",
    ":-------- | :-------- | :--------\n",
    "`False` \t| `False` \t| `False` \n",
    "`False` \t| `True` \t| `True` \n",
    "`True` \t| `False` \t| `True` \n",
    "`True` \t| `True` \t| `True` "
   ]
  },
  {
   "cell_type": "markdown",
   "metadata": {},
   "source": [
    "### Improving Performance with Short-Circuit Evaluation\n",
    "* Python stops evaluating an `and` expression as soon as it knows whether the entire condition is `False`. \n",
    "* Python stops evaluating an `or` expression as soon as it knows whether the entire condition is `True`. \n",
    "* In expressions that use `and`, make the condition that’s more likely to be `False` the leftmost condition. \n",
    "* In `or` operator expressions, make the condition that’s more likely to be `True` the leftmost condition. \n"
   ]
  },
  {
   "cell_type": "markdown",
   "metadata": {},
   "source": [
    "### Boolean Operator `not` \n",
    "* “Reverse” the meaning of a condition.\n",
    "* **Unary operator**—it has only _one_ operand. "
   ]
  },
  {
   "cell_type": "code",
   "execution_count": null,
   "metadata": {},
   "outputs": [],
   "source": [
    "grade = 87"
   ]
  },
  {
   "cell_type": "code",
   "execution_count": null,
   "metadata": {},
   "outputs": [],
   "source": [
    "if not grade == -1:\n",
    "    print('The next grade is', grade)"
   ]
  },
  {
   "cell_type": "code",
   "execution_count": null,
   "metadata": {},
   "outputs": [],
   "source": [
    "if grade != -1:\n",
    "    print('The next grade is', grade)"
   ]
  },
  {
   "cell_type": "markdown",
   "metadata": {},
   "source": [
    "* Truth table for the `not` operator. \n",
    "\n",
    "expression | not expression\n",
    ":-------- | :---------\n",
    "`False` \t| `True` \n",
    "`True` \t| `False` "
   ]
  },
  {
   "cell_type": "markdown",
   "metadata": {},
   "source": [
    "* Precedence and grouping of the operators introduced so far&mdash;shown in decreasing order of precedence. \n",
    "\n",
    "| Operators  | Grouping\n",
    "| :--------- | : ---------\n",
    "| `()` | left to right\n",
    "| `**` | right to left\n",
    "| `*` &nbsp;&nbsp;&nbsp; `/` &nbsp;&nbsp;&nbsp; `//` &nbsp;&nbsp;&nbsp;% | left to right\n",
    "| `+` &nbsp;&nbsp;&nbsp; `-` | left to right\n",
    "| `<` &nbsp;&nbsp;&nbsp; `<=` &nbsp;&nbsp;&nbsp; `>` &nbsp;&nbsp;&nbsp; `>=` &nbsp;&nbsp;&nbsp; `==` &nbsp;&nbsp;&nbsp; `!=` | left to right\n",
    "| `not` | left to  right\n",
    "| `and` | left to right\n",
    "| `or` | left to right"
   ]
  },
  {
   "cell_type": "markdown",
   "metadata": {},
   "source": [
    "------\n",
    "&copy;1992&ndash;2020 by Pearson Education, Inc. All Rights Reserved. This content is based on Chapter 3 of the book [**Intro to Python for Computer Science and Data Science: Learning to Program with AI, Big Data and the Cloud**](https://amzn.to/2VvdnxE).\n",
    "\n",
    "DISCLAIMER: The authors and publisher of this book have used their \n",
    "best efforts in preparing the book. These efforts include the \n",
    "development, research, and testing of the theories and programs \n",
    "to determine their effectiveness. The authors and publisher make \n",
    "no warranty of any kind, expressed or implied, with regard to these \n",
    "programs or to the documentation contained in these books. The authors \n",
    "and publisher shall not be liable in any event for incidental or \n",
    "consequential damages in connection with, or arising out of, the \n",
    "furnishing, performance, or use of these programs.                  "
   ]
  }
 ],
 "metadata": {
  "kernelspec": {
   "display_name": "Python 3",
   "language": "python",
   "name": "python3"
  },
  "language_info": {
   "codemirror_mode": {
    "name": "ipython",
    "version": 3
   },
   "file_extension": ".py",
   "mimetype": "text/x-python",
   "name": "python",
   "nbconvert_exporter": "python",
   "pygments_lexer": "ipython3",
   "version": "3.7.3"
  }
 },
 "nbformat": 4,
 "nbformat_minor": 2
}
