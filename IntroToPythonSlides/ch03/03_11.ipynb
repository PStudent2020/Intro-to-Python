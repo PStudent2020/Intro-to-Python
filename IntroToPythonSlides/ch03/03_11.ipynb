{
 "cells": [
  {
   "cell_type": "markdown",
   "metadata": {},
   "source": [
    "# 3.11 Program Development: Sentinel-Controlled Iteration\n",
    "* Generalized class-average problem requirements statement:\n",
    "> Develop a class-averaging program that processes an arbitrary number of grades each time the program executes.\n",
    "* Does not state what the grades are or how many there are. \n",
    "* The program processes an arbitrary number of grades.\n",
    "* Use a **sentinel value** (also called a **signal value**, a **dummy value** or a **flag value**) to indicate “end of data entry.” \n",
    "* Sentinel-controlled iteration is often called **indefinite iteration** because the number of iterations is not known before the loop begins executing.\n",
    "* A sentinel value must not be confused with any acceptable input value."
   ]
  },
  {
   "cell_type": "markdown",
   "metadata": {},
   "source": [
    "### Developing the Pseudocode Algorithm with Top-Down, Stepwise Refinement\n",
    "* Begin with a pseudocode representation of the **top**: \n",
    "> _Determine the class average for the quiz_\n",
    "* Single statement that conveys the program’s overall function.\n",
    "* Rarely conveys enough detail from which to write a program.\n",
    "* Specifies what should be done, but not how to implement it. \n",
    "* Begin the refinement process by decomposing the top into a sequence of smaller tasks&mdash;**divide and conquer**. "
   ]
  },
  {
   "cell_type": "markdown",
   "metadata": {},
   "source": [
    "### First refinement:\n",
    "> _Initialize variables  \n",
    "> Input, sum and count the quiz grades  \n",
    "> Calculate and display the class average_\n",
    "\n",
    "* Each refinement represents the complete algorithm.\n",
    "* These pseudocode statements correspond to the three execution phases described in the preceding section. "
   ]
  },
  {
   "cell_type": "markdown",
   "metadata": {},
   "source": [
    "### Second Refinement\n",
    "* Commit to specific variables. \n",
    "    * a grade variable in which each successive user input will be stored,\n",
    "    * a running total of the grades, \n",
    "    * a count of how many grades have been processed and\n",
    "    * a variable that contains the calculated average. \n",
    "\n",
    "\"_Initialize variables_\" can be refined as follows:\n",
    "> _Initialize total to zero  \n",
    "> Initialize grade counter to zero_\n",
    "\n",
    "* Other variables created when they’re needed. \n",
    "\n",
    "\"_Input, sum and count the quiz grades_\" can be refined as follows:\n",
    "> _Input the first grade (possibly the sentinel)  \n",
    "> While the user has not entered the sentinel_  \n",
    ">> _Add this grade into the running total  \n",
    ">> Add one to the grade counter  \n",
    ">> Input the next grade (possibly the sentinel)_\n",
    "\n",
    "\"_Calculate and display the class average_\" can be refined as follows:\n",
    ">_If the counter is not equal to zero_  \n",
    ">>_Set the average to the total divided by the grade counter  \n",
    ">>Display the average_    \n",
    "\n",
    ">_Else_  \n",
    ">>_Display “No grades were entered”_\n",
    "\n",
    "**Complete second refinement**: \n",
    "> _Initialize total to zero_  \n",
    "> _Initialize grade counter to zero_  \n",
    ">  \n",
    "> _Input the first grade (possibly the sentinel_)  \n",
    "> _While the user has not entered the sentinel_  \n",
    ">> _Add this grade into the running total_  \n",
    ">> _Add one to the grade counter_  \n",
    ">> _Input the next grade (possibly the sentinel)_  \n",
    ">  \n",
    "> _If the counter is not equal to zero_  \n",
    ">> _Set the average to the total divided by the counter_  \n",
    ">> _Display the average_  \n",
    "\n",
    "> _Else_  \n",
    ">> _Display “No grades were entered”_  \n",
    "\n",
    "* Sometimes more than two refinements are necessary. \n",
    "* Dtop refining when there is enough detail to convert the pseudocode to Python. \n",
    "* Blank lines for readability. \n"
   ]
  },
  {
   "cell_type": "markdown",
   "metadata": {},
   "source": [
    "### Implementing Sentinel-Controlled Iteration \n",
    "```python\n",
    "# fig03_02.py\n",
    "\"\"\"Class average program with sentinel-controlled iteration.\"\"\"\n",
    "\n",
    "# initialization phase\n",
    "total = 0  # sum of grades\n",
    "grade_counter = 0  # number of grades entered\n",
    "\n",
    "# processing phase\n",
    "grade = int(input('Enter grade, -1 to end: '))  # get one grade\n",
    "\n",
    "while grade != -1:\n",
    "    total += grade\n",
    "    grade_counter += 1\n",
    "    grade = int(input('Enter grade, -1 to end: '))\n",
    "\n",
    "# termination phase\n",
    "if grade_counter != 0:\n",
    "    average = total / grade_counter\n",
    "    print(f'Class average is {average:.2f}')\n",
    "else:\n",
    "    print('No grades were entered')\n",
    "```"
   ]
  },
  {
   "cell_type": "code",
   "execution_count": null,
   "metadata": {},
   "outputs": [],
   "source": [
    "run fig03_02.py"
   ]
  },
  {
   "cell_type": "markdown",
   "metadata": {},
   "source": [
    "### Program Logic for Sentinel-Controlled Iteration \n",
    "* Read the first value before reaching the `while` statement. \n",
    "* The value input determines whether the program’s flow of control should enter the `while`’s suite. \n",
    "* If the condition is `False`, the user entered `-1`, so the suite does not execute. \n",
    "* If the condition is `True`, the suite executes, adding the `grade` value to the `total` and incrementing the `grade_counter`. \n",
    "* Then we input another grade from the user and the `while`’s condition is tested again. \n",
    "* `grade` is always input immediately before the program tests the `while` condition. \n",
    "* When the sentinel value is input, the loop terminates, and the program does not add `–1` to the `total`. \n",
    "* After the loop terminates, the `if`…`else` statement executes."
   ]
  },
  {
   "cell_type": "markdown",
   "metadata": {},
   "source": [
    "### Formatting the Class Average with Two Decimal Places\n",
    "* We formatted the class average with two digits to the right of the decimal point. \n",
    "* In an f-string, you can optionally follow a replacement-text expression with a colon (`:`) and a **format specifier** that describes how to format the replacement text.\n",
    "* The format specifier `.2f` formats the average as a floating-point number (`f`) with two digits to the right of the decimal point (`.2`). \n",
    "* Rounds to the hundredths position"
   ]
  },
  {
   "cell_type": "markdown",
   "metadata": {},
   "source": [
    "### Control-Statement Stacking\n",
    "* In this example, notice that control statements are stacked in sequence. \n",
    "* The `while` statement is followed immediately by an `if`…`else` statement."
   ]
  },
  {
   "cell_type": "markdown",
   "metadata": {},
   "source": [
    "------\n",
    "&copy;1992&ndash;2020 by Pearson Education, Inc. All Rights Reserved. This content is based on Chapter 3 of the book [**Intro to Python for Computer Science and Data Science: Learning to Program with AI, Big Data and the Cloud**](https://amzn.to/2VvdnxE).\n",
    "\n",
    "DISCLAIMER: The authors and publisher of this book have used their \n",
    "best efforts in preparing the book. These efforts include the \n",
    "development, research, and testing of the theories and programs \n",
    "to determine their effectiveness. The authors and publisher make \n",
    "no warranty of any kind, expressed or implied, with regard to these \n",
    "programs or to the documentation contained in these books. The authors \n",
    "and publisher shall not be liable in any event for incidental or \n",
    "consequential damages in connection with, or arising out of, the \n",
    "furnishing, performance, or use of these programs.                  "
   ]
  }
 ],
 "metadata": {
  "kernelspec": {
   "display_name": "Python 3",
   "language": "python",
   "name": "python3"
  },
  "language_info": {
   "codemirror_mode": {
    "name": "ipython",
    "version": 3
   },
   "file_extension": ".py",
   "mimetype": "text/x-python",
   "name": "python",
   "nbconvert_exporter": "python",
   "pygments_lexer": "ipython3",
   "version": "3.7.3"
  }
 },
 "nbformat": 4,
 "nbformat_minor": 2
}
