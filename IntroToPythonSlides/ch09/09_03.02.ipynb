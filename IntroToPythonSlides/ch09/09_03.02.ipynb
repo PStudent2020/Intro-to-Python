{
 "cells": [
  {
   "cell_type": "markdown",
   "metadata": {},
   "source": [
    "## 9.3.2 Reading Data from a Text File\n",
    "* Let's read `accounts.txt` sequentially from beginning to end"
   ]
  },
  {
   "cell_type": "code",
   "execution_count": null,
   "metadata": {},
   "outputs": [],
   "source": [
    "with open('accounts.txt', mode='r') as accounts:\n",
    "    print(f'{\"Account\":<10}{\"Name\":<10}{\"Balance\":>10}')\n",
    "    for record in accounts:\n",
    "        account, name, balance = record.split()\n",
    "        print(f'{account:<10}{name:<10}{balance:>10}')"
   ]
  },
  {
   "cell_type": "markdown",
   "metadata": {},
   "source": [
    "## 9.3.2 Reading Data from a Text File (cont.)\n",
    "* If the contents of a file should not be modified, open the file for reading only\n",
    "    * Prevents program from accidentally modifying the file\n",
    "* Iterating through a file object, reads one line at a time from the file and returns it as a string\n",
    "* For each `record` (that is, line) in the file, string method `split` returns tokens in the line as a list\n",
    "    * We unpack into the variables `account`, `name` and `balance`"
   ]
  },
  {
   "cell_type": "markdown",
   "metadata": {},
   "source": [
    "### File Method `readlines`\n",
    "* File object’s **`readlines`** method also can be used to read an _entire_ text file\n",
    "* Returns each line as a string in a list of strings\n",
    "* For small files, this works well, but iterating over the lines in a file object, as shown above, can be more efficient\n",
    "    * Enables your program to process each text line as it’s read, rather than waiting to load the entire file"
   ]
  },
  {
   "cell_type": "markdown",
   "metadata": {},
   "source": [
    "### Seeking to a Specific File Position\n",
    "* While reading through a file, the system maintains a **file-position pointer** representing the location of the next character to read\n",
    "* To process a file sequentially from the beginning _several times_ during a program’s execution, you must reposition the file-position pointer to the beginning of the file\n",
    "    * Can do this by closing and reopening the file, or \n",
    "    * by calling the file object’s **`seek`** method, as in \n",
    ">```python\n",
    "file_object.seek(0)\n",
    "```\n",
    "* The latter approach is faster"
   ]
  },
  {
   "cell_type": "markdown",
   "metadata": {},
   "source": [
    "------\n",
    "&copy;1992&ndash;2020 by Pearson Education, Inc. All Rights Reserved. This content is based on Chapter 5 of the book [**Intro to Python for Computer Science and Data Science: Learning to Program with AI, Big Data and the Cloud**](https://amzn.to/2VvdnxE).\n",
    "\n",
    "DISCLAIMER: The authors and publisher of this book have used their \n",
    "best efforts in preparing the book. These efforts include the \n",
    "development, research, and testing of the theories and programs \n",
    "to determine their effectiveness. The authors and publisher make \n",
    "no warranty of any kind, expressed or implied, with regard to these \n",
    "programs or to the documentation contained in these books. The authors \n",
    "and publisher shall not be liable in any event for incidental or \n",
    "consequential damages in connection with, or arising out of, the \n",
    "furnishing, performance, or use of these programs.                  "
   ]
  }
 ],
 "metadata": {
  "kernelspec": {
   "display_name": "Python 3",
   "language": "python",
   "name": "python3"
  },
  "language_info": {
   "codemirror_mode": {
    "name": "ipython",
    "version": 3
   },
   "file_extension": ".py",
   "mimetype": "text/x-python",
   "name": "python",
   "nbconvert_exporter": "python",
   "pygments_lexer": "ipython3",
   "version": "3.7.3"
  }
 },
 "nbformat": 4,
 "nbformat_minor": 2
}
