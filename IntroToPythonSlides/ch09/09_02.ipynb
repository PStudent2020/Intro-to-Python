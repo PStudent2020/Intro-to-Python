{
 "cells": [
  {
   "cell_type": "markdown",
   "metadata": {},
   "source": [
    "# 9.2 Files \n",
    "* A **text file** is a sequence of characters \n",
    "* A **binary file** (for images, videos and more) is a sequence of bytes\n",
    "* First character in a text file or byte in a binary file is located at position 0\n",
    "    * In a file of **_n_** characters or bytes, the highest position number is **_n_ – 1**\n",
    "* For each file you **open**, Python creates a **file object** that you’ll use to interact with the file"
   ]
  },
  {
   "cell_type": "markdown",
   "metadata": {},
   "source": [
    "![Conceptual view of a file](ch09images/AAEMYSR0.png \"Conceptual view of a file\")"
   ]
  },
  {
   "cell_type": "markdown",
   "metadata": {},
   "source": [
    "### End of File\n",
    "* Every operating system provides a mechanism to denote the end of a file\n",
    "    * Some use an **end-of-file marker**\n",
    "    * Others maintain a count of the total characters or bytes in the file\n",
    "    * Programming languages hide these operating-system details from you "
   ]
  },
  {
   "cell_type": "markdown",
   "metadata": {},
   "source": [
    "### Standard File Objects\n",
    "* When a Python program begins execution, it creates three **standard file objects**:\n",
    "    * **`sys.stdin`**—the **standard input file object**\n",
    "    * **`sys.stdout`**—the **standard output file object**, and \n",
    "    * **`sys.stderr`**—the **standard error file object**. \n",
    "* Though considered file objects, they do not read from or write to files by default\n",
    "    * The `input` function implicitly uses `sys.stdin` to get user input from the keyboard\n",
    "    * Function `print` implicitly outputs to `sys.stdout`, which appears in the command line\n",
    "    * Python implicitly outputs program errors and tracebacks to `sys.stderr`, which also appears in the command line\n",
    "* Import the `sys` module if you need to refer to these objects explicitly in your code&mdash;this is rare "
   ]
  },
  {
   "cell_type": "markdown",
   "metadata": {},
   "source": [
    "------\n",
    "&copy;1992&ndash;2020 by Pearson Education, Inc. All Rights Reserved. This content is based on Chapter 5 of the book [**Intro to Python for Computer Science and Data Science: Learning to Program with AI, Big Data and the Cloud**](https://amzn.to/2VvdnxE).\n",
    "\n",
    "DISCLAIMER: The authors and publisher of this book have used their \n",
    "best efforts in preparing the book. These efforts include the \n",
    "development, research, and testing of the theories and programs \n",
    "to determine their effectiveness. The authors and publisher make \n",
    "no warranty of any kind, expressed or implied, with regard to these \n",
    "programs or to the documentation contained in these books. The authors \n",
    "and publisher shall not be liable in any event for incidental or \n",
    "consequential damages in connection with, or arising out of, the \n",
    "furnishing, performance, or use of these programs.                  "
   ]
  }
 ],
 "metadata": {
  "celltoolbar": "Slideshow",
  "kernelspec": {
   "display_name": "Python 3",
   "language": "python",
   "name": "python3"
  },
  "language_info": {
   "codemirror_mode": {
    "name": "ipython",
    "version": 3
   },
   "file_extension": ".py",
   "mimetype": "text/x-python",
   "name": "python",
   "nbconvert_exporter": "python",
   "pygments_lexer": "ipython3",
   "version": "3.7.3"
  }
 },
 "nbformat": 4,
 "nbformat_minor": 2
}
