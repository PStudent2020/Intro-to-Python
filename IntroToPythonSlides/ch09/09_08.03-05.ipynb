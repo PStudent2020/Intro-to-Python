{
 "cells": [
  {
   "cell_type": "markdown",
   "metadata": {},
   "source": [
    "## 9.8.3 Catching Multiple Exceptions in One `except` Clause\n",
    "* If several `except` suites are identical, you can catch those exception types by specifying them as a tuple in a _single_ `except` handler:\n",
    "> ```python\n",
    "except (type1, type2, …) as variable_name:\n",
    "```\n",
    "* `as` clause is optional\n",
    "    * Typically, programs do not need to reference the caught exception object directly\n",
    "    * Can use the variable in the `as` clause to reference the exception object in the `except` suite"
   ]
  },
  {
   "cell_type": "markdown",
   "metadata": {},
   "source": [
    "## 9.8.4 What Exceptions Does a Function or Method Raise?\n",
    "* Before using any function or method, read its online API documentation\n",
    "    * Specifies what exceptions are thrown (if any) by the function or method \n",
    "    * Indicates reasons why such exceptions may occur\n",
    "* Next, read the online API documentation for each exception type to see potential reasons why such an exception occurs"
   ]
  },
  {
   "cell_type": "markdown",
   "metadata": {},
   "source": [
    "## 9.8.5 What Code Should Be Placed in a `try` Suite?\n",
    "* For proper exception-handling granularity, each `try` statement should enclose a section of code small enough that, when an exception occurs, the specific context is known and the `except` handlers can process the exception properly\n",
    "* If many statements in a `try` suite raise the same exception types, multiple `try` statements may be required to determine each exception’s context"
   ]
  },
  {
   "cell_type": "markdown",
   "metadata": {},
   "source": [
    "------\n",
    "&copy;1992&ndash;2020 by Pearson Education, Inc. All Rights Reserved. This content is based on Chapter 5 of the book [**Intro to Python for Computer Science and Data Science: Learning to Program with AI, Big Data and the Cloud**](https://amzn.to/2VvdnxE).\n",
    "\n",
    "DISCLAIMER: The authors and publisher of this book have used their \n",
    "best efforts in preparing the book. These efforts include the \n",
    "development, research, and testing of the theories and programs \n",
    "to determine their effectiveness. The authors and publisher make \n",
    "no warranty of any kind, expressed or implied, with regard to these \n",
    "programs or to the documentation contained in these books. The authors \n",
    "and publisher shall not be liable in any event for incidental or \n",
    "consequential damages in connection with, or arising out of, the \n",
    "furnishing, performance, or use of these programs.                  "
   ]
  }
 ],
 "metadata": {
  "kernelspec": {
   "display_name": "Python 3",
   "language": "python",
   "name": "python3"
  },
  "language_info": {
   "codemirror_mode": {
    "name": "ipython",
    "version": 3
   },
   "file_extension": ".py",
   "mimetype": "text/x-python",
   "name": "python",
   "nbconvert_exporter": "python",
   "pygments_lexer": "ipython3",
   "version": "3.7.3"
  }
 },
 "nbformat": 4,
 "nbformat_minor": 2
}
