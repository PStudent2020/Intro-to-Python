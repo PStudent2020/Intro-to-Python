{
 "cells": [
  {
   "cell_type": "markdown",
   "metadata": {},
   "source": [
    "# 9.5 Serialization with JSON \n",
    "* **JSON (JavaScript Object Notation)** is a text-based, human-and-computer-readable, data-interchange format used to represent objects as collections of name–value pairs. \n",
    "* Preferred data format for transmitting objects across platforms. "
   ]
  },
  {
   "cell_type": "markdown",
   "metadata": {},
   "source": [
    "### JSON Data Format \n",
    "* Similar to Python dictionaries\n",
    "* Each JSON object contains a comma-separated list of **property names** and **values**, in curly braces. \n",
    "> ```python\n",
    "{\"account\": 100, \"name\": \"Jones\", \"balance\": 24.98}\n",
    "```\n",
    "* JSON arrays, like Python lists, are comma-separated values in square brackets. \n",
    "> ```python\n",
    "[100, 200, 300]\n",
    "```\n",
    "\n",
    "* Values in JSON objects and arrays can be:\n",
    "    * **strings** in **double quotes**\n",
    "    * **numbers**\n",
    "    * JSON Boolean values **`true`** or **`false`** \n",
    "    * **`null`** (like `None` in Python)\n",
    "    * **arrays**  \n",
    "    * **other JSON objects**"
   ]
  },
  {
   "cell_type": "markdown",
   "metadata": {},
   "source": [
    "### Python Standard Library Module `json` \n",
    "* **`json` module** enables you to convert objects to JSON (JavaScript Object Notation) text format\n",
    "* Known as **serializing** the data\n",
    "* Following dictionary, which contains one key–value pair consisting of the key `'accounts'` with its associated value being a list of dictionaries representing two accounts"
   ]
  },
  {
   "cell_type": "code",
   "execution_count": null,
   "metadata": {},
   "outputs": [],
   "source": [
    "accounts_dict = {'accounts': [\n",
    "    {'account': 100, 'name': 'Jones', 'balance': 24.98},\n",
    "    {'account': 200, 'name': 'Doe', 'balance': 345.67}]}"
   ]
  },
  {
   "cell_type": "markdown",
   "metadata": {},
   "source": [
    "### Serializing an Object to JSON\n",
    "* Write JSON to a file\n",
    "* `json` module’s **`dump` function** serializes the dictionary `accounts_dict` into the file"
   ]
  },
  {
   "cell_type": "code",
   "execution_count": null,
   "metadata": {},
   "outputs": [],
   "source": [
    "import json"
   ]
  },
  {
   "cell_type": "code",
   "execution_count": null,
   "metadata": {},
   "outputs": [],
   "source": [
    "with open('accounts.json', 'w') as accounts:\n",
    "    json.dump(accounts_dict, accounts)"
   ]
  },
  {
   "cell_type": "markdown",
   "metadata": {},
   "source": [
    "* Resulting file contains the following text&mdash;reformatted slightly for readability:\n",
    "```python\n",
    "{\"accounts\": \n",
    "  [{\"account\": 100, \"name\": \"Jones\", \"balance\": 24.98}, \n",
    "   {\"account\": 200, \"name\": \"Doe\", \"balance\": 345.67}]}\n",
    "```\n",
    "* JSON delimits strings with _double-quote characters_. "
   ]
  },
  {
   "cell_type": "markdown",
   "metadata": {},
   "source": [
    "### Deserializing the JSON Text\n",
    "* `json` module’s **`load` function** reads entire JSON contents of its file object argument and converts the JSON into a Python object\n",
    "* Known as **deserializing** the data"
   ]
  },
  {
   "cell_type": "code",
   "execution_count": null,
   "metadata": {},
   "outputs": [],
   "source": [
    "with open('accounts.json', 'r') as accounts:\n",
    "    accounts_json = json.load(accounts)"
   ]
  },
  {
   "cell_type": "code",
   "execution_count": null,
   "metadata": {},
   "outputs": [],
   "source": [
    "accounts_json"
   ]
  },
  {
   "cell_type": "code",
   "execution_count": null,
   "metadata": {},
   "outputs": [],
   "source": [
    "accounts_json['accounts']"
   ]
  },
  {
   "cell_type": "code",
   "execution_count": null,
   "metadata": {},
   "outputs": [],
   "source": [
    "accounts_json['accounts'][0]"
   ]
  },
  {
   "cell_type": "code",
   "execution_count": null,
   "metadata": {},
   "outputs": [],
   "source": [
    "accounts_json['accounts'][1]"
   ]
  },
  {
   "cell_type": "markdown",
   "metadata": {},
   "source": [
    "### Displaying the JSON Text\n",
    "* `json` module’s **`dumps` function** (`dumps` is short for “dump string”) returns a Python string representation of an object in JSON format\n",
    "* Canbe used to display JSON in a nicely indented format\n",
    "    * sometimes called “pretty printing” \n",
    "* When call includes the `indent` keyword argument, the string contains newline characters and indentation for pretty printing\n",
    "    * Also can use `indent` with the `dump` function when writing to a file"
   ]
  },
  {
   "cell_type": "code",
   "execution_count": null,
   "metadata": {},
   "outputs": [],
   "source": [
    "with open('accounts.json', 'r') as accounts:\n",
    "    print(json.dumps(json.load(accounts), indent=4))\n",
    "    "
   ]
  },
  {
   "cell_type": "markdown",
   "metadata": {},
   "source": [
    "------\n",
    "&copy;1992&ndash;2020 by Pearson Education, Inc. All Rights Reserved. This content is based on Chapter 5 of the book [**Intro to Python for Computer Science and Data Science: Learning to Program with AI, Big Data and the Cloud**](https://amzn.to/2VvdnxE).\n",
    "\n",
    "DISCLAIMER: The authors and publisher of this book have used their \n",
    "best efforts in preparing the book. These efforts include the \n",
    "development, research, and testing of the theories and programs \n",
    "to determine their effectiveness. The authors and publisher make \n",
    "no warranty of any kind, expressed or implied, with regard to these \n",
    "programs or to the documentation contained in these books. The authors \n",
    "and publisher shall not be liable in any event for incidental or \n",
    "consequential damages in connection with, or arising out of, the \n",
    "furnishing, performance, or use of these programs.                  "
   ]
  }
 ],
 "metadata": {
  "kernelspec": {
   "display_name": "Python 3",
   "language": "python",
   "name": "python3"
  },
  "language_info": {
   "codemirror_mode": {
    "name": "ipython",
    "version": 3
   },
   "file_extension": ".py",
   "mimetype": "text/x-python",
   "name": "python",
   "nbconvert_exporter": "python",
   "pygments_lexer": "ipython3",
   "version": "3.7.3"
  }
 },
 "nbformat": 4,
 "nbformat_minor": 2
}
