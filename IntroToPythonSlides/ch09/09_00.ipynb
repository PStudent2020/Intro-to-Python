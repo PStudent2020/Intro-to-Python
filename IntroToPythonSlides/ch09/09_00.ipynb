{
 "cells": [
  {
   "cell_type": "markdown",
   "metadata": {},
   "source": [
    "# 9. Files and Exceptions\n",
    "\n",
    "# Objectives\n",
    "* Understand the notions of files and persistent data. \n",
    "* Read, write and update files.\n",
    "* Read and write CSV files, a common format for machine-learning datasets.\n",
    "* Serialize objects into the JSON data-interchange format—commonly used to transmit over the Internet—and deserialize JSON into objects.\n",
    "* Use the `with` statement to ensure that resources are properly released, avoiding “resource leaks.”\n",
    "* Use the `try` statement to delimit code in which exceptions may occur and handle those exceptions with associated `except` clauses."
   ]
  },
  {
   "cell_type": "markdown",
   "metadata": {},
   "source": [
    "# Objectives (cont.)\n",
    "* Use the `try` statement’s `else` clause to execute code when no exceptions occur in the `try` suite.\n",
    "* Use the `try` statement’s `finally` clause to execute code regardless of whether an exception occurs in the `try`. \n",
    "* `raise` exceptions to indicate runtime problems.\n",
    "* Understand the traceback of functions and methods that led to an exception.\n",
    "* Use pandas to load into a `DataFrame` and process the Titanic Disaster CSV dataset."
   ]
  },
  {
   "cell_type": "markdown",
   "metadata": {},
   "source": [
    "### Outline\n",
    "* [9.1 Introduction](ch09_01.ipynb)\n",
    "* [9.2 Files](ch09_02.ipynb)\n",
    "* [9.3  Text-File Processing](ch09_03.ipynb)\n",
    "> * [9.3.1 Writing to a Text File: Introducing the `with` Statement](ch09_03.01.ipynb)\n",
    "> * [9.3.2 Reading Data from a Text File](ch09_03.02.ipynb)\n",
    "* [9.4 Updating Text Files](ch09_04.ipynb)\n",
    "* [9.5 Serialization with JSON](ch09_05.ipynb)\n",
    "* [9.6 Focus on Security: `pickle` Serialization and Deserialization](ch09_06.ipynb)\n",
    "* [9.7 Additional Notes Regarding Files](ch09_07.ipynb)\n",
    "* [9.8 Handling Exceptions](ch09_08.ipynb)\n",
    "> * [9.8.1 Division by Zero and Invalid Input](ch09_08.01.ipynb)\n",
    "> * [9.8.2 `try` Statements](ch09_08.02.ipynb)\n",
    "> * [9.8.3 Catching Multiple Exceptions in One `except` Clause](ch09_08.03.ipynb)\n",
    "> * [9.8.4 What Exceptions Does a Function or Method Raise?](ch09_08.04.ipynb)\n",
    "> * [9.8.5 What Code Should Be Placed in a `try` Suite?](ch09_08.05.ipynb)\n",
    "* [9.9 `finally` Clause](ch09_09.ipynb)\n",
    "* [9.10 Explicitly Raising an Exception](ch09_10.ipynb)\n",
    "* [9.11 (Optional) Stack Unwinding and Tracebacks](ch09_11.ipynb)\n",
    "* 9.12 Intro to Data Science: Working with CSV Files\n",
    "> * [9.12.1 Python Standard Library Module csv](ch09_12.01.ipynb)\n",
    "> * [9.12.2 Reading CSV Files into Pandas `DataFrame`s](ch09_12.02.ipynb)\n",
    "> * [9.12.3 Reading the Titanic Disaster Dataset](ch09_12.03-05.ipynb)\n",
    "> * 9.12.4 Simple Data Analysis with the Titanic Disaster Dataset\n",
    "> * 9.12.5 Passenger Age Histogram\n",
    "* 9.13 Wrap-Up \t"
   ]
  },
  {
   "cell_type": "markdown",
   "metadata": {},
   "source": [
    "------\n",
    "&copy;1992&ndash;2020 by Pearson Education, Inc. All Rights Reserved. This content is based on Chapter 5 of the book [**Intro to Python for Computer Science and Data Science: Learning to Program with AI, Big Data and the Cloud**](https://amzn.to/2VvdnxE).\n",
    "\n",
    "DISCLAIMER: The authors and publisher of this book have used their \n",
    "best efforts in preparing the book. These efforts include the \n",
    "development, research, and testing of the theories and programs \n",
    "to determine their effectiveness. The authors and publisher make \n",
    "no warranty of any kind, expressed or implied, with regard to these \n",
    "programs or to the documentation contained in these books. The authors \n",
    "and publisher shall not be liable in any event for incidental or \n",
    "consequential damages in connection with, or arising out of, the \n",
    "furnishing, performance, or use of these programs.                  "
   ]
  }
 ],
 "metadata": {
  "celltoolbar": "Slideshow",
  "kernelspec": {
   "display_name": "Python 3",
   "language": "python",
   "name": "python3"
  },
  "language_info": {
   "codemirror_mode": {
    "name": "ipython",
    "version": 3
   },
   "file_extension": ".py",
   "mimetype": "text/x-python",
   "name": "python",
   "nbconvert_exporter": "python",
   "pygments_lexer": "ipython3",
   "version": "3.7.3"
  }
 },
 "nbformat": 4,
 "nbformat_minor": 2
}
