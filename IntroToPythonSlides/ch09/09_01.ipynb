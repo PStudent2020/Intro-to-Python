{
 "cells": [
  {
   "cell_type": "markdown",
   "metadata": {},
   "source": [
    "# 9.1 Introduction\n",
    "* Variables, lists, tuples, dictionaries, sets, arrays, pandas `Series` and pandas `DataFrame`s offer only _temporary_ data storage\n",
    "    * lost when a local variable “goes out of scope” or when the program terminates\n",
    "* Data maintained in **files** is persistent\n",
    "* Computers store files on secondary storage devices\n",
    "    * solid-state drives, hard disks and more"
   ]
  },
  {
   "cell_type": "markdown",
   "metadata": {},
   "source": [
    "# 9.1 Introduction (cont.)\n",
    "* We consider text files in several popular formats\n",
    "    * plain text\n",
    "    * JSON (JavaScript Object Notation)\n",
    "    * CSV (comma-separated values)\n",
    "* Use JSON to serialize and deserialize objects for saving to secondary storage and transmitting them over the Internet\n",
    "* Intro to Data Science section shows loading and manipulating CSV data with\n",
    "    * Python Standard Library’s `csv` module \n",
    "    * pandas Library"
   ]
  },
  {
   "cell_type": "markdown",
   "metadata": {},
   "source": [
    "# 9.1 Introduction (cont.)\n",
    "* Python security&mdash;we’ll discuss the security vulnerabilities of serializing and deserializing data with the Python Standard Library’s `pickle` module\n",
    "    * We recommend JSON serialization in preference to `pickle`\n",
    "* **exception handling**\n",
    "    * An exception indicates an execution-time problem\n",
    "    * E.g., `ZeroDivisionError`, `NameError`, `ValueError`, `StatisticsError`, `TypeError`, `IndexError`, `KeyError` and `RuntimeError`\n",
    "    * Deal with exceptions as they occur by using `try` statements and `except` clauses \n",
    "    * Help you write _robust_, _fault-tolerant_ programs that can deal with problems and continue executing or _terminate gracefully_"
   ]
  },
  {
   "cell_type": "markdown",
   "metadata": {},
   "source": [
    "# 9.1 Introduction (cont.)\n",
    "* Programs typically request and release resources (such as files) during program execution\n",
    "* Often, these are in limited supply or can be used only by one program at a time\n",
    "* You'll see how to guarantee that after a program uses a resource, it’s released for use by other programs, even if an exception has occurred\n",
    "* Use the `with` statement for this purpose"
   ]
  },
  {
   "cell_type": "markdown",
   "metadata": {},
   "source": [
    "------\n",
    "&copy;1992&ndash;2020 by Pearson Education, Inc. All Rights Reserved. This content is based on Chapter 5 of the book [**Intro to Python for Computer Science and Data Science: Learning to Program with AI, Big Data and the Cloud**](https://amzn.to/2VvdnxE).\n",
    "\n",
    "DISCLAIMER: The authors and publisher of this book have used their \n",
    "best efforts in preparing the book. These efforts include the \n",
    "development, research, and testing of the theories and programs \n",
    "to determine their effectiveness. The authors and publisher make \n",
    "no warranty of any kind, expressed or implied, with regard to these \n",
    "programs or to the documentation contained in these books. The authors \n",
    "and publisher shall not be liable in any event for incidental or \n",
    "consequential damages in connection with, or arising out of, the \n",
    "furnishing, performance, or use of these programs.                  "
   ]
  }
 ],
 "metadata": {
  "celltoolbar": "Slideshow",
  "kernelspec": {
   "display_name": "Python 3",
   "language": "python",
   "name": "python3"
  },
  "language_info": {
   "codemirror_mode": {
    "name": "ipython",
    "version": 3
   },
   "file_extension": ".py",
   "mimetype": "text/x-python",
   "name": "python",
   "nbconvert_exporter": "python",
   "pygments_lexer": "ipython3",
   "version": "3.7.3"
  }
 },
 "nbformat": 4,
 "nbformat_minor": 2
}
