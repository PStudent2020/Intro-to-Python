{
 "cells": [
  {
   "cell_type": "markdown",
   "metadata": {},
   "source": [
    "# 9.7 Additional Notes Regarding Files\n",
    "* Table of file-open modes for text files\n",
    "    * _Reading_ modes raise a `FileNotFoundError` if the file does not exist\n",
    "    * Each text-file mode has a corresponding binary-file mode specified with `b`, as in `'rb'` or `'wb+'`"
   ]
  },
  {
   "cell_type": "markdown",
   "metadata": {},
   "source": [
    "| Mode | Description\n",
    "| ------ | ------\n",
    "| `'r'` | Open a text file for reading. This is the default if you do not specify the file-open mode when you call open. \n",
    "| `'w'` | Open a text file for writing. Existing file contents are _deleted_. \n",
    "| **`'a'`** | Open a text file for appending at the end, creating the file if it does not exist. New data is written at the end of the file. \n",
    "| **`'r+'`** | Open a text file reading and writing. \n",
    "| **`'w+'`** | Open a text file reading and writing. Existing file contents are _deleted_.\n",
    "| **`'a+'`** | Open a text file reading and appending at the end. New data is written at the end of the file. If the file does not exist, it is created. "
   ]
  },
  {
   "cell_type": "markdown",
   "metadata": {},
   "source": [
    "### Other File Object Methods\n",
    "* **`read`** \n",
    "    * For a text file, returns a string containing the number of characters specified by the method’s integer argument\n",
    "    * For a binary file, returns the specified number of bytes\n",
    "    * If no argument is specified, the method returns the entire contents of the file\n",
    "* **`readline`** \n",
    "    * Returns one line of text as a string, including the newline character if there is one\n",
    "    * Returns an empty string when it encounters the end of the file \n",
    "* **`writelines`** \n",
    "    * Receives a list of strings and writes its contents to a file\n",
    "* Classes that Python uses to create file objects are defined in the Python Standard Library’s [**`io` module**](https://docs.python.org/3/library/io.html)"
   ]
  },
  {
   "cell_type": "markdown",
   "metadata": {},
   "source": [
    "------\n",
    "&copy;1992&ndash;2020 by Pearson Education, Inc. All Rights Reserved. This content is based on Chapter 5 of the book [**Intro to Python for Computer Science and Data Science: Learning to Program with AI, Big Data and the Cloud**](https://amzn.to/2VvdnxE).\n",
    "\n",
    "DISCLAIMER: The authors and publisher of this book have used their \n",
    "best efforts in preparing the book. These efforts include the \n",
    "development, research, and testing of the theories and programs \n",
    "to determine their effectiveness. The authors and publisher make \n",
    "no warranty of any kind, expressed or implied, with regard to these \n",
    "programs or to the documentation contained in these books. The authors \n",
    "and publisher shall not be liable in any event for incidental or \n",
    "consequential damages in connection with, or arising out of, the \n",
    "furnishing, performance, or use of these programs.                  "
   ]
  }
 ],
 "metadata": {
  "kernelspec": {
   "display_name": "Python 3",
   "language": "python",
   "name": "python3"
  },
  "language_info": {
   "codemirror_mode": {
    "name": "ipython",
    "version": 3
   },
   "file_extension": ".py",
   "mimetype": "text/x-python",
   "name": "python",
   "nbconvert_exporter": "python",
   "pygments_lexer": "ipython3",
   "version": "3.7.3"
  }
 },
 "nbformat": 4,
 "nbformat_minor": 2
}
