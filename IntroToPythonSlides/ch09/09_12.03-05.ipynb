{
 "cells": [
  {
   "cell_type": "markdown",
   "metadata": {},
   "source": [
    "## 9.12.3 Reading the Titanic Disaster Dataset \n",
    "* Titanic disaster dataset is one of the most popular machine-learning datasets"
   ]
  },
  {
   "cell_type": "markdown",
   "metadata": {},
   "source": [
    "### Loading the Titanic Dataset via a URL\n",
    "* Load the Titanic Disaster dataset directly from GitHub:"
   ]
  },
  {
   "cell_type": "code",
   "execution_count": null,
   "metadata": {},
   "outputs": [],
   "source": [
    "import pandas as pd"
   ]
  },
  {
   "cell_type": "code",
   "execution_count": null,
   "metadata": {},
   "outputs": [],
   "source": [
    "titanic = pd.read_csv('https://vincentarelbundock.github.io/Rdatasets/csv/carData/TitanicSurvival.csv')"
   ]
  },
  {
   "cell_type": "markdown",
   "metadata": {},
   "source": [
    "### Viewing Some of the Rows in the Titanic Dataset\n",
    "* Dataset contains over 1300 rows, each representing one passenger\n",
    "* For large datasets, displaying a `DataFrame` shows only the first 30 rows, followed by “…” and the last 30 rows\n",
    "* View the first five and last five rows with `DataFrame` methods **`head`** and **`tail`**\n",
    "    * Both return five rows by default"
   ]
  },
  {
   "cell_type": "code",
   "execution_count": null,
   "metadata": {},
   "outputs": [],
   "source": [
    "pd.set_option('precision', 2)  # format for floating-point values"
   ]
  },
  {
   "cell_type": "code",
   "execution_count": null,
   "metadata": {},
   "outputs": [],
   "source": [
    "titanic.head()"
   ]
  },
  {
   "cell_type": "code",
   "execution_count": null,
   "metadata": {},
   "outputs": [],
   "source": [
    "titanic.tail()"
   ]
  },
  {
   "cell_type": "markdown",
   "metadata": {},
   "source": [
    "* pandas adjusts each column’s width, based on the widest value in the column or based on the column name, whichever is wider\n",
    "* The value in the age column of row `1305` is `NaN` (not a number), indicating a missing value in the dataset"
   ]
  },
  {
   "cell_type": "markdown",
   "metadata": {},
   "source": [
    "### Customizing the Column Names\n",
    "* First column has a strange name (`'Unnamed: 0'`)\n",
    "* Can clean that up by setting the column names"
   ]
  },
  {
   "cell_type": "code",
   "execution_count": null,
   "metadata": {},
   "outputs": [],
   "source": [
    "titanic.columns = ['name', 'survived', 'sex', 'age', 'class']"
   ]
  },
  {
   "cell_type": "code",
   "execution_count": null,
   "metadata": {},
   "outputs": [],
   "source": [
    "titanic.head()"
   ]
  },
  {
   "cell_type": "markdown",
   "metadata": {},
   "source": [
    "## 9.12.4 Simple Data Analysis with the Titanic Disaster Dataset \n",
    "* Can use pandas to perform some simple analysis.\n",
    "* Calling `describe` on a `DataFrame` containing both numeric and non-numeric columns produces descriptive statistics _only for the numeric columns_\n",
    "    * in this case, just the `age` column"
   ]
  },
  {
   "cell_type": "code",
   "execution_count": null,
   "metadata": {},
   "outputs": [],
   "source": [
    "titanic.describe()"
   ]
  },
  {
   "cell_type": "markdown",
   "metadata": {},
   "source": [
    "## 9.12.4 Simple Data Analysis with the Titanic Disaster Dataset (cont.)\n",
    "* Discrepancy in the `count` (`1046`) vs. the dataset’s number of rows (1309—the last row’s index was `1308` when we called `tail`)\n",
    "    * Only `1046` (the `count` above) of the records contained an age\n",
    "    * Rest were _missing_ and marked as `NaN`\n",
    "* When performing calculations, Pandas _ignores missing data (`NaN`) by default_\n",
    "* For the `1046` people with valid ages\n",
    "    * average (`mean`) age was `29.88` years old\n",
    "    * youngest passenger (`min`) was just over two months old (`0.17 * 12` is `2.04`)\n",
    "    *  oldest (`max`) was 80\n",
    "    * Median age was `28` (indicated by the `50%` quartile)\n",
    "    * `25%` quartile is the median age in the first half of the passengers (sorted by age)\n",
    "    * `75%` quartile is the median of the second half of passengers"
   ]
  },
  {
   "cell_type": "markdown",
   "metadata": {},
   "source": [
    "## 9.12.4 Simple Data Analysis with the Titanic Disaster Dataset (cont.)\n",
    "* Let’s say you want to determine some statistics about people who survived\n",
    "* Can compare the `survived` column to `'yes'` to get a new `Series` containing `True/False` values, then use `describe` to summarize the results"
   ]
  },
  {
   "cell_type": "code",
   "execution_count": null,
   "metadata": {},
   "outputs": [],
   "source": [
    "(titanic.survived == 'yes').describe()"
   ]
  },
  {
   "cell_type": "markdown",
   "metadata": {},
   "source": [
    "* For non-numeric data, `describe` displays different descriptive statistics:\n",
    "    * `count` is the total number of items in the result\n",
    "    * `unique` is the number of unique values (`2`) in the result—`True` (survived) and `False` (died)\n",
    "    * `top` is the most frequently occurring value in the result\n",
    "    * `freq` is the number of occurrences of the `top` value"
   ]
  },
  {
   "cell_type": "markdown",
   "metadata": {},
   "source": [
    "## 9.12.5 Passenger Age Histogram\n",
    "* Visualization helps you get to know your data\n",
    "* Pandas has many built-in visualization capabilities that are implemented with Matplotlib\n",
    "* To use them in Jupyter, first enable Matplotlib support \n",
    "    * \"inline\" used only in Jupyter, not IPython interactive mode"
   ]
  },
  {
   "cell_type": "code",
   "execution_count": null,
   "metadata": {},
   "outputs": [],
   "source": [
    "%matplotlib inline "
   ]
  },
  {
   "cell_type": "markdown",
   "metadata": {},
   "source": [
    "* A histogram visualizes the distribution of numerical data over a range of values\n",
    "* A `DataFrame`’s **`hist`** method analyzes each numerical column’s data and produces a separate histogram for each numerical column"
   ]
  },
  {
   "cell_type": "code",
   "execution_count": null,
   "metadata": {},
   "outputs": [],
   "source": [
    "histogram = titanic.hist()"
   ]
  },
  {
   "cell_type": "markdown",
   "metadata": {},
   "source": [
    "------\n",
    "&copy;1992&ndash;2020 by Pearson Education, Inc. All Rights Reserved. This content is based on Chapter 5 of the book [**Intro to Python for Computer Science and Data Science: Learning to Program with AI, Big Data and the Cloud**](https://amzn.to/2VvdnxE).\n",
    "\n",
    "DISCLAIMER: The authors and publisher of this book have used their \n",
    "best efforts in preparing the book. These efforts include the \n",
    "development, research, and testing of the theories and programs \n",
    "to determine their effectiveness. The authors and publisher make \n",
    "no warranty of any kind, expressed or implied, with regard to these \n",
    "programs or to the documentation contained in these books. The authors \n",
    "and publisher shall not be liable in any event for incidental or \n",
    "consequential damages in connection with, or arising out of, the \n",
    "furnishing, performance, or use of these programs.                  "
   ]
  }
 ],
 "metadata": {
  "kernelspec": {
   "display_name": "Python 3",
   "language": "python",
   "name": "python3"
  },
  "language_info": {
   "codemirror_mode": {
    "name": "ipython",
    "version": 3
   },
   "file_extension": ".py",
   "mimetype": "text/x-python",
   "name": "python",
   "nbconvert_exporter": "python",
   "pygments_lexer": "ipython3",
   "version": "3.7.3"
  }
 },
 "nbformat": 4,
 "nbformat_minor": 2
}
