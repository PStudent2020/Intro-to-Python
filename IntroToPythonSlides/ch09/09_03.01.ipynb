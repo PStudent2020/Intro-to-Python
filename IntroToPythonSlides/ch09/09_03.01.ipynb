{
 "cells": [
  {
   "cell_type": "markdown",
   "metadata": {},
   "source": [
    "## 9.3.1 Writing to a Text File: Introducing the `with` Statement \n",
    "* Many applications _acquire_ resources\n",
    "    * files, network connections, database connections and more\n",
    "* Should _release_ resources as soon as they’re no longer needed\n",
    "* Ensures that other applications can use the resources\n",
    "* `with` statement \n",
    "    * Acquires a resource and assigns its corresponding object to a variable\n",
    "    * Allows the application to use the resource via that variable\n",
    "    * Calls the resource object’s **`close` method** to release the resource"
   ]
  },
  {
   "cell_type": "code",
   "execution_count": null,
   "metadata": {},
   "outputs": [],
   "source": [
    "with open('accounts.txt', mode='w') as accounts:\n",
    "    accounts.write('100 Jones 24.98\\n')\n",
    "    accounts.write('200 Doe 345.67\\n')\n",
    "    accounts.write('300 White 0.00\\n')\n",
    "    accounts.write('400 Stone -42.16\\n')\n",
    "    accounts.write('500 Rich 224.62\\n')"
   ]
  },
  {
   "cell_type": "markdown",
   "metadata": {},
   "source": [
    "* Can also **write to a file with `print`**, which **automatically outputs a `\\n`**, as in\n",
    ">```python\n",
    "print('100 Jones 24.98', file=accounts)\n",
    "```"
   ]
  },
  {
   "cell_type": "code",
   "execution_count": null,
   "metadata": {},
   "outputs": [],
   "source": [
    "# macOS/Linux Users: View file contents\n",
    "!cat accounts.txt"
   ]
  },
  {
   "cell_type": "code",
   "execution_count": null,
   "metadata": {},
   "outputs": [],
   "source": [
    "# Windows Users: View file contents\n",
    "!more accounts.txt"
   ]
  },
  {
   "cell_type": "markdown",
   "metadata": {},
   "source": [
    "### Built-In Function `open` \n",
    "* Opens the file `accounts.txt` and associates it with a file object\n",
    "* `mode` argument specifies the **file-open mode**\n",
    "    * whether to open a file for reading from the file, for writing to the file or both. \n",
    "* Mode `'w'` opens the file for _writing_, creating the file if it does not exist\n",
    "* If you do not specify a path to the file, Python creates it in the current folder \n",
    "* **Be careful**—opening a file for writing _deletes_ all the existing data in the file\n",
    "* By convention, the **`.txt` file extension** indicates a plain text file"
   ]
  },
  {
   "cell_type": "markdown",
   "metadata": {},
   "source": [
    "### Writing to the File \n",
    "* `with` statement assigns the object returned by `open` to the variable `accounts` in the **`as` clause**\n",
    "* `with` statement’s suite uses `accounts` to interact with the file\n",
    "    * file object’s **`write` method** writes one record at a time to the file\n",
    "* At the end of the `with` statement’s suite, the `with` statement _implicitly_ calls the file object’s **`close`** method to close the file "
   ]
  },
  {
   "cell_type": "markdown",
   "metadata": {},
   "source": [
    "------\n",
    "&copy;1992&ndash;2020 by Pearson Education, Inc. All Rights Reserved. This content is based on Chapter 5 of the book [**Intro to Python for Computer Science and Data Science: Learning to Program with AI, Big Data and the Cloud**](https://amzn.to/2VvdnxE).\n",
    "\n",
    "DISCLAIMER: The authors and publisher of this book have used their \n",
    "best efforts in preparing the book. These efforts include the \n",
    "development, research, and testing of the theories and programs \n",
    "to determine their effectiveness. The authors and publisher make \n",
    "no warranty of any kind, expressed or implied, with regard to these \n",
    "programs or to the documentation contained in these books. The authors \n",
    "and publisher shall not be liable in any event for incidental or \n",
    "consequential damages in connection with, or arising out of, the \n",
    "furnishing, performance, or use of these programs.                  "
   ]
  }
 ],
 "metadata": {
  "kernelspec": {
   "display_name": "Python 3",
   "language": "python",
   "name": "python3"
  },
  "language_info": {
   "codemirror_mode": {
    "name": "ipython",
    "version": 3
   },
   "file_extension": ".py",
   "mimetype": "text/x-python",
   "name": "python",
   "nbconvert_exporter": "python",
   "pygments_lexer": "ipython3",
   "version": "3.7.3"
  }
 },
 "nbformat": 4,
 "nbformat_minor": 2
}
