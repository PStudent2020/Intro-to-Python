{
 "cells": [
  {
   "cell_type": "markdown",
   "metadata": {},
   "source": [
    "# 10.11 Exception Class Hierarchy and Custom Exceptions\n",
    "* Every exception is an object of a class in Python’s exception class hierarchy or an object of a class that inherits from one of those classes\n",
    "* Exception classes inherit directly or indirectly from base class `BaseException` and are defined in module **`exceptions`** \n",
    "* Four primary `BaseException` subclasses\n",
    "    * `SystemExit` terminates program execution (or terminates an interactive session) and when uncaught does not produce a traceback like other exception types \n",
    "    * `KeyboardInterrupt` exceptions occur when the user types the interrupt command—_Ctrl_ + _C)_ (or _control_ + _C_) on most systems\n",
    "    * `GeneratorExit` exceptions occur when a generator closes—normally when a generator finishes producing values or when its `close` method is called explicitly\n",
    "    * `Exception` is the base class for most common exceptions you’ll encounter. "
   ]
  },
  {
   "cell_type": "markdown",
   "metadata": {},
   "source": [
    "### Catching Base-Class Exceptions\n",
    "* An `except` handler can catch exceptions of a particular type or can use a base-class type to catch those base-class exceptions and all related subclass exceptions"
   ]
  },
  {
   "cell_type": "markdown",
   "metadata": {},
   "source": [
    "### Custom Exception Classes\n",
    "* When you raise an exception from your code, you should generally use one of the existing exception classes from the Python Standard Library\n",
    "* Can create your own custom exception classes that derive directly or indirectly from class `Exception`\n",
    "* Before creating custom exception classes, look for an appropriate existing exception class in the Python exception hierarchy"
   ]
  },
  {
   "cell_type": "markdown",
   "metadata": {},
   "source": [
    "------\n",
    "&copy;1992&ndash;2020 by Pearson Education, Inc. All Rights Reserved. This content is based on Chapter 5 of the book [**Intro to Python for Computer Science and Data Science: Learning to Program with AI, Big Data and the Cloud**](https://amzn.to/2VvdnxE).\n",
    "\n",
    "DISCLAIMER: The authors and publisher of this book have used their \n",
    "best efforts in preparing the book. These efforts include the \n",
    "development, research, and testing of the theories and programs \n",
    "to determine their effectiveness. The authors and publisher make \n",
    "no warranty of any kind, expressed or implied, with regard to these \n",
    "programs or to the documentation contained in these books. The authors \n",
    "and publisher shall not be liable in any event for incidental or \n",
    "consequential damages in connection with, or arising out of, the \n",
    "furnishing, performance, or use of these programs.                  "
   ]
  }
 ],
 "metadata": {
  "kernelspec": {
   "display_name": "Python 3",
   "language": "python",
   "name": "python3"
  },
  "language_info": {
   "codemirror_mode": {
    "name": "ipython",
    "version": 3
   },
   "file_extension": ".py",
   "mimetype": "text/x-python",
   "name": "python",
   "nbconvert_exporter": "python",
   "pygments_lexer": "ipython3",
   "version": "3.7.3"
  }
 },
 "nbformat": 4,
 "nbformat_minor": 2
}
