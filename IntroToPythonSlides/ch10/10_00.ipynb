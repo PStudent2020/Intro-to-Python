{
 "cells": [
  {
   "cell_type": "markdown",
   "metadata": {},
   "source": [
    "# 10. Object-Oriented Programming\n",
    "\n",
    "# Objectives\n",
    "* Create custom classes and objects of those classes.\n",
    "* Understand the benefits of crafting valuable classes.\n",
    "* Control access to attributes.\n",
    "* Appreciate the value of object orientation.\n",
    "* Use Python special methods `__repr__`, `__str__` and `__format__` to get an object’s string representations."
   ]
  },
  {
   "cell_type": "markdown",
   "metadata": {},
   "source": [
    "# Objectives (cont.)\n",
    "* Use Python special methods to overload (redefine) operators to use them with objects of new classes.\n",
    "* Inherit methods, properties and attributes from existing classes into new classes, then customize those classes.\n",
    "* Understand the inheritance notions of base classes (superclasses) and derived classes (subclasses)."
   ]
  },
  {
   "cell_type": "markdown",
   "metadata": {},
   "source": [
    "# Objectives (cont.)\n",
    "* Understand duck typing and polymorphism that enable “programming in the general.”\n",
    "* Understand class `object` from which all classes inherit fundamental capabilities.\n",
    "* Compare composition and inheritance.\n",
    "* Build test cases into docstrings and run these tests with `doctest`,\n",
    "* Understand namespaces and how they affect scope.  "
   ]
  },
  {
   "cell_type": "markdown",
   "metadata": {},
   "source": [
    "### Outline\n",
    "* [10.1   Introduction](10_01.ipynb)\n",
    "* 10.2   Custom Class `Account`\n",
    "    * [10.2.1 Test-Driving Class `Account`](10_02.01.ipynb)\n",
    "    * [10.2.2 `Account` Class Definition](10_02.02.ipynb)\n",
    "    * [10.2.3 Composition: Object References as Members of Classes](10_02.03.ipynb)\n",
    "* [10.3 Controlling Access to Attributes](10_03.ipynb)\n",
    "* 10.4 Properties for Data Access\n",
    "    * [10.4.1 Test-Driving Class `Time`](10_04.01.ipynb)\n",
    "    * [10.4.2 Class `Time` Definition](10_04.02.ipynb)\n",
    "    * [10.4.3 Class `Time` Definition Design Notes](10_04.033.ipynb)\n",
    "* [10.5 Simulating “Private” Attributes](10_05.ipynb)\n",
    "* 10.6 Case Study: Card Shuffling and Dealing Simulation\n",
    "    * [10.6.1 Test-Driving Classes `Card` and `DeckOfCards`](10_06.01.ipynb)\n",
    "    * [10.6.2 Class `Card`—Introducing Class Attributes](10_06.02.ipynb)\n",
    "    * [10.6.3 Class `DeckOfCards`](10_06.03.ipynb)\n",
    "    * [10.6.4 Displaying Card Images with Matplotlib](10_06.04.ipynb)\n",
    "* [10.7 Inheritance: Base Classes and Subclasses](10_07.ipynb)\n",
    "* [10.8 Building an Inheritance Hierarchy; Introducing Polymorphism](10_08.ipynb)\n",
    "    * 10.8.1 Base Class `CommissionEmployee`\n",
    "    * 10.8.2 Subclass `SalariedCommissionEmployee`\n",
    "    * 10.8.3 Processing `Commission-Employees` and `Salaried-CommissionEmployees` Polymorphically\n",
    "    * 10.8.4 A Note About Object-Based and Object-Oriented Programming\n",
    "* [10.9 Duck Typing and Polymorphism](10_09.ipynb)\n",
    "* [10.10 Operator Overloading](10_10.ipynb)\n",
    "    * [10.10.1 Test-Driving Class `Complex`](10_10.01.ipynb)\n",
    "    * [10.10.2 Class `Complex` Definition](10_10.02.ipynb)\n",
    "* [10.11 Exception Class Hierarchy and Custom Exceptions](10_11.ipynb)\n",
    "* [10.12 Named Tuples](10_12.ipynb)\n",
    "* [10.13 A Brief Intro to Python 3.7’s New Data Classes](10_13.ipynb)\n",
    "    * [10.13.1 Creating a `Card` Data Class](10_13.01.ipynb)\n",
    "    * [10.13.2 Using  the `Card` Data Class](10_13.02.ipynb)\n",
    "    * 10.13.3  Data Class Advantages over Named Tuples\n",
    "    * 10.13.4  Data Class Advantages over Traditional Classes\n",
    "* [10.14 Unit Testing with Docstrings and `doctest`](10_14.ipynb)\n",
    "* [10.15 Namespaces and Scopes](10_15.ipynb)\n",
    "* [10.16 Intro to Data Science: Time Series and Simple Linear Regression](10_16.ipynb)\n",
    "* 10.17  Wrap-Up"
   ]
  },
  {
   "cell_type": "markdown",
   "metadata": {},
   "source": [
    "------\n",
    "&copy;1992&ndash;2020 by Pearson Education, Inc. All Rights Reserved. This content is based on Chapter 5 of the book [**Intro to Python for Computer Science and Data Science: Learning to Program with AI, Big Data and the Cloud**](https://amzn.to/2VvdnxE).\n",
    "\n",
    "DISCLAIMER: The authors and publisher of this book have used their \n",
    "best efforts in preparing the book. These efforts include the \n",
    "development, research, and testing of the theories and programs \n",
    "to determine their effectiveness. The authors and publisher make \n",
    "no warranty of any kind, expressed or implied, with regard to these \n",
    "programs or to the documentation contained in these books. The authors \n",
    "and publisher shall not be liable in any event for incidental or \n",
    "consequential damages in connection with, or arising out of, the \n",
    "furnishing, performance, or use of these programs.                  "
   ]
  }
 ],
 "metadata": {
  "celltoolbar": "Slideshow",
  "kernelspec": {
   "display_name": "Python 3",
   "language": "python",
   "name": "python3"
  },
  "language_info": {
   "codemirror_mode": {
    "name": "ipython",
    "version": 3
   },
   "file_extension": ".py",
   "mimetype": "text/x-python",
   "name": "python",
   "nbconvert_exporter": "python",
   "pygments_lexer": "ipython3",
   "version": "3.7.3"
  }
 },
 "nbformat": 4,
 "nbformat_minor": 2
}
