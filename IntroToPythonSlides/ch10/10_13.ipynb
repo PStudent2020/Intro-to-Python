{
 "cells": [
  {
   "cell_type": "markdown",
   "metadata": {},
   "source": [
    "# 10.13 A Brief Intro to Python 3.7’s New Data Classes\n",
    "* Though named tuples allow you to reference their members by name, they’re still just tuples, not classes\n",
    "* For some of the benefits of named tuples, plus the capabilities that traditional Python classes provide, you can use Python 3.7’s new **data classes** from the Python Standard Library’s **`dataclasses` module**\n",
    "* Help you build classes _faster_ by using more _concise_ notation and by _autogenerating_ “boilerplate” code that’s common in most classes"
   ]
  },
  {
   "cell_type": "markdown",
   "metadata": {},
   "source": [
    "### Data Classes Autogenerate Code \n",
    "* Most classes provide an `__init__` method to create and initialize an object’s attributes and a `__repr__` method to specify an object’s custom string representation\n",
    "* Data classes _autogenerate_ the data attributes and the `__init__` and `__repr__` methods for you\n",
    "* Data classes also can be generated _dynamically_ from a list of field names (like the names of columns in a CSV file)\n",
    "* Data classes autogenerate method **`__eq__`**, which overloads the `==` operator\n",
    "* Any class that has an `__eq__` method also implicitly supports `!=`\n",
    "* Data classes do _not_ automatically generate methods for the `<`, `<=`, `>` and `>=` comparison operators, but they can"
   ]
  },
  {
   "cell_type": "markdown",
   "metadata": {},
   "source": [
    "------\n",
    "&copy;1992&ndash;2020 by Pearson Education, Inc. All Rights Reserved. This content is based on Chapter 5 of the book [**Intro to Python for Computer Science and Data Science: Learning to Program with AI, Big Data and the Cloud**](https://amzn.to/2VvdnxE).\n",
    "\n",
    "DISCLAIMER: The authors and publisher of this book have used their \n",
    "best efforts in preparing the book. These efforts include the \n",
    "development, research, and testing of the theories and programs \n",
    "to determine their effectiveness. The authors and publisher make \n",
    "no warranty of any kind, expressed or implied, with regard to these \n",
    "programs or to the documentation contained in these books. The authors \n",
    "and publisher shall not be liable in any event for incidental or \n",
    "consequential damages in connection with, or arising out of, the \n",
    "furnishing, performance, or use of these programs.                  "
   ]
  }
 ],
 "metadata": {
  "kernelspec": {
   "display_name": "Python 3",
   "language": "python",
   "name": "python3"
  },
  "language_info": {
   "codemirror_mode": {
    "name": "ipython",
    "version": 3
   },
   "file_extension": ".py",
   "mimetype": "text/x-python",
   "name": "python",
   "nbconvert_exporter": "python",
   "pygments_lexer": "ipython3",
   "version": "3.7.3"
  }
 },
 "nbformat": 4,
 "nbformat_minor": 2
}
