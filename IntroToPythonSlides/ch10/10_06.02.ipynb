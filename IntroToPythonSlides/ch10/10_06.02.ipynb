{
 "cells": [
  {
   "cell_type": "markdown",
   "metadata": {},
   "source": [
    "## 10.6.2 Class `Card`—Introducing Class Attributes "
   ]
  },
  {
   "cell_type": "markdown",
   "metadata": {},
   "source": [
    "### Class Attributes `FACES` and `SUITS` \n",
    "* Each object of a class has its own copies of the class’s data attributes\n",
    "* A **class attribute** (also called a **class variable**) represents _class-wide_ information\n",
    "    * Belongs to the _class_, not to a specific object of that class\n",
    "* Two class attributes (lines 5–7):\n",
    "    * `FACES` is a list of the card face names\n",
    "    * `SUITS` is a list of the card suit names"
   ]
  },
  {
   "cell_type": "markdown",
   "metadata": {},
   "source": [
    "```python\n",
    "# card.py\n",
    "\"\"\"Card class that represents a playing card and its image file name.\"\"\"\n",
    "\n",
    "class Card:\n",
    "    FACES = ['Ace', '2', '3', '4', '5', '6',\n",
    "             '7', '8', '9', '10', 'Jack', 'Queen', 'King']\n",
    "    SUITS = ['Hearts', 'Diamonds', 'Clubs', 'Spades']\n",
    "\n",
    "\n",
    "```"
   ]
  },
  {
   "cell_type": "markdown",
   "metadata": {},
   "source": [
    "### Class Attributes `FACES` and `SUITS` (cont.)\n",
    "* Define a class attribute by assigning a value to it inside the class’s definition, but not inside any of the class’s methods or properties (in which case, they’d be local variables)\n",
    "* `FACES` and `SUITS` are _constants_ that are not meant to be modified\n",
    "* _Style Guide for Python Code_ recommends naming your constants with all capital letters."
   ]
  },
  {
   "cell_type": "markdown",
   "metadata": {},
   "source": [
    "### Class Attributes `FACES` and `SUITS` (cont.)\n",
    "* We’ll use `FACES` and `SUITS` to initialize each `Card` we create\n",
    "* Do not need a separate copy of each list in every `Card` object\n",
    "* Class attributes are typically accessed through the class’s name (as in, `Card.FACES` or `Card.SUITS`)\n",
    "* Class attributes exist as soon as you import their class’s definition"
   ]
  },
  {
   "cell_type": "markdown",
   "metadata": {},
   "source": [
    "### Card Method `__init__` \n",
    "* Method `__init__` defines a `Card`’s `_face` and `_suit` data attributes\n",
    "\n",
    "```python\n",
    "    def __init__(self, face, suit):\n",
    "        \"\"\"Initialize a Card with a face and suit.\"\"\"\n",
    "        self._face = face\n",
    "        self._suit = suit\n",
    "\n",
    "```"
   ]
  },
  {
   "cell_type": "markdown",
   "metadata": {},
   "source": [
    "### Read-Only Properties `face`, `suit` and `image_name` \n",
    "* Once a `Card` is created, its `face`, `suit` and `image_name` do not change, so these are read-only properties\n",
    "* A property is not required to have a corresponding data attribute\n",
    "* `Card` property `image_name`’s value is _created dynamically_ by getting the `Card` object’s string representation with `str(self)`, replacing any spaces with underscores and appending the `'.png'` filename extension"
   ]
  },
  {
   "cell_type": "markdown",
   "metadata": {},
   "source": [
    "```python   \n",
    "    @property\n",
    "    def face(self):\n",
    "        \"\"\"Return the Card's self._face value.\"\"\"\n",
    "        return self._face\n",
    "\n",
    "    @property\n",
    "    def suit(self):\n",
    "        \"\"\"Return the Card's self._suit value.\"\"\"\n",
    "        return self._suit\n",
    "\n",
    "    @property\n",
    "    def image_name(self):\n",
    "        \"\"\"Return the Card's image file name.\"\"\"\n",
    "        return str(self).replace(' ', '_') + '.png'\n",
    "\n",
    "\n",
    "```"
   ]
  },
  {
   "cell_type": "markdown",
   "metadata": {},
   "source": [
    "### Methods That Return String Representations of a Card \n",
    "* `Card` provides three special methods that return string representations\n",
    "* Method `__repr__` returns a string representation that looks like a constructor expression \n",
    "\n",
    "```python\n",
    "    def __repr__(self):\n",
    "        \"\"\"Return string representation for repr().\"\"\"\n",
    "        return f\"Card(face='{self.face}', suit='{self.suit}')\"     \n",
    "\n",
    "\n",
    "```"
   ]
  },
  {
   "cell_type": "markdown",
   "metadata": {},
   "source": [
    "### Methods That Return String Representations of a Card (cont.)\n",
    "* Method `__str__` returns a string of the format `'`_face_ `of` _suit_`'` \n",
    "\n",
    "```python \n",
    "    def __str__(self):\n",
    "        \"\"\"Return string representation for str().\"\"\"\n",
    "        return f'{self.face} of {self.suit}'\n",
    "\n",
    "\n",
    "```"
   ]
  },
  {
   "cell_type": "markdown",
   "metadata": {},
   "source": [
    "### Methods That Return String Representations of a Card (cont.)\n",
    "* In the `__str__` method of class `DeckOfCards`, we use f-strings to format the `Card`s in fields of 19 characters each\n",
    "* Class `Card`’s special method **`__format__`** is called when a `Card` object is _formatted_ as a string\n",
    "\n",
    "```python\n",
    "    def __format__(self, format):\n",
    "        \"\"\"Return formatted string representation for str().\"\"\"\n",
    "        return f'{str(self):{format}}'\n",
    "\n",
    "```"
   ]
  },
  {
   "cell_type": "markdown",
   "metadata": {},
   "source": [
    "* Second argument is the format string used to format the object\n",
    "* To use the `format` parameter’s value as a format specifier, enclose the parameter name in braces to the _right_ of the colon"
   ]
  },
  {
   "cell_type": "markdown",
   "metadata": {},
   "source": [
    "------\n",
    "&copy;1992&ndash;2020 by Pearson Education, Inc. All Rights Reserved. This content is based on Chapter 5 of the book [**Intro to Python for Computer Science and Data Science: Learning to Program with AI, Big Data and the Cloud**](https://amzn.to/2VvdnxE).\n",
    "\n",
    "DISCLAIMER: The authors and publisher of this book have used their \n",
    "best efforts in preparing the book. These efforts include the \n",
    "development, research, and testing of the theories and programs \n",
    "to determine their effectiveness. The authors and publisher make \n",
    "no warranty of any kind, expressed or implied, with regard to these \n",
    "programs or to the documentation contained in these books. The authors \n",
    "and publisher shall not be liable in any event for incidental or \n",
    "consequential damages in connection with, or arising out of, the \n",
    "furnishing, performance, or use of these programs.                  "
   ]
  }
 ],
 "metadata": {
  "kernelspec": {
   "display_name": "Python 3",
   "language": "python",
   "name": "python3"
  },
  "language_info": {
   "codemirror_mode": {
    "name": "ipython",
    "version": 3
   },
   "file_extension": ".py",
   "mimetype": "text/x-python",
   "name": "python",
   "nbconvert_exporter": "python",
   "pygments_lexer": "ipython3",
   "version": "3.7.3"
  }
 },
 "nbformat": 4,
 "nbformat_minor": 2
}
