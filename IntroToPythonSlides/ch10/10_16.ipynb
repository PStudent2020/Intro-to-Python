{
 "cells": [
  {
   "cell_type": "markdown",
   "metadata": {},
   "source": [
    "# 10.16 Intro to Data Science: Time Series and Simple Linear Regression \n",
    "* **Time series**: Sequences of values (**observations**) associated with points in time\n",
    "    * daily closing stock prices\n",
    "    * hourly temperature readings \n",
    "    * changing positions of a plane in flight\n",
    "    * annual crop yields \n",
    "    * quarterly company profits\n",
    "    * time-stamped tweets from Twitter users worldwide\n",
    "* We’ll use simple linear regression to make predictions from time series data"
   ]
  },
  {
   "cell_type": "markdown",
   "metadata": {},
   "source": [
    "### Time Series\n",
    "* **Univariate time series**: _One_ observation per time\n",
    "* **Multivariate time series**: _Two or more_ observations per time\n",
    "* Two tasks often performed with time series are:\n",
    "    * **Time series analysis**, which looks at existing time series data for patterns (like **seasonality**), helping data analysts understand the data\n",
    "    * **Time series forecasting**, which uses past data to predict the future\n",
    "* We’ll perform time series forecasting"
   ]
  },
  {
   "cell_type": "markdown",
   "metadata": {},
   "source": [
    "### Simple Linear Regression\n",
    "* Given a collection of values representing an **independent variable** (the month/year combination) and a **dependent variable** (the average high temperature for that month/year), simple linear regression describes the relationship between these variables with a straight line, known as the **regression line**"
   ]
  },
  {
   "cell_type": "markdown",
   "metadata": {},
   "source": [
    "### Linear Relationships\n",
    "* Given a Fahrenheit temperature, we can calculate the corresponding Celsius temperature using:\n",
    ">```python\n",
    "c = 5 / 9 * (f - 32)\n",
    "```\n",
    "* `f` (the Fahrenheit temperature) is the _independent variable_\n",
    "* `c` (the Celsius temperature) is the _dependent variable_\n",
    "* Each value of `c` _depends on_ the value of `f` used in the calculation"
   ]
  },
  {
   "cell_type": "markdown",
   "metadata": {},
   "source": [
    "### Linear Relationships (cont.)\n",
    "* Plotting Fahrenheit temperatures and their corresponding Celsius temperatures produces a straight line"
   ]
  },
  {
   "cell_type": "code",
   "execution_count": null,
   "metadata": {},
   "outputs": [],
   "source": [
    "# enable high-res images in notebook \n",
    "%config InlineBackend.figure_format = 'retina'\n",
    "%matplotlib inline\n",
    "c = lambda f: 5 / 9 * (f - 32)"
   ]
  },
  {
   "cell_type": "code",
   "execution_count": null,
   "metadata": {},
   "outputs": [],
   "source": [
    "temps = [(f, c(f)) for f in range(0, 101, 10)]"
   ]
  },
  {
   "cell_type": "markdown",
   "metadata": {},
   "source": [
    "* Place the data in a `DataFrame`, then use its **`plot` method** to display the linear relationship between the temperatures\n",
    "* `style` keyword argument controls the data’s appearance\n",
    "    * `'.-'` indicates that each point should appear as a dot, and that lines should connect the dots"
   ]
  },
  {
   "cell_type": "code",
   "execution_count": null,
   "metadata": {},
   "outputs": [],
   "source": [
    "import pandas as pd"
   ]
  },
  {
   "cell_type": "code",
   "execution_count": null,
   "metadata": {},
   "outputs": [],
   "source": [
    "temps_df = pd.DataFrame(temps, columns=['Fahrenheit', 'Celsius'])"
   ]
  },
  {
   "cell_type": "code",
   "execution_count": null,
   "metadata": {},
   "outputs": [],
   "source": [
    "axes = temps_df.plot(x='Fahrenheit', y='Celsius', style='.-')\n",
    "y_label = axes.set_ylabel('Celsius')"
   ]
  },
  {
   "cell_type": "markdown",
   "metadata": {},
   "source": [
    "### Components of the Simple Linear Regression Equation \n",
    "The points along any straight line can be calculated with:\n",
    "\n",
    "\\begin{equation}\n",
    "y = m x + b\n",
    "\\end{equation}\n",
    "\n",
    "* **_m_** is the line’s **`slope`**,\n",
    "* **_b_** is the line’s **`intercept** with the **_y_-axis** (at **_x_** = 0), \n",
    "* **_x_** is the independent variable (the date in this example)\n",
    "* **_y_** is the dependent variable (the temperature in this example)\n",
    "* In simple linear regression, **_y_** is the _predicted value_ for a given **_x_**"
   ]
  },
  {
   "cell_type": "markdown",
   "metadata": {},
   "source": [
    "### Function `linregress` from the SciPy’s `stats` Module\n",
    "* Simple linear regression determines slope (**_m_**) and intercept (**_b_**) of a straight line that best fits your data\n",
    "* Following diagram shows a few of the time-series data points we’ll process in this section and a corresponding regression line\n",
    "    * We added vertical lines to indicate each data point’s distance from the regression line"
   ]
  },
  {
   "cell_type": "markdown",
   "metadata": {},
   "source": [
    "![A few time series data points and a regression line](ch10images/distance.png \"A few time series data points and a regression line\")"
   ]
  },
  {
   "cell_type": "markdown",
   "metadata": {},
   "source": [
    "### Function `linregress` from the SciPy’s `stats` Module (cont.)\n",
    "* Simple linear regression algorithm iteratively adjusts the slope and intercept and, for each adjustment, calculates the square of each point’s distance from the line\n",
    "* “Best fit” occurs when slope and intercept values minimize sum of those squared distances\n",
    "    * **ordinary least squares** calculation\n",
    "* **SciPy (Scientific Python)** is widely used for engineering, science and math in Python\n",
    "    * **`linregress`** function (from the **`scipy.stats` module**) performs simple linear regression for you"
   ]
  },
  {
   "cell_type": "markdown",
   "metadata": {},
   "source": [
    "### Getting Weather Data from NOAA\n",
    "* The National Oceanic and Atmospheric Administration (NOAA) offers public historical data including time series for average high temperatures in specific cities over various time intervals\n",
    "* Obtained the January average high temperatures for New York City from 1895 through 2018 from NOAA’s “Climate at a Glance” time series at: \n",
    "> https://www.ncdc.noaa.gov/cag/\n",
    "* `ave_hi_nyc_jan_1895-2018.csv` in the `ch10` examples folder\n",
    "* Three columns per observation:\n",
    "    * `Date`—A value of the form `'YYYYMM’` (such as `'201801'`). `MM` is always `01` because we downloaded data for only January of each year. \n",
    "    * `Value`—A floating-point Fahrenheit temperature.\n",
    "    * `Anomaly`—The difference between the value for the given date and average values for all dates (not used in this example)"
   ]
  },
  {
   "cell_type": "markdown",
   "metadata": {},
   "source": [
    "### Loading the Average High Temperatures into a `DataFrame` "
   ]
  },
  {
   "cell_type": "code",
   "execution_count": null,
   "metadata": {},
   "outputs": [],
   "source": [
    "nyc = pd.read_csv('ave_hi_nyc_jan_1895-2018.csv')"
   ]
  },
  {
   "cell_type": "markdown",
   "metadata": {},
   "source": [
    "* Get a sense of the data"
   ]
  },
  {
   "cell_type": "code",
   "execution_count": null,
   "metadata": {},
   "outputs": [],
   "source": [
    "nyc.head()"
   ]
  },
  {
   "cell_type": "code",
   "execution_count": null,
   "metadata": {},
   "outputs": [],
   "source": [
    "nyc.tail()"
   ]
  },
  {
   "cell_type": "markdown",
   "metadata": {},
   "source": [
    "### Cleaning the Data\n",
    "* For readability, rename the `'Value'` column as `'Temperature'`"
   ]
  },
  {
   "cell_type": "code",
   "execution_count": null,
   "metadata": {},
   "outputs": [],
   "source": [
    "nyc.columns = ['Date', 'Temperature', 'Anomaly']"
   ]
  },
  {
   "cell_type": "code",
   "execution_count": null,
   "metadata": {},
   "outputs": [],
   "source": [
    "nyc.head(3)"
   ]
  },
  {
   "cell_type": "markdown",
   "metadata": {},
   "source": [
    "* Seaborn labels the tick marks on the **_x_**-axis with `Date` values\n",
    "* **_x_**-axis labels will be more readable if they do not contain `01` (for January), so we’ll remove it from each `Date`\n",
    "* Check the column’s type:"
   ]
  },
  {
   "cell_type": "code",
   "execution_count": null,
   "metadata": {},
   "outputs": [],
   "source": [
    "nyc.Date.dtype"
   ]
  },
  {
   "cell_type": "markdown",
   "metadata": {},
   "source": [
    "* Values are integers, so we can divide by 100 to truncate the last two digits\n",
    "* `Series` method `floordiv` performs _integer division_ on every element of the `Series`"
   ]
  },
  {
   "cell_type": "code",
   "execution_count": null,
   "metadata": {},
   "outputs": [],
   "source": [
    "nyc.Date = nyc.Date.floordiv(100)"
   ]
  },
  {
   "cell_type": "code",
   "execution_count": null,
   "metadata": {},
   "outputs": [],
   "source": [
    "nyc.head(3)"
   ]
  },
  {
   "cell_type": "markdown",
   "metadata": {},
   "source": [
    "### Calculating Basic Descriptive Statistics for the Dataset\n",
    "* Call `describe` on the `Temperature` column"
   ]
  },
  {
   "cell_type": "code",
   "execution_count": null,
   "metadata": {},
   "outputs": [],
   "source": [
    "pd.set_option('precision', 2)"
   ]
  },
  {
   "cell_type": "code",
   "execution_count": null,
   "metadata": {},
   "outputs": [],
   "source": [
    "nyc.Temperature.describe()"
   ]
  },
  {
   "cell_type": "markdown",
   "metadata": {},
   "source": [
    "### Forecasting Future January Average High Temperatures\n",
    "* **SciPy (Scientific Python) library** widely used for engineering, science and math in Python\n",
    "* **`stats` module** provides function **`linregress`**, which calculates a regression line’s _slope_ and _intercept_ "
   ]
  },
  {
   "cell_type": "code",
   "execution_count": null,
   "metadata": {},
   "outputs": [],
   "source": [
    "from scipy import stats"
   ]
  },
  {
   "cell_type": "code",
   "execution_count": null,
   "metadata": {},
   "outputs": [],
   "source": [
    "linear_regression = stats.linregress(x=nyc.Date,\n",
    "                                     y=nyc.Temperature)"
   ]
  },
  {
   "cell_type": "markdown",
   "metadata": {},
   "source": [
    "* `linregress` receives two one-dimensional arrays of the same length representing the data points’ **_x_**- and **_y_**-coordinates\n",
    "    * `x`and `y` represent the independent and dependent variables, respectively\n",
    "* Returns the regression line’s `slope` and `intercept`"
   ]
  },
  {
   "cell_type": "code",
   "execution_count": null,
   "metadata": {},
   "outputs": [],
   "source": [
    "linear_regression.slope"
   ]
  },
  {
   "cell_type": "code",
   "execution_count": null,
   "metadata": {},
   "outputs": [],
   "source": [
    "linear_regression.intercept"
   ]
  },
  {
   "cell_type": "markdown",
   "metadata": {},
   "source": [
    "* Use these values with the simple linear regression equation for a straight line to predict the average January temperature in New York City for a given year\n",
    "* In the following calculation, `linear_regression.slope` is **_m_**, `2019` is **_x_** (the date value for which you’d like to predict the temperature), and `linear_regression.intercept` is **_b_**:"
   ]
  },
  {
   "cell_type": "code",
   "execution_count": null,
   "metadata": {},
   "outputs": [],
   "source": [
    "linear_regression.slope * 2019 + linear_regression.intercept"
   ]
  },
  {
   "cell_type": "markdown",
   "metadata": {},
   "source": [
    "* Approximate the average temperature for January of 1890:\n"
   ]
  },
  {
   "cell_type": "code",
   "execution_count": null,
   "metadata": {},
   "outputs": [],
   "source": [
    "linear_regression.slope * 1890 + linear_regression.intercept"
   ]
  },
  {
   "cell_type": "markdown",
   "metadata": {},
   "source": [
    "* We had data for 1895–2018\n",
    "* The further you go outside this range, the less reliable the predictions will be "
   ]
  },
  {
   "cell_type": "markdown",
   "metadata": {},
   "source": [
    "### Plotting the Average High Temperatures and a Regression Line\n",
    "* Seaborn’s **`regplot` function** plots each data point with the dates on the **_x_****-axis and the temperatures on the **_y_**-axis\n",
    "* Creates a **scatter plot** or **scattergram** representing the `Temperature`s for the given `Date`s and adds the regression line\n",
    "* Function `regplot`’s `x` and `y` keyword arguments are one-dimensional arrays of the same length representing the **_x-y_** coordinate pairs to plot"
   ]
  },
  {
   "cell_type": "code",
   "execution_count": null,
   "metadata": {},
   "outputs": [],
   "source": [
    "import seaborn as sns"
   ]
  },
  {
   "cell_type": "code",
   "execution_count": null,
   "metadata": {},
   "outputs": [],
   "source": [
    "sns.set_style('whitegrid')"
   ]
  },
  {
   "cell_type": "code",
   "execution_count": null,
   "metadata": {},
   "outputs": [],
   "source": [
    "axes = sns.regplot(x=nyc.Date, y=nyc.Temperature)\n",
    "axes.set_ylim(10, 70)"
   ]
  },
  {
   "cell_type": "markdown",
   "metadata": {},
   "source": [
    "* In this graph, the _y_-axis represents a 21.5-degree temperature range between the minimum of 26.1 and the maximum of 47.6\n",
    "* By default, the data appears to be spread significantly above and below the regression line, making it difficult to see the linear relationship\n",
    "* Common issue in data analytics visualizations\n",
    "* Seaborn and Matplotlib _auto-scale_ the axes, based on the data’s range of values\n",
    "* We scaled the **_y_**-axis range of values to emphasize the linear relationship"
   ]
  },
  {
   "cell_type": "markdown",
   "metadata": {},
   "source": [
    "### Getting Time Series Datasets"
   ]
  },
  {
   "cell_type": "markdown",
   "metadata": {},
   "source": [
    "| Sources time-series dataset\n",
    "| ------------------\n",
    "| https://data.gov/ \n",
    "| This is the U.S. government’s open data portal. Searching for “time series” yields over 7200 time-series datasets.\n",
    "| https://www.ncdc.noaa.gov/cag/`\n",
    "| The National Oceanic and Atmospheric Administration (NOAA) Climate at a Glance portal provides both global and U.S. weather-related time series.\n",
    "| https://www.esrl.noaa.gov/psd/data/timeseries/\n",
    "| NOAA’s Earth System Research Laboratory (ESRL) portal provides monthly and seasonal climate-related time series.\n",
    "| https://www.quandl.com/search\n",
    "| Quandl provides hundreds of free financial-related time series, as well as fee-based time series.\n",
    "| https://datamarket.com/data/list/?q=provider:tsdl\n",
    "| The Time Series Data Library (TSDL) provides links to hundreds of time series datasets across many industries.\n",
    "| http://archive.ics.uci.edu/ml/datasets.html\n",
    "| The University of California Irvine (UCI) Machine Learning Repository contains dozens of time-series datasets for a variety of topics.\n",
    "| http://inforumweb.umd.edu/econdata/econdata.html\n",
    "| The University of Maryland’s EconData service provides links to thousands of economic time series from various U.S. government agencies. "
   ]
  },
  {
   "cell_type": "markdown",
   "metadata": {},
   "source": [
    "------\n",
    "&copy;1992&ndash;2020 by Pearson Education, Inc. All Rights Reserved. This content is based on Chapter 5 of the book [**Intro to Python for Computer Science and Data Science: Learning to Program with AI, Big Data and the Cloud**](https://amzn.to/2VvdnxE).\n",
    "\n",
    "DISCLAIMER: The authors and publisher of this book have used their \n",
    "best efforts in preparing the book. These efforts include the \n",
    "development, research, and testing of the theories and programs \n",
    "to determine their effectiveness. The authors and publisher make \n",
    "no warranty of any kind, expressed or implied, with regard to these \n",
    "programs or to the documentation contained in these books. The authors \n",
    "and publisher shall not be liable in any event for incidental or \n",
    "consequential damages in connection with, or arising out of, the \n",
    "furnishing, performance, or use of these programs.                  "
   ]
  }
 ],
 "metadata": {
  "kernelspec": {
   "display_name": "Python 3",
   "language": "python",
   "name": "python3"
  },
  "language_info": {
   "codemirror_mode": {
    "name": "ipython",
    "version": 3
   },
   "file_extension": ".py",
   "mimetype": "text/x-python",
   "name": "python",
   "nbconvert_exporter": "python",
   "pygments_lexer": "ipython3",
   "version": "3.7.3"
  }
 },
 "nbformat": 4,
 "nbformat_minor": 2
}
