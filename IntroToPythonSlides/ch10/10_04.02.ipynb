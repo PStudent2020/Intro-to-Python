{
 "cells": [
  {
   "cell_type": "markdown",
   "metadata": {},
   "source": [
    "## 10.4.2 Class `Time` Definition\n",
    "\n",
    "### Class Time: `__init__` Method with Default Parameter Values\n",
    "* Specifies `hour`, `minute` and `second` parameters, each with a default argument of `0`\n",
    "* The statements containing `self.hour`, `self.minute` and `self.second` _appear_ to create `hour`, `minute` and `second` attributes for the new `Time` object (`self`)\n",
    "* These statements actually call methods that implement the class’s `hour`, `minute` and `second` _properties_ \n",
    "* Those methods create attributes named `_hour`, `_minute` and `_second` "
   ]
  },
  {
   "cell_type": "markdown",
   "metadata": {},
   "source": [
    "```python\n",
    "# timewithproperties.py\n",
    "\"\"\"Class Time with read-write properties.\"\"\"\n",
    "\n",
    "class Time:\n",
    "    \"\"\"Class Time with read-write properties.\"\"\"\n",
    "\n",
    "    def __init__(self, hour=0, minute=0, second=0):\n",
    "        \"\"\"Initialize each attribute.\"\"\"\n",
    "        self.hour = hour  # 0-23\n",
    "        self.minute = minute  # 0-59\n",
    "        self.second = second  # 0-59\n",
    "\n",
    "\n",
    "```"
   ]
  },
  {
   "cell_type": "markdown",
   "metadata": {},
   "source": [
    "### Class Time: `hour` Read-Write Property\n",
    "* Methods named `hour` define a _publicly accessible_ **read-write property** named `hour` that manipulates a data attribute named `_hour`\n",
    "* The single-leading-underscore (`_`) naming convention indicates that client code should not access `_hour` directly\n",
    "* Properties look like data attributes to programmers working with `Time` objects, but are implemented as _methods_\n",
    "* Each property defines a _getter_ method which _gets_ (returns) a data attribute’s value \n",
    "* Each property can _optionally_ define a _setter_ method which _sets_ a data attribute’s value"
   ]
  },
  {
   "cell_type": "markdown",
   "metadata": {},
   "source": [
    "```python \n",
    "    @property\n",
    "    def hour(self):\n",
    "        \"\"\"Return the hour.\"\"\"\n",
    "        return self._hour\n",
    "\n",
    "    @hour.setter\n",
    "    def hour(self, hour):\n",
    "        \"\"\"Set the hour.\"\"\"\n",
    "        if not (0 <= hour < 24):\n",
    "            raise ValueError(f'Hour ({hour}) must be 0-23')\n",
    "\n",
    "        self._hour = hour\n",
    "\n",
    "\n",
    "```"
   ]
  },
  {
   "cell_type": "markdown",
   "metadata": {},
   "source": [
    "### Class Time: `hour` Read-Write Property (cont.)\n",
    "* The **`@property` decorator** precedes the property’s _getter_ method, which receives only a `self` parameter\n",
    "* A decorator adds code to the decorated function\n",
    "    * Makes the `hour` function work with attribute syntax\n",
    "* _getter_ method’s name is the property name"
   ]
  },
  {
   "cell_type": "markdown",
   "metadata": {},
   "source": [
    "### Class Time: `hour` Read-Write Property (cont.)\n",
    "* A decorator of the form **`@property_name.setter`** (`@hour.setter`) precedes the property’s _setter_ method\n",
    "* Method receives two parameters—`self` and a parameter (`hour`) representing the value being assigned to the property\n",
    "* `__init__` invoked this `setter` to _validate_ `__init__`’s hour argument _before_ creating and initializing the object’s `_hour` attribute\n",
    "* A **read-write property** has both a _getter_ and a _setter_\n",
    "* A **read-only property** has only a _getter_"
   ]
  },
  {
   "cell_type": "markdown",
   "metadata": {},
   "source": [
    "### Class Time: `minute` and `second` Read-Write Properties\n",
    "* The following methods named `minute` and `second` define read-write `minute` and `second` properties\n",
    "* Each property’s `setter` ensures that its second argument is in the range 0–59 (the valid range of values for minutes and seconds)\n",
    "\n",
    "```python\n",
    "    @property\n",
    "    def minute(self):\n",
    "        \"\"\"Return the minute.\"\"\"\n",
    "        return self._minute\n",
    "\n",
    "    @minute.setter\n",
    "    def minute(self, minute):\n",
    "        \"\"\"Set the minute.\"\"\"\n",
    "        if not (0 <= minute < 60):\n",
    "            raise ValueError(f'Minute ({minute}) must be 0-59')\n",
    "\n",
    "        self._minute = minute\n",
    "\n",
    "    @property\n",
    "    def second(self):\n",
    "        \"\"\"Return the second.\"\"\"\n",
    "        return self._second\n",
    "\n",
    "    @second.setter\n",
    "    def second(self, second):\n",
    "        \"\"\"Set the second.\"\"\"\n",
    "        if not (0 <= second < 60):\n",
    "            raise ValueError(f'Second ({second}) must be 0-59')\n",
    "\n",
    "        self._second = second\n",
    "\n",
    "\n",
    "```"
   ]
  },
  {
   "cell_type": "markdown",
   "metadata": {},
   "source": [
    "### Class Time: Method `set_time` \n",
    "* Method `set_time` changes _all three_ attributes with a _single_ method call\n",
    "* The method uses the class's properties defined above\n",
    "\n",
    "```python\n",
    "    def set_time(self, hour=0, minute=0, second=0):\n",
    "        \"\"\"Set values of hour, minute, and second.\"\"\"\n",
    "        self.hour = hour\n",
    "        self.minute = minute\n",
    "        self.second = second\n",
    "\n",
    "\n",
    "```"
   ]
  },
  {
   "cell_type": "markdown",
   "metadata": {},
   "source": [
    "### Class Time: Special Method `__repr__`\n",
    "* When you pass an object to built-in function `repr`—which happens implicitly when you evaluate a variable in an IPython session—the corresponding class’s **`__repr__` special method** is called to get a string representation of the object\n",
    "\n",
    "```python\n",
    "    def __repr__(self):\n",
    "        \"\"\"Return Time string for repr().\"\"\"\n",
    "        return (f'Time(hour={self.hour}, minute={self.minute}, ' + \n",
    "                f'second={self.second})')\n",
    "\n",
    "\n",
    "```"
   ]
  },
  {
   "cell_type": "markdown",
   "metadata": {},
   "source": [
    "### Class Time: Special Method `__repr__` (cont.)\n",
    "* The Python documentation indicates that `__repr__` returns the “official” string representation of the object\n",
    "* Should look like a constructor expression that creates and initializes the object"
   ]
  },
  {
   "cell_type": "markdown",
   "metadata": {},
   "source": [
    "### Class Time: Special Method `__str__` \n",
    "* **`__str__`** special method is called implicitly when you \n",
    "    * convert an object to a string with the built-in function `str`\n",
    "    * `print` an object "
   ]
  },
  {
   "cell_type": "markdown",
   "metadata": {},
   "source": [
    "```python\n",
    "    def __str__(self):\n",
    "        \"\"\"Print Time in 12-hour clock format.\"\"\"\n",
    "        return (('12' if self.hour in (0, 12) else str(self.hour % 12)) + \n",
    "                f':{self.minute:0>2}:{self.second:0>2}' + \n",
    "                (' AM' if self.hour < 12 else ' PM'))\n",
    "\n",
    "```"
   ]
  },
  {
   "cell_type": "markdown",
   "metadata": {},
   "source": [
    "------\n",
    "&copy;1992&ndash;2020 by Pearson Education, Inc. All Rights Reserved. This content is based on Chapter 5 of the book [**Intro to Python for Computer Science and Data Science: Learning to Program with AI, Big Data and the Cloud**](https://amzn.to/2VvdnxE).\n",
    "\n",
    "DISCLAIMER: The authors and publisher of this book have used their \n",
    "best efforts in preparing the book. These efforts include the \n",
    "development, research, and testing of the theories and programs \n",
    "to determine their effectiveness. The authors and publisher make \n",
    "no warranty of any kind, expressed or implied, with regard to these \n",
    "programs or to the documentation contained in these books. The authors \n",
    "and publisher shall not be liable in any event for incidental or \n",
    "consequential damages in connection with, or arising out of, the \n",
    "furnishing, performance, or use of these programs.                  "
   ]
  }
 ],
 "metadata": {
  "kernelspec": {
   "display_name": "Python 3",
   "language": "python",
   "name": "python3"
  },
  "language_info": {
   "codemirror_mode": {
    "name": "ipython",
    "version": 3
   },
   "file_extension": ".py",
   "mimetype": "text/x-python",
   "name": "python",
   "nbconvert_exporter": "python",
   "pygments_lexer": "ipython3",
   "version": "3.7.3"
  }
 },
 "nbformat": 4,
 "nbformat_minor": 2
}
