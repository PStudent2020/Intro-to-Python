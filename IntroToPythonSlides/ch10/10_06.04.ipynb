{
 "cells": [
  {
   "cell_type": "markdown",
   "metadata": {},
   "source": [
    "## 10.6.4 Displaying `Card` Images with Matplotlib \n",
    "* Let’s display `Card` images\n",
    "* We downloaded public-domain card images from Wikimedia Commons:\n",
    "\n",
    "> https://commons.wikimedia.org/wiki/Category:SVG_English_pattern_playing_cards\n",
    "\n",
    "* Located in the `ch10` examples folder’s `card_images` subfolder"
   ]
  },
  {
   "cell_type": "code",
   "execution_count": null,
   "metadata": {},
   "outputs": [],
   "source": [
    "from deck import DeckOfCards"
   ]
  },
  {
   "cell_type": "code",
   "execution_count": null,
   "metadata": {},
   "outputs": [],
   "source": [
    "deck_of_cards = DeckOfCards()"
   ]
  },
  {
   "cell_type": "markdown",
   "metadata": {},
   "source": [
    "### Enable Matplotlib in IPython\n",
    "* `inline` required only in Jupyter"
   ]
  },
  {
   "cell_type": "code",
   "execution_count": null,
   "metadata": {},
   "outputs": [],
   "source": [
    "%matplotlib inline"
   ]
  },
  {
   "cell_type": "markdown",
   "metadata": {},
   "source": [
    "### Create the Base `Path` for Each Image\n",
    "* Use the `pathlib` module’s **`Path` class** to construct the full path to each image on our system\n",
    "* `Path` method **`joinpath`** appends the subfolder containing the card images to the path for the current folder (`.`)\n",
    " "
   ]
  },
  {
   "cell_type": "code",
   "execution_count": null,
   "metadata": {},
   "outputs": [],
   "source": [
    "from pathlib import Path"
   ]
  },
  {
   "cell_type": "code",
   "execution_count": null,
   "metadata": {},
   "outputs": [],
   "source": [
    "path = Path('.').joinpath('card_images')"
   ]
  },
  {
   "cell_type": "markdown",
   "metadata": {},
   "source": [
    "### Import the Matplotlib Features\n",
    "* We’ll use a function from **`matplotlib.image`** to load the images"
   ]
  },
  {
   "cell_type": "code",
   "execution_count": null,
   "metadata": {},
   "outputs": [],
   "source": [
    "import matplotlib.pyplot as plt"
   ]
  },
  {
   "cell_type": "code",
   "execution_count": null,
   "metadata": {},
   "outputs": [],
   "source": [
    "import matplotlib.image as mpimg"
   ]
  },
  {
   "cell_type": "markdown",
   "metadata": {},
   "source": [
    "### Create the `Figure` and ` Axes` Objects\n",
    "* **NOTE: In Jupyter, all code that modifies the on-screen presentation of a `Figure` must be in one cell, so we combined several cells below**\n",
    "\n",
    "* The first statement in the following cell uses Matplotlib function **`subplots`** to create a `Figure` object in which we’ll display the images as 52 _subplots_ with four rows (`nrows`) and 13 columns (`ncols`)\n",
    "* Returns a tuple containing the `Figure` and an array of the subplots’ `Axes` objects"
   ]
  },
  {
   "cell_type": "code",
   "execution_count": null,
   "metadata": {},
   "outputs": [],
   "source": [
    "figure, axes_list = plt.subplots(nrows=4, ncols=13)\n",
    "\n",
    "# added next two statements to increase figure size in notebook\n",
    "figure.set_figwidth(16)\n",
    "figure.set_figheight(9)\n",
    "\n",
    "for axes in axes_list.ravel():\n",
    "    axes.get_xaxis().set_visible(False)\n",
    "    axes.get_yaxis().set_visible(False)\n",
    "    image_name = deck_of_cards.deal_card().image_name\n",
    "    img = mpimg.imread(str(path.joinpath(image_name).resolve()))\n",
    "    axes.imshow(img)\n",
    "\n",
    "figure.tight_layout()"
   ]
  },
  {
   "cell_type": "markdown",
   "metadata": {},
   "source": [
    "### Configure the `Axes` Objects and Display the Images\n",
    "* The loop iterates through all the `Axes` objects in `axes_list`\n",
    "    * `ravel` provides a one-dimensional view of a multidimensional array\n",
    "* For each `Axes` object,\n",
    "    * hide the _x_- and _y_-axes.\n",
    "    * deals a `Card` and get its `image_name`\n",
    "    * get full path to the image\n",
    "    * use `matplotlib.image` module’s **`imread` function** to load the image\n",
    "    * call `Axes` method **`imshow`** to display the current image in the current subplot"
   ]
  },
  {
   "cell_type": "markdown",
   "metadata": {},
   "source": [
    "### Maximize the Image Sizes\n",
    "* Matplotlib `Figure` object’s **`tight_layout` method** removes most of the extra white space in the window\n",
    " "
   ]
  },
  {
   "cell_type": "markdown",
   "metadata": {},
   "source": [
    "### Shuffle and Re-Deal the Deck"
   ]
  },
  {
   "cell_type": "code",
   "execution_count": null,
   "metadata": {},
   "outputs": [],
   "source": [
    "deck_of_cards.shuffle()"
   ]
  },
  {
   "cell_type": "code",
   "execution_count": null,
   "metadata": {},
   "outputs": [],
   "source": [
    "# added this statement to create a separate figure in the notebook\n",
    "figure, axes_list = plt.subplots(nrows=4, ncols=13)\n",
    "\n",
    "# added next two statements to increase figure size in notebook\n",
    "figure.set_figwidth(16)\n",
    "figure.set_figheight(9)\n",
    "\n",
    "for axes in axes_list.ravel():\n",
    "    axes.get_xaxis().set_visible(False)\n",
    "    axes.get_yaxis().set_visible(False)\n",
    "    image_name = deck_of_cards.deal_card().image_name\n",
    "    img = mpimg.imread(str(path.joinpath(image_name).resolve()))\n",
    "    axes.imshow(img)\n",
    "    \n",
    "# added this statement for execution in the notebook\n",
    "figure.tight_layout()"
   ]
  },
  {
   "cell_type": "markdown",
   "metadata": {},
   "source": [
    "------\n",
    "&copy;1992&ndash;2020 by Pearson Education, Inc. All Rights Reserved. This content is based on Chapter 5 of the book [**Intro to Python for Computer Science and Data Science: Learning to Program with AI, Big Data and the Cloud**](https://amzn.to/2VvdnxE).\n",
    "\n",
    "DISCLAIMER: The authors and publisher of this book have used their \n",
    "best efforts in preparing the book. These efforts include the \n",
    "development, research, and testing of the theories and programs \n",
    "to determine their effectiveness. The authors and publisher make \n",
    "no warranty of any kind, expressed or implied, with regard to these \n",
    "programs or to the documentation contained in these books. The authors \n",
    "and publisher shall not be liable in any event for incidental or \n",
    "consequential damages in connection with, or arising out of, the \n",
    "furnishing, performance, or use of these programs.                  "
   ]
  }
 ],
 "metadata": {
  "kernelspec": {
   "display_name": "Python 3",
   "language": "python",
   "name": "python3"
  },
  "language_info": {
   "codemirror_mode": {
    "name": "ipython",
    "version": 3
   },
   "file_extension": ".py",
   "mimetype": "text/x-python",
   "name": "python",
   "nbconvert_exporter": "python",
   "pygments_lexer": "ipython3",
   "version": "3.7.3"
  }
 },
 "nbformat": 4,
 "nbformat_minor": 2
}
