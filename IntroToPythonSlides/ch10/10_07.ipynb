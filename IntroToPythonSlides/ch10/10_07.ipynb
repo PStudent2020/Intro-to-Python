{
 "cells": [
  {
   "cell_type": "markdown",
   "metadata": {},
   "source": [
    "# 10.7 Inheritance: Base Classes and Subclasses\n",
    "* Often, an object of one class _is an_ object of another class as well\n",
    "* a `CarLoan` _is a_ `Loan` as are `HomeImprovementLoan`s and `MortgageLoan`s\n",
    "* Class `CarLoan` can be said to inherit from class `Loan`. \n",
    "* In this context, class `Loan` is a base class, and class `CarLoan` is a subclass\n",
    "* A `CarLoan` _is a_ specific type of `Loan`, but it’s incorrect to claim that every `Loan` _is a_ `CarLoan`"
   ]
  },
  {
   "cell_type": "markdown",
   "metadata": {},
   "source": [
    "# 10.7 Inheritance: Base Classes and Subclasses (cont.)\n",
    "* Table of base classes and subclasses—base classes tend to be “more general” and subclasses “more specific”: \n",
    "\n",
    "| Base class\t| Subclasses\n",
    "| --------\t| --------\n",
    "| `Student`\t| `GraduateStudent`, `UndergraduateStuden`\n",
    "| `Shape`\t| `Circle`, `Triangle`, `Rectangle`, `Sphere`, `Cube`\n",
    "| `Loan`\t| `CarLoan`, `HomeImprovementLoan`, `MortgageLoan`\n",
    "| `Employee`\t| `Faculty`, `Staff`\n",
    "| `BankAccount`\t| `CheckingAccount`, `SavingsAccount`"
   ]
  },
  {
   "cell_type": "markdown",
   "metadata": {},
   "source": [
    "# 10.7 Inheritance: Base Classes and Subclasses (cont.)\n",
    "* Every subclass object _is an_ object of its base class\n",
    "* The set of objects represented by a base class is often larger than the set of objects represented by any of its subclasses\n"
   ]
  },
  {
   "cell_type": "markdown",
   "metadata": {},
   "source": [
    "### `CommunityMember` Inheritance Hierarchy\n",
    "* Inheritance relationships form tree-like _hierarchical_ structures\n",
    "* A base class exists in a hierarchical relationship with its subclasses\n",
    "* With **single inheritance**, a class is derived from _one_ base class\n",
    "* With **multiple inheritance**, a subclass inherits from _two or more_ base classes\n",
    "* Sample class hierarchy, also called an **inheritance hierarchy** for a university community "
   ]
  },
  {
   "cell_type": "markdown",
   "metadata": {},
   "source": [
    "![Sample class hierarchy for a university community](ch10images/AAEMYRT0.png \"Sample class hierarchy for a university community\")"
   ]
  },
  {
   "cell_type": "markdown",
   "metadata": {},
   "source": [
    "* Each arrow in the hierarchy represents an _is-a_ relationship\n",
    "    * “an `Employee` _is a_ `CommunityMember`” \n",
    "    * “a `Teacher` _is a_ `Faculty` member” \n",
    "* `CommunityMember` is the direct base class of `Employee`, `Student` and `Alum` and is an indirect base class of all the other classes in the diagram\n",
    "Starting from the bottom, you can follow the arrows and apply the _is-a_ relationship up to the topmost superclass"
   ]
  },
  {
   "cell_type": "markdown",
   "metadata": {},
   "source": [
    "### `Shape` Inheritance Hierarchy"
   ]
  },
  {
   "cell_type": "markdown",
   "metadata": {},
   "source": [
    "![Shape inheritance hierarchy](ch10images/AAEMYRU0.png \"Shape inheritance hierarchy\")"
   ]
  },
  {
   "cell_type": "markdown",
   "metadata": {},
   "source": [
    "### “is a” vs. “has a”\n",
    "* Inheritance produces **“is-a” relationships** in which an object of a subclass type may also be treated as an object of the base-class type\n",
    "* In “has-a” (composition) relationships, a class has references to one or more objects of other classes as members"
   ]
  },
  {
   "cell_type": "markdown",
   "metadata": {},
   "source": [
    "------\n",
    "&copy;1992&ndash;2020 by Pearson Education, Inc. All Rights Reserved. This content is based on Chapter 5 of the book [**Intro to Python for Computer Science and Data Science: Learning to Program with AI, Big Data and the Cloud**](https://amzn.to/2VvdnxE).\n",
    "\n",
    "DISCLAIMER: The authors and publisher of this book have used their \n",
    "best efforts in preparing the book. These efforts include the \n",
    "development, research, and testing of the theories and programs \n",
    "to determine their effectiveness. The authors and publisher make \n",
    "no warranty of any kind, expressed or implied, with regard to these \n",
    "programs or to the documentation contained in these books. The authors \n",
    "and publisher shall not be liable in any event for incidental or \n",
    "consequential damages in connection with, or arising out of, the \n",
    "furnishing, performance, or use of these programs.                  "
   ]
  }
 ],
 "metadata": {
  "kernelspec": {
   "display_name": "Python 3",
   "language": "python",
   "name": "python3"
  },
  "language_info": {
   "codemirror_mode": {
    "name": "ipython",
    "version": 3
   },
   "file_extension": ".py",
   "mimetype": "text/x-python",
   "name": "python",
   "nbconvert_exporter": "python",
   "pygments_lexer": "ipython3",
   "version": "3.7.3"
  }
 },
 "nbformat": 4,
 "nbformat_minor": 2
}
