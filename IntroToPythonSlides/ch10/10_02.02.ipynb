{
 "cells": [
  {
   "cell_type": "markdown",
   "metadata": {},
   "source": [
    "## 10.2.2 Account Class Definition \n",
    "### Defining a Class \n",
    "* Class definition begins with the keyword **`class`** followed by the class’s name and a colon (`:`)\n",
    "* Called the **class header**\n",
    "* _Style Guide for Python Code_ recommends that you begin each word in a multi-word class name with an uppercase letter\n",
    "* Every statement in a class’s suite is indented\n",
    "\n",
    "```python\n",
    "# account.py\n",
    "\"\"\"Account class definition.\"\"\"\n",
    "from decimal import Decimal\n",
    "\n",
    "class Account:\n",
    "    \"\"\"Account class for maintaining a bank account balance.\"\"\"\n",
    "    \n",
    "\n",
    "```"
   ]
  },
  {
   "cell_type": "markdown",
   "metadata": {},
   "source": [
    "### Defining a Class (cont.) \n",
    "* Each class typically provides a descriptive docstring \n",
    "* Must appear in the line or lines immediately following the class header\n",
    "* View any class’s docstring in IPython, type the class name and a question mark, then press _Enter_"
   ]
  },
  {
   "cell_type": "code",
   "execution_count": 9,
   "metadata": {},
   "outputs": [
    {
     "data": {
      "text/plain": [
       "\u001b[0;31mInit signature:\u001b[0m \u001b[0mAccount\u001b[0m\u001b[0;34m(\u001b[0m\u001b[0mname\u001b[0m\u001b[0;34m,\u001b[0m \u001b[0mbalance\u001b[0m\u001b[0;34m)\u001b[0m\u001b[0;34m\u001b[0m\u001b[0;34m\u001b[0m\u001b[0m\n",
       "\u001b[0;31mDocstring:\u001b[0m      Account class for maintaining a bank account balance.\n",
       "\u001b[0;31mInit docstring:\u001b[0m Initialize an Account object.\n",
       "\u001b[0;31mFile:\u001b[0m           ~/Dropbox/books/2019/PythonFullThrottle/account.py\n",
       "\u001b[0;31mType:\u001b[0m           type\n",
       "\u001b[0;31mSubclasses:\u001b[0m     \n"
      ]
     },
     "metadata": {},
     "output_type": "display_data"
    }
   ],
   "source": [
    "Account?"
   ]
  },
  {
   "cell_type": "markdown",
   "metadata": {},
   "source": [
    "### Defining a Class (cont.) \n",
    "* `Account` is both the class name and the name used in a constructor expression to create an `Account` object and invoke the class’s `__init__` method\n",
    "* IPython’s help mechanism shows both the class’s docstring (`\"Docstring:\"`) and the `__init__` method’s docstring (`\"Init docstring:\"`)"
   ]
  },
  {
   "cell_type": "markdown",
   "metadata": {},
   "source": [
    "### Initializing Account Objects: Method `__init__` \n",
    "* Constructor expression creates a new object, then initializes its data by calling the class’s **`__init__`** method\n",
    "* Each new class can provide an `__init__` method that specifies how to initialize an object’s data attributes\n",
    "* Returning a value other than `None` from `__init__` results in a `TypeError`\n",
    "* Class `Account`’s `__init__` method initializes an `Account` object’s `name` and `balance` attributes if the `balance` is valid"
   ]
  },
  {
   "cell_type": "markdown",
   "metadata": {},
   "source": [
    "### Initializing Account Objects: Method `__init__` (cont.)\n",
    "```python\n",
    "    def __init__(self, name, balance):\n",
    "        \"\"\"Initialize an Account object.\"\"\"\n",
    "\n",
    "        # if balance is less than 0.00, raise an exception\n",
    "        if balance < Decimal('0.00'):\n",
    "            raise ValueError('Initial balance must be >= to 0.00.')\n",
    "\n",
    "        self.name = name\n",
    "        self.balance = balance\n",
    "\n",
    "\n",
    "```"
   ]
  },
  {
   "cell_type": "markdown",
   "metadata": {},
   "source": [
    "### Initializing Account Objects: Method `__init__` (cont.)\n",
    "* When you call a method for a specific object, Python implicitly passes a reference to that object as the method’s first argument\n",
    "* So all methods of a class must specify at least one parameter\n",
    "* By convention a method’s first parameter is named `self`\n",
    "* Methods must use that reference (`self`) to access the object’s attributes and other methods"
   ]
  },
  {
   "cell_type": "markdown",
   "metadata": {},
   "source": [
    "### Initializing Account Objects: Method `__init__` (cont.)\n",
    "* When an object is created, it does not yet have any attributes\n",
    "* They’re added _dynamically_ via assignments of the form:\n",
    "```python\n",
    "self.attribute_name `=` value\n",
    "``` "
   ]
  },
  {
   "cell_type": "markdown",
   "metadata": {},
   "source": [
    "### Initializing Account Objects: Method `__init__` (cont.)\n",
    "* Python classes may define many [special methods](https://docs.python.org/3/reference/datamodel.html#special-method-names), like `__init__`\n",
    "* Each identified by leading and trailing double-underscores (`__`) in the method name\n",
    "* Class **`object`** defines the special methods that are available for _all_ Python objects "
   ]
  },
  {
   "cell_type": "markdown",
   "metadata": {},
   "source": [
    "### Method `deposit` \n",
    "* Adds a positive `amount` to the account’s `balance` attribute\n",
    "* Raises a `ValueError` if `amount` is less than `0.00`\n",
    "\n",
    "```python\n",
    "    def deposit(self, amount):\n",
    "        \"\"\"Deposit money to the account.\"\"\"\n",
    "\n",
    "        # if amount is less than 0.00, raise an exception\n",
    "        if amount < Decimal('0.00'):\n",
    "            raise ValueError('amount must be positive.')\n",
    "\n",
    "        self.balance += amount\n",
    "\n",
    "```"
   ]
  },
  {
   "cell_type": "markdown",
   "metadata": {},
   "source": [
    "------\n",
    "&copy;1992&ndash;2020 by Pearson Education, Inc. All Rights Reserved. This content is based on Chapter 5 of the book [**Intro to Python for Computer Science and Data Science: Learning to Program with AI, Big Data and the Cloud**](https://amzn.to/2VvdnxE).\n",
    "\n",
    "DISCLAIMER: The authors and publisher of this book have used their \n",
    "best efforts in preparing the book. These efforts include the \n",
    "development, research, and testing of the theories and programs \n",
    "to determine their effectiveness. The authors and publisher make \n",
    "no warranty of any kind, expressed or implied, with regard to these \n",
    "programs or to the documentation contained in these books. The authors \n",
    "and publisher shall not be liable in any event for incidental or \n",
    "consequential damages in connection with, or arising out of, the \n",
    "furnishing, performance, or use of these programs.                  "
   ]
  }
 ],
 "metadata": {
  "kernelspec": {
   "display_name": "Python 3",
   "language": "python",
   "name": "python3"
  },
  "language_info": {
   "codemirror_mode": {
    "name": "ipython",
    "version": 3
   },
   "file_extension": ".py",
   "mimetype": "text/x-python",
   "name": "python",
   "nbconvert_exporter": "python",
   "pygments_lexer": "ipython3",
   "version": "3.7.3"
  }
 },
 "nbformat": 4,
 "nbformat_minor": 2
}
