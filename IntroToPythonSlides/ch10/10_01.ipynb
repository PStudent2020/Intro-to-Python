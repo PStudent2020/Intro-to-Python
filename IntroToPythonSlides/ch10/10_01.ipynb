{
 "cells": [
  {
   "cell_type": "markdown",
   "metadata": {},
   "source": [
    "# 10.1 Introduction\n",
    "* Section 1.2 introduced the basic terminology and concepts of object-oriented programming\n",
    "* Everything in Python is an object"
   ]
  },
  {
   "cell_type": "markdown",
   "metadata": {},
   "source": [
    "### Crafting Valuable Classes\n",
    "* Create your own _custom_ classes\n",
    "* Focus on “crafting valuable classes” that help you meet application requirements\n",
    "* Use object-oriented programming \n",
    "    * classes, objects, inheritance and polymorphism\n",
    "* Object-oriented programming makes it easier to design, implement, test, debug and update applications"
   ]
  },
  {
   "cell_type": "markdown",
   "metadata": {},
   "source": [
    "### Class Libraries and Object-Based Programming\n",
    "* Vast majority of object-oriented programming in Python is **object-based programming** \n",
    "    * Create and use objects of _existing_ classes\n",
    "* To take maximum advantage of Python you must familiarize yourself with lots of preexisting classes\n",
    "* Easy for you to reuse existing classes rather than “reinventing the wheel” \n",
    "* Widely used open-source library classes are more likely to be thoroughly tested, performance tuned and portable across a wide range of devices, operating systems and Python versions\n",
    "* Find abundant Python libraries on sites like GitHub, BitBucket, SourceForge and more\n",
    "    * most easily installed with `conda` or `pip`\n",
    "* Vast majority of the classes you’ll need are likely to be freely available in open-source libraries. "
   ]
  },
  {
   "cell_type": "markdown",
   "metadata": {},
   "source": [
    "### Creating Your Own Custom Classes\n",
    "* Classes are new data types\n",
    "* Most applications you’ll build will commonly use either no custom classes or just a few\n",
    "* If you become part of a development team in industry, you may work on applications that contain hundreds, or even thousands, of classes"
   ]
  },
  {
   "cell_type": "markdown",
   "metadata": {},
   "source": [
    "### Inheritance\n",
    "* When creating a new class, you can **inherit** the attributes (variables) and methods (the class version of functions) of a previously defined **base class** (also called a **superclass**)\n",
    "* New class is called a **derived class** (or **subclass**)\n",
    "* You then customize the derived class to meet the specific needs of your application"
   ]
  },
  {
   "cell_type": "markdown",
   "metadata": {},
   "source": [
    "### Polymorphism\n",
    "* Enables you to conveniently program “in the general” rather than “in the specific” \n",
    "* You send the _same_ method call to objects possibly of many _different_ types\n",
    "* Each object responds by “doing the right thing” \n",
    "* So the same method call takes on “many forms,” hence the term “poly-morphism” "
   ]
  },
  {
   "cell_type": "markdown",
   "metadata": {},
   "source": [
    "### An Entertaining Case Study: Card-Shuffling-and-Dealing Simulation\n",
    "* You’ll use Matplotlib with attractive public-domain card images to display the full deck of cards both before and after the deck is shuffled "
   ]
  },
  {
   "cell_type": "markdown",
   "metadata": {},
   "source": [
    "### Data Classes\n",
    "* Python 3.7’s new _data classes_ help you build classes faster by using a more concise notation and by autogenerating portions of the classes"
   ]
  },
  {
   "cell_type": "markdown",
   "metadata": {},
   "source": [
    "### Other Concepts Introduced in This Chapter\n",
    "* How to specify that certain identifiers should be used only inside a class and not be accessible to clients of the class\n",
    "* Special methods for creating string representations of your classes’ objects and specifying how objects of your classes work with Python’s built-in operators (a process called _operator overloading_)\n",
    "* An introduction to the Python exception class hierarchy and creating custom exception classes\n",
    "* Testing code with the Python Standard Library’s `doctest` module\n",
    "* How Python uses namespaces to determine the scopes of identifiers"
   ]
  },
  {
   "cell_type": "markdown",
   "metadata": {},
   "source": [
    "------\n",
    "&copy;1992&ndash;2020 by Pearson Education, Inc. All Rights Reserved. This content is based on Chapter 5 of the book [**Intro to Python for Computer Science and Data Science: Learning to Program with AI, Big Data and the Cloud**](https://amzn.to/2VvdnxE).\n",
    "\n",
    "DISCLAIMER: The authors and publisher of this book have used their \n",
    "best efforts in preparing the book. These efforts include the \n",
    "development, research, and testing of the theories and programs \n",
    "to determine their effectiveness. The authors and publisher make \n",
    "no warranty of any kind, expressed or implied, with regard to these \n",
    "programs or to the documentation contained in these books. The authors \n",
    "and publisher shall not be liable in any event for incidental or \n",
    "consequential damages in connection with, or arising out of, the \n",
    "furnishing, performance, or use of these programs.                  "
   ]
  }
 ],
 "metadata": {
  "celltoolbar": "Slideshow",
  "kernelspec": {
   "display_name": "Python 3",
   "language": "python",
   "name": "python3"
  },
  "language_info": {
   "codemirror_mode": {
    "name": "ipython",
    "version": 3
   },
   "file_extension": ".py",
   "mimetype": "text/x-python",
   "name": "python",
   "nbconvert_exporter": "python",
   "pygments_lexer": "ipython3",
   "version": "3.7.3"
  }
 },
 "nbformat": 4,
 "nbformat_minor": 2
}
