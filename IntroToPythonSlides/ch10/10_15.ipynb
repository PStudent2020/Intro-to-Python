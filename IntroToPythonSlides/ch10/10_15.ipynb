{
 "cells": [
  {
   "cell_type": "markdown",
   "metadata": {},
   "source": [
    "# 10.15 Namespaces and Scopes\n",
    "* Each identifier has a scope that determines where you can use it in your program, and we introduced the local and global scopes\n",
    "* Scopes are determined by **namespaces**, which associate identifiers with objects and are implemented “under the hood” as dictionaries\n",
    "* Namespaces are independent of one another\n",
    "    * Same identifier may appear in multiple namespaces\n",
    "* Three primary namespaces—local, global and built-in. "
   ]
  },
  {
   "cell_type": "markdown",
   "metadata": {},
   "source": [
    "### Local Namespace\n",
    "* Each function and method has a **local namespace** that associates local identifiers (parameters and local variables) with objects\n",
    "* Local namespace exists from the moment the function or method is called until it terminates and is accessible _only_ to that function or method\n",
    "* In a function’s or method’s suite, _assigning_ to a variable that does not exist creates a local variable and adds it to the local namespace\n",
    "* Identifiers in the local namespace are _in scope_ from the point at which you define them until the function or method terminates"
   ]
  },
  {
   "cell_type": "markdown",
   "metadata": {},
   "source": [
    "### Global Namespace\n",
    "* Each module has a **global namespace** that associates a module’s global identifiers (such as global variables, function names and class names) with objects\n",
    "* Python creates a module’s global namespace when it loads the module\n",
    "* A module’s global namespace exists and its identifiers are _in scope_ to the code within that module until the program (or interactive session) terminates\n",
    "* An IPython session has its own global namespace for all the identifiers you create in that session\n",
    "* Each module’s global namespace also has an identifier called **`__name__`** containing the module’s name, such as `'math'` for the `math` module or `'random'` for the `random` module"
   ]
  },
  {
   "cell_type": "markdown",
   "metadata": {},
   "source": [
    "### Built-In Namespace\n",
    "* Contains associates identifiers for Python’s built-in functions (such as, `input` and `range`) and types (such as, `int`, `float` and `str`) with objects that define those functions and types\n",
    "* Python creates the built-in namespace when the interpreter starts executing\n",
    "* The built-in namespace’s identifiers remain _in scope_ for all code until the program (or interactive session) terminates. "
   ]
  },
  {
   "cell_type": "markdown",
   "metadata": {},
   "source": [
    "### Finding Identifiers in Namespaces\n",
    "* When you use an identifier, Python searches for that identifier in the currently accessible namespaces, proceeding from _local_ to _global_ to _built-in_"
   ]
  },
  {
   "cell_type": "code",
   "execution_count": null,
   "metadata": {},
   "outputs": [],
   "source": [
    "z = 'global z'"
   ]
  },
  {
   "cell_type": "code",
   "execution_count": null,
   "metadata": {},
   "outputs": [],
   "source": [
    "def print_variables():\n",
    "    y = 'local y in print_variables'\n",
    "    print(y)\n",
    "    print(z)"
   ]
  },
  {
   "cell_type": "code",
   "execution_count": null,
   "metadata": {},
   "outputs": [],
   "source": [
    "print_variables()"
   ]
  },
  {
   "cell_type": "markdown",
   "metadata": {},
   "source": [
    "* When snippet `[3]` calls `print_variables`, Python searches the _local_, _global_ and _built-in_ namespaces as follows: \n",
    "    * Snippet `[3]` is not in a function or method, so the session’s _global_ namespace and the _built-in_ namespace are currently accessible\n",
    "        * Python first searches the session’s _global_ namespace, which contains `print_variables`\n",
    "        * `print_variables` is _in scope_ and Python uses the corresponding object to call `print_variables`\n",
    "    * As `print_variables` begins executing, Python creates the function’s _local_ namespace\n",
    "        * When function `print_variables` defines the local variable `y`, Python adds `y` to the function’s _local_ namespace\n",
    "        * The variable `y` is now _in scope_ until the function finishes executing.\n",
    "    * Next, `print_variables` calls the _built-in_ function `print`, passing `y` as the argument\n",
    "        * To execute this call, Python must resolve the identifiers `y` and `print`. \n",
    "        * The identifier `y` is defined in the _local_ namespace, so it’s _in scope_ and Python will use the corresponding object as `print`’s argument\n",
    "        * To call the function, Python must find `print`’s corresponding object\n",
    "        * Python looks in the _local_ namespace, which does _not_ define `print`\n",
    "        * Next, Python looks in the session’s _global_ namespace, which does _not_ define `print`\n",
    "        * Finally, Python looks in the _built-in_ namespace, which _does_ define `print`\n",
    "        * `print` is _in scope_ and Python uses the corresponding object to call `print`\n",
    "    * Next, `print_variables` calls the _built-in_ function `print` again with the argument `z`, which is _not_ defined in the _local_ namespace\n",
    "        * Python looks in the _global_ namespace\n",
    "        * The argument `z` _is_ defined in the _global_ namespace, so `z` is _in scope_ and Python will use the corresponding object as `print`’s argument\n",
    "* At this point, we reach the end of the `print_variables` function’s suite, so the function terminates and its _local_ namespace no longer exists, meaning the local variable `y` is now undefined"
   ]
  },
  {
   "cell_type": "code",
   "execution_count": null,
   "metadata": {},
   "outputs": [],
   "source": [
    "y"
   ]
  },
  {
   "cell_type": "markdown",
   "metadata": {},
   "source": [
    "* There’s no _local_ namespace, so Python searches for `y` in the session’s _global_ namespace\n",
    "* The identifier `y` is _not_ defined there, so Python searches for `y` in the _built-in_ namespace\n",
    "* Again, Python does not find `y`\n",
    "* Python raises a `NameError`, indicating that `y` is not defined.\n",
    "* The identifiers `print_variables` and `z` still exist in the session’s _global_ namespace, so we can continue using them"
   ]
  },
  {
   "cell_type": "code",
   "execution_count": null,
   "metadata": {},
   "outputs": [],
   "source": [
    "z"
   ]
  },
  {
   "cell_type": "markdown",
   "metadata": {},
   "source": [
    "### Nested Functions\n",
    "* There is also an **enclosing namespace**\n",
    "* Python allows you to define **nested functions** inside other functions or methods\n",
    "* When you access an identifier inside a nested function, Python searches the nested function’s _local_ namespace first, then the _enclosing_ function’s namespace, then the _global_ namespace and finally the _built-in_ namespace\n",
    "* This is sometimes referred to as the **LEGB (local, enclosing, global, built-in) rule**"
   ]
  },
  {
   "cell_type": "markdown",
   "metadata": {},
   "source": [
    "### Class Namespace\n",
    "* A class has a namespace in which its class attributes are stored\n",
    "* When you access a class attribute, Python looks for that attribute first in the class’s namespace, then in the base class’s namespace, and so on, until either it finds the attribute or it reaches class `object`\n",
    "* If the attribute is not found, a `NameError` occurs"
   ]
  },
  {
   "cell_type": "markdown",
   "metadata": {},
   "source": [
    "### Object Namespace\n",
    "* Each object has its own namespace containing the object’s methods and data attributes\n",
    "* The class’s `__init__` method starts with an empty object (`self`) and adds each attribute to the object’s namespace\n",
    "* Once you define an attribute in an object’s namespace, clients using the object may access the attribute’s value"
   ]
  },
  {
   "cell_type": "markdown",
   "metadata": {},
   "source": [
    "------\n",
    "&copy;1992&ndash;2020 by Pearson Education, Inc. All Rights Reserved. This content is based on Chapter 5 of the book [**Intro to Python for Computer Science and Data Science: Learning to Program with AI, Big Data and the Cloud**](https://amzn.to/2VvdnxE).\n",
    "\n",
    "DISCLAIMER: The authors and publisher of this book have used their \n",
    "best efforts in preparing the book. These efforts include the \n",
    "development, research, and testing of the theories and programs \n",
    "to determine their effectiveness. The authors and publisher make \n",
    "no warranty of any kind, expressed or implied, with regard to these \n",
    "programs or to the documentation contained in these books. The authors \n",
    "and publisher shall not be liable in any event for incidental or \n",
    "consequential damages in connection with, or arising out of, the \n",
    "furnishing, performance, or use of these programs.                  "
   ]
  }
 ],
 "metadata": {
  "kernelspec": {
   "display_name": "Python 3",
   "language": "python",
   "name": "python3"
  },
  "language_info": {
   "codemirror_mode": {
    "name": "ipython",
    "version": 3
   },
   "file_extension": ".py",
   "mimetype": "text/x-python",
   "name": "python",
   "nbconvert_exporter": "python",
   "pygments_lexer": "ipython3",
   "version": "3.7.3"
  }
 },
 "nbformat": 4,
 "nbformat_minor": 2
}
