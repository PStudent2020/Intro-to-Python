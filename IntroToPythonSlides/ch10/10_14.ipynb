{
 "cells": [
  {
   "cell_type": "markdown",
   "metadata": {},
   "source": [
    "# 10.14 Unit Testing with Docstrings and `doctest` \n",
    "\n",
    "**For your convenience, this notebook includes the entire contents of accountdoctest.py so you can modify it and rerun the tests. When you execute the cell containing accountdoctest.py, the doctests will execute.**\n",
    "\n"
   ]
  },
  {
   "cell_type": "markdown",
   "metadata": {},
   "source": [
    "* A key aspect of software development is testing your code to ensure that it works correctly\n",
    "* Even with extensive testing, code may still contain bugs\n",
    "* According to the famous Dutch computer scientist Edsger Dijkstra, “Testing shows the presence, not the absence of bugs.”"
   ]
  },
  {
   "cell_type": "markdown",
   "metadata": {},
   "source": [
    "### Module `doctest` and the `testmod` Function\n",
    "* **`doctest` module** helps you test your code and conveniently retest it after you make modifications\n",
    "* When you execute the `doctest` module’s **`testmod` function**, it inspects your functions’, methods’ and classes' docstrings looking for sample Python statements preceded by `>>>`, each followed on the next line by the given statement’s expected output (if any)\n",
    "* `testmod` executes those statements and confirms that they produce the expected output\n",
    "* If not, `testmod` reports errors indicating which tests failed so you can locate and fix the problems in your code\n",
    "* Each test you define in a docstring tests a specific _unit of code_, such as a function, a method or a class\n",
    "* Such tests are called **unit tests**"
   ]
  },
  {
   "cell_type": "markdown",
   "metadata": {},
   "source": [
    "### Modified `Account` Class\n",
    "The file `accountdoctest.py` contains the class `Account` from this chapter’s first example\n",
    "* Modified `__init__`’s docstring to include four tests which can be used to ensure that the method works correctly:\n",
    "    * First test creates a sample `Account` object named `account1`\n",
    "        * This statement does not produce any output\n",
    "    * Second test shows what the value of `account1`’s `name` attribute should be if the first test executed successfully \n",
    "    * Third test shows what the value of `account1`’s `balance` attribute should be if the first test executed successfully\n",
    "    * The last test creates an `Account` object with an invalid initial balance\n",
    "        * Sample output shows that a `ValueError` exception should occur in this case\n",
    "        * For exceptions, the doctest module’s documentation recommends showing just the first and last lines of the traceback\n",
    "* You can intersperse your tests with descriptive text"
   ]
  },
  {
   "cell_type": "code",
   "execution_count": null,
   "metadata": {},
   "outputs": [],
   "source": [
    "# accountdoctest.py\n",
    "\"\"\"Account class definition.\"\"\"\n",
    "from decimal import Decimal\n",
    "\n",
    "class Account:\n",
    "    \"\"\"Account class for demonstrating doctest.\"\"\"\n",
    "    \n",
    "    def __init__(self, name, balance):\n",
    "        \"\"\"Initialize an Account object.\n",
    "        \n",
    "        >>> account1 = Account('John Green', Decimal('50.00'))\n",
    "        >>> account1.name\n",
    "        'John Green'\n",
    "        >>> account1.balance\n",
    "        Decimal('50.00')\n",
    "\n",
    "        The balance argument must be greater than or equal to 0.\n",
    "        >>> account2 = Account('John Green', Decimal('-50.00'))\n",
    "        Traceback (most recent call last):\n",
    "            ...\n",
    "        ValueError: Initial balance must be >= to 0.00.\n",
    "        \"\"\"\n",
    "\n",
    "        # if balance is less than 0.00, raise an exception\n",
    "        if balance < Decimal('0.00'):\n",
    "            raise ValueError('Initial balance must be >= to 0.00.')\n",
    "\n",
    "        self.name = name\n",
    "        self.balance = balance\n",
    "\n",
    "    def deposit(self, amount):\n",
    "        \"\"\"Deposit money to the account.\"\"\"\n",
    "\n",
    "        # if amount is less than 0.00, raise an exception\n",
    "        if amount < Decimal('0.00'):\n",
    "            raise ValueError('amount must be positive.')\n",
    "\n",
    "        self.balance += amount\n",
    "\n",
    "if __name__ == '__main__':\n",
    "    import doctest\n",
    "    doctest.testmod(verbose=True)\n"
   ]
  },
  {
   "cell_type": "markdown",
   "metadata": {},
   "source": [
    "### Module `__main__` \n",
    "* When you load any module, Python assigns a string containing the module’s name to a global attribute of the module called `__name__`\n",
    "* When you execute a Python source file as a _script_, Python uses the string `'__main__'` as the module’s name\n",
    "* Can use `__name__` in an `if` statement to specify code that should execute only if the source file is executed as a _script_\n",
    "    * We import the `doctest` module and call the module’s `testmod` function to execute the docstring unit tests "
   ]
  },
  {
   "cell_type": "markdown",
   "metadata": {},
   "source": [
    "### Running Tests\n",
    "* Run the file `accountdoctest.py` as a script to execute the tests\n",
    "* If you call `testmod` with no arguments, it does not show test results for _successful_ tests\n",
    "* This example calls `testmod` with the keyword argument `verbose=True`, which shows every test’s results\n",
    "* To demonstrate a _failed_ test, “comment out” lines 25–26 in `accountdoctest.py` by preceding each with a `#`, then run `accountdoctest.py` as a script"
   ]
  },
  {
   "cell_type": "markdown",
   "metadata": {},
   "source": [
    "### IPython `%doctest_mode` Magic\n",
    "* A convenient way to create doctests for existing code is to use an IPython interactive session to test your code, then copy and paste that session into a docstring\n",
    "* IPython’s `In []` and `Out[]` prompts are not compatible with `doctest`, so IPython provides the magic **`%doctest_mode`** to display prompts in the correct `doctest` format\n",
    "    * Toggles between the two prompt styles"
   ]
  },
  {
   "cell_type": "markdown",
   "metadata": {},
   "source": [
    "------\n",
    "&copy;1992&ndash;2020 by Pearson Education, Inc. All Rights Reserved. This content is based on Chapter 5 of the book [**Intro to Python for Computer Science and Data Science: Learning to Program with AI, Big Data and the Cloud**](https://amzn.to/2VvdnxE).\n",
    "\n",
    "DISCLAIMER: The authors and publisher of this book have used their \n",
    "best efforts in preparing the book. These efforts include the \n",
    "development, research, and testing of the theories and programs \n",
    "to determine their effectiveness. The authors and publisher make \n",
    "no warranty of any kind, expressed or implied, with regard to these \n",
    "programs or to the documentation contained in these books. The authors \n",
    "and publisher shall not be liable in any event for incidental or \n",
    "consequential damages in connection with, or arising out of, the \n",
    "furnishing, performance, or use of these programs.                  "
   ]
  }
 ],
 "metadata": {
  "kernelspec": {
   "display_name": "Python 3",
   "language": "python",
   "name": "python3"
  },
  "language_info": {
   "codemirror_mode": {
    "name": "ipython",
    "version": 3
   },
   "file_extension": ".py",
   "mimetype": "text/x-python",
   "name": "python",
   "nbconvert_exporter": "python",
   "pygments_lexer": "ipython3",
   "version": "3.7.3"
  }
 },
 "nbformat": 4,
 "nbformat_minor": 2
}
