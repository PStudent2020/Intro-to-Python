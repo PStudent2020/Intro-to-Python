{
 "cells": [
  {
   "cell_type": "markdown",
   "metadata": {},
   "source": [
    "# 6.2 Dictionaries\n",
    "* A dictionary _associates_ keys with values. \n",
    "* Each key _maps_ to a specific value. \n",
    "* Sample dictionary keys and values:"
   ]
  },
  {
   "cell_type": "markdown",
   "metadata": {},
   "source": [
    "| Keys | Key type | Values | Value type\n",
    "| :-------- | :-------- | :-------- | :--------\n",
    "| Country names | `str` | Internet country codes | `str` \n",
    "| Decimal numbers | `int` | Roman numerals | `str` \n",
    "| States | `str` | Agricultural products | list of `str` \n",
    "| Hospital patients | `str`  | Vital signs | tuple of `int`s and `float`s \n",
    "| Baseball players | `str`  | Batting averages | `float` \n",
    "| Metric measurements | `str`  | Abbreviations | `str` \n",
    "| Inventory codes | `str`  | Quantity in stock | `int` "
   ]
  },
  {
   "cell_type": "markdown",
   "metadata": {},
   "source": [
    "### Unique Keys\n",
    "* Keys must be _immutable_ and _unique_.\n",
    "* Multiple keys can have the same value. "
   ]
  },
  {
   "cell_type": "markdown",
   "metadata": {},
   "source": [
    "------\n",
    "&copy;1992&ndash;2020 by Pearson Education, Inc. All Rights Reserved. This content is based on Chapter 6 of the book [**Intro to Python for Computer Science and Data Science: Learning to Program with AI, Big Data and the Cloud**](https://amzn.to/2VvdnxE).\n",
    "\n",
    "DISCLAIMER: The authors and publisher of this book have used their \n",
    "best efforts in preparing the book. These efforts include the \n",
    "development, research, and testing of the theories and programs \n",
    "to determine their effectiveness. The authors and publisher make \n",
    "no warranty of any kind, expressed or implied, with regard to these \n",
    "programs or to the documentation contained in these books. The authors \n",
    "and publisher shall not be liable in any event for incidental or \n",
    "consequential damages in connection with, or arising out of, the \n",
    "furnishing, performance, or use of these programs.                  "
   ]
  }
 ],
 "metadata": {
  "celltoolbar": "Slideshow",
  "kernelspec": {
   "display_name": "Python 3",
   "language": "python",
   "name": "python3"
  },
  "language_info": {
   "codemirror_mode": {
    "name": "ipython",
    "version": 3
   },
   "file_extension": ".py",
   "mimetype": "text/x-python",
   "name": "python",
   "nbconvert_exporter": "python",
   "pygments_lexer": "ipython3",
   "version": "3.7.3"
  }
 },
 "nbformat": 4,
 "nbformat_minor": 2
}
