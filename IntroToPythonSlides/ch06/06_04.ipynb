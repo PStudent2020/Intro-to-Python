{
 "cells": [
  {
   "cell_type": "markdown",
   "metadata": {},
   "source": [
    "# 6.4 Intro to Data Science: Dynamic Visualizations\n",
    "* In this section, we make things “come alive” with _dynamic visualizations_. "
   ]
  },
  {
   "cell_type": "markdown",
   "metadata": {},
   "source": [
    "### The Law of Large Numbers\n",
    "* For a six-sided die, each value 1 through 6 should occur one-sixth of the time, so the probability of any one of these values occurring is 1/6th or about 16.667%.  \n",
    "* In the dynamic visualization, the more rolls we perform, the closer each die value’s percentage of the total rolls gets to 16.667% and the heights of the bars gradually become about the same. \n",
    "* This is a manifestation of the _law of large numbers_. "
   ]
  },
  {
   "cell_type": "markdown",
   "metadata": {},
   "source": [
    "## 6.4.1 How Dynamic Visualization Works \n",
    "* The Matplotlib **`animation`** module’s **`FuncAnimation`** function, updates a visualization _dynamically_. "
   ]
  },
  {
   "cell_type": "markdown",
   "metadata": {},
   "source": [
    "### Animation Frames\n",
    "* `FuncAnimation` drives a **frame-by-frame animation**. \n",
    "* Each **animation frame** specifies what to change during one plot update. \n",
    "* Stringing together many updates over time creates an animation. \n",
    "* This example displays an animation frame every 33 milliseconds—yielding approximately 30 (1000 / 33) frames-per-second. "
   ]
  },
  {
   "cell_type": "markdown",
   "metadata": {},
   "source": [
    "### Running `RollDieDynamic.py`\n",
    "1. Access the command line in Jupyter with **File > New > Terminal**.\n",
    "2. `cd ch06`.\n",
    "3. Execute\n",
    "\n",
    ">```\n",
    "ipython RollDieDynamic.py 6000 1\n",
    "```\n",
    "\n",
    ">* 6000 is the number of animation frames to display. \n",
    ">* 1 is the number of die rolls to summarize in each animation frame.\n"
   ]
  },
  {
   "cell_type": "markdown",
   "metadata": {},
   "source": [
    "* To see the law of large numbers in action, increase the execution speed by rolling the die more times per animation frame: \n",
    "```python\n",
    "ipython RollDieDynamic.py 10000 600\n",
    "```\n",
    "*  In this case, `FuncAnimation` perform 10,000 updates, with 600 rolls-per-frame for a total of 6,000,000 rolls. "
   ]
  },
  {
   "cell_type": "markdown",
   "metadata": {},
   "source": [
    "### Sample Executions"
   ]
  },
  {
   "cell_type": "markdown",
   "metadata": {},
   "source": [
    "![Screen capture showing the graph after 64 of 6000 total die rolls](ch06images/Animation_01.png \"Screen capture showing the graph after 64 of 6000 total die rolls\")"
   ]
  },
  {
   "cell_type": "markdown",
   "metadata": {},
   "source": [
    "![Screen capture showing the graph after 604 of the 6000 total die rolls](ch06images/Animation_02.png \"Screen capture showing the graph after 604 of 6000 total die rolls\")"
   ]
  },
  {
   "cell_type": "markdown",
   "metadata": {},
   "source": [
    "![Screen capture showing the graph after 7200 of the 6,000,000 total die rolls](ch06images/Animation_03.png \"Screen capture showing the graph after 7200 of the 6,000,000 total die rolls\")"
   ]
  },
  {
   "cell_type": "markdown",
   "metadata": {},
   "source": [
    "![Screen capture showing the graph after 166,200 of the 6,000,000 total die rolls](ch06images/Animation_04.png \"Screen capture showing the graph after 166,200 of the 6,000,000 total die rolls\")"
   ]
  },
  {
   "cell_type": "markdown",
   "metadata": {},
   "source": [
    "## 6.4.2 Implementing a Dynamic Visualization "
   ]
  },
  {
   "cell_type": "markdown",
   "metadata": {},
   "source": [
    "### Importing the Matplotlib `animation` Module\n",
    "* We focus primarily on the new features used in this example. \n",
    "* We import the Matplotlib `animation` module to access ``FuncAnimation`.\n",
    "\n",
    "```python \n",
    "# RollDieDynamic.py\n",
    "\"\"\"Dynamically graphing frequencies of die rolls.\"\"\"\n",
    "from matplotlib import animation\n",
    "import matplotlib.pyplot as plt\n",
    "import random \n",
    "import seaborn as sns\n",
    "import sys\n",
    "```"
   ]
  },
  {
   "cell_type": "markdown",
   "metadata": {},
   "source": [
    "### Function `update`\n",
    "```python\n",
    "def update(frame_number, rolls, faces, frequencies):\n",
    "    \"\"\"Configures bar plot contents for each animation frame.\"\"\"\n",
    "\n",
    "```\n",
    "* `FuncAnimation` calls the `update` function once per animation frame. \n",
    "* This function must receive at least one argument. \n",
    "* Parameters:\n",
    "    * `frame_number`—The next value from `FuncAnimation`’s `frames` argument, which we’ll discuss momentarily. Though `FuncAnimation` requires the `update` function to have this parameter, we do not use it in this `update` function.\n",
    "    * `rolls`—The number of die rolls per animation frame.\n",
    "    * `faces`—The die face values used as labels along the graph’s _x_-axis.\n",
    "    * `frequencies`—The list in which we summarize the die frequencies.\n",
    "\n",
    "We discuss the rest of the function’s body below.\n"
   ]
  },
  {
   "cell_type": "markdown",
   "metadata": {},
   "source": [
    "### Function `update`: Rolling the Die and Updating the `frequencies` List\n",
    "* Roll the die `rolls` times and increment the appropriate `frequencies` element for each roll. \n",
    "\n",
    "```python\n",
    "    # roll die and update frequencies\n",
    "    for i in range(rolls):\n",
    "        frequencies[random.randrange(1, 7) - 1] += 1 \n",
    "```"
   ]
  },
  {
   "cell_type": "markdown",
   "metadata": {},
   "source": [
    "### Function `update`: Configuring the Bar Plot and Text \n",
    "* The `matplotlib.pyplot` module’s **`cla`** (clear axes) function removes the existing bar plot elements before drawing new ones for the current animation frame. \n",
    "* We discussed the other code below in the previous chapter’s Intro to Data Science section.\n",
    "\n",
    "```python\n",
    "    # reconfigure plot for updated die frequencies\n",
    "    plt.cla()  # clear old contents contents of current Figure\n",
    "    axes = sns.barplot(faces, frequencies, palette='bright')  # new bars\n",
    "    axes.set_title(f'Die Frequencies for {sum(frequencies):,} Rolls')\n",
    "    axes.set(xlabel='Die Value', ylabel='Frequency')  \n",
    "    axes.set_ylim(top=max(frequencies) * 1.10)  # scale y-axis by 10%\n",
    "\n",
    "    # display frequency & percentage above each patch (bar)\n",
    "    for bar, frequency in zip(axes.patches, frequencies):\n",
    "        text_x = bar.get_x() + bar.get_width() / 2.0  \n",
    "        text_y = bar.get_height() \n",
    "        text = f'{frequency:,}\\n{frequency / sum(frequencies):.3%}'\n",
    "        axes.text(text_x, text_y, text, ha='center', va='bottom')\n",
    "\n",
    "```"
   ]
  },
  {
   "cell_type": "markdown",
   "metadata": {},
   "source": [
    "### Variables Used to Configure the Graph and Maintain State\n",
    "* The `sys` module’s `argv` list contains the script’s command-line arguments. \n",
    "* The `matplotlib.pyplot` module’s **`figure`** function gets a `Figure` object in which `FuncAnimation` displays the animation &mdash; one of `FuncAnimation`’s required arguments. \n",
    "\n",
    "```python\n",
    "# read command-line arguments for number of frames and rolls per frame\n",
    "number_of_frames = int(sys.argv[1])  \n",
    "rolls_per_frame = int(sys.argv[2])  \n",
    "\n",
    "sns.set_style('whitegrid')  # white background with gray grid lines\n",
    "figure = plt.figure('Rolling a Six-Sided Die')  # Figure for animation\n",
    "values = list(range(1, 7))  # die faces for display on x-axis\n",
    "frequencies = [0] * 6  # six-element list of die frequencies\n",
    "```"
   ]
  },
  {
   "cell_type": "markdown",
   "metadata": {},
   "source": [
    "### Calling the `animation` Module’s `FuncAnimation` Function\n",
    "* `FuncAnimation` returns an object representing the animation. \n",
    "* Though this is not used explicitly, you _must_ store the reference to the animation; otherwise, Python immediately terminates the animation and returns its memory to the system. \n",
    "\n",
    "```python\n",
    "# configure and start animation that calls function update\n",
    "die_animation = animation.FuncAnimation(\n",
    "    figure, update, repeat=False, frames=number_of_frames, interval=33,\n",
    "    fargs=(rolls_per_frame, values, frequencies))\n",
    "\n",
    "plt.show()  # display window\n",
    "\n",
    "```"
   ]
  },
  {
   "cell_type": "markdown",
   "metadata": {},
   "source": [
    "`FuncAnimation` has two required arguments:\n",
    "* `figure`—the `Figure` object in which to display the animation, and\n",
    "* `update`—the function to call once per animation frame.\n",
    "\n",
    "* Optional keyword arguments:\n",
    "    * **`repeat`**—If `True` (the default), when the animation completes it restarts from the beginning.\n",
    "    * **`frames`**—The total number of animation frames, which controls how many times `FunctAnimation` calls `update`. \n",
    "    * **`interval`**—The number of milliseconds between animation frames (the default is 200).\n",
    "    * **`fargs`** (short for “function arguments”)—A tuple of other arguments to pass to the function you specified in `FuncAnimation`’s second argument. \n",
    "* [`FuncAnimation`’s other optional arguments](https://matplotlib.org/api/_as_gen/matplotlib.animation.FuncAnimation.html)\n"
   ]
  },
  {
   "cell_type": "markdown",
   "metadata": {},
   "source": [
    "------\n",
    "&copy;1992&ndash;2020 by Pearson Education, Inc. All Rights Reserved. This content is based on Chapter 6 of the book [**Intro to Python for Computer Science and Data Science: Learning to Program with AI, Big Data and the Cloud**](https://amzn.to/2VvdnxE).\n",
    "\n",
    "DISCLAIMER: The authors and publisher of this book have used their \n",
    "best efforts in preparing the book. These efforts include the \n",
    "development, research, and testing of the theories and programs \n",
    "to determine their effectiveness. The authors and publisher make \n",
    "no warranty of any kind, expressed or implied, with regard to these \n",
    "programs or to the documentation contained in these books. The authors \n",
    "and publisher shall not be liable in any event for incidental or \n",
    "consequential damages in connection with, or arising out of, the \n",
    "furnishing, performance, or use of these programs.                  "
   ]
  }
 ],
 "metadata": {
  "celltoolbar": "Slideshow",
  "kernelspec": {
   "display_name": "Python 3",
   "language": "python",
   "name": "python3"
  },
  "language_info": {
   "codemirror_mode": {
    "name": "ipython",
    "version": 3
   },
   "file_extension": ".py",
   "mimetype": "text/x-python",
   "name": "python",
   "nbconvert_exporter": "python",
   "pygments_lexer": "ipython3",
   "version": "3.7.3"
  }
 },
 "nbformat": 4,
 "nbformat_minor": 2
}
