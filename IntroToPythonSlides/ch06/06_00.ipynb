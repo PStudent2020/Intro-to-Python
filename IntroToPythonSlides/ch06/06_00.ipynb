{
 "cells": [
  {
   "cell_type": "markdown",
   "metadata": {
    "slideshow": {
     "slide_type": "slide"
    }
   },
   "source": [
    "# 6. Dictionaries and Sets"
   ]
  },
  {
   "cell_type": "markdown",
   "metadata": {
    "slideshow": {
     "slide_type": "slide"
    }
   },
   "source": [
    "### Objectives \n",
    "In this chapter, you’ll:\n",
    "* Use dictionaries to represent unordered collections of key–value pairs.\n",
    "* Use sets to represent unordered collections of unique values.\n",
    "* Create, initialize and refer to elements of dictionaries and sets. \n",
    "* Iterate through a dictionary’s keys, values and key–value pairs.\n",
    "* Add, remove and update a dictionary’s key–value pairs. "
   ]
  },
  {
   "cell_type": "markdown",
   "metadata": {
    "slideshow": {
     "slide_type": "slide"
    }
   },
   "source": [
    "### Objectives (cont.)\n",
    "* Use dictionary and set comparison operators.\n",
    "* Combine sets with set operators and methods. \n",
    "* Use operators `in` and `not` `in` to determine if a dictionary contains a key or a set contains a value.\n",
    "* Use the mutable set operations to modify a set’s contents.\n",
    "* Use comprehensions to create dictionaries and sets quickly and conveniently.\n",
    "* Learn how to build dynamic visualizations and implement more of your own in the exercises.\n",
    "* Enhance your understanding of mutability and immutability."
   ]
  },
  {
   "cell_type": "markdown",
   "metadata": {
    "slideshow": {
     "slide_type": "slide"
    }
   },
   "source": [
    "### Outline\n",
    "* [6.1 Introduction](06_01.ipynb)\n",
    "* [6.2 Dictionaries](06_02.00.ipynb)\n",
    "    * [6.2.1 Creating a Dictionary](06_02.01.ipynb)\n",
    "    * [6.2.2 Iterating through a Dictionary](06_02.02.ipynb)\n",
    "    * [6.2.3 Basic Dictionary Operations](06_02.03.ipynb)\n",
    "    * [6.2.4 Dictionary Methods keys and values](06_02.04.ipynb)\n",
    "    * [6.2.5 Dictionary Comparisons](06_02.05.ipynb)\n",
    "    * [6.2.6 Example: Dictionary of Student Grades](06_02.06.ipynb)\n",
    "    * [6.2.7 Example: Word Counts](06_02.07.ipynb)\n",
    "    * [6.2.8 Dictionary Method update](06_02.08.ipynb)\n",
    "    * [6.2.9 Dictionary Comprehensions](06_02.09.ipynb)"
   ]
  },
  {
   "cell_type": "markdown",
   "metadata": {
    "slideshow": {
     "slide_type": "slide"
    }
   },
   "source": [
    "### Outline (cont.)\n",
    "* [6.3   Sets](06_03.00.ipynb)\n",
    "    * [6.3.1 Comparing Sets](06_03.01.ipynb)\n",
    "    * [6.3.2 Mathematical Set Operations](06_03.02.ipynb)\n",
    "    * [6.3.3 Mutable Set Operators and Methods](06_03.03.ipynb)\n",
    "    * [6.3.4 Set Comprehensions](06_03.04.ipynb)\n",
    "* [6.4 Intro to Data Science: Dynamic Visualizations](06_04.ipynb)\n",
    "    * 6.4.1 How Dynamic Visualization Works\n",
    "    * 6.4.2 Implementing a Dynamic Visualization\n",
    "6.5 Wrap-Up \n",
    "Exercises"
   ]
  },
  {
   "cell_type": "markdown",
   "metadata": {},
   "source": [
    "------\n",
    "&copy;1992&ndash;2020 by Pearson Education, Inc. All Rights Reserved. This content is based on Chapter 6 of the book [**Intro to Python for Computer Science and Data Science: Learning to Program with AI, Big Data and the Cloud**](https://amzn.to/2VvdnxE).\n",
    "\n",
    "DISCLAIMER: The authors and publisher of this book have used their \n",
    "best efforts in preparing the book. These efforts include the \n",
    "development, research, and testing of the theories and programs \n",
    "to determine their effectiveness. The authors and publisher make \n",
    "no warranty of any kind, expressed or implied, with regard to these \n",
    "programs or to the documentation contained in these books. The authors \n",
    "and publisher shall not be liable in any event for incidental or \n",
    "consequential damages in connection with, or arising out of, the \n",
    "furnishing, performance, or use of these programs.                  "
   ]
  }
 ],
 "metadata": {
  "celltoolbar": "Slideshow",
  "kernelspec": {
   "display_name": "Python 3",
   "language": "python",
   "name": "python3"
  },
  "language_info": {
   "codemirror_mode": {
    "name": "ipython",
    "version": 3
   },
   "file_extension": ".py",
   "mimetype": "text/x-python",
   "name": "python",
   "nbconvert_exporter": "python",
   "pygments_lexer": "ipython3",
   "version": "3.7.3"
  }
 },
 "nbformat": 4,
 "nbformat_minor": 2
}
