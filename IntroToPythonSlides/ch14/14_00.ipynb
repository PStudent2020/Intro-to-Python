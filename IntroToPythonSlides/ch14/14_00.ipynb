{
 "cells": [
  {
   "cell_type": "markdown",
   "metadata": {},
   "source": [
    "# 14. IBM Watson and Cognitive Computing\n",
    "# Objectives\n",
    "* Learn Watson’s range of\n",
    "services and use their Lite tier\n",
    "to become familiar with them\n",
    "at no charge.\n",
    "* Try lots of demos of Watson\n",
    "services.\n",
    "* Understand what cognitive\n",
    "computing is and how you\n",
    "can incorporate it into your\n",
    "applications.\n",
    "* Register for an IBM Cloud\n",
    "account and get credentials to\n",
    "use various services.\n",
    "* Install the Watson Developer\n",
    "Cloud Python SDK to interact\n",
    "with Watson services.\n",
    "* Develop a traveler’s\n",
    "companion language\n",
    "translator app by using Python\n",
    "to weave together a mashup of\n",
    "the Watson Speech to Text,\n",
    "Language Translator and Text\n",
    "to Speech services.\n",
    "* Learn about the Watson\n",
    "Analytics platform’s\n",
    "automated data preparation,\n",
    "predictive modeling and\n",
    "visualization capabilities.\n",
    "* Check out additional\n",
    "resources, such as IBM\n",
    "Watson Redbooks that will\n",
    "help you jump start your\n",
    "custom Watson application\n",
    "development."
   ]
  },
  {
   "cell_type": "markdown",
   "metadata": {},
   "source": [
    "# Outline\n",
    "* [14.1 Introduction: IBM Watson and Cognitive Computing](./14_01.ipynb)\n",
    "* [14.2 IBM Cloud Account and Cloud Console](./14_02.ipynb)\n",
    "* [14.3 Watson Services](./14_03.ipynb)\n",
    "* [14.4 Additional Services and Tools](./14_04.ipynb)\n",
    "* [14.5 Watson Developer Cloud Python SDK](./14_05.ipynb)\n",
    "* [14.6 Case Study: Traveler’s Companion Translation App](./14_06.ipynb)\n",
    "    * 14.6.1 Before You Run the App\n",
    "    * 14.6.2 Test-Driving the App\n",
    "    * 14.6.3 SimpleLanguageTranslator.py Script Walkthrough\n",
    "* [14.7 Watson Resources](./14_07.ipynb)\n",
    "* 14.8 Wrap-Up\n",
    "* Exercises"
   ]
  },
  {
   "cell_type": "markdown",
   "metadata": {},
   "source": [
    "------\n",
    "&copy;1992&ndash;2020 by Pearson Education, Inc. All Rights Reserved. This content is based on Chapter 5 of the book [**Intro to Python for Computer Science and Data Science: Learning to Program with AI, Big Data and the Cloud**](https://amzn.to/2VvdnxE).\n",
    "\n",
    "DISCLAIMER: The authors and publisher of this book have used their \n",
    "best efforts in preparing the book. These efforts include the \n",
    "development, research, and testing of the theories and programs \n",
    "to determine their effectiveness. The authors and publisher make \n",
    "no warranty of any kind, expressed or implied, with regard to these \n",
    "programs or to the documentation contained in these books. The authors \n",
    "and publisher shall not be liable in any event for incidental or \n",
    "consequential damages in connection with, or arising out of, the \n",
    "furnishing, performance, or use of these programs.                  "
   ]
  }
 ],
 "metadata": {
  "celltoolbar": "Slideshow",
  "kernelspec": {
   "display_name": "Python 3",
   "language": "python",
   "name": "python3"
  },
  "language_info": {
   "codemirror_mode": {
    "name": "ipython",
    "version": 3
   },
   "file_extension": ".py",
   "mimetype": "text/x-python",
   "name": "python",
   "nbconvert_exporter": "python",
   "pygments_lexer": "ipython3",
   "version": "3.7.3"
  }
 },
 "nbformat": 4,
 "nbformat_minor": 2
}
