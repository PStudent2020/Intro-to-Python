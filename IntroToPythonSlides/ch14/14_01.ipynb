{
 "cells": [
  {
   "cell_type": "markdown",
   "metadata": {},
   "source": [
    "# 14.1 Introduction: IBM Watson and Cognitive Computing\n",
    "* Cloud-based **cognitive-computing** platform employed across a wide range of real-world applications\n",
    "* **Cognitive-computing systems** simulate the **pattern-recognition** and **decision-making** capabilities of the human brain to **“learn”** as they **consume more data** [\\[4\\]](http://whatis.techtarget.com/definition/cognitive-computing), [\\[5\\]](https://en.wikipedia.org/wiki/Cognitive_computing), [\\[6\\]](https://www.forbes.com/sites/bernardmarr/2016/03/23/what-everyone-should-know-about-cognitive-computing)\n",
    "* **IBM artificial-intelligence accomplishments** include beating the two best human **Jeopardy!** players \n",
    "    * Watson simultaneously executed hundreds of language-analysis algorithms to locate correct answers in **200 million pages of content** (including all of **Wikipedia**) requiring **four terabytes of storage** [\\[1\\]](https://www.techrepublic.com/article/ibm-watson-the-inside-story-of-how-the-jeopardy-winning-supercomputer-was-born-and-what-it-wants-to-do-next/), [\\[2\\]](https://en.wikipedia.org/wiki/Watson_(computer))\n",
    "    * IBM researchers trained Watson using **machine-learning** and **reinforcement-learning** techniques [\\[3\\]](https://www.aaai.org/Magazine/Watson/watson.php) \n",
    "* **“No credit card required” policy** and **free Lite tier** make it easy to **experiment with Watson**\n",
    "* We overview Watson’s **web services** and demonstrate some Watson capabilities"
   ]
  },
  {
   "cell_type": "markdown",
   "metadata": {},
   "source": [
    "# 14.1 Introduction: IBM Watson and Cognitive Computing (cont.)\n",
    "* The following table shows some of the ways in which organizations are using Watson. \n",
    "\n",
    "| Watson use cases \t| &nbsp; \t| &nbsp; \n",
    "| :---\t| :--- \t| :---\n",
    "| ad targeting | artificial intelligence | augmented intelligence\n",
    "| augmented reality | chatbots | closed captioning\n",
    "| cognitive computing | conversational interfaces | crime prevention\n",
    "| customer support | detecting cyberbullying | drug development\n",
    "| education | facial recognition | finance\n",
    "| fraud prevention | game playing | genetics"
   ]
  },
  {
   "cell_type": "markdown",
   "metadata": {},
   "source": [
    "# 14.1 Introduction: IBM Watson and Cognitive Computing (cont.)\n",
    "| Watson use cases \t| &nbsp; \t| &nbsp; \n",
    "| :---\t| :--- \t| :---\n",
    "| language translation | machine learning | malware detection\n",
    "| medical diagnosis and treatment | medical imaging | music\n",
    "| natural language processing | natural language understanding | object recognition \n",
    "| personal assistants | predictive maintenance  | product recommendations\n",
    "| robots and drones | self-driving cars | sentiment & mood analysis\n",
    "| smart homes | sports | supply-chain management\n",
    "| threat detection | virtual reality | voice analysis\n",
    "| healthcare | image processing | IoT (Internet of Things)\n"
   ]
  },
  {
   "cell_type": "markdown",
   "metadata": {},
   "source": [
    "# 14.1 Introduction: IBM Watson and Cognitive Computing (cont.)\n",
    "* **Watson demos** allow you to experiment with various **web services**\n",
    "    * natural language translation\n",
    "    * speech-to-text\n",
    "    * text-to-speech\n",
    "    * natural language understanding\n",
    "    * chatbots\n",
    "    * analyzing text for tone\n",
    "    * visual object recognition in images and video\n",
    "* We'll develop a **traveler’s companion translation app** by quickly and conveniently **mashing up several Watson services**\n",
    "    * Enables **English-only** and **Spanish-only speakers** to communicate with one another verbally, despite the language barrier"
   ]
  },
  {
   "cell_type": "markdown",
   "metadata": {},
   "source": [
    "------\n",
    "&copy;1992&ndash;2020 by Pearson Education, Inc. All Rights Reserved. This content is based on Chapter 5 of the book [**Intro to Python for Computer Science and Data Science: Learning to Program with AI, Big Data and the Cloud**](https://amzn.to/2VvdnxE).\n",
    "\n",
    "DISCLAIMER: The authors and publisher of this book have used their \n",
    "best efforts in preparing the book. These efforts include the \n",
    "development, research, and testing of the theories and programs \n",
    "to determine their effectiveness. The authors and publisher make \n",
    "no warranty of any kind, expressed or implied, with regard to these \n",
    "programs or to the documentation contained in these books. The authors \n",
    "and publisher shall not be liable in any event for incidental or \n",
    "consequential damages in connection with, or arising out of, the \n",
    "furnishing, performance, or use of these programs.                  "
   ]
  }
 ],
 "metadata": {
  "celltoolbar": "Slideshow",
  "kernelspec": {
   "display_name": "Python 3",
   "language": "python",
   "name": "python3"
  },
  "language_info": {
   "codemirror_mode": {
    "name": "ipython",
    "version": 3
   },
   "file_extension": ".py",
   "mimetype": "text/x-python",
   "name": "python",
   "nbconvert_exporter": "python",
   "pygments_lexer": "ipython3",
   "version": "3.7.3"
  }
 },
 "nbformat": 4,
 "nbformat_minor": 2
}
