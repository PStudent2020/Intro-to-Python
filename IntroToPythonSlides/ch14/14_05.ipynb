{
 "cells": [
  {
   "cell_type": "markdown",
   "metadata": {},
   "source": [
    "**Instructor Note:** Since the book's publication, the `watson_developer_cloud` module has been renamed `ibm_watson`. This has been fixed in the code provided with these Chapter 14 notebooks."
   ]
  },
  {
   "cell_type": "markdown",
   "metadata": {},
   "source": [
    "# 13.5 Watson Developer Cloud Python SDK \n",
    "* IBM provides the **Watson Developer Cloud Python SDK** \n",
    "* **`ibm_watson` module**: Classes for **interacting with Watson services**\n",
    "* [**Install the SDK**](https://github.com/watson-developer-cloud/python-sdk/) \n",
    "    * **Windows users** might need to [install Microsoft’s C++ build tools](https://visualstudio.microsoft.com/visual-cpp-build-tools/), then install the watson-developer-cloud module)\n",
    "\n",
    ">```\n",
    "pip install --upgrade ibm-watson\n",
    "```"
   ]
  },
  {
   "cell_type": "markdown",
   "metadata": {},
   "source": [
    "### Modules We’ll Need for Audio Recording and Playback \n",
    ">```\n",
    "pip install pyaudio\n",
    "pip install pydub \n",
    "```\n",
    "\n",
    "* **Mac users** might first need to execute \n",
    ">`conda install -c conda-forge portaudio`\n"
   ]
  },
  {
   "cell_type": "markdown",
   "metadata": {},
   "source": [
    "### SDK Samples\n",
    "* On GitHub, [**IBM provides sample code**](https://github.com/watson-developer-cloud/python-sdk/tree/master/examples) \n",
    "    * Demonstrates **accessing Watson services** using the SDK’s classes"
   ]
  },
  {
   "cell_type": "markdown",
   "metadata": {},
   "source": [
    "------\n",
    "&copy;1992&ndash;2020 by Pearson Education, Inc. All Rights Reserved. This content is based on Chapter 5 of the book [**Intro to Python for Computer Science and Data Science: Learning to Program with AI, Big Data and the Cloud**](https://amzn.to/2VvdnxE).\n",
    "\n",
    "DISCLAIMER: The authors and publisher of this book have used their \n",
    "best efforts in preparing the book. These efforts include the \n",
    "development, research, and testing of the theories and programs \n",
    "to determine their effectiveness. The authors and publisher make \n",
    "no warranty of any kind, expressed or implied, with regard to these \n",
    "programs or to the documentation contained in these books. The authors \n",
    "and publisher shall not be liable in any event for incidental or \n",
    "consequential damages in connection with, or arising out of, the \n",
    "furnishing, performance, or use of these programs.                  "
   ]
  }
 ],
 "metadata": {
  "celltoolbar": "Slideshow",
  "kernelspec": {
   "display_name": "Python 3",
   "language": "python",
   "name": "python3"
  },
  "language_info": {
   "codemirror_mode": {
    "name": "ipython",
    "version": 3
   },
   "file_extension": ".py",
   "mimetype": "text/x-python",
   "name": "python",
   "nbconvert_exporter": "python",
   "pygments_lexer": "ipython3",
   "version": "3.7.3"
  }
 },
 "nbformat": 4,
 "nbformat_minor": 2
}
