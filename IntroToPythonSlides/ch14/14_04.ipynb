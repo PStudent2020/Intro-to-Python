{
 "cells": [
  {
   "cell_type": "markdown",
   "metadata": {},
   "source": [
    "# 14.4 Additional Services and Tools "
   ]
  },
  {
   "cell_type": "markdown",
   "metadata": {},
   "source": [
    "### [Watson Studio](https://cloud.ibm.com/catalog/services/data-science-experience)\n",
    "* For **creating and managing** Watson projects and for **collaborating with others** on those projects\n",
    "    * Add and prepare data for analysis \n",
    "    * Create **Jupyter Notebooks** for interacting with data\n",
    "    * **Create and train models** \n",
    "    * Work with Watson’s **deep-learning** capabilities\n",
    "* Offers a **single-user Lite tier**"
   ]
  },
  {
   "cell_type": "markdown",
   "metadata": {},
   "source": [
    "### [**Preconfigured Watson Studio projects**](https://dataplatform.cloud.ibm.com/) \n",
    "* Click **Create a project** to view them: \n",
    "\t* **Standard**—“Work with any type of asset. Add services for analytical assets as you need them.”\n",
    "\t* **Data Science and AutoAI**—“**Analyze and model data** to **discover insights** or **generate predictions**.”\n",
    "\t* **Visual Recognition**—“**Tag and classify visual content** using the **Watson Visual Recognition service**.”\n",
    "\t* **Deep Learning**—“**Build neural networks** and **deploy deep learning models**.”\n",
    "\t* **Modeler**—“Build modeler flows to **train SPSS models** or **design deep neural networks**.”\n",
    "\t* **Business Analytics**—“Create **visual dashboards** from your data to gain insights faster.”\n",
    "\t* **Data Engineering**—“**Combine**, **cleanse**, **analyze**, and **shape data** using **Data Refinery**.”\n",
    "\t* **Streams Flow**—“**Ingest and analyze streaming data** using the **Streaming Analytics service**.”"
   ]
  },
  {
   "cell_type": "markdown",
   "metadata": {},
   "source": [
    "### [Knowledge Studio](https://cloud.ibm.com/catalog/services/knowledge-studio) \n",
    "* Various Watson services work with **predefined models**\n",
    "* Also can provide **custom models** trained for specific industries or applications \n",
    "* **Knowledge Studio** helps you **build custom models**"
   ]
  },
  {
   "cell_type": "markdown",
   "metadata": {},
   "source": [
    "### [Machine Learning](https://cloud.ibm.com/catalog/services/machine-learning) \n",
    "* **Add predictive capabilities to your apps** via popular **machine-learning frameworks**\n",
    "    * **Tensorflow**, **Keras**, **scikit-learn** and others"
   ]
  },
  {
   "cell_type": "markdown",
   "metadata": {},
   "source": [
    "### [Knowledge Catalog](https://medium.com/ibm-watson/introducing-ibm-watson-knowledge-catalog-cf42c13032c1) \n",
    "* Among its features (https://dataplatform.cloud.ibm.com/docs/content/wsj/catalog/overview-wkc.html)\n",
    "\t* Central access to an enterprise’s local and **cloud-based data** and **machine learning models**\n",
    "\t* **Watson Studio support** so users can **find and access data**, then easily use it in **machine-learning projects**\n",
    "\t* **Secure** access to specific data \n",
    "\t* Support for over 100 **data cleaning and wrangling operations**\n",
    "\t* And more "
   ]
  },
  {
   "cell_type": "markdown",
   "metadata": {},
   "source": [
    "### [Cognos Analytics](https://www.ibm.com/products/cognos-analytics) \n",
    "* Uses **AI and machine learning** to discover and visualize information in your data, **without any programming** \n",
    "* Provides a **natural-language interface** that **enables you to ask questions** \n",
    "    * **Cognos Analytics** answers using knowledge it gathers from your data\n",
    "* Has a **30-day free trial**"
   ]
  },
  {
   "cell_type": "markdown",
   "metadata": {},
   "source": [
    "------\n",
    "&copy;1992&ndash;2020 by Pearson Education, Inc. All Rights Reserved. This content is based on Chapter 5 of the book [**Intro to Python for Computer Science and Data Science: Learning to Program with AI, Big Data and the Cloud**](https://amzn.to/2VvdnxE).\n",
    "\n",
    "DISCLAIMER: The authors and publisher of this book have used their \n",
    "best efforts in preparing the book. These efforts include the \n",
    "development, research, and testing of the theories and programs \n",
    "to determine their effectiveness. The authors and publisher make \n",
    "no warranty of any kind, expressed or implied, with regard to these \n",
    "programs or to the documentation contained in these books. The authors \n",
    "and publisher shall not be liable in any event for incidental or \n",
    "consequential damages in connection with, or arising out of, the \n",
    "furnishing, performance, or use of these programs.                  "
   ]
  }
 ],
 "metadata": {
  "celltoolbar": "Slideshow",
  "kernelspec": {
   "display_name": "Python 3",
   "language": "python",
   "name": "python3"
  },
  "language_info": {
   "codemirror_mode": {
    "name": "ipython",
    "version": 3
   },
   "file_extension": ".py",
   "mimetype": "text/x-python",
   "name": "python",
   "nbconvert_exporter": "python",
   "pygments_lexer": "ipython3",
   "version": "3.7.3"
  }
 },
 "nbformat": 4,
 "nbformat_minor": 2
}
