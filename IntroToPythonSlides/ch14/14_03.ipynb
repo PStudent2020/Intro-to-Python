{
 "cells": [
  {
   "cell_type": "markdown",
   "metadata": {},
   "source": [
    "**Instructor Note:** We cut this section down from the book to show some of the more interesting demos\n",
    "\n",
    "# 14.3 Watson Services \n",
    "* **Run the demos** to see the services in action\n",
    "* [Links to each Watson service’s documentation and API reference](https://cloud.ibm.com/developer/watson/documentation)"
   ]
  },
  {
   "cell_type": "markdown",
   "metadata": {},
   "source": [
    "### [Watson Assistant](https://cloud.ibm.com/catalog/services/watson-assistant) \n",
    "* Build **chatbots** and **virtual assistants** &mdash; users interact via **natural language text**\n",
    "* Can be **trained** for specific scenarios\n",
    "    * Train a **Weather chatbot** to respond to questions like, “What is the weather forecast for New York City?” \n",
    "    * Train a **customer service** chatbot to **answer customer questions**, **route customers to the correct department**, ...\n",
    "* Resources\n",
    "    * [Typical \"intents\"](https://cloud.ibm.com/docs/services/assistant?topic=assistant-catalog)\n",
    "    * [IBM Code Bot Exchange](https://developer.ibm.com/code/exchanges/bots/)&mdash;get existing bots and post your own\n",
    "    * [Other bot resources](https://cloud.ibm.com/docs/services/assistant?topic=assistant-resources#developer-resources)  \n",
    "* [**Try the demo**](https://watson-assistant-demo.ng.bluemix.net/) to see some sample interactions"
   ]
  },
  {
   "cell_type": "markdown",
   "metadata": {},
   "source": [
    "### [Visual Recognition](https://cloud.ibm.com/catalog/services/visual-recognition) \n",
    "* Enables apps to **locate and understand information in images and video**\n",
    "    * colors\n",
    "    * objects\n",
    "    * faces\n",
    "    * text\n",
    "    * food\n",
    "    * inappropriate content\n",
    "* Use **predefined models** or **train/use your own**\n",
    "* [**Try the demo**](https://www.ibm.com/watson/services/visual-recognition/demo/) "
   ]
  },
  {
   "cell_type": "markdown",
   "metadata": {},
   "source": [
    "### [Speech to Text](https://cloud.ibm.com/catalog/services/speech-to-text)\n",
    "* Converts **speech audio files** to **text transcriptions**  \n",
    "* Can **“listen”** for keywords you specify\n",
    "* Can **distinguish among multiple speakers** \n",
    "* Use for **voice-controlled apps**, **transcribing live audio** and more\n",
    "* [**Try the demo**](https://speech-to-text-demo.ng.bluemix.net/)"
   ]
  },
  {
   "cell_type": "markdown",
   "metadata": {},
   "source": [
    "### [Text to Speech](https://cloud.ibm.com/catalog/services/text-to-speech) \n",
    "* **Synthesizes speech from text**\n",
    "* **Speech Synthesis Markup Language (SSML)** to control **voice inflection**, **cadence**, **pitch** and more\n",
    "* Currently supports \n",
    "    * English (U.S. and U.K.)\n",
    "    * French\n",
    "    * German\n",
    "    * Italian\n",
    "    * Spanish\n",
    "    * Portuguese\n",
    "    * Japanese\n",
    "* [**Try the demo**](https://text-to-speech-demo.ng.bluemix.net/)"
   ]
  },
  {
   "cell_type": "markdown",
   "metadata": {},
   "source": [
    "### [Language Translator](https://cloud.ibm.com/catalog/services/language-translator)\n",
    "* Translate text to other languages\n",
    "* Identify text's language (60+ supported languages)\n",
    "* [**Try the demo**](https://language-translator-demo.ng.bluemix.net/) "
   ]
  },
  {
   "cell_type": "markdown",
   "metadata": {},
   "source": [
    "### [Natural Language Understanding](https://cloud.ibm.com/catalog/services/natural-language-understanding) \n",
    "* Analyzes text for \n",
    "    * **sentiment** and **emotion** \n",
    "    * keywords **ranked by their relevance**\n",
    "* Can identify \n",
    "\t* **people**, **places**, **job titles**, **organizations**, **companies** and **quantities**\n",
    "\t* categories and concepts like **sports**, **government** and **politics**\n",
    "\t* **parts of speech** \n",
    "* Train for industry- and application-specific domains with **Watson Knowledge Studio** \n",
    "* [**Try the demo**](https://natural-language-understanding-demo.ng.bluemix.net/) "
   ]
  },
  {
   "cell_type": "markdown",
   "metadata": {},
   "source": [
    "### [Personality Insights](https://cloud.ibm.com/catalog/services/personality-insights) \n",
    "* Analyzes text for **personality traits**\n",
    "* \"Gain insight into how and why people think, act, and feel the way they do.\"\n",
    "* **Target product advertising** at the people most likely to purchase those products \n",
    "* [**Try the demo**](https://personality-insights-demo.ng.bluemix.net/) "
   ]
  },
  {
   "cell_type": "markdown",
   "metadata": {},
   "source": [
    "------\n",
    "&copy;1992&ndash;2020 by Pearson Education, Inc. All Rights Reserved. This content is based on Chapter 5 of the book [**Intro to Python for Computer Science and Data Science: Learning to Program with AI, Big Data and the Cloud**](https://amzn.to/2VvdnxE).\n",
    "\n",
    "DISCLAIMER: The authors and publisher of this book have used their \n",
    "best efforts in preparing the book. These efforts include the \n",
    "development, research, and testing of the theories and programs \n",
    "to determine their effectiveness. The authors and publisher make \n",
    "no warranty of any kind, expressed or implied, with regard to these \n",
    "programs or to the documentation contained in these books. The authors \n",
    "and publisher shall not be liable in any event for incidental or \n",
    "consequential damages in connection with, or arising out of, the \n",
    "furnishing, performance, or use of these programs.                  "
   ]
  }
 ],
 "metadata": {
  "celltoolbar": "Slideshow",
  "kernelspec": {
   "display_name": "Python 3",
   "language": "python",
   "name": "python3"
  },
  "language_info": {
   "codemirror_mode": {
    "name": "ipython",
    "version": 3
   },
   "file_extension": ".py",
   "mimetype": "text/x-python",
   "name": "python",
   "nbconvert_exporter": "python",
   "pygments_lexer": "ipython3",
   "version": "3.7.3"
  }
 },
 "nbformat": 4,
 "nbformat_minor": 2
}
