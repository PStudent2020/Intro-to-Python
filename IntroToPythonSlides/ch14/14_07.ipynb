{
 "cells": [
  {
   "cell_type": "markdown",
   "metadata": {},
   "source": [
    "# 14.7 Watson Resources\n",
    "* IBM provides a wide range of **developer resources** to help you familiarize yourself with their services and use them to build applications effectively. \n",
    "\n",
    "### [Watson Services Documentation](https://cloud.ibm.com/developer/watson/documentation)\n",
    "* **Each service’s documentation** includes some or all of the following:\n",
    "    * **getting started tutorial**\n",
    "    * **video overview** of the service\n",
    "    * **service demo**\n",
    "    * links to more **how-to** and **tutorial documents**\n",
    "    * **sample apps**\n",
    "* **Python** tab shows **Python-specific documentation** and **code samples**  \n",
    "* **API reference** explains **service options** and **responses** "
   ]
  },
  {
   "cell_type": "markdown",
   "metadata": {},
   "source": [
    "### [Watson Learning Resources Page](https://cloud.ibm.com/developer/watson/learning-resources)\n",
    "* **Blog posts on Watson features** and how **Watson and AI** are being used in industry\n",
    "* **Watson’s GitHub repository** (**developer tools**, **SDKs** and **sample code**)\n",
    "* [**Watson YouTube channel**](https://www.youtube.com/user/IBMWatsonSolutions/) \n",
    "    * **Hundreds of videos** showing **how to use** all aspects of Watson \n",
    "    * Spotlight videos showing **how Watson is being used in industry**\n",
    "* **Code patterns**, “roadmaps for solving complex programming challenges” "
   ]
  },
  {
   "cell_type": "markdown",
   "metadata": {},
   "source": [
    "### IBM Redbooks Cover IBM Cloud and Watson Services in Detail\n",
    "* [Essentials of Application Development on IBM Cloud](http://www.redbooks.ibm.com/abstracts/sg248374.html)\n",
    "* [Building Cognitive Applications with IBM Watson Services: Volume 1 **Getting Started**](http://www.redbooks.ibm.com/abstracts/sg248387.html)\n",
    "* [Building Cognitive Applications with IBM Watson Services: Volume 2 **Conversation** (now called Watson Assistant)](http://www.redbooks.ibm.com/abstracts/sg248394.html)\n",
    "* [Building Cognitive Applications with IBM Watson Services: Volume 3 **Visual Recognition**](http://www.redbooks.ibm.com/abstracts/sg248393.html)\n",
    "* [Building Cognitive Applications with IBM Watson Services: Volume 4 **Natural Language Classifier**](http://www.redbooks.ibm.com/abstracts/sg248391.html)\n",
    "* [Building Cognitive Applications with IBM Watson Services: Volume 5 **Language Translator**](http://www.redbooks.ibm.com/abstracts/sg248392.html)\n",
    "* [Building Cognitive Applications with IBM Watson Services: Volume 6 **Speech to Text and Text to Speech**](http://www.redbooks.ibm.com/abstracts/sg248388.html)\n",
    "* [Building Cognitive Applications with IBM Watson Services: Volume 7 **Natural Language Understanding** ](http://www.redbooks.ibm.com/abstracts/sg248398.html)"
   ]
  },
  {
   "cell_type": "markdown",
   "metadata": {},
   "source": [
    "------\n",
    "&copy;1992&ndash;2020 by Pearson Education, Inc. All Rights Reserved. This content is based on Chapter 5 of the book [**Intro to Python for Computer Science and Data Science: Learning to Program with AI, Big Data and the Cloud**](https://amzn.to/2VvdnxE).\n",
    "\n",
    "DISCLAIMER: The authors and publisher of this book have used their \n",
    "best efforts in preparing the book. These efforts include the \n",
    "development, research, and testing of the theories and programs \n",
    "to determine their effectiveness. The authors and publisher make \n",
    "no warranty of any kind, expressed or implied, with regard to these \n",
    "programs or to the documentation contained in these books. The authors \n",
    "and publisher shall not be liable in any event for incidental or \n",
    "consequential damages in connection with, or arising out of, the \n",
    "furnishing, performance, or use of these programs.                  "
   ]
  }
 ],
 "metadata": {
  "celltoolbar": "Slideshow",
  "kernelspec": {
   "display_name": "Python 3",
   "language": "python",
   "name": "python3"
  },
  "language_info": {
   "codemirror_mode": {
    "name": "ipython",
    "version": 3
   },
   "file_extension": ".py",
   "mimetype": "text/x-python",
   "name": "python",
   "nbconvert_exporter": "python",
   "pygments_lexer": "ipython3",
   "version": "3.7.3"
  }
 },
 "nbformat": 4,
 "nbformat_minor": 2
}
