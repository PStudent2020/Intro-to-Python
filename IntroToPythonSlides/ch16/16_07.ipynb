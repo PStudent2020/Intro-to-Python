{
 "cells": [
  {
   "cell_type": "markdown",
   "metadata": {},
   "source": [
    "# 16.7 Visualizing Neural Network Training with TensorBoard\n",
    "* Difficult to know and fully understand all the details of deep learning networks\n",
    "* Creates challenges in testing, debugging and updating models and algorithms\n",
    "* Deep learning learns enormous numbers of features, and they may not be apparent to you \n",
    "* Google's [**TensorBoard dashboard tool**](https://github.com/tensorflow/tensorboard/blob/master/README.md) ([\\[1\\]](https://www.tensorflow.org/guide/summaries_and_tensorboard)) **visualizes neural networks** implemented in TensorFlow and Keras\n",
    "* Can give you insights into how well your model is learning and potentially help you **tune its hyperparameters**"
   ]
  },
  {
   "cell_type": "markdown",
   "metadata": {},
   "source": [
    "### Executing TensorBoard\n",
    "* Monitors a folder on your system looking for files containing data to visualize\n",
    "\t1. Change to the `ch16` folder\n",
    "\t2. Ensure your custom Anaconda environment `tf_env` is activated: \n",
    "    >```python\n",
    "    conda activate tf_env\n",
    "```\n",
    "\t3. Create a subfolder named `logs` in which your deep-learning models will write info to visualize\n",
    "\t4. Execute TensorBoard\n",
    "\t>```\n",
    "    tensorboard --logdir=logs\n",
    "```\n",
    "\t5. Access TensorBoard in your web browser at \n",
    "    `http://localhost:6006`\n",
    "* If you connect to TensorBoard before executing any models, it will initially display a page indicating “No dashboards are active for the current data set.” "
   ]
  },
  {
   "cell_type": "markdown",
   "metadata": {},
   "source": [
    "### The TensorBoard Dashboard \n",
    "* When TensorBoard sees updates in the **`logs`** folder, it loads the data into the dashboard: \n",
    "\n",
    "![TensorBoard visualization of a 10-epoch run of our MNIST convnet](./ch16images/tensorboard.png \"TensorBoard visualization of a 10-epoch run of our MNIST convnet\")"
   ]
  },
  {
   "cell_type": "markdown",
   "metadata": {},
   "source": [
    "### The TensorBoard Dashboard (cont.)\n",
    "* Can view the data as you train or after training completes\n",
    "* **Dashboard** above shows the **TensorBoard `SCALARS` tab**\n",
    "    * Displays **charts** for individual values that change over time, such as the **training accuracy (`acc`)**, **training loss (`loss`)**, **validation accuracy (`val_acc`)** and **validation loss (`val_loss`)** \n",
    "* We visualized a **10-epoch run of our MNIST convnet**, which we provided in the notebook **`MNIST_CNN_TensorBoard.ipynb`**\n",
    "* **Epochs** are displayed along the **_x_**-axes starting from 0 for the first epoch\n",
    "* The accuracy and loss values are displayed on the **_y_**-axes"
   ]
  },
  {
   "cell_type": "markdown",
   "metadata": {},
   "source": [
    "### The TensorBoard Dashboard (cont.)\n",
    "* First **5 epochs** show similar results to the five-epoch run in the previous section\n",
    "* For the 10-epoch run, the **training accuracy** continued to improve through the 9th epoch, then decreased slightly\n",
    "    * **Might be the point at which we’re starting to overfit**\n",
    "    * Could train longer to find out\n",
    "* The **validation accuracy** jumped up quickly, then was **relatively flat** for five epochs before **jumping** up then **decreasing**\n",
    "* The **training loss** dropped quickly, then continuously declined through the ninth epoch, before a slight increase\n",
    "* The **validation loss** dropped quickly then bounced around"
   ]
  },
  {
   "cell_type": "markdown",
   "metadata": {},
   "source": [
    "### The TensorBoard Dashboard (cont.)\n",
    "* Normally these diagrams are stacked vertically in the dashboard.\n",
    "* We used the search field (above the diagrams) to show any that had the name “mnist” in their folder name—we’ll configure that in a moment\n",
    "* **TensorBoard** can load data from multiple models at once and you can choose which to visualize\n",
    "* This makes it easy to compare several different models or multiple runs of the same model"
   ]
  },
  {
   "cell_type": "markdown",
   "metadata": {},
   "source": [
    "### Copy the MNIST Convnet’s Notebook\n",
    "* To create the new notebook for this example on your own (we already provided a version of it for you):\n",
    "\t1. Right-click the **`MNIST_CNN.ipynb` notebook** in **JupyterLab’s `File Browser` tab** and select `Duplicate` to make a copy of the notebook \n",
    "\t2. Right-click the new notebook named **`MNIST_CNN-Copy1.ipynb`**, then select `Rename`, enter the name **`MNIST_CNN_TensorBoard.ipynb`** and press **Enter**\n",
    "* Open the notebook by double-clicking its name"
   ]
  },
  {
   "cell_type": "markdown",
   "metadata": {},
   "source": [
    "### Configuring Keras to Write the TensorBoard Log Files\n",
    "* Before you **`fit`** the model, you need to configure a **`TensorBoard`** object (**module `tensorflow.keras.callbacks`**), which the model will use to **write data into a specified folder** that TensorBoard monitors\n",
    "\t* Known as a **callback** in Keras\n",
    "* In the notebook, click to the left of snippet that calls the model’s `fit` method, then type **a** to add a new code cell **above** the current cell (use `b` for **below**)\n",
    "* In the new cell, enter the following code to **create the `TensorBoard` object**\n",
    "\n",
    "```python\n",
    "from tensorflow.keras.callbacks import TensorBoard\n",
    "import time\n",
    "\n",
    "tensorboard_callback = TensorBoard(log_dir=f'./logs/mnist{time.time()}',   \n",
    "    histogram_freq=1, write_graph=True)\n",
    "```\n",
    "* Arguments:\n",
    "    * `log_dir`—folder in which this model’s log files will be written. Creating a name based on the time ensures that each new execution of the notebook will have its own log folder\n",
    "        * Enables you to **compare multiple executions** in TensorBoard\n",
    "    * `histogram_freq`—The frequency in **epochs** that Keras will output to the model’s log files (every epoch in this case)\n",
    "    * `write_graph=True`—Output a graph of the model, which you can view in TensorBoard's **GRAPHS** tab "
   ]
  },
  {
   "cell_type": "markdown",
   "metadata": {},
   "source": [
    "### Updating Our Call to `fit` \n",
    "* Modify the **original `fit` method call**\n",
    "* For this example, we set the number of epochs to 10 and added the [`callbacks` argument, which is a list of callback objects](https://keras.io/callbacks/):\n",
    "\n",
    "```python\n",
    "cnn.fit(X_train, y_train, epochs=10, batch_size=64, \n",
    "        validation_split=0.1, callbacks=[tensorboard_callback])\n",
    "```\n",
    "\n",
    "* Re-execute the notebook by selecting **Kernel > Restart Kernel and Run All Cells** in JupyterLab\n",
    "* After the first epoch completes, you’ll start to see data in TensorBoard\n"
   ]
  },
  {
   "cell_type": "markdown",
   "metadata": {},
   "source": [
    "------\n",
    "&copy;1992&ndash;2020 by Pearson Education, Inc. All Rights Reserved. This content is based on Chapter 5 of the book [**Intro to Python for Computer Science and Data Science: Learning to Program with AI, Big Data and the Cloud**](https://amzn.to/2VvdnxE).\n",
    "\n",
    "DISCLAIMER: The authors and publisher of this book have used their \n",
    "best efforts in preparing the book. These efforts include the \n",
    "development, research, and testing of the theories and programs \n",
    "to determine their effectiveness. The authors and publisher make \n",
    "no warranty of any kind, expressed or implied, with regard to these \n",
    "programs or to the documentation contained in these books. The authors \n",
    "and publisher shall not be liable in any event for incidental or \n",
    "consequential damages in connection with, or arising out of, the \n",
    "furnishing, performance, or use of these programs.                  "
   ]
  }
 ],
 "metadata": {
  "celltoolbar": "Slideshow",
  "kernelspec": {
   "display_name": "Python 3",
   "language": "python",
   "name": "python3"
  },
  "language_info": {
   "codemirror_mode": {
    "name": "ipython",
    "version": 3
   },
   "file_extension": ".py",
   "mimetype": "text/x-python",
   "name": "python",
   "nbconvert_exporter": "python",
   "pygments_lexer": "ipython3",
   "version": "3.6.7"
  }
 },
 "nbformat": 4,
 "nbformat_minor": 4
}
