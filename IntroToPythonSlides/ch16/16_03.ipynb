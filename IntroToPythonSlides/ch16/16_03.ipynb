{
 "cells": [
  {
   "cell_type": "markdown",
   "metadata": {},
   "source": [
    "# 16.3 Custom Anaconda Environments\n",
    "* Must install the TensorFlow deep-learning library’s version of Keras for this chapter\n",
    "* At the time of this writing, TensorFlow does not yet support Python 3.7\n",
    "* Need Python 3.6.x to execute the examples\n",
    "* Can set up a **custom environment** for working with Keras and TensorFlow"
   ]
  },
  {
   "cell_type": "markdown",
   "metadata": {},
   "source": [
    "### Environments in Anaconda\n",
    "* Anaconda Python distribution makes it easy to create **custom environments**\n",
    "    * Separate configurations in which you can install different libraries and different library versions\n",
    "* Helps with **reproducibility** if your code depends on specific Python or library versions\n",
    "* The default environment in Anaconda, called the **base environment**, is created for you when you install Anaconda\n",
    "* All the Python libraries that come with Anaconda are installed into the base environment\n",
    "* Any additional libraries you install also are placed there by default\n",
    "* Custom environments give you control over the specific libraries you wish to install for your specific tasks"
   ]
  },
  {
   "cell_type": "markdown",
   "metadata": {},
   "source": [
    "### Creating an Anaconda Environment\n",
    "* The **`conda create` command** creates an environment.\n",
    "* Let’s create a TensorFlow environment and name it `tf_env` (you can name it whatever you like).\n",
    "* Run the following command in your Terminal, shell or Anaconda Command Prompt&mdash;don't press Enter until you've typed the entire command:\n",
    ">```\n",
    "conda create -n tf_env python=3.6 anaconda tensorflow \n",
    "ipython jupyterlab scikit-learn matplotlib seaborn h5py \n",
    "pydot graphviz nodejs\n",
    "```\n",
    "\n",
    "* Computers with **Tensorflow-compatible NVIDIA GPUs**: [Replace `tensorflow` with **`tensorflow-gpu`** for better performance](https://www.tensorflow.org/install/gpu)\n"
   ]
  },
  {
   "cell_type": "markdown",
   "metadata": {},
   "source": [
    "### Activating an Alternate Anaconda Environment\n",
    "* To use a custom environment, execute the **`conda activate` command**:\n",
    ">`conda activate tf_env`\n",
    "* Affects only the current Terminal, shell or Anaconda Command Prompt.\n",
    "* When a custom environment is activated and you install more libraries, they become part of the activated environment, not the base environment\n",
    "* If you open separate Terminals, shells or Anaconda Command Prompts, they’ll use Anaconda’s base environment by default\n"
   ]
  },
  {
   "cell_type": "markdown",
   "metadata": {},
   "source": [
    "### Deactivating an Alternate Anaconda Environment\n",
    "```python\n",
    "conda deactivate\n",
    "```\n",
    "\n",
    "* Or simply close the Terminal, shell or Anaconda Prompt window"
   ]
  },
  {
   "cell_type": "markdown",
   "metadata": {},
   "source": [
    "### Jupyter Notebooks and JupyterLab\n",
    "* This chapter’s examples are provided only as Jupyter Notebooks\n",
    "* Makes it easy for you to experiment with the examples\n",
    "* Can tweak the options we present and re-execute the notebooks\n",
    "* For the deep learning examples, launch JupyterLab from the `ch15` examples folder"
   ]
  },
  {
   "cell_type": "markdown",
   "metadata": {},
   "source": [
    "------\n",
    "&copy;1992&ndash;2020 by Pearson Education, Inc. All Rights Reserved. This content is based on Chapter 5 of the book [**Intro to Python for Computer Science and Data Science: Learning to Program with AI, Big Data and the Cloud**](https://amzn.to/2VvdnxE).\n",
    "\n",
    "DISCLAIMER: The authors and publisher of this book have used their \n",
    "best efforts in preparing the book. These efforts include the \n",
    "development, research, and testing of the theories and programs \n",
    "to determine their effectiveness. The authors and publisher make \n",
    "no warranty of any kind, expressed or implied, with regard to these \n",
    "programs or to the documentation contained in these books. The authors \n",
    "and publisher shall not be liable in any event for incidental or \n",
    "consequential damages in connection with, or arising out of, the \n",
    "furnishing, performance, or use of these programs.                  "
   ]
  }
 ],
 "metadata": {
  "celltoolbar": "Slideshow",
  "kernelspec": {
   "display_name": "Python 3",
   "language": "python",
   "name": "python3"
  },
  "language_info": {
   "codemirror_mode": {
    "name": "ipython",
    "version": 3
   },
   "file_extension": ".py",
   "mimetype": "text/x-python",
   "name": "python",
   "nbconvert_exporter": "python",
   "pygments_lexer": "ipython3",
   "version": "3.7.3"
  }
 },
 "nbformat": 4,
 "nbformat_minor": 2
}
