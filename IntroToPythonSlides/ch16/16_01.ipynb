{
 "cells": [
  {
   "cell_type": "markdown",
   "metadata": {},
   "source": [
    "# 16.1 Introduction\n",
    "* **Deep learning**&mdash;powerful subset of **machine learning** \n",
    "* Has produced impressive results in **computer vision** and many other areas \n",
    "* **Resource-intensive deep-learning solutions** are possible due to \n",
    "    * **big data**\n",
    "    * **significant processor power**\n",
    "    * **faster Internet speeds** \n",
    "    * advancements in **parallel computing hardware and software** "
   ]
  },
  {
   "cell_type": "markdown",
   "metadata": {},
   "source": [
    "### Keras and TensorFlow\n",
    "* **Keras** offers a friendly interface to Google’s **TensorFlow**—the most widely used deep-learning library\n",
    "    * Also works with Microsoft’s **CNTK** and others\n",
    "* **François Chollet** of the **Google Mind team** developed **Keras** to make deep-learning capabilities **more accessible**\n",
    "    * His book [**_Deep Learning with Python_**](https://amzn.to/303gknb) is a must read\n",
    "* **Google has thousands of deep learning projects** internally &mdash; that number is growing quickly [\\[1\\]](http://theweek.com/speedreads/654463/google-more-than-1000-artificial-intelligence-projects-works), [\\[2\\]](https://www.zdnet.com/article/google-says-exponential-growth-of-ai-is-changing-nature-of-compute/)"
   ]
  },
  {
   "cell_type": "markdown",
   "metadata": {},
   "source": [
    "### Models \n",
    "* **Deep learning models** connect multiple **layers**\n",
    "* Models **encapsulate sophisticated mathematical algorithms**\n",
    "    * You simply define, parameterize and manipulate objects\n",
    "* Keras facilitates **experimenting** with **many models** to find the best for your application\n",
    "* In general, **more data** leads to **better trained deep learning models**"
   ]
  },
  {
   "cell_type": "markdown",
   "metadata": {},
   "source": [
    "### Processing Power\n",
    "* **Deep learning** can require **significant processing power**\n",
    "* Training models on **big-data** can take **hours**, **days** or **more** \n",
    "* High-performance **GPUs** and **TPUs (Tensor Processing Units)** developed by **NVIDIA** and **Google** typically used to meet extraordinary processing demands of deep-learning applications\n",
    "* Our examples can be **trained in minutes to just less than an hour** on **conventional CPUs**"
   ]
  },
  {
   "cell_type": "markdown",
   "metadata": {},
   "source": [
    "## 16.1.1 Deep Learning Applications\n",
    "* Game playing \n",
    "* Computer vision: Object recognition, pattern recognition, facial recognition\n",
    "* Self-driving cars \n",
    "* Robotics\n",
    "* Improving customer experiences \n",
    "* Chatbots\n",
    "* Diagnosing medical conditions \n",
    "* Google Search\n",
    "* Facial recognition \n",
    "* Automated image captioning and video closed captioning\n",
    "* Enhancing image resolution \n",
    "* Speech recognition\n",
    "* Language translation \n",
    "* Predicting election results\n",
    "* Predicting earthquakes and weather \n",
    "* Google Sunroof to determine whether you can put solar panels on your roof \n",
    "* Generative applications—Generating original images, processing existing images to look like a specified artist’s style, adding color to black-and-white images and video, creating music, creating text (books, poetry) and much more.\n"
   ]
  },
  {
   "cell_type": "markdown",
   "metadata": {},
   "source": [
    "## 16.1.2 Deep Learning Demos\n",
    "* Check out these four demos and search online for lots more:\n",
    "    * [**DeepArt.io**](https://deepart.io/)—Turn a photo into artwork by applying an art style to the photo. \n",
    "    * [**DeepWarp Demo**](https://sites.skoltech.ru/sites/compvision_wiki/static_pages/projects/deepwarp/)—Analyzes a person’s photo and makes the person’s eyes move in different directions. \n",
    "    * [**Image-to-Image Demo**](https://affinelayer.com/pixsrv/)—Translates a line drawing into a picture. \n",
    "    * **Google Translate Mobile App** (download from an app store to your smartphone)—Translate text in a photo to another language (e.g., take a photo of a sign or a restaurant menu in Spanish and translate the text to English).\n"
   ]
  },
  {
   "cell_type": "markdown",
   "metadata": {},
   "source": [
    "## 16.1.3 Keras Resources\n",
    "* Resources you might find valuable as you study deep learning:\n",
    "    * To get your **questions answered**, go to the [**Keras team’s slack channel**](https://kerasteam.slack.com)\n",
    "    * [**Articles and tutorials**](https://blog.keras.io) \n",
    "    * [**Keras documentation**](http://keras.io) \n",
    "    * For **term projects**, **directed study projects**, **capstone course projects** or **thesis topics**, visit [**arXiv**](https://arXiv.org) (pronounced “archive,” where the X represents the Greek letter “chi”)\n",
    "        * People post their research papers here in parallel with going through peer review for formal publication, hoping for fast feedback\n",
    "        * Gives you access to **extremely current research**"
   ]
  },
  {
   "cell_type": "markdown",
   "metadata": {},
   "source": [
    "------\n",
    "&copy;1992&ndash;2020 by Pearson Education, Inc. All Rights Reserved. This content is based on Chapter 5 of the book [**Intro to Python for Computer Science and Data Science: Learning to Program with AI, Big Data and the Cloud**](https://amzn.to/2VvdnxE).\n",
    "\n",
    "DISCLAIMER: The authors and publisher of this book have used their \n",
    "best efforts in preparing the book. These efforts include the \n",
    "development, research, and testing of the theories and programs \n",
    "to determine their effectiveness. The authors and publisher make \n",
    "no warranty of any kind, expressed or implied, with regard to these \n",
    "programs or to the documentation contained in these books. The authors \n",
    "and publisher shall not be liable in any event for incidental or \n",
    "consequential damages in connection with, or arising out of, the \n",
    "furnishing, performance, or use of these programs.                  "
   ]
  }
 ],
 "metadata": {
  "celltoolbar": "Slideshow",
  "kernelspec": {
   "display_name": "Python 3",
   "language": "python",
   "name": "python3"
  },
  "language_info": {
   "codemirror_mode": {
    "name": "ipython",
    "version": 3
   },
   "file_extension": ".py",
   "mimetype": "text/x-python",
   "name": "python",
   "nbconvert_exporter": "python",
   "pygments_lexer": "ipython3",
   "version": "3.7.3"
  }
 },
 "nbformat": 4,
 "nbformat_minor": 2
}
