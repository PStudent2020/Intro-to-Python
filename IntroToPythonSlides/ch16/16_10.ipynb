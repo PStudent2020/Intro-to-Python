{
 "cells": [
  {
   "cell_type": "markdown",
   "metadata": {},
   "source": [
    "# 16.10 Tuning Deep Learning Models\n",
    "* **Testing accuracy** and **validation accuracy** were **significantly less** than the **training accuracy**\n",
    "    * This is usually due to **overfitting**, so we have **room for improvement** \n",
    "    > https://towardsdatascience.com/deep-learning-overfitting-846bf5b35e24  \n",
    "    > https://hackernoon.com/memorizing-is-not-learning-6-tricks-to-prevent-overfitting-in-machine-learning-820b091dc42\n",
    "* Each **epoch's output** shows **training** and **validation accuracy** increasing\n",
    "    * **Possible we have not yet trained enough**"
   ]
  },
  {
   "cell_type": "markdown",
   "metadata": {},
   "source": [
    "# 16.10 Tuning Deep Learning Models (cont.)\n",
    "* Some **variables** that affect your **model performance**:\n",
    "    * having **more or less data to train with**\n",
    "    * having **more or less data to test with** \n",
    "    * having **more or less data to validate with** \n",
    "    * having **more or fewer layers**\n",
    "    * the **types of layers** you use\n",
    "    * the **order of the layers**"
   ]
  },
  {
   "cell_type": "markdown",
   "metadata": {},
   "source": [
    "# 16.10 Tuning Deep Learning Models (cont.)\n",
    "* Some **things we could tune** include: \n",
    "    * trying **different amounts of training data**—we used only the top 10,000 words\n",
    "    * different **numbers of words per review**—we used only 200\n",
    "    * different **numbers of neurons** in our layers\n",
    "    * **more layers** \n",
    "    * **loading pre-trained word vectors** rather than learning them from scratch "
   ]
  },
  {
   "cell_type": "markdown",
   "metadata": {},
   "source": [
    "# 16.10 Tuning Deep Learning Models (cont.)\n",
    "* The **compute time** required to train models multiple times is **significant** so, in **deep learning**, you generally **do not tune hyperparameters** with techniques like **k-fold cross-validation** \n",
    "> https://www.quora.com/Is-cross-validation-heavily-used-in-deep-learning-or-is-it-too-expensive-to-be-used\n",
    "* One promising area for tuning is **automated machine learning (AutoML)** \n",
    "> https://towardsdatascience.com/what-are-hyperparameters-and-how-to-tune-the-hyperparameters-in-a-deep-neural-network-d0604917584a  \n",
    "> https://medium.com/machine-learning-bites/deeplearning-series-deep-neural-networks-tuning-and-optimization-39250ff7786d  \n",
    "> https://flyyufelix.github.io/2016/10/03/fine-tuning-in-keras-part1.html  \n",
    "> https://flyyufelix.github.io/2016/10/08/fine-tuning-in-keras-part2.html  \n",
    "> https://towardsdatascience.com/a-comprehensive-guide-on-how-to-fine-tune-deep-neural-networks-using-keras-on-google-colab-free-daaaa0aced8f  \n",
    "* [**Auto-Keras**](https://autokeras.com/) is geared to **automatically choosing** the **best Keras model configurations** \n",
    "* Others include **Google’s Cloud AutoML** and **Baidu’s EZDL** "
   ]
  },
  {
   "cell_type": "markdown",
   "metadata": {},
   "source": [
    "------\n",
    "&copy;1992&ndash;2020 by Pearson Education, Inc. All Rights Reserved. This content is based on Chapter 5 of the book [**Intro to Python for Computer Science and Data Science: Learning to Program with AI, Big Data and the Cloud**](https://amzn.to/2VvdnxE).\n",
    "\n",
    "DISCLAIMER: The authors and publisher of this book have used their \n",
    "best efforts in preparing the book. These efforts include the \n",
    "development, research, and testing of the theories and programs \n",
    "to determine their effectiveness. The authors and publisher make \n",
    "no warranty of any kind, expressed or implied, with regard to these \n",
    "programs or to the documentation contained in these books. The authors \n",
    "and publisher shall not be liable in any event for incidental or \n",
    "consequential damages in connection with, or arising out of, the \n",
    "furnishing, performance, or use of these programs.                  "
   ]
  }
 ],
 "metadata": {
  "celltoolbar": "Slideshow",
  "kernelspec": {
   "display_name": "Python 3",
   "language": "python",
   "name": "python3"
  },
  "language_info": {
   "codemirror_mode": {
    "name": "ipython",
    "version": 3
   },
   "file_extension": ".py",
   "mimetype": "text/x-python",
   "name": "python",
   "nbconvert_exporter": "python",
   "pygments_lexer": "ipython3",
   "version": "3.7.3"
  }
 },
 "nbformat": 4,
 "nbformat_minor": 2
}
