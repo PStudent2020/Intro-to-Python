{
 "cells": [
  {
   "cell_type": "markdown",
   "metadata": {},
   "source": [
    "# 16.11 Convnet Models Pretrained on ImageNet\n",
    "* With deep learning, you can use **pretrained deep neural network models** to:\n",
    "    * **make new predictions** \n",
    "    * **continue training** them further with **new data** \n",
    "    * **transfer the weights learned by a model** for a similar problem into a new model\n",
    "        * **transfer learning**"
   ]
  },
  {
   "cell_type": "markdown",
   "metadata": {},
   "source": [
    "### Keras Pretrained Convnet Models\n",
    "* Keras bundles [pretrained convnet models](https://keras.io/applications/)\n",
    "* Each is pretrained on [**ImageNet**](http://www.image-net.org)—a growing dataset of 14+ million images"
   ]
  },
  {
   "cell_type": "markdown",
   "metadata": {},
   "source": [
    "### Reusing Pretrained Models\n",
    "* **ImageNet is too big for efficient training** on most computers\n",
    "* Most people interested in using it **start with one of the smaller pretrained models**\n",
    "* Can **reuse just the architecture of each model** and **train it with new data**\n",
    "* Can **reuse the pretrained weights**\n",
    "* [Simple examples of using pretrained models](https://keras.io/applications/)"
   ]
  },
  {
   "cell_type": "markdown",
   "metadata": {},
   "source": [
    "### ImageNet Challenge (1 of 3)\n",
    "* [**ImageNet Large Scale Visual Recognition Challenge** for evaluating object-detection and image-recognition models](http://www.image-net.org/challenges/LSVRC/). \n",
    "\t* Competition ran from 2010 through 2017.\n",
    "* ImageNet now has a **continuously running challenge on the Kaggle competition site** called the [**ImageNet Object Localization Challenge**](https://www.kaggle.com/c/imagenet-object-localization-challenge). \n",
    "\t* Goal: Identify “all objects within an image, so those images can then be classified and annotated.” \n",
    "\t* ImageNet releases the current participants leaderboard once per quarter."
   ]
  },
  {
   "cell_type": "markdown",
   "metadata": {},
   "source": [
    "### ImageNet Challenge (2 of 3)\n",
    "* A lot of what you’ve seen in the machine learning and deep learning chapters is what the Kaggle competition website is all about.\n",
    "* There’s no obvious optimal solution for many machine learning and deep learning tasks.\n",
    "* People’s creativity is really the only limit.\n",
    "* On Kaggle, companies and organizations fund competitions where they encourage people worldwide to develop better-performing solutions for something important to their business or organization."
   ]
  },
  {
   "cell_type": "markdown",
   "metadata": {},
   "source": [
    "### ImageNet Challenge (3 of 3)\n",
    "* Sometimes companies offer prize money&mdash;$1,000,000 on the famous Netflix competition\n",
    "    * [Netflix wanted to get a 10% or better improvement in their model for determining whether people will like a movie, based on how they rated previous ones.](https://netflixprize.com/rules.html) \n",
    "    * They used the results to help make better recommendations to members.\n",
    "* Even if you do not win a Kaggle competition, it’s a great way to get experience working on problems of current interest."
   ]
  },
  {
   "cell_type": "markdown",
   "metadata": {},
   "source": [
    "------\n",
    "&copy;1992&ndash;2020 by Pearson Education, Inc. All Rights Reserved. This content is based on Chapter 5 of the book [**Intro to Python for Computer Science and Data Science: Learning to Program with AI, Big Data and the Cloud**](https://amzn.to/2VvdnxE).\n",
    "\n",
    "DISCLAIMER: The authors and publisher of this book have used their \n",
    "best efforts in preparing the book. These efforts include the \n",
    "development, research, and testing of the theories and programs \n",
    "to determine their effectiveness. The authors and publisher make \n",
    "no warranty of any kind, expressed or implied, with regard to these \n",
    "programs or to the documentation contained in these books. The authors \n",
    "and publisher shall not be liable in any event for incidental or \n",
    "consequential damages in connection with, or arising out of, the \n",
    "furnishing, performance, or use of these programs.                  "
   ]
  }
 ],
 "metadata": {
  "celltoolbar": "Slideshow",
  "kernelspec": {
   "display_name": "Python 3",
   "language": "python",
   "name": "python3"
  },
  "language_info": {
   "codemirror_mode": {
    "name": "ipython",
    "version": 3
   },
   "file_extension": ".py",
   "mimetype": "text/x-python",
   "name": "python",
   "nbconvert_exporter": "python",
   "pygments_lexer": "ipython3",
   "version": "3.7.3"
  }
 },
 "nbformat": 4,
 "nbformat_minor": 2
}
