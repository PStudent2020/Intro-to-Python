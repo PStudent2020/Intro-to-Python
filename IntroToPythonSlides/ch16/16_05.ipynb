{
 "cells": [
  {
   "cell_type": "markdown",
   "metadata": {},
   "source": [
    "# 16.5 Tensors (cont.)\n",
    "* Deep learning frameworks generally manipulate data in the form of **tensors**\n",
    "* A tensor is basically a **multidimensional array**\n",
    "* Frameworks like **TensorFlow** pack all your data into one or more tensors\n",
    "    * Use to perform the mathematical calculations that enable neural networks to learn\n",
    "* Tensors can become quite large "
   ]
  },
  {
   "cell_type": "markdown",
   "metadata": {},
   "source": [
    "# 16.5 Tensors (cont.)\n",
    "* Chollet discusses the types of tensors typically encountered in deep learning: **\\[Chollet, François. _Deep Learning with Python_. Section 2.2. Shelter Island, NY: Manning Publications, 2018.\\]**\n",
    "* **0D (0-dimensional) tensor**—One value and is known as a **scalar**\n",
    "* **1D tensor**—Similar to a one-dimensional array and is known as a **vector**\n",
    "    * Might represent a sequence, such as hourly temperature readings from a sensor or the words of one movie review\n",
    "* **2D tensor**—Similar to a two-dimensional array and is known as a **matrix**\n",
    "    * Could represent a grayscale image in which the tensor’s two dimensions are the image’s width and height in pixels, and the value in each element is the intensity of that pixel"
   ]
  },
  {
   "cell_type": "markdown",
   "metadata": {},
   "source": [
    "# 16.5 Tensors (cont.)\n",
    "* **3D tensor**—Similar to a three-dimensional array \n",
    "    * Could represent a color image\n",
    "        * First two dimensions would represent the width and height of the image in pixels \n",
    "        * The **depth** at each location might represent the red, green and blue (RGB) components of a pixel’s color\n",
    "    * Also could represent a **collection** of 2D tensors containing grayscale images\n",
    "* **4D tensor**\n",
    "    * Could represent a **collection** of color images in 3D tensors\n",
    "    * Could represent one video\n",
    "        * Each frame in a video is essentially a color image\n",
    "* **5D tensor**—\n",
    "    * Could represent a collection of 4D tensors containing videos "
   ]
  },
  {
   "cell_type": "markdown",
   "metadata": {},
   "source": [
    "# 16.5 Tensors (cont.)\n",
    "* Let’s assume we’re creating a deep-learning network to identify and track objects in 4K (high-resolution) videos that have 30 frames-per-second\n",
    "    * Each frame in a 4K video is 3840-by-2160 pixels\n",
    "* Also assume the pixels are presented as red, green and blue components of a color\n",
    "* So **each frame** would be a **3D tensor** containing a total of 24,883,200 elements (3840 * 2160 * 3) and **each video** would be a **4D tensor** containing the sequence of frames"
   ]
  },
  {
   "cell_type": "markdown",
   "metadata": {},
   "source": [
    "# 16.5 Tensors (cont.)\n",
    "* If the videos are one minute long, you’d have **44,789,760,000** elements **per tensor**! \n",
    "* [Over 600 hours of video are uploaded to YouTube every minute](https://www.inc.com/tom-popomaronis/youtube-analyzed-trillions-of-data-points-in-2018-revealing-5-eye-opening-behavioral-statistics.html) so, in just one minute of uploads, Google could have a tensor containing **1,612,431,360,000,000** elements to use in training deep-learning models—that’s **big data**\n",
    "* As you can see, tensors can quickly become **enormous**, so manipulating them efficiently is crucial\n",
    "* This is one of the key reasons that most deep learning is performed on **GPUs**\n",
    "* More recently Google created **TPUs (Tensor Processing Units)** that are specifically designed to perform tensor manipulations"
   ]
  },
  {
   "cell_type": "markdown",
   "metadata": {},
   "source": [
    "### High-Performance Processors \n",
    "* Powerful processors are needed for real-world deep learning because the size of tensors can be enormous and large-tensor operations can place crushing demands on processors\n",
    "* The processors most commonly used for deep learning are from NVIDIA and Google\n",
    "* Optimized for the mathematical matrix operations typically performed on tensors, an essential aspect of how deep learning works “under the hood” \n",
    "* NVIDIA’s **Volta Tensor Cores** are specifically designed for deep learning\n",
    "> https://www.nvidia.com/en-us/data-center/tensorcore/  \n",
    "> https://devblogs.nvidia.com/tensor-core-ai-performance-milestones/ \n",
    "* Many [NVIDIA GPUs are compatible with TensorFlow](https://www.tensorflow.org/install/gpu), and hence Keras, and can enhance the performance of your deep-learning models."
   ]
  },
  {
   "cell_type": "markdown",
   "metadata": {},
   "source": [
    "### High-Performance Processors (cont.)\n",
    "* Google TPUs (Tensor Processing Units)\n",
    "* Recognizing that deep learning is crucial to its future, Google developed [**TPUs (Tensor Processing Units)**](https://cloud.google.com/tpu/), which they now use in their **Cloud TPU service**, which “can provide up to 11.5 petaflops of performance in a single pod” (that’s 11.5 quadrillion floating-point operations per second)\n",
    "* TPUs are designed to be especially **energy efficient**—a key concern for companies like Google with already **massive computing clusters that are growing exponentially** and consuming vast amounts of energy"
   ]
  },
  {
   "cell_type": "markdown",
   "metadata": {},
   "source": [
    "------\n",
    "&copy;1992&ndash;2020 by Pearson Education, Inc. All Rights Reserved. This content is based on Chapter 5 of the book [**Intro to Python for Computer Science and Data Science: Learning to Program with AI, Big Data and the Cloud**](https://amzn.to/2VvdnxE).\n",
    "\n",
    "DISCLAIMER: The authors and publisher of this book have used their \n",
    "best efforts in preparing the book. These efforts include the \n",
    "development, research, and testing of the theories and programs \n",
    "to determine their effectiveness. The authors and publisher make \n",
    "no warranty of any kind, expressed or implied, with regard to these \n",
    "programs or to the documentation contained in these books. The authors \n",
    "and publisher shall not be liable in any event for incidental or \n",
    "consequential damages in connection with, or arising out of, the \n",
    "furnishing, performance, or use of these programs.                  "
   ]
  }
 ],
 "metadata": {
  "celltoolbar": "Slideshow",
  "kernelspec": {
   "display_name": "Python 3",
   "language": "python",
   "name": "python3"
  },
  "language_info": {
   "codemirror_mode": {
    "name": "ipython",
    "version": 3
   },
   "file_extension": ".py",
   "mimetype": "text/x-python",
   "name": "python",
   "nbconvert_exporter": "python",
   "pygments_lexer": "ipython3",
   "version": "3.7.3"
  }
 },
 "nbformat": 4,
 "nbformat_minor": 2
}
