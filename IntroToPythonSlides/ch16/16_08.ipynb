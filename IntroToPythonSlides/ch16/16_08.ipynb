{
 "cells": [
  {
   "cell_type": "markdown",
   "metadata": {},
   "source": [
    "# 16.8 ConvnetJS: Browser-Based Deep-Learning Training and Visualization \n",
    "* Overview [**Andrej Karpathy’s JavaScript-based ConvnetJS tool for training and visualizing convolutional neural networks in your web browser**](https://cs.stanford.edu/people/karpathy/convnetjs/)\n",
    "\t* Also can download ConvnetJS from GitHub at https://github.com/karpathy/convnetjs.\n",
    "* Run **ConvnetJS sample convolutional neural networks** or **create your own**\n",
    "* **ConvnetJS MNIST demo** trains a convolutional neural network using the MNIST dataset\n",
    "* Presents a **scrollable dashboard** that updates dynamically as the model trains and contains several sections"
   ]
  },
  {
   "cell_type": "markdown",
   "metadata": {},
   "source": [
    "### Training Stats \n",
    "* **Pause** button enables you to **stop the learning** and **“freeze” the current dashboard visualizations**\n",
    "* Clicking the **resume** button continues training\n",
    "* Presents **training statistics**, including the **training and validation accuracy** and a **graph of the training loss**."
   ]
  },
  {
   "cell_type": "markdown",
   "metadata": {},
   "source": [
    "### Instantiate a Network and Trainer\n",
    "* Contains the **JavaScript code** that **creates the convolutional neural network**\n",
    "    * Similar layers to the convnet we created\n",
    "* The [ConvnetJS documentation](https://cs.stanford.edu/people/karpathy/convnetjs/docs.html) shows the **supported layer types** and how to configure them\n",
    "* Can experiment with different layer configurations in the provided textbox and begin training an updated network by clicking the **change network** button"
   ]
  },
  {
   "cell_type": "markdown",
   "metadata": {},
   "source": [
    "### Network Visualization\n",
    "* **Shows one training image at a time** and **how the network processes that image through each layer**\n",
    "* Click **Pause** to inspect all the layers’ outputs for a given digit to get a sense of **what the network “sees” as it learns**\n",
    "* Network’s **last layer** produces the **probabilistic classifications**\n",
    "* Shows 10 squares—9 black and 1 white, indicating the **predicted class** of the **current digit image**"
   ]
  },
  {
   "cell_type": "markdown",
   "metadata": {},
   "source": [
    "### Example Predictions on Test Set\n",
    "* Shows **random selection** of **test set images** and **top three possible classes for each digit**\n",
    "* **Highest probability** is **shown on a green bar** \n",
    "* Length of each bar is a **visual indication** of that **class’s probability**"
   ]
  },
  {
   "cell_type": "markdown",
   "metadata": {},
   "source": [
    "------\n",
    "&copy;1992&ndash;2020 by Pearson Education, Inc. All Rights Reserved. This content is based on Chapter 5 of the book [**Intro to Python for Computer Science and Data Science: Learning to Program with AI, Big Data and the Cloud**](https://amzn.to/2VvdnxE).\n",
    "\n",
    "DISCLAIMER: The authors and publisher of this book have used their \n",
    "best efforts in preparing the book. These efforts include the \n",
    "development, research, and testing of the theories and programs \n",
    "to determine their effectiveness. The authors and publisher make \n",
    "no warranty of any kind, expressed or implied, with regard to these \n",
    "programs or to the documentation contained in these books. The authors \n",
    "and publisher shall not be liable in any event for incidental or \n",
    "consequential damages in connection with, or arising out of, the \n",
    "furnishing, performance, or use of these programs.                  "
   ]
  }
 ],
 "metadata": {
  "celltoolbar": "Slideshow",
  "kernelspec": {
   "display_name": "Python 3",
   "language": "python",
   "name": "python3"
  },
  "language_info": {
   "codemirror_mode": {
    "name": "ipython",
    "version": 3
   },
   "file_extension": ".py",
   "mimetype": "text/x-python",
   "name": "python",
   "nbconvert_exporter": "python",
   "pygments_lexer": "ipython3",
   "version": "3.6.7"
  }
 },
 "nbformat": 4,
 "nbformat_minor": 4
}
