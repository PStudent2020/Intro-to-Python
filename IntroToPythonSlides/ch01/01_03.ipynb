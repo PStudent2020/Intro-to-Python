{
 "cells": [
  {
   "cell_type": "markdown",
   "metadata": {},
   "source": [
    "# 1.3 Data Hierarchy \n",
    "![Data hierarchy from bits to records](./ch01images/AAEMYSQ0.png)"
   ]
  },
  {
   "cell_type": "markdown",
   "metadata": {},
   "source": [
    "### Bits\n",
    "* A bit (short for “binary digit”—a digit that can assume one of two values) is the smallest data item in a computer\n",
    "* Can have the value 0 or 1\n",
    "* Bits are the basis of the binary number system"
   ]
  },
  {
   "cell_type": "markdown",
   "metadata": {},
   "source": [
    "### Characters \n",
    "* Decimal digits (0–9), letters (A–Z and a–z) and special symbols such as\n",
    ">`$  @  %  &  *  (  )  –  +  \"  :  ;  ,  ?  /` \n",
    "* Computer's character set contains the characters used to write programs and represent data items\n",
    "* Computers process only 1s and 0s, so a character set represents every character as a pattern of 1s and 0s"
   ]
  },
  {
   "cell_type": "markdown",
   "metadata": {},
   "source": [
    "### Characters (cont.)\n",
    "* Python uses Unicode<sup>®</sup> characters composed of one, two, three or four bytes (8, 16, 24 or 32 bits, respectively)—known as UTF-8 encoding\n",
    "* Unicode contains characters for many of the world’s languages\n",
    "* The ASCII (American Standard Code for Information Interchange) character set is a subset of Unicode that represents letters (a–z and A–Z), digits and some common special characters\n",
    "    * [ASCII subset of Unicode](https://www.unicode.org/charts/PDF/U0000.pdf)\n",
    "* [Unicode charts for all languages, symbols, emojis and more](http://www.unicode.org/charts/)"
   ]
  },
  {
   "cell_type": "markdown",
   "metadata": {},
   "source": [
    "### Fields\n",
    "* Fields are composed of characters or bytes\n",
    "* A field is a group of characters or bytes that conveys meaning\n",
    "    * a person’s name\n",
    "    * a person’s age\n",
    "    * etc."
   ]
  },
  {
   "cell_type": "markdown",
   "metadata": {},
   "source": [
    "### Records \n",
    "* A record is a group of related fields\n",
    "* A record for an employee might consist of \n",
    "    * Employee identification number (a whole number)\n",
    "    * Name (a string of characters)\n",
    "    * Address (a string of characters)\n",
    "    * Hourly pay rate (a number with a decimal point)\n",
    "    * Year-to-date earnings (a number with a decimal point)\n",
    "    * Amount of taxes withheld (a number with a decimal point)"
   ]
  },
  {
   "cell_type": "markdown",
   "metadata": {},
   "source": [
    "### Files\n",
    "* A file is a group of related records\n",
    "* More generally, a file contains arbitrary data in arbitrary formats\n",
    "* Any organization of the bytes in a file, such as organizing the data into records, is a view created by the application programmer\n",
    "* Not unusual for an organization to have many files, some containing billions, or even trillions, of characters of information"
   ]
  },
  {
   "cell_type": "markdown",
   "metadata": {},
   "source": [
    "### Databases\n",
    "* A database is a collection of data organized for easy access and manipulation\n",
    "* Most popular model is the relational database, in which data is stored in simple tables\n",
    "* A table includes records and fields\n",
    "* You can search, sort and otherwise manipulate the data, based on its relationship to multiple tables or databases"
   ]
  },
  {
   "cell_type": "markdown",
   "metadata": {},
   "source": [
    "### Big Data\n",
    "* Table below shows some common byte measurements: \n",
    "\n",
    "| Unit | Bytes | Which is approximately\n",
    "| :--- | :--- | :--- \n",
    "|  1 kilobyte (KB) | 1024 bytes | 10<sup>3</sup> (1024) bytes exactly\n",
    "|  1 megabyte (MB) | 1024 kilobytes | 10<sup>6</sup> (1,000,000) bytes\n",
    "|  1 gigabyte (GB) | 1024 megabytes | 10<sup>9</sup> (1,000,000,000) bytes\n",
    "|  1 terabyte (TB) | 1024 gigabytes | 10<sup>12</sup> (1,000,000,000,000) bytes\n",
    "|  1 petabyte (PB) | 1024 terabytes | 10<sup>15</sup> (1,000,000,000,000,000) bytes\n",
    "|  1 exabyte (EB) | 1024 petabytes | 10<sup>18</sup> (1,000,000,000,000,000,000) bytes\n",
    "|  1 zettabyte (ZB) | 1024 exabytes | 10<sup>21</sup> (1,000,000,000,000,000,000,000) bytes"
   ]
  },
  {
   "cell_type": "markdown",
   "metadata": {},
   "source": [
    "### Big Data (cont.)\n",
    "* Amount of data being produced worldwide is enormous and its growth is accelerating\n",
    "* Big data applications deal with massive amounts of data\n",
    "* Field is growing quickly\n",
    "* Lots of opportunity for software developers"
   ]
  },
  {
   "cell_type": "markdown",
   "metadata": {},
   "source": [
    "------\n",
    "&copy;1992&ndash;2020 by Pearson Education, Inc. All Rights Reserved. This content is based on Chapter 1 of the book [**Intro to Python for Computer Science and Data Science: Learning to Program with AI, Big Data and the Cloud**](https://amzn.to/2VvdnxE).\n",
    "\n",
    "DISCLAIMER: The authors and publisher of this book have used their \n",
    "best efforts in preparing the book. These efforts include the \n",
    "development, research, and testing of the theories and programs \n",
    "to determine their effectiveness. The authors and publisher make \n",
    "no warranty of any kind, expressed or implied, with regard to these \n",
    "programs or to the documentation contained in these books. The authors \n",
    "and publisher shall not be liable in any event for incidental or \n",
    "consequential damages in connection with, or arising out of, the \n",
    "furnishing, performance, or use of these programs.                  "
   ]
  }
 ],
 "metadata": {
  "kernelspec": {
   "display_name": "Python 3",
   "language": "python",
   "name": "python3"
  },
  "language_info": {
   "codemirror_mode": {
    "name": "ipython",
    "version": 3
   },
   "file_extension": ".py",
   "mimetype": "text/x-python",
   "name": "python",
   "nbconvert_exporter": "python",
   "pygments_lexer": "ipython3",
   "version": "3.7.7"
  }
 },
 "nbformat": 4,
 "nbformat_minor": 4
}
