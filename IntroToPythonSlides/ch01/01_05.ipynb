{
 "cells": [
  {
   "cell_type": "markdown",
   "metadata": {},
   "source": [
    "# 1.5 Introduction to Object Technology\n",
    "* Building software quickly, correctly and economically is important\n",
    "* _Objects_, or more precisely, the _classes_ objects come from, are essentially _reusable_ software components\n",
    "* Almost any _noun_ can be reasonably represented as a software object in terms of _attributes_ (e.g., name, color and size) and _behaviors_ (e.g., calculating, moving and communicating)"
   ]
  },
  {
   "cell_type": "markdown",
   "metadata": {},
   "source": [
    "### Automobile as an Object\n",
    "* Before you can drive a car, someone has to _design_ it\n",
    "* A car typically begins as engineering drawings, similar to the _blueprints_ that describe the design of a house\n",
    "* These drawings include the design for an accelerator pedal\n",
    "* The accelerator pedal _hides_ from the driver the complex mechanisms that make the car go faster\n",
    "* The brake pedal “hides” the mechanisms that slow the car\n",
    "* The steering wheel “hides” the mechanisms that turn the car\n",
    "* Enables people with little or no knowledge of how engines, braking and steering mechanisms work to drive a car easily"
   ]
  },
  {
   "cell_type": "markdown",
   "metadata": {},
   "source": [
    "### Automobile as an Object\n",
    "* Cannot drive a car’s engineering drawings\n",
    "* First, must _build_ a car from the engineering drawings that describe it\n",
    "* A completed car has an _actual_ accelerator pedal to make it go faster when the driver _presses_ it"
   ]
  },
  {
   "cell_type": "markdown",
   "metadata": {},
   "source": [
    "### Methods and Classes\n",
    "* Performing a task in a program requires a **method**\n",
    "    * Houses the program statements that perform its tasks\n",
    "    * Method hides these statements from its user, just as the accelerator pedal of a car hides from the driver the mechanisms of making the car go faster\n",
    "* A program unit called a **class** houses the set of methods that perform the class’s tasks\n",
    "    * A class that represents a bank account might contain one method to _deposit_ money to an account, another to _withdraw_ money from an account and a third to _inquire_ what the account’s balance is\n",
    "* A class is similar in concept to a car’s engineering drawings"
   ]
  },
  {
   "cell_type": "markdown",
   "metadata": {},
   "source": [
    "### Instantiation \n",
    "* You must _build an object_ of a class before a program can perform the tasks that the class’s methods define\n",
    "* This is called _instantiation_\n",
    "* An object is then referred to as an **instance** of its class"
   ]
  },
  {
   "cell_type": "markdown",
   "metadata": {},
   "source": [
    "### Reuse\n",
    "* A car’s engineering drawings can be _reused_ many times to build many cars\n",
    "* Similarly, you can _reuse_ a class many times to build many objects\n",
    "* Reuse of existing classes when building new classes and programs saves time and effort\n",
    "* Also helps you build more reliable and effective systems because existing classes and components often have undergone extensive _testing_, _debugging_ and _performance tuning_\n",
    "* In Python, you’ll typically use a _building-block approach_ \n",
    "    * Use existing high-quality pieces wherever possible\n",
    "    "
   ]
  },
  {
   "cell_type": "markdown",
   "metadata": {},
   "source": [
    "### Messages and Method Calls\n",
    "* When you drive a car, pressing its gas pedal sends a _message_ to the car to perform a task—that is, to go faster\n",
    "* You _send messages to an object_\n",
    "* Each message is implemented as a method call that tells a method of the object to perform its task\n",
    "    * E.g., call a bank-account object’s _deposit_ method to increase the account’s balance"
   ]
  },
  {
   "cell_type": "markdown",
   "metadata": {},
   "source": [
    "### Attributes and Instance Variables\n",
    "* A car, also has _attributes_, such as its color, its number of doors, the amount of gas in its tank, its current speed and its record of total miles driven (i.e., its odometer reading)\n",
    "* Attributes are represented as part of its design in its engineering diagrams \n",
    "* As you drive an actual car, these attributes are carried along with the car\n",
    "* Every car maintains its _own_ attributes\n",
    "    * e.g., each car knows how much gas is in its own gas tank, but _not_ how much is in the tanks of _other_ cars"
   ]
  },
  {
   "cell_type": "markdown",
   "metadata": {},
   "source": [
    "### Attributes and Instance Variables (cont.)\n",
    "* An object has attributes that it carries along as it’s used in a program\n",
    "* Specified as part of the object’s class\n",
    "    * A bank-account object has a _balance attribute_ that represents the amount of money in the account\n",
    "    * Each bank-account object knows the balance in the account it represents, but _not_ the balances of the _other_ accounts in the bank\n",
    "* Attributes are specified by the class’s **instance variables**\n",
    "* A class’s attributes and methods are intimately related, so classes wrap together their attributes and methods"
   ]
  },
  {
   "cell_type": "markdown",
   "metadata": {},
   "source": [
    "### Inheritance\n",
    "* A new class of objects can be created conveniently by **inheritance**\n",
    "* The new class (called the **subclass**) starts with the characteristics of an existing class (called the **superclass**), possibly customizing them and adding unique characteristics of its own"
   ]
  },
  {
   "cell_type": "markdown",
   "metadata": {},
   "source": [
    "### Object-Oriented Analysis and Design (OOAD)\n",
    "* Large and complex projects should follow a detailed **analysis** process for determining the project’s **requirements** (_what_ the system is supposed to do), then develop a **design** that satisfies them (_how_ the system should do it)\n",
    "* Should go through this process and carefully review the design (and have others review the design) before writing any code\n",
    "* If this process involves analyzing and designing your system from an object-oriented point of view, it’s called an **object-oriented analysis-and-design (OOAD) process**\n",
    "* Languages like Python are object-oriented\n",
    "* Programming in such a language, called **object-oriented programming (OOP)**, allows you to implement an object-oriented design as a working system"
   ]
  },
  {
   "cell_type": "markdown",
   "metadata": {},
   "source": [
    "------\n",
    "&copy;1992&ndash;2020 by Pearson Education, Inc. All Rights Reserved. This content is based on Chapter 1 of the book [**Intro to Python for Computer Science and Data Science: Learning to Program with AI, Big Data and the Cloud**](https://amzn.to/2VvdnxE).\n",
    "\n",
    "DISCLAIMER: The authors and publisher of this book have used their \n",
    "best efforts in preparing the book. These efforts include the \n",
    "development, research, and testing of the theories and programs \n",
    "to determine their effectiveness. The authors and publisher make \n",
    "no warranty of any kind, expressed or implied, with regard to these \n",
    "programs or to the documentation contained in these books. The authors \n",
    "and publisher shall not be liable in any event for incidental or \n",
    "consequential damages in connection with, or arising out of, the \n",
    "furnishing, performance, or use of these programs.                  "
   ]
  }
 ],
 "metadata": {
  "kernelspec": {
   "display_name": "Python 3",
   "language": "python",
   "name": "python3"
  },
  "language_info": {
   "codemirror_mode": {
    "name": "ipython",
    "version": 3
   },
   "file_extension": ".py",
   "mimetype": "text/x-python",
   "name": "python",
   "nbconvert_exporter": "python",
   "pygments_lexer": "ipython3",
   "version": "3.7.7"
  }
 },
 "nbformat": 4,
 "nbformat_minor": 4
}
