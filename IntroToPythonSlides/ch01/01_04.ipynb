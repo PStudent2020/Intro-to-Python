{
 "cells": [
  {
   "cell_type": "markdown",
   "metadata": {},
   "source": [
    "# 1.4   Machine Languages, Assembly Languages and High-Level Languages\n",
    "* Programmers write instructions in various programming languages\n",
    "    * Some directly understandable by computers \n",
    "    * Others require intermediate translation steps\n",
    "* Three general types\n",
    "\t1.\tMachine languages\n",
    "\t2.\tAssembly languages\n",
    "\t3.\tHigh-level languages"
   ]
  },
  {
   "cell_type": "markdown",
   "metadata": {},
   "source": [
    "### Machine Languages\n",
    "* Any computer understands only its own machine language, defined by its hardware design\n",
    "* Generally consist of strings of numbers (ultimately 1s and 0s) that instruct computers to perform their most elementary operations \n",
    "* Cumbersome for humans\n",
    "* Section of an early machine-language payroll program that adds overtime pay to base pay and stores the result in gross pay\n",
    ">```\n",
    "+1300042774\n",
    "+1400593419\n",
    "+1200274027\n",
    "```"
   ]
  },
  {
   "cell_type": "markdown",
   "metadata": {},
   "source": [
    "### Assembly Languages and Assemblers\n",
    "* English-like abbreviations to represent elementary operations\n",
    "* Formed the basis of assembly languages\n",
    "* Assemblers were developed to convert assembly-language programs to machine language at computer speeds\n",
    "* Section of an assembly-language payroll program that adds overtime pay to base pay and stores the result in gross pay\n",
    ">```\n",
    "load    basepay\n",
    "add     overpay\n",
    "store   grosspay\n",
    "```"
   ]
  },
  {
   "cell_type": "markdown",
   "metadata": {},
   "source": [
    "### High-Level Languages and Compilers\n",
    "* With the advent of assembly languages, computer usage increased rapidly\n",
    "* Programmers still needed numerous instructions to accomplish even simple tasks\n",
    "* High-level languages enable single statements to accomplish substantial tasks\n",
    "* A typical high-level-language program contains many statements, known as the program’s source code "
   ]
  },
  {
   "cell_type": "markdown",
   "metadata": {},
   "source": [
    "### High-Level Languages and Compilers (cont.)\n",
    "* Compilers convert high-level-language source code into machine language\n",
    "* High-level languages look almost like everyday English and contain commonly used mathematical notations\n",
    "* Payroll program written in a high-level language might contain a statement such as\n",
    ">```\n",
    "grossPay = basePay + overTimePay\n",
    "```\n",
    "* Python is among the world’s most widely used high-level programming languages"
   ]
  },
  {
   "cell_type": "markdown",
   "metadata": {},
   "source": [
    "# Interpreters\n",
    "* Interpreter programs execute high-level language programs directly and avoid the delay of compilation\n",
    "* Interpreted programs run slower than compiled programs\n",
    "* Most widely used Python implementation—CPython—uses a clever mixture of compilation and interpretation to run programs"
   ]
  },
  {
   "cell_type": "markdown",
   "metadata": {},
   "source": [
    "------\n",
    "&copy;1992&ndash;2020 by Pearson Education, Inc. All Rights Reserved. This content is based on Chapter 1 of the book [**Intro to Python for Computer Science and Data Science: Learning to Program with AI, Big Data and the Cloud**](https://amzn.to/2VvdnxE).\n",
    "\n",
    "DISCLAIMER: The authors and publisher of this book have used their \n",
    "best efforts in preparing the book. These efforts include the \n",
    "development, research, and testing of the theories and programs \n",
    "to determine their effectiveness. The authors and publisher make \n",
    "no warranty of any kind, expressed or implied, with regard to these \n",
    "programs or to the documentation contained in these books. The authors \n",
    "and publisher shall not be liable in any event for incidental or \n",
    "consequential damages in connection with, or arising out of, the \n",
    "furnishing, performance, or use of these programs.                  "
   ]
  }
 ],
 "metadata": {
  "kernelspec": {
   "display_name": "Python 3",
   "language": "python",
   "name": "python3"
  },
  "language_info": {
   "codemirror_mode": {
    "name": "ipython",
    "version": 3
   },
   "file_extension": ".py",
   "mimetype": "text/x-python",
   "name": "python",
   "nbconvert_exporter": "python",
   "pygments_lexer": "ipython3",
   "version": "3.7.7"
  }
 },
 "nbformat": 4,
 "nbformat_minor": 4
}
