{
 "cells": [
  {
   "cell_type": "markdown",
   "metadata": {},
   "source": [
    "# 1.15 Intro to Data Science: Artificial Intelligence—at the Intersection of CS and Data Science\n",
    "* When a baby first opens its eyes, does it “see” its parent’s faces? \n",
    "* Does it understand any notion of what a face is—or even what a simple shape is? \n",
    "* Babies must “learn” the world around them\n",
    "* That’s what artificial intelligence (AI) is doing today\n",
    "* It’s looking at massive amounts of data and learning from it"
   ]
  },
  {
   "cell_type": "markdown",
   "metadata": {},
   "source": [
    "# 1.15 Intro to Data Science: Artificial Intelligence—at the Intersection of CS and Data Science (cont.)\n",
    "* AI is being used to \n",
    "    * play games\n",
    "    * implement a wide range of computer-vision applications\n",
    "    * enable self-driving cars\n",
    "    * enable robots to learn to perform new tasks\n",
    "    * diagnose medical conditions\n",
    "    * translate speech to other languages in near real time\n",
    "    * create chatbots that can respond to arbitrary questions using massive databases of knowledge\n",
    "    * much more\n",
    "* The ultimate goal of all this learning is **artificial general intelligence**—an AI that can perform intelligence tasks as well as humans"
   ]
  },
  {
   "cell_type": "markdown",
   "metadata": {},
   "source": [
    "### Artificial-Intelligence Milestones\n",
    "* Several milestones captured people’s attention and imagination, made the general public start thinking that AI is real and made businesses think about commercializing AI\n",
    "* 1997: In a match between **IBM’s DeepBlue** computer system and chess Grandmaster Gary Kasparov, DeepBlue became the first computer to beat a reigning world chess champion under tournament conditions\n",
    "    * IBM loaded DeepBlue with hundreds of thousands of grandmaster chess games\n",
    "    * DeepBlue was capable of using _brute force_ to evaluate up to 200 million moves per second! "
   ]
  },
  {
   "cell_type": "markdown",
   "metadata": {},
   "source": [
    "### Artificial-Intelligence Milestones (cont.)\n",
    "* 2011: **IBM’s Watson** beat the two best human Jeopardy! players in a \\$1 million match\n",
    "    * Watson simultaneously used hundreds of language-analysis techniques to locate correct answers in 200 million pages of content (including all of Wikipedia)\n",
    "    * Watson was trained with **machine learning** and **reinforcement-learning techniques** \n",
    "* Go—a board game created in China thousands of years ago—is widely considered to be one of the most complex games ever invented with 10<sup>170</sup> possible board configurations\n",
    "    * To give you a sense of how large a number that is, it’s believed that there are (only) between 10<sup>78</sup> and 10<sup>87</sup> atoms in the known universe! \n",
    "    * 2015: **AlphaGo**—created by Google’s DeepMind group—used _deep learning_ with two neural networks to beat the European Go champion Fan Hui\n",
    "    * Go is considered to be a far more complex game than chess "
   ]
  },
  {
   "cell_type": "markdown",
   "metadata": {},
   "source": [
    "### Artificial-Intelligence Milestones (cont.)\n",
    "* More recently, Google generalized its AlphaGo AI to create **AlphaZero**—a game-playing AI that _teaches itself to play other games_\n",
    "    * December 2017: AlphaZero learned the rules of and taught itself to play chess in less than four hours using reinforcement learning\n",
    "    * It then beat the world champion chess program, Stockfish 8, in a 100-game match—winning or drawing every game\n",
    "    * After _training itself_ in Go for just eight hours, AlphaZero was able to play Go vs. its AlphaGo predecessor, winning 60 of 100 games "
   ]
  },
  {
   "cell_type": "markdown",
   "metadata": {},
   "source": [
    "------\n",
    "&copy;1992&ndash;2020 by Pearson Education, Inc. All Rights Reserved. This content is based on Chapter 1 of the book [**Intro to Python for Computer Science and Data Science: Learning to Program with AI, Big Data and the Cloud**](https://amzn.to/2VvdnxE).\n",
    "\n",
    "DISCLAIMER: The authors and publisher of this book have used their \n",
    "best efforts in preparing the book. These efforts include the \n",
    "development, research, and testing of the theories and programs \n",
    "to determine their effectiveness. The authors and publisher make \n",
    "no warranty of any kind, expressed or implied, with regard to these \n",
    "programs or to the documentation contained in these books. The authors \n",
    "and publisher shall not be liable in any event for incidental or \n",
    "consequential damages in connection with, or arising out of, the \n",
    "furnishing, performance, or use of these programs.                  "
   ]
  }
 ],
 "metadata": {
  "kernelspec": {
   "display_name": "Python 3",
   "language": "python",
   "name": "python3"
  },
  "language_info": {
   "codemirror_mode": {
    "name": "ipython",
    "version": 3
   },
   "file_extension": ".py",
   "mimetype": "text/x-python",
   "name": "python",
   "nbconvert_exporter": "python",
   "pygments_lexer": "ipython3",
   "version": "3.7.3"
  }
 },
 "nbformat": 4,
 "nbformat_minor": 2
}
