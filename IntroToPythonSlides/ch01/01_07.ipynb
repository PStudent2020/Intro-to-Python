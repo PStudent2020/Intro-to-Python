{
 "cells": [
  {
   "cell_type": "markdown",
   "metadata": {},
   "source": [
    "# 1.7 Python\n",
    "* Python is an object-oriented scripting language\n",
    "* Released publicly in 1991\n",
    "* Developed by Guido van Rossum of the National Research Institute for Mathematics and Computer Science in Amsterdam.\n",
    "* Has rapidly become one of the world’s most popular programming languages\n",
    "* Particularly popular for educational and scientific computing\n",
    "* Recently surpassed the programming language R as the most popular data-science programming language"
   ]
  },
  {
   "cell_type": "markdown",
   "metadata": {},
   "source": [
    "# 1.7 Python (cont.)\n",
    "* Some reasons why Python is popular:\n",
    "    * Open source, free and widely available with a massive open-source community\n",
    "    * Easier to learn than many other languages, enabling novices and professional developers to get up to speed quickly\n",
    "    * Easier to read than many other popular programming languages\n",
    "    * Widely used in education.\n",
    "    * Enhances developer productivity with extensive standard libraries and third-party open-source libraries\n",
    "        * Programmers can write code faster and perform complex tasks with minimal code\n",
    "    * Massive numbers of free open-source Python applications\n",
    "    * Popular in web development (e.g., Django, Flask)\n",
    "    * Supports popular procedural, functional-style and object-oriented programming\n",
    "    * Build anything from simple scripts to complex apps with massive numbers of users, such as Dropbox, YouTube, Reddit, Instagram and Quora\n",
    "    * Popular in artificial intelligence, which is enjoying explosive growth, in part because of its special relationship with data science\n",
    "    * Widely used in the financial community\n",
    "    * Extensive job market for Python programmers across many disciplines, especially in data-science-oriented positions, and Python jobs are among the highest paid of all programming jobs"
   ]
  },
  {
   "cell_type": "markdown",
   "metadata": {},
   "source": [
    "### Anaconda Python Distribution\n",
    "* Easy to install on Windows, macOS and Linux and supports the latest versions of Python, the IPython interpreter and Jupyter Notebooks \n",
    "* Also includes other software packages and libraries commonly used in Python programming and data science\n",
    "* IPython interpreter "
   ]
  },
  {
   "cell_type": "markdown",
   "metadata": {},
   "source": [
    "### Zen of Python\n",
    "* Tim Peters’ _The Zen of Python_ summarizes Python creator Guido van Rossum’s design principles for the language\n",
    "* List can be viewed in IPython with the command `import this`\n",
    "* The Zen of Python is defined in Python Enhancement Proposal (PEP) 20\n",
    "    * “A PEP is a design document providing information to the Python community, or describing a new feature for Python or its processes or environment”"
   ]
  },
  {
   "cell_type": "markdown",
   "metadata": {},
   "source": [
    "------\n",
    "&copy;1992&ndash;2020 by Pearson Education, Inc. All Rights Reserved. This content is based on Chapter 1 of the book [**Intro to Python for Computer Science and Data Science: Learning to Program with AI, Big Data and the Cloud**](https://amzn.to/2VvdnxE).\n",
    "\n",
    "DISCLAIMER: The authors and publisher of this book have used their \n",
    "best efforts in preparing the book. These efforts include the \n",
    "development, research, and testing of the theories and programs \n",
    "to determine their effectiveness. The authors and publisher make \n",
    "no warranty of any kind, expressed or implied, with regard to these \n",
    "programs or to the documentation contained in these books. The authors \n",
    "and publisher shall not be liable in any event for incidental or \n",
    "consequential damages in connection with, or arising out of, the \n",
    "furnishing, performance, or use of these programs.                  "
   ]
  }
 ],
 "metadata": {
  "kernelspec": {
   "display_name": "Python 3",
   "language": "python",
   "name": "python3"
  },
  "language_info": {
   "codemirror_mode": {
    "name": "ipython",
    "version": 3
   },
   "file_extension": ".py",
   "mimetype": "text/x-python",
   "name": "python",
   "nbconvert_exporter": "python",
   "pygments_lexer": "ipython3",
   "version": "3.7.7"
  }
 },
 "nbformat": 4,
 "nbformat_minor": 4
}
