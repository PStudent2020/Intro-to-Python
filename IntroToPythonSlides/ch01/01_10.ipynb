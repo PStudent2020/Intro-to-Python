{
 "cells": [
  {
   "cell_type": "markdown",
   "metadata": {},
   "source": [
    "# 1.10 Test-Drives: Using IPython and Jupyter Notebooks\n",
    "* Test-drive the IPython interpreter in two modes:\n",
    "    * **interactive mode**&mdash;enter small bits of code called **snippets** and immediately see their results\n",
    "    * **script mode**&mdash;execute code loaded from a file that has the `.py` extension (short for Python)\n",
    "        * Called **scripts** or **programs**\n",
    "* Use browser-based Jupyter Notebook for writing and executing Python code"
   ]
  },
  {
   "cell_type": "markdown",
   "metadata": {},
   "source": [
    "## 1.10.1 Using IPython Interactive Mode as a Calculator\n",
    "* Use IPython interactive mode to evaluate simple arithmetic expressions"
   ]
  },
  {
   "cell_type": "markdown",
   "metadata": {},
   "source": [
    "### Entering IPython in Interactive Mode\n",
    "* Open a command-line window on your system\n",
    "    * On macOS, open a **Terminal** from the **Applications** folder’s **Utilities** subfolder\n",
    "    * On Windows, open the **Anaconda Command Prompt** from the start menu\n",
    "    * On Linux, open your system’s **Terminal** or shell (this varies by Linux distribution)\n",
    "* Type `ipython`, then press _Enter_ (or _Return_)"
   ]
  },
  {
   "cell_type": "markdown",
   "metadata": {},
   "source": [
    "### Entering IPython in Interactive Mode (cont.)\n",
    "* You’ll see text like:\n",
    "\n",
    "```\n",
    "Python 3.7.0 | packaged by conda-forge | (default, Jan 20 2019, 17:24:52) \n",
    "Type 'copyright', 'credits' or 'license' for more information\n",
    "IPython 6.5.0 -- An enhanced Interactive Python. Type '?' for help.\n",
    "\n",
    "In [1]: \n",
    "\n",
    "```\n",
    "* \"`In [1]:`\" is a _prompt_, indicating that IPython is waiting for your input\n",
    "* Can type `?` for help or begin entering snippets, as you’ll do momentarily"
   ]
  },
  {
   "cell_type": "markdown",
   "metadata": {},
   "source": [
    "### Evaluating Expressions\n",
    "* Can evaluate expressions: "
   ]
  },
  {
   "cell_type": "code",
   "execution_count": 1,
   "metadata": {},
   "outputs": [
    {
     "data": {
      "text/plain": [
       "117"
      ]
     },
     "execution_count": 1,
     "metadata": {},
     "output_type": "execute_result"
    }
   ],
   "source": [
    "45 + 72"
   ]
  },
  {
   "cell_type": "markdown",
   "metadata": {},
   "source": [
    "* After you type `45 + 72` and press _Enter_, IPython \n",
    "    * _reads_ the snippet\n",
    "    * _evaluates_ it \n",
    "    * _prints_ its result in `Out[1]`\n",
    "    * Displays the `In [2]` prompt to show that it’s waiting for you to enter your second snippet\n",
    "* For each new snippet, IPython adds 1 to the number in the square brackets"
   ]
  },
  {
   "cell_type": "markdown",
   "metadata": {},
   "source": [
    "### Evaluating Expressions (cont.)\n",
    "* Evaluate a more complex expression:"
   ]
  },
  {
   "cell_type": "code",
   "execution_count": 2,
   "metadata": {},
   "outputs": [
    {
     "data": {
      "text/plain": [
       "21.75"
      ]
     },
     "execution_count": 2,
     "metadata": {},
     "output_type": "execute_result"
    }
   ],
   "source": [
    "5 * (12.7 - 4) / 2"
   ]
  },
  {
   "cell_type": "markdown",
   "metadata": {},
   "source": [
    "* Asterisk (`*`) for multiplication and forward slash (`/`) for division\n",
    "* Parentheses force the evaluation order \n",
    "* IPython displays result in `Out[2]`\n",
    "* Whole numbers, like `5`, `4` and `2`, are called **integers**\n",
    "* Numbers with decimal points, like `12.7`, `43.5` and `21.75`, are called **floating-point numbers** "
   ]
  },
  {
   "cell_type": "markdown",
   "metadata": {},
   "source": [
    "### Exiting Interactive Mode\n",
    "* To leave interactive mode:\n",
    "    * Type `exit` and press _Enter_ to exit immediately\n",
    "    * Type _Ctrl + d_ (or _control + d_) then confirm\n",
    "    * Type _Ctrl + d_ (or _control + d_) twice"
   ]
  },
  {
   "cell_type": "markdown",
   "metadata": {},
   "source": [
    "## 1.10.2 Executing a Python Program Using the IPython Interpreter\n",
    "* Execute a script named `RollDieDynamic.py` that you’ll write in Chapter 6\n",
    "* **`.py` extension** indicates the file contains Python source code\n",
    "* `RollDieDynamic.py` simulates rolling a six-sided die, presenting a colorful animated visualization that dynamically graphs the frequencies of each die face"
   ]
  },
  {
   "cell_type": "markdown",
   "metadata": {},
   "source": [
    "### Changing to This Chapter’s Examples Folder\n",
    "* In the Before You Begin section you extracted the `examples` folder to your user account’s `Documents` folder\n",
    "* Each chapter has a folder containing that chapter’s source code\n",
    "    * The folder is named `ch##`, where `##` is a two-digit chapter number from `01` to `17`\n",
    "* Open your system’s command-line window\n",
    "* Use the `cd` (“change directory”) command to change to the `ch01` folder:\n",
    "    * On macOS/Linux, type `cd ~/Documents/examples/ch01`, then press _Enter_\n",
    "    * On Windows, type `cd C:\\Users\\`_YourAccount_`\\Documents\\examples\\ch01`, then press _Enter_"
   ]
  },
  {
   "cell_type": "markdown",
   "metadata": {},
   "source": [
    "### Executing the Script\n",
    "``` python\n",
    "ipython RollDieDynamic.py 6000 1 \n",
    "```\n",
    "* The script displays a window, showing the visualization\n",
    "* The numbers `6000` and `1` tell this script the number of times to roll dice and how many dice to roll each time\n",
    "    * Update the chart `6000` times for `1` die at a time"
   ]
  },
  {
   "cell_type": "markdown",
   "metadata": {},
   "source": [
    "### Executing the Script (cont.)\n",
    "* For a six-sided die, the values 1 through 6 should each occur with “equal likelihood”—1/6th or about 16.667%\n",
    "* For 6000 rolls, about 1000 of each face\n",
    "* _random_ so there could be some faces with fewer than 1000, some with 1000 and some with more than 1000\n",
    "* Experiment with the script by changing the value 1 to 100, 1000 and 10000\n",
    "* As the number of die rolls gets larger, the frequencies zero in on 16.667%\n",
    "    * “Law of Large Numbers”"
   ]
  },
  {
   "cell_type": "markdown",
   "metadata": {},
   "source": [
    "![Roll the dice 6000 times and roll 1 die each time (screen capture 1)](ch01images/Animation_01.png \"Roll the dice 6000 times and roll 1 die each time\") "
   ]
  },
  {
   "cell_type": "markdown",
   "metadata": {},
   "source": [
    "### Creating Scripts\n",
    "* Typically, create in an editor that enables you to type text\n",
    "* **Integrated development environments (IDEs)** provide tools that support the entire software-development process\n",
    "    * editors, debuggers for locating logic errors that cause programs to execute incorrectly and more\n",
    "* Popular Python IDEs include Spyder, PyCharm and Visual Studio Code and many more"
   ]
  },
  {
   "cell_type": "markdown",
   "metadata": {},
   "source": [
    "### Problems That May Occur at Execution Time \n",
    "* Programs often do not work on the first try\n",
    "    * An executing program might try to divide by zero (illegal in Python)\n",
    "    * Would cause the program to display an error message\n",
    "    * You’d return to the editor, make corrections and re-execute the script to determine whether the corrections fixed the problem(s)\n",
    "* Errors such as division by zero occur as a program runs, so they’re called **runtime errors** or **execution-time errors**\n",
    "    * **Fatal runtime errors** cause programs to terminate immediately without having successfully performed their jobs\n",
    "    * **Non-fatal runtime errors** allow programs to run to completion, often producing incorrect results"
   ]
  },
  {
   "cell_type": "markdown",
   "metadata": {},
   "source": [
    "## 1.10.3 Writing and Executing Code in a Jupyter Notebook\n",
    "* The Anaconda Python Distribution comes with the **Jupyter Notebook**\n",
    "    * Interactive, browser-based environment \n",
    "    * You can write and execute code and intermix the code with text, images and video\n",
    "* Widely used in data-science and broader scientific communities\n",
    "* Preferred means of doing Python-based data analytics studies and _reproducibly_ communicating their results\n",
    "* Supports a growing number of programming languages"
   ]
  },
  {
   "cell_type": "markdown",
   "metadata": {},
   "source": [
    "## 1.10.3 Writing and Executing Code in a Jupyter Notebook (cont.)\n",
    "* The **JupyterLab** interface enables you to manage your notebook files and other files that your notebooks use (like images and videos)\n",
    "    * Makes it convenient to write code, execute it, see the results, modify the code and execute it again\n",
    "* Coding in a Jupyter Notebook is similar to working with IPython—in fact, Jupyter Notebooks use IPython by default"
   ]
  },
  {
   "cell_type": "markdown",
   "metadata": {},
   "source": [
    "### Opening JupyterLab in Your Browser\n",
    "* To open JupyterLab, change to the `ch01` examples folder in your Terminal, shell or Anaconda Command Prompt, the execute\n",
    "> ```\n",
    "jupyter lab\n",
    "```\n",
    "* Launches the Jupyter Notebook server on your computer \n",
    "* Opens JupyterLab in your default web browser, showing the `ch01` folder’s contents in the **File Browser** tab \n",
    "> ![File Browser tab](ch01images/FilesTab.png \"File Browser tab\") "
   ]
  },
  {
   "cell_type": "markdown",
   "metadata": {},
   "source": [
    "![JupyterLab interface](ch01images/jupyter1.png \"JupyterLab interface\") "
   ]
  },
  {
   "cell_type": "markdown",
   "metadata": {},
   "source": [
    "### Opening JupyterLab in Your Browser (cont.)\n",
    "* The Jupyter Notebook server enables you to load and run Jupyter Notebooks in your web browser\n",
    "* From the **Files** tab, can double-click files to open them in the right side of the window\n",
    "* Each file you open appears as a separate tab \n",
    "* If you accidentally close your browser, you can reopen JupyterLab by entering the following address in your web browser \n",
    "> ```\n",
    "http://localhost:8888/lab\n",
    "```"
   ]
  },
  {
   "cell_type": "markdown",
   "metadata": {},
   "source": [
    "### Creating a New Jupyter Notebook\n",
    "* In the **Launcher** tab under **Notebook**, click the **Python 3** button to create a new Jupyter Notebook named `Untitled.ipynb`\n",
    "* The file extension `.ipynb` is short for IPython Notebook—the original name of the Jupyter Notebook"
   ]
  },
  {
   "cell_type": "markdown",
   "metadata": {},
   "source": [
    "### Renaming the Notebook\n",
    "* Rename `Untitled.ipynb` as `TestDrive.ipynb`: \n",
    "    1. Right-click the `Untitled.ipynb` tab and select **Rename Notebook…**.\n",
    "    2. Change the name to `TestDrive.ipynb` and click **RENAME**.\n"
   ]
  },
  {
   "cell_type": "markdown",
   "metadata": {},
   "source": [
    "![JupyterLab after renaming the notebook](ch01images/Jupyter2.png \"JupyterLab after renaming the notebook\") "
   ]
  },
  {
   "cell_type": "markdown",
   "metadata": {},
   "source": [
    "### Evaluating an Expression\n",
    "* Unit of work in a notebook is a **cell** in which you can enter code snippets\n",
    "* By default, a new notebook contains one cell, but you can add more\n",
    "* To the cell’s left, the notation `[ ]:` is where the Jupyter Notebook will display the cell’s snippet number _after_ you execute the cell\n",
    "* Click in the cell, then type the expression\n",
    "> ```python\n",
    "45 + 72\n",
    "```\n",
    "* To execute the current cell’s code, type _Ctrl _+ _Enter_ (or _control_ + _Enter_)\n",
    "* JupyterLab executes the code in IPython, then displays the results below the cell"
   ]
  },
  {
   "cell_type": "markdown",
   "metadata": {},
   "source": [
    "![JupyterLab after evaluating an expression](ch01images/Jupyter3.png \"JupyterLab after evaluating an expression\") "
   ]
  },
  {
   "cell_type": "markdown",
   "metadata": {},
   "source": [
    "### Adding and Executing Another Cell\n",
    "* Evaluate a more complex expression\n",
    "* Click the **+** button in the toolbar above the notebook’s first cell—this adds a new cell below the current one"
   ]
  },
  {
   "cell_type": "markdown",
   "metadata": {},
   "source": [
    "![JupyterLab after adding another cell](ch01images/Jupyter4.png \"JupyterLab after adding another cell\") "
   ]
  },
  {
   "cell_type": "markdown",
   "metadata": {},
   "source": [
    "* Click in the new cell, then type the expression\n",
    "> ```python\n",
    "5 * (12.7 - 4) / 2\n",
    "```\n",
    "* Execute the cell by typing _Ctrl _+ _Enter_ (or c_ontrol_ + _Enter_)"
   ]
  },
  {
   "cell_type": "markdown",
   "metadata": {},
   "source": [
    "![JupyterLab after executing the new cell](ch01images/Jupyter5.png \"JupyterLab after executing the new cell\") "
   ]
  },
  {
   "cell_type": "markdown",
   "metadata": {},
   "source": [
    "### Saving the Notebook \n",
    "* If your notebook has unsaved changes, the **X**in the notebook’s tab will change to \n",
    "> ![Need to save indicator on a JupyterLab tab <](ch01images/needtosave.png \"Need to save indicator on a Jupyter tab\") \n",
    "* To save the notebook, select the **File** menu in JupyterLab (not at the top of your browser’s window), then select **Save Notebook**"
   ]
  },
  {
   "cell_type": "markdown",
   "metadata": {},
   "source": [
    "### Notebooks Provided with Each Chapter’s Examples \n",
    "* For your convenience, each chapter’s examples also are provided as ready-to-execute notebooks without their outputs\n",
    "* Enables you to work through them snippet-by-snippet and see the outputs appear as you execute each snippet\n",
    "* So that we can show you how to load an existing notebook and execute its cells, let’s reset the `TestDrive.ipynb` notebook to remove its output and snippet numbers\n",
    "    * This will return it to a state like the notebooks we provide for the subsequent chapters’ examples\n",
    "* From the **Kernel** menu select **Restart Kernel and Clear All Outputs…**, then click the **RESTART** button\n",
    "    * Also is helpful whenever you wish to re-execute a notebook’s snippets\n",
    "* The notebook should now appear as follows"
   ]
  },
  {
   "cell_type": "markdown",
   "metadata": {},
   "source": [
    "![JupyterLab showing one of our notebooks with code that has not been executed](ch01images/Jupyter6.png \"Jupyter showing one of our notebooks with code that has not been executed\") "
   ]
  },
  {
   "cell_type": "markdown",
   "metadata": {},
   "source": [
    "* From the **File** menu, select **Save Notebook**, then click the `TestDrive.ipynb` tab’s **X** button to close the notebook"
   ]
  },
  {
   "cell_type": "markdown",
   "metadata": {},
   "source": [
    "### Opening and Executing an Existing Notebook\n",
    "* When you launch JupyterLab from a given chapter’s examples folder, you’ll be able to open notebooks from that folder or any of its subfolders\n",
    "* Once you locate a specific notebook, double-click it to open it\n",
    "* Open the `TestDrive.ipynb` notebook again now\n",
    "* Once a notebook is open, you can execute each cell individually, as you did earlier in this section, or you can execute the entire notebook at once\n",
    "    * To do so, from the **Run** menu select **Run All Cells**"
   ]
  },
  {
   "cell_type": "markdown",
   "metadata": {},
   "source": [
    "### Closing JupyterLab\n",
    "* When you’re done with JupyterLab, you can close its browser tab, then in the Terminal, shell or Anaconda Command Prompt from which you launched JupyterLab, type _Ctrl_ + _c_ (or _control_ + _c_) twice"
   ]
  },
  {
   "cell_type": "markdown",
   "metadata": {},
   "source": [
    "### JupyterLab Tips\n",
    "* While working in JupyterLab, you might find these tips helpful:\n",
    "    * If you need to enter and execute many snippets, you can execute the current cell _and_ add a new one below it by typing _Shift_ + _Enter_, rather than _Ctrl_ + _Enter_ (or _control_ + _Enter_).\n",
    "    * As you get into the later chapters, some of the snippets you’ll enter in Jupyter Notebooks will contain many lines of code. To display line numbers within each cell, select **Show line numbers** from JupyterLab’s **View** menu."
   ]
  },
  {
   "cell_type": "markdown",
   "metadata": {},
   "source": [
    "### More Information on Working with JupyterLab\n",
    "* JupyterLab has many more features that you’ll find helpful\n",
    "* Read the Jupyter team’s introduction to JupyterLab at: \n",
    "> https://jupyterlab.readthedocs.io/en/stable/index.html\n",
    "* For a quick overview, click **Overview** under **GETTING STARTED** \n",
    "* Under **USER GUIDE** read the introductions to **The JupyterLab Interface**, **Working with Files**, **Text Editor** and **Notebooks** for many additional features"
   ]
  },
  {
   "cell_type": "markdown",
   "metadata": {},
   "source": [
    "------\n",
    "&copy;1992&ndash;2020 by Pearson Education, Inc. All Rights Reserved. This content is based on Chapter 1 of the book [**Intro to Python for Computer Science and Data Science: Learning to Program with AI, Big Data and the Cloud**](https://amzn.to/2VvdnxE).\n",
    "\n",
    "DISCLAIMER: The authors and publisher of this book have used their \n",
    "best efforts in preparing the book. These efforts include the \n",
    "development, research, and testing of the theories and programs \n",
    "to determine their effectiveness. The authors and publisher make \n",
    "no warranty of any kind, expressed or implied, with regard to these \n",
    "programs or to the documentation contained in these books. The authors \n",
    "and publisher shall not be liable in any event for incidental or \n",
    "consequential damages in connection with, or arising out of, the \n",
    "furnishing, performance, or use of these programs.                  "
   ]
  }
 ],
 "metadata": {
  "kernelspec": {
   "display_name": "Python 3",
   "language": "python",
   "name": "python3"
  },
  "language_info": {
   "codemirror_mode": {
    "name": "ipython",
    "version": 3
   },
   "file_extension": ".py",
   "mimetype": "text/x-python",
   "name": "python",
   "nbconvert_exporter": "python",
   "pygments_lexer": "ipython3",
   "version": "3.7.7"
  }
 },
 "nbformat": 4,
 "nbformat_minor": 4
}
