{
 "cells": [
  {
   "cell_type": "markdown",
   "metadata": {},
   "source": [
    "# 1.9 Other Popular Programming Languages \n",
    "* **Basic** \n",
    "    * Developed in the 1960s at Dartmouth College to familiarize novices with programming techniques\n",
    "    * Many of its latest versions are object-oriented\n",
    "* **C** \n",
    "    * Developed in the early 1970s by Dennis Ritchie at Bell Laboratories\n",
    "    * Initially known as the UNIX operating system’s development language\n",
    "    * General-purpose operating systems and other performance-critical systems often are written in C or C++\n",
    "* **C++**\n",
    "    * Based on C\n",
    "    * Developed by Bjarne Stroustrup in the early 1980s at Bell Laboratories\n",
    "    * Enhances C and adds capabilities for object-oriented programming"
   ]
  },
  {
   "cell_type": "markdown",
   "metadata": {},
   "source": [
    "# 1.9   \tOther Popular Programming Languages  (cont.)\n",
    "* **Java**\n",
    "    * Sun Microsystems in 1991 funded an internal corporate research project led by James Gosling, which resulted in the C++-based object-oriented programming language called Java\n",
    "    * “write once, run anywhere” &mdash;Enable developers to write programs that will run on a great variety of computer systems\n",
    "    * Used in enterprise applications, to enhance the functionality of web servers, to provide applications for consumer devices (e.g., smartphones, tablets, television set-top boxes, appliances, automobiles and more) and for many other purposes\n",
    "    * Originally the key language for developing Android smartphone and tablet apps, though several other languages are now supported"
   ]
  },
  {
   "cell_type": "markdown",
   "metadata": {},
   "source": [
    "# 1.9   \tOther Popular Programming Languages (cont.)\n",
    "* **C#** \n",
    "    * Based on C++ and Java\n",
    "    * One of Microsoft’s three primary object-oriented programming languages—others are Visual C++ and Visual Basic\n",
    "    * Developed to integrate the web into computer applications and is now widely used to develop many types of applications\n",
    "    * Microsoft now offers open-source versions of C# and Visual Basic\n",
    "* **JavaScript** \n",
    "    * Most widely used scripting language\n",
    "    * Primarily used to add programmability to web pages\n",
    "    * All major web browsers support it\n",
    "    * Many Python visualization libraries output JavaScript as part of visualizations that you can interact with in your web browser\n",
    "    * Tools like NodeJS also enable JavaScript to run outside of web browsers"
   ]
  },
  {
   "cell_type": "markdown",
   "metadata": {},
   "source": [
    "# 1.9   \tOther Popular Programming Languages (cont.) \n",
    "* **Swift**,\n",
    "    * Introduced in 2014\n",
    "    * Apple’s programming language for developing iOS and macOS apps\n",
    "    * A contemporary language that includes popular features from languages such as Objective-C, Java, C#, Ruby, Python and others\n",
    "    * Open source, so it can be used on non-Apple platforms as well\n",
    "* **R** \n",
    "    * A popular open-source programming language for statistical applications and visualization\n",
    "    * Python and R are the two most widely used data-science languages"
   ]
  },
  {
   "cell_type": "markdown",
   "metadata": {},
   "source": [
    "------\n",
    "&copy;1992&ndash;2020 by Pearson Education, Inc. All Rights Reserved. This content is based on Chapter 1 of the book [**Intro to Python for Computer Science and Data Science: Learning to Program with AI, Big Data and the Cloud**](https://amzn.to/2VvdnxE).\n",
    "\n",
    "DISCLAIMER: The authors and publisher of this book have used their \n",
    "best efforts in preparing the book. These efforts include the \n",
    "development, research, and testing of the theories and programs \n",
    "to determine their effectiveness. The authors and publisher make \n",
    "no warranty of any kind, expressed or implied, with regard to these \n",
    "programs or to the documentation contained in these books. The authors \n",
    "and publisher shall not be liable in any event for incidental or \n",
    "consequential damages in connection with, or arising out of, the \n",
    "furnishing, performance, or use of these programs.                  "
   ]
  }
 ],
 "metadata": {
  "kernelspec": {
   "display_name": "Python 3",
   "language": "python",
   "name": "python3"
  },
  "language_info": {
   "codemirror_mode": {
    "name": "ipython",
    "version": 3
   },
   "file_extension": ".py",
   "mimetype": "text/x-python",
   "name": "python",
   "nbconvert_exporter": "python",
   "pygments_lexer": "ipython3",
   "version": "3.7.7"
  }
 },
 "nbformat": 4,
 "nbformat_minor": 4
}
