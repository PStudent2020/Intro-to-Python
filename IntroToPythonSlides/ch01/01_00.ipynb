{
 "cells": [
  {
   "cell_type": "markdown",
   "metadata": {},
   "source": [
    "# 1. Introduction to Computers and Python"
   ]
  },
  {
   "cell_type": "markdown",
   "metadata": {},
   "source": [
    "### Objectives\n",
    "* Learn about exciting recent developments in computing.\n",
    "* Learn computer hardware, software and Internet basics.\n",
    "* Understand the data hierarchy from bits to databases.\n",
    "* Understand the different types of programming languages.\n",
    "* Understand object-oriented programming basics."
   ]
  },
  {
   "cell_type": "markdown",
   "metadata": {},
   "source": [
    "### Objectives (cont.)\n",
    "* Understand the strengths of Python and other leading programming languages.\n",
    "* Understand the importance of libraries.\n",
    "* Be introduced to key Python and data-science libraries you’ll use in this book.\n",
    "* Test-drive the IPython interpreter’s interactive mode for executing Python code.\n",
    "* Execute a Python script that animates a bar chart. "
   ]
  },
  {
   "cell_type": "markdown",
   "metadata": {},
   "source": [
    "### Objectives (cont.)\n",
    "* Create and test-drive a web-browser-based Jupyter Notebook for executing Python code. \n",
    "* Learn how big “big data” is and how quickly it’s getting even bigger.\n",
    "* Read a big-data case study on a mobile navigation app. \n",
    "* Be introduced to artificial intelligence—at the intersection of computer science and data science. "
   ]
  },
  {
   "cell_type": "markdown",
   "metadata": {},
   "source": [
    "# Outline\n",
    "* [1.1   \tIntroduction](./01_01.ipynb)\n",
    "* [1.2   \tHardware and Software](./01_02.ipynb)\n",
    "    * 1.2.1 \tMoore’s Law\n",
    "    * 1.2.2 \tComputer Organization\n",
    "* [1.3   \tData Hierarchy](./01_03.ipynb)\n",
    "* [1.4   \tMachine Languages, Assembly Languages and High-Level Languages](./01_04.ipynb)\n",
    "* [1.5   \tIntroduction to Object Technology](./01_05.ipynb)\n",
    "* [1.6   \tOperating Systems](./01_06.ipynb)\n",
    "* [1.7   \tPython](./01_07.ipynb)\n",
    "* [1.8   \tIt’s the Libraries!](./01_08.ipynb)\n",
    "    * 1.8.1 \tPython Standard Library\n",
    "    * 1.8.2 \tData-Science Libraries\n",
    "* [1.9   \tOther Popular Programming Languages](./01_09.ipynb)\n",
    "* [1.10   \tTest-Drives: Using IPython and Jupyter Notebooks](./01_10.ipynb)\n",
    "    * 1.10.1 \tUsing IPython Interactive Mode as a Calculator\n",
    "    * 1.10.2 \tExecuting a Python Program Using the IPython Interpreter\n",
    "    * 1.10.3 \tWriting and Executing Code in a Jupyter Notebook\n",
    "* [1.11   \tInternet and World Wide Web](./01_11.ipynb)\n",
    "    * 1.11.1 \tInternet: A Network of Networks\n",
    "    * 1.11.2 \tWorld Wide Web: Making the Internet User-Friendly\n",
    "    * 1.11.3 \tThe Cloud\n",
    "    * 1.11.4 \tInternet of Things\n",
    "* [1.12   \tSoftware Technologies](./01_12.ipynb)\n",
    "* [1.13   \tHow Big Is Big Data?](./01_13.ipynb)\n",
    "    * 1.13.1 \tBig Data Analytics\n",
    "    * 1.13.2 \tData Science and Big Data Are Making a Difference: Use Cases\n",
    "* [1.14   \tCase Study—A Big-Data Mobile Application](./01_14.ipynb)\n",
    "* [1.15   \tIntro to Data Science: Artificial Intelligence—at the Intersection of CS and Data Science](./01_15.ipynb)\n",
    "* Exercises"
   ]
  },
  {
   "cell_type": "markdown",
   "metadata": {},
   "source": [
    "------\n",
    "&copy;1992&ndash;2020 by Pearson Education, Inc. All Rights Reserved. This content is based on Chapter 1 of the book [**Intro to Python for Computer Science and Data Science: Learning to Program with AI, Big Data and the Cloud**](https://amzn.to/2VvdnxE).\n",
    "\n",
    "DISCLAIMER: The authors and publisher of this book have used their \n",
    "best efforts in preparing the book. These efforts include the \n",
    "development, research, and testing of the theories and programs \n",
    "to determine their effectiveness. The authors and publisher make \n",
    "no warranty of any kind, expressed or implied, with regard to these \n",
    "programs or to the documentation contained in these books. The authors \n",
    "and publisher shall not be liable in any event for incidental or \n",
    "consequential damages in connection with, or arising out of, the \n",
    "furnishing, performance, or use of these programs.                  "
   ]
  }
 ],
 "metadata": {
  "kernelspec": {
   "display_name": "Python 3",
   "language": "python",
   "name": "python3"
  },
  "language_info": {
   "codemirror_mode": {
    "name": "ipython",
    "version": 3
   },
   "file_extension": ".py",
   "mimetype": "text/x-python",
   "name": "python",
   "nbconvert_exporter": "python",
   "pygments_lexer": "ipython3",
   "version": "3.7.7"
  }
 },
 "nbformat": 4,
 "nbformat_minor": 4
}
