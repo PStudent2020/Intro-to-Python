{
 "cells": [
  {
   "cell_type": "markdown",
   "metadata": {},
   "source": [
    "# 1.8 It’s the Libraries!\n",
    "* Existing libraries to help you avoid “reinventing the wheel” \n",
    "* Leverage your program-development efforts\n",
    "* Perform significant tasks with modest amounts of code"
   ]
  },
  {
   "cell_type": "markdown",
   "metadata": {},
   "source": [
    "## 1.8.1 Python Standard Library\n",
    "* The **Python Standard Library** provides rich capabilities for \n",
    "    * text/binary data processing, mathematics\n",
    "    * functional-style programming\n",
    "    * file/directory access\n",
    "    * data persistence\n",
    "    * data compression/archiving\n",
    "    * cryptography\n",
    "    * operating-system services\n",
    "    * concurrent programming\n",
    "    * interprocess communication\n",
    "    * networking protocols\n",
    "    * JSON/XML/other Internet data formats\n",
    "    * multimedia\n",
    "    * internationalization\n",
    "    * GUI\n",
    "    * debugging\n",
    "    * profiling\n",
    "    * and more"
   ]
  },
  {
   "cell_type": "markdown",
   "metadata": {},
   "source": [
    "| Some of the Python Standard Library modules we use in the book \n",
    "| -------------------- \n",
    "| `collections`—Additional data structures beyond lists, tuples, dictionaries and sets.\n",
    "| `csv`—Processing comma-separated value files.\n",
    "| `datetime`, `time`—Date and time manipulations. \n",
    "| `decimal`—Fixed-point and floating-point arithmetic, including monetary calculations.\n",
    "| `doctest`—Simple unit testing via validation tests and expected results embedded in docstrings. \n",
    "| `json`—JavaScript Object Notation (JSON) processing for use with web services and NoSQL document databases.\n",
    "| `math`—Common math constants and operations.\n",
    "| `os`—Interacting with the operating system.\n",
    "| `queue`—First-in, first-out data structure.\n",
    "| `random`—Pseudorandom numbers.\n",
    "| `re`—Regular expressions for pattern matching.\n",
    "| `sqlite3`—SQLite relational database access.\n",
    "| `statistics`—Mathematical statistics functions like `mean`, `median`, `mode` and `variance`.\n",
    "| `string`—String processing.\n",
    "| `sys`—Command-line argument processing; standard input, standard output and standard error streams.\n",
    "| `timeit`—Performance analysis."
   ]
  },
  {
   "cell_type": "markdown",
   "metadata": {},
   "source": [
    "## 1.8.2 Data-Science Libraries\n",
    "* Enormous and rapidly growing community of open-source developers in many fields\n",
    "* One of the biggest reasons for Python’s popularity is the extraordinary range of open-source libraries developed by its open-source community\n",
    "* The following table lists various popular data-science libraries\n",
    "    * You’ll use many of these as you work through our data-science examples\n",
    "    * For visualization, we’ll use Matplotlib, Seaborn and Folium, but there are many more\n",
    "        * [A nice summary of Python visualization libraries](http://pyviz.org/)"
   ]
  },
  {
   "cell_type": "markdown",
   "metadata": {},
   "source": [
    "| Popular Python libraries used in data science\n",
    "| ----------------------\n",
    "| **_Scientific Computing and Statistics_**\n",
    "| **_NumPy_** (Numerical Python)—Python does not have a built-in array data structure. It uses lists, which are convenient but relatively slow. NumPy provides the high-performance `ndarray` data structure to represent lists and matrices, and it also provides routines for processing such data structures. \n",
    "| **_SciPy_** (Scientific Python)—Built on NumPy, SciPy adds routines for scientific processing, such as integrals, differential equations, additional matrix processing and more. `scipy.org` controls SciPy and NumPy. \n",
    "| **_StatsModels_**—Provides support for estimations of statistical models, statistical tests and statistical data exploration.\n",
    "| **_Data Manipulation and Analysis_**\n",
    "| **_Pandas_**—An extremely popular library for data manipulations. Pandas makes abundant use of NumPy’s `ndarray`. Its two key data structures are `Series` (one dimensional) and `DataFrames` (two dimensional). \n",
    "| **_Visualization_**\n",
    "| **_Matplotlib_**—A highly customizable visualization and plotting library. Supported plots include regular, scatter, bar, contour, pie, quiver, grid, polar axis, 3D and text.\n",
    "| **_Seaborn_**—A higher-level visualization library built on Matplotlib. Seaborn adds a nicer look-and-feel, additional visualizations and enables you to create visualizations with less code. \n",
    "| **_Machine Learning, Deep Learning and Reinforcement Learning_**\n",
    "| **_scikit-learn_**—Top machine-learning library. Machine learning is a subset of AI. Deep learning is a subset of machine learning that focuses on neural networks. \n",
    "| **_Keras_**—One of the easiest to use deep-learning libraries. Keras runs on top of TensorFlow (Google), CNTK (Microsoft’s cognitive toolkit for deep learning) or Theano (Université de Montréal).\n",
    "| **_TensorFlow_**—From Google, this is the most widely used deep learning library. TensorFlow works with GPUs (graphics processing units) or Google’s custom TPUs (Tensor processing units) for performance. TensorFlow is important in AI and big data analytics—where processing demands are huge. You’ll use the version of Keras that’s built into TensorFlow.\n",
    "| **_OpenAI Gym_**—A library and environment for developing, testing and comparing reinforcement-learning algorithms. \n",
    "| **_Natural Language Processing (NLP)_**\n",
    "| **_NLTK_** (Natural Language Toolkit)—Used for natural language processing (NLP) tasks.\n",
    "| **_TextBlob_**—An object-oriented NLP text-processing library built on the NLTK and pattern NLP libraries. TextBlob simplifies many NLP tasks.\n",
    "| **_Gensim_**—Similar to NLTK. Commonly used to build an index for a collection of documents, then determine how similar another document is to each of those in the index. "
   ]
  },
  {
   "cell_type": "markdown",
   "metadata": {},
   "source": [
    "------\n",
    "&copy;1992&ndash;2020 by Pearson Education, Inc. All Rights Reserved. This content is based on Chapter 1 of the book [**Intro to Python for Computer Science and Data Science: Learning to Program with AI, Big Data and the Cloud**](https://amzn.to/2VvdnxE).\n",
    "\n",
    "DISCLAIMER: The authors and publisher of this book have used their \n",
    "best efforts in preparing the book. These efforts include the \n",
    "development, research, and testing of the theories and programs \n",
    "to determine their effectiveness. The authors and publisher make \n",
    "no warranty of any kind, expressed or implied, with regard to these \n",
    "programs or to the documentation contained in these books. The authors \n",
    "and publisher shall not be liable in any event for incidental or \n",
    "consequential damages in connection with, or arising out of, the \n",
    "furnishing, performance, or use of these programs.                  "
   ]
  }
 ],
 "metadata": {
  "kernelspec": {
   "display_name": "Python 3",
   "language": "python",
   "name": "python3"
  },
  "language_info": {
   "codemirror_mode": {
    "name": "ipython",
    "version": 3
   },
   "file_extension": ".py",
   "mimetype": "text/x-python",
   "name": "python",
   "nbconvert_exporter": "python",
   "pygments_lexer": "ipython3",
   "version": "3.7.7"
  }
 },
 "nbformat": 4,
 "nbformat_minor": 4
}
