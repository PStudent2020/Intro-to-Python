{
 "cells": [
  {
   "cell_type": "markdown",
   "metadata": {},
   "source": [
    "# 1.13 How Big Is Big Data?\n",
    "For computer scientists and data scientists, data is now as important as writing programs\n",
    "* According to IBM, approximately 2.5 quintillion bytes (2.5 _exabytes_) of data are created daily, and 90% of the world’s data was created in the last two years\n",
    "* According to IDC, the global data supply will reach 175 _zettabytes_ (equal to 175 trillion gigabytes or 175 billion terabytes) annually by 2025"
   ]
  },
  {
   "cell_type": "markdown",
   "metadata": {},
   "source": [
    "### Megabytes (MB)\n",
    "* One megabyte is about one million (actually 2<sup>20</sup>) bytes\n",
    "* Many of the files we use on a daily basis require one or more MBs of storage\n",
    "    * MP3 audio files—High-quality MP3s range from 1 to 2.4 MB per minute\n",
    "    * Photos—JPEG format photos taken on a digital camera can require about 8 to 10 MB per photo \n",
    "    * Video—Smartphone cameras can record video at various resolutions\n",
    "        * Each minute of video can require many megabytes of storage\n",
    "        * On one of our iPhones, the **Camera** settings app reports that 1080p video at 30 frames-per-second (FPS) requires 130 MB/minute and 4K video at 30 FPS requires 350 MB/minute"
   ]
  },
  {
   "cell_type": "markdown",
   "metadata": {},
   "source": [
    "### Gigabytes (GB)\n",
    "* One gigabyte is about 1000 megabytes (actually 2<sup>30</sup> bytes\n",
    "* A dual-layer DVD can store up to 8.5 GB, which translates to:\n",
    "    * as much as 141 hours of MP3 audio\n",
    "    * approximately 1000 photos from a 16-megapixel camera\n",
    "    * approximately 7.7 minutes of 1080p video at 30 FPS\n",
    "    * approximately 2.85 minutes of 4K video at 30 FPS\n",
    "* Highest-capacity Ultra HD Blu-ray discs can store up to 100 GB of video\n",
    "* Streaming a 4K movie can use between 7 and 10 GB per hour (highly compressed)"
   ]
  },
  {
   "cell_type": "markdown",
   "metadata": {},
   "source": [
    "### Terabytes (TB)\n",
    "* One terabyte is about 1000 gigabytes (actually 2<sup>40</sup> bytes)\n",
    "* Recent disk drives for desktop computers come in sizes up to 15 TB, which is equivalent to\n",
    "    * approximately 28 years of MP3 audio\n",
    "    * approximately 1.68 million photos from a 16-megapixel camera\n",
    "    * approximately 226 hours of 1080p video at 30 FPS  \n",
    "    * approximately 84 hours of 4K video at 30 FPS\n",
    "* Nimbus Data now has the largest solid-state drive (SSD) at 100 TB, which can store 6.67 times the 15-TB examples of audio, photos and video listed above"
   ]
  },
  {
   "cell_type": "markdown",
   "metadata": {},
   "source": [
    "### Petabytes, Exabytes and Zettabytes \n",
    "* There are nearly four billion people online creating about 2.5 quintillion bytes of data each day\n",
    "    * 2500 petabytes (each petabyte is about 1000 terabytes) or 2.5 exabytes (each exabyte is about 1000 petabytes)\n",
    "* According to a March 2016 _AnalyticsWeek_ article, within five years there will be over 50 billion devices connected to the Internet and by 2020 we’ll be producing 1.7 megabytes of new data every second _for every person on the planet_\n",
    "* At today’s numbers (approximately 7.7 billion people), that’s about \n",
    "    * 13 petabytes of new data per second\n",
    "    * 780 petabytes per minute\n",
    "    * 46,800 petabytes (46.8 exabytes) per hour \n",
    "    * 1,123 exabytes per day—that’s 1.123 zettabytes (ZB) per day (each zettabyte is about 1000 exabytes)\n",
    "* That’s the equivalent of over 5.5 million hours (over 600 years) of 4K video every day or approximately 116 billion photos every day!"
   ]
  },
  {
   "cell_type": "markdown",
   "metadata": {},
   "source": [
    "### Additional Big-Data Stats \n",
    "* For an entertaining real-time sense of big data, check out https://www.internetlivestats.com, with various statistics, including the numbers so far today of\n",
    "    * Google searches\n",
    "    * Tweets\n",
    "    * Videos viewed on YouTube\n",
    "    * Photos uploaded on Instagram"
   ]
  },
  {
   "cell_type": "markdown",
   "metadata": {},
   "source": [
    "### Additional Big-Data Stats (cont.)\n",
    "* Every hour, YouTube users upload 24,000 hours of video, and almost 1 billion hours of video are watched on YouTube every day\n",
    "* Every second, there are 51,773 GBs (or 51.773 TBs) of Internet traffic, 7894 tweets sent, 64,332 Google searches and 72,029 YouTube videos viewed\n",
    "* On Facebook each day there are 800 million “**likes**,” 60 million emojis are sent, and there are over two billion searches of the more than 2.5 trillion Facebook posts since the site’s inception"
   ]
  },
  {
   "cell_type": "markdown",
   "metadata": {},
   "source": [
    "### Additional Big-Data Stats (cont.)\n",
    "* In June 2017, Will Marshall, CEO of Planet, said the company has 142 satellites that image the whole planet’s land mass once per day\n",
    "    * They add one million images and seven TBs of new data each day\n",
    "    * They’re using machine learning on that data to improve crop yields, see how many ships are in a given port and track deforestation\n",
    "    * With respect to Amazon deforestation, he said: “Used to be we’d wake up after a few years and there’s a big hole in the Amazon. Now we can literally count every tree on the planet every day.” "
   ]
  },
  {
   "cell_type": "markdown",
   "metadata": {},
   "source": [
    "### Additional Big-Data Stats (cont.)\n",
    "Domo, Inc. has a nice infographic called “Data Never Sleeps 6.0” showing how much data is generated _every minute_, including:\n",
    "    * 473,400 tweets sent.\n",
    "    * 2,083,333 Snapchat photos shared.\n",
    "    * 97,222 hours of Netflix video viewed.\n",
    "    * 12,986,111 million text messages sent.\n",
    "    * 49,380 Instagram posts. \n",
    "    * 176,220 Skype calls.\n",
    "    * 750,000 Spotify songs streamed.\n",
    "    * 3,877,140 Google searches.\n",
    "    * 4,333,560 YouTube videos watched. "
   ]
  },
  {
   "cell_type": "markdown",
   "metadata": {},
   "source": [
    "### Computing Power Over the Years\n",
    "* Data is getting more massive and so is the computing power for processing it\n",
    "* Performance of today’s processors is measured in terms of **FLOPS (floating-point operations per second)**\n",
    "* In the early to mid-1990s, the fastest supercomputer speeds were measured in gigaflops (109 FLOPS)\n",
    "* Late 1990s: Intel produced the first teraflop (10<sup>12</sup> FLOPS) supercomputers\n",
    "* Early-to-mid 2000s: Speeds reached hundreds of teraflops\n",
    "* 2008: IBM released the first petaflop (10<sup>15</sup> FLOPS) supercomputer\n",
    "* Currently, the fastest supercomputer—the IBM Summit, located at the Department of Energy’s (DOE) Oak Ridge National Laboratory (ORNL)—is capable of 122.3 petaflops"
   ]
  },
  {
   "cell_type": "markdown",
   "metadata": {},
   "source": [
    "### Computing Power Over the Years (cont.)\n",
    "* Distributed computing can link thousands of personal computers via the Internet to produce even more FLOPS\n",
    "* 2016: The Folding@home network—a distributed network in which people volunteer their personal computers’ resources for use in disease research and drug design—was capable of over 100 petaflops\n",
    "* Companies like IBM are now working toward supercomputers capable of exaflops (10<sup>18</sup> FLOPS) "
   ]
  },
  {
   "cell_type": "markdown",
   "metadata": {},
   "source": [
    "### Computing Power Over the Years (cont.)\n",
    "* **Quantum computers** now under development theoretically could operate at 18,000,000,000,000,000,000 times the speed of today’s “conventional computers”! \n",
    "* In one second, a quantum computer theoretically could do staggeringly more calculations than the total that have been done by all computers since the world’s first computer appeared. \n",
    "    * Could wreak havoc with blockchain-based cryptocurrencies like Bitcoin\n",
    "    * Engineers are already rethinking blockchain to prepare for such massive increases in computing power"
   ]
  },
  {
   "cell_type": "markdown",
   "metadata": {},
   "source": [
    "### Computing Power Over the Years (cont.)\n",
    "* Computing power’s cost continues to decline, especially with cloud computing\n",
    "* People used to ask the question, “How much computing power do I need on my system to deal with my _peak_ processing needs?” \n",
    "* That thinking has shifted to “Can I quickly carve out on the cloud what I need _temporarily_ for my most demanding computing chores?” \n",
    "    * Pay for only what you use to accomplish a given task"
   ]
  },
  {
   "cell_type": "markdown",
   "metadata": {},
   "source": [
    "### Processing the World’s Data Requires Lots of Electricity\n",
    "* Data from the world’s Internet-connected devices is exploding, and processing that data requires tremendous amounts of energy. \n",
    "* According to a recent article, energy use for processing data in 2015 was growing at 20% per year and consuming approximately three to five percent of the world’s power\n",
    "    * That total data-processing power consumption could reach 20% by 2025 "
   ]
  },
  {
   "cell_type": "markdown",
   "metadata": {},
   "source": [
    "### Processing the World’s Data Requires Lots of Electricity (cont.)\n",
    "* Another enormous electricity consumer is the blockchain-based cryptocurrency Bitcoin\n",
    "    * Processing just one Bitcoin transaction uses approximately the same amount of energy as powering the average American home for a week! \n",
    "    * The energy use comes from the process Bitcoin “miners” use to prove that transaction data is valid"
   ]
  },
  {
   "cell_type": "markdown",
   "metadata": {},
   "source": [
    "### Big-Data Opportunities\n",
    "* Big data’s appeal to big business is undeniable given the rapidly accelerating accomplishments\n",
    "* Many companies are making significant investments and getting valuable results through technologies in this book, such as big data, machine learning, deep learning and natural-language processing\n",
    "* Forcing competitors to invest as well, rapidly increasing the need for computing professionals with data-science and computer science experience"
   ]
  },
  {
   "cell_type": "markdown",
   "metadata": {},
   "source": [
    "## 1.13.1 Big Data Analytics\n",
    "* The term “data analysis” was coined in 1962, though people have been analyzing data using statistics for thousands of years going back to the ancient Egyptians\n",
    "* Big data analytics is a more recent phenomenon—the term “big data” was coined around 2000\n",
    "* Four of the V’s of big data:\n",
    "    1. Volume—the amount of data the world is producing is growing exponentially.\n",
    "    2. Velocity—the speed at which that data is being produced, the speed at which it moves through organizations and the speed at which data changes are growing quickly.\n",
    "    3. Variety—data used to be alphanumeric (that is, consisting of alphabetic characters, digits, punctuation and some special characters)—today it also includes images, audios, videos and data from an exploding number of Internet of Things sensors in our homes, businesses, vehicles, cities and more.\n",
    "    4. Veracity—the validity of the data—is it complete and accurate? Can we trust that data when making crucial decisions? Is it real?"
   ]
  },
  {
   "cell_type": "markdown",
   "metadata": {},
   "source": [
    "## 1.13.1 Big Data Analytics (cont.)\n",
    "* Most data is now being created digitally in a _variety_ of types, in extraordinary _volumes_ and moving at astonishing _velocities_\n",
    "* Digital data storage has become so vast in capacity, cheap and small that we can now conveniently and economically retain _all_ the digital data we’re creating"
   ]
  },
  {
   "cell_type": "markdown",
   "metadata": {},
   "source": [
    "## 1.13.1 Big Data Analytics (cont.)\n",
    "To get a sense of big data’s scope in industry, government and academia, check out the high-resolution graphic \n",
    "> http://mattturck.com/wp-content/uploads/2018/07/Matt_Turck_FirstMark_Big_Data_Landscape_2018_Final.png"
   ]
  },
  {
   "cell_type": "markdown",
   "metadata": {},
   "source": [
    "## 1.13.2 Data Science and Big Data Are Making a Difference: Use Cases\n",
    "* The data-science field is growing rapidly because it’s producing significant results that are making a difference\n",
    "* Some data-science and big data use cases in the following table"
   ]
  },
  {
   "cell_type": "markdown",
   "metadata": {},
   "source": [
    "| Data-science use cases \n",
    "| ------------ \n",
    "| anomaly detection\n",
    "| assisting people with disabilities\n",
    "| auto-insurance risk prediction\n",
    "| automated closed captioning\n",
    "| automated image captions\n",
    "| automated investing\n",
    "| autonomous ships\n",
    "| brain mapping\n",
    "| caller identification\n",
    "| cancer diagnosis/treatment \n",
    "| carbon emissions reduction \n",
    "| classifying handwriting\n",
    "| computer vision\n",
    "| credit scoring\n",
    "| crime: predicting locations \n",
    "| crime: predicting recidivism \n",
    "| crime: predictive policing\n",
    "| crime: prevention\n",
    "| CRISPR gene editing\n",
    "| crop-yield improvement\n",
    "| customer churn\n",
    "| customer experience\n",
    "| customer retention\n",
    "| customer satisfaction\n",
    "| customer service\n",
    "| customer service agents\n",
    "| customized diets\n",
    "| cybersecurity\n",
    "| data mining\n",
    "| data visualization\n",
    "| detecting new viruses\n",
    "| diagnosing breast cancer \n",
    "| diagnosing heart disease\n",
    "| diagnostic medicine\n",
    "| disaster-victim identification\n",
    "| drones\n",
    "| dynamic driving routes\n",
    "| dynamic pricing\n",
    "| electronic health records\n",
    "| emotion detection\n",
    "| energy-consumption reduction\n",
    "| facial recognition\n",
    "| fitness tracking\n",
    "| fraud detection\n",
    "| game playing\n",
    "| genomics and healthcare\n",
    "| Geographic Information Systems (GIS)\n",
    "| GPS Systems\n",
    "| health outcome improvement\n",
    "| hospital readmission reduction\n",
    "| human genome sequencing\n",
    "| identity-theft prevention\n",
    "| immunotherapy\n",
    "| insurance pricing\n",
    "| intelligent assistants\n",
    "| Internet of Things (IoT) and medical device monitoring\n",
    "| Internet of Things and weather forecasting\n",
    "| inventory control\n",
    "| language translation\n",
    "| location-based services\n",
    "| loyalty programs\n",
    "| malware detection\n",
    "| mapping \n",
    "| marketing\n",
    "| marketing analytics \n",
    "| music generation\n",
    "| natural-language translation\n",
    "| new pharmaceuticals \n",
    "| opioid abuse prevention\n",
    "| personal assistants\n",
    "| personalized medicine \n",
    "| personalized shopping \n",
    "| phishing elimination\n",
    "| pollution reduction\n",
    "| precision medicine\n",
    "| predicting cancer survival\n",
    "| predicting disease outbreaks\n",
    "| predicting health outcomes\n",
    "| predicting student enrollments\n",
    "| predicting weather-sensitive product sales \n",
    "| predictive analytics\n",
    "| preventative medicine\n",
    "| preventing disease outbreaks\n",
    "| reading sign language\n",
    "| real-estate valuation\n",
    "| recommendation systems\n",
    "| reducing overbooking\n",
    "| ride sharing\n",
    "| risk minimization\n",
    "| robo financial advisors \n",
    "| security enhancements\n",
    "| self-driving cars\n",
    "| sentiment analysis\n",
    "| sharing economy\n",
    "| similarity detection\n",
    "| smart cities\n",
    "| smart homes\n",
    "| smart meters\n",
    "| smart thermostats\n",
    "| smart traffic control\n",
    "| social analytics\n",
    "| social graph analysis \n",
    "| spam detection \n",
    "| spatial data analysis\n",
    "| sports recruiting and coaching\n",
    "| stock market forecasting\n",
    "| student performance assessment\n",
    "| summarizing text\n",
    "| telemedicine\n",
    "| terrorist attack prevention\n",
    "| theft prevention \n",
    "| travel recommendations\n",
    "| trend spotting \n",
    "| visual product search\n",
    "| voice recognition\n",
    "| voice search\n",
    "| weather forecasting"
   ]
  },
  {
   "cell_type": "markdown",
   "metadata": {},
   "source": [
    "------\n",
    "&copy;1992&ndash;2020 by Pearson Education, Inc. All Rights Reserved. This content is based on Chapter 1 of the book [**Intro to Python for Computer Science and Data Science: Learning to Program with AI, Big Data and the Cloud**](https://amzn.to/2VvdnxE).\n",
    "\n",
    "DISCLAIMER: The authors and publisher of this book have used their \n",
    "best efforts in preparing the book. These efforts include the \n",
    "development, research, and testing of the theories and programs \n",
    "to determine their effectiveness. The authors and publisher make \n",
    "no warranty of any kind, expressed or implied, with regard to these \n",
    "programs or to the documentation contained in these books. The authors \n",
    "and publisher shall not be liable in any event for incidental or \n",
    "consequential damages in connection with, or arising out of, the \n",
    "furnishing, performance, or use of these programs.                  "
   ]
  }
 ],
 "metadata": {
  "kernelspec": {
   "display_name": "Python 3",
   "language": "python",
   "name": "python3"
  },
  "language_info": {
   "codemirror_mode": {
    "name": "ipython",
    "version": 3
   },
   "file_extension": ".py",
   "mimetype": "text/x-python",
   "name": "python",
   "nbconvert_exporter": "python",
   "pygments_lexer": "ipython3",
   "version": "3.7.3"
  }
 },
 "nbformat": 4,
 "nbformat_minor": 2
}
