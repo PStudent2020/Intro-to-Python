{
 "cells": [
  {
   "cell_type": "markdown",
   "metadata": {},
   "source": [
    "# 1.11 Internet and World Wide Web \n",
    "* Late 1960s: ARPA—the Advanced Research Projects Agency of the United States Department of Defense—rolled out plans for networking the main computer systems of approximately a dozen ARPA-funded universities and research institutions\n",
    "* Computers were to be connected with communications lines operating at speeds on the order of 50,000 bits per second\n",
    "    * Stunning at a time when the few people with networking access were connecting a rate of 110 bits per second\n",
    "* ARPA implemented what became known as the ARPANET, the precursor to today’s Internet\n",
    "* Today’s fastest Internet speeds are on the order of billions of bits per second with trillion-bits-per-second (terabit) speeds already being tested!"
   ]
  },
  {
   "cell_type": "markdown",
   "metadata": {},
   "source": [
    "# 1.11 Internet and World Wide Web (cont.)\n",
    "* Although the ARPANET enabled researchers to network their computers, its main benefit proved to be the capability for quick and easy communication via what came to be known as electronic mail (e-mail)\n",
    "* True even on today’s Internet, with e-mail, instant messaging, file transfer and social media such as Snapchat, Instagram, Facebook and Twitter enabling billions of people worldwide to communicate quickly and easily\n",
    "* The protocol (set of rules) for communicating over the ARPANET became known as the Transmission Control Protocol (TCP)\n",
    "    * TCP ensured that messages, consisting of sequentially numbered pieces called packets, were properly delivered from sender to receiver, arrived intact and were assembled in the correct order"
   ]
  },
  {
   "cell_type": "markdown",
   "metadata": {},
   "source": [
    "## 1.11.1 Internet: A Network of Networks\n",
    "* In parallel with the early evolution of the Internet, organizations worldwide implemented their own networks for intra-organization and inter-organization communication\n",
    "* Variety of networking hardware and software appeared\n",
    "* Challenge was to enable these different networks to communicate with each other\n",
    "* ARPA accomplished this by developing the Internet Protocol (IP), which created a “network of networks,” the current architecture of the Internet\n",
    "* Combined set of protocols is called TCP/IP"
   ]
  },
  {
   "cell_type": "markdown",
   "metadata": {},
   "source": [
    "## 1.11.1 Internet: A Network of Networks (cont.)\n",
    "* Each Internet-connected device has a unique IP address used by devices communicating via TCP/IP to locate one another on the Internet\n",
    "* Businesses rapidly realized that by using the Internet, they could improve their operations and offer new and better services to their clients\n",
    "* Started spending large amounts of money to develop and enhance their Internet presence\n",
    "* Generated fierce competition among communications carriers and hardware and software suppliers to meet the increased infrastructure demand\n",
    "* Bandwidth—the information-carrying capacity of communications lines—on the Internet has increased tremendously, while hardware costs have plummeted"
   ]
  },
  {
   "cell_type": "markdown",
   "metadata": {},
   "source": [
    "## 1.11.2 World Wide Web: Making the Internet User-Friendly\n",
    "* The World Wide Web (“the web”) is a collection of hardware and software associated with the Internet that allows computer users to locate and view documents (with various combinations of text, graphics, animations, audios and videos) on almost any subject\n",
    "* 1989: Tim Berners-Lee of CERN (the European Organization for Nuclear Research) began developing HyperText Markup Language (HTML)—the technology for sharing information via “hyperlinked” text documents\n",
    "* He also wrote communication protocols such as HyperText Transfer Protocol (HTTP) to form the backbone of his new hypertext information system, which he referred to as the World Wide Web\n",
    "* 1994: Berners-Lee founded the World Wide Web Consortium (W3C, https://www.w3.org), devoted to developing web technologies"
   ]
  },
  {
   "cell_type": "markdown",
   "metadata": {},
   "source": [
    "## 1.11.3 \tThe Cloud\n",
    "* More and more computing today is done “in the cloud”—that is, distributed across the Internet worldwide\n",
    "* Many apps you use daily are dependent on **cloud-based services** that use massive clusters of computing resources (computers, processors, memory, disk drives, etc.) and databases that communicate over the Internet with each other and the apps you use\n",
    "* A service that provides access to itself over the Internet is known as a **web service**\n",
    "* Using cloud-based services in Python often is as simple as creating a software object and interacting with it"
   ]
  },
  {
   "cell_type": "markdown",
   "metadata": {},
   "source": [
    "### Mashups\n",
    "* _Mashups_ enable you to rapidly develop powerful software applications by combining (often free) complementary web services and other forms of information feeds\n",
    "* One of the first mashups combined the real-estate listings provided by `http://www.craigslist.org` with the mapping capabilities of Google Maps to offer maps that showed the locations of homes for sale or rent in a given area\n",
    "* [ProgrammableWeb](http://www.programmableweb.com/) provides a directory of over 20,750 web services and almost 8,000 mashups \n",
    "* Also provides how-to guides and sample code for working with web services and creating your own mashups"
   ]
  },
  {
   "cell_type": "markdown",
   "metadata": {},
   "source": [
    "## 1.11.4 Internet of Things\n",
    "* The Internet is no longer just a network of _computers_—it’s an **Internet of Things (IoT)**\n",
    "* A _thing_ is any object with an IP address and the ability to send, and in some cases receive, data automatically over the Internet, such as\n",
    "    * a car with a transponder for paying tolls \n",
    "    * monitors for parking-space availability in a garage,\n",
    "    * a heart monitor implanted in a human\n",
    "    * water quality monitors\n",
    "    * a smart meter that reports energy usage\n",
    "    * radiation detectors\n",
    "    * item trackers in a warehouse\n",
    "    * mobile apps that can track your movement and location\n",
    "    * smart thermostats that adjust room temperatures based on weather forecasts and activity in the home\n",
    "    * intelligent home appliances\n",
    "* According to https://statista.com, there are already over 23 billion IoT devices in use today, and there could be over 75 billion IoT devices in 2025"
   ]
  },
  {
   "cell_type": "markdown",
   "metadata": {},
   "source": [
    "------\n",
    "&copy;1992&ndash;2020 by Pearson Education, Inc. All Rights Reserved. This content is based on Chapter 1 of the book [**Intro to Python for Computer Science and Data Science: Learning to Program with AI, Big Data and the Cloud**](https://amzn.to/2VvdnxE).\n",
    "\n",
    "DISCLAIMER: The authors and publisher of this book have used their \n",
    "best efforts in preparing the book. These efforts include the \n",
    "development, research, and testing of the theories and programs \n",
    "to determine their effectiveness. The authors and publisher make \n",
    "no warranty of any kind, expressed or implied, with regard to these \n",
    "programs or to the documentation contained in these books. The authors \n",
    "and publisher shall not be liable in any event for incidental or \n",
    "consequential damages in connection with, or arising out of, the \n",
    "furnishing, performance, or use of these programs.                  "
   ]
  }
 ],
 "metadata": {
  "kernelspec": {
   "display_name": "Python 3",
   "language": "python",
   "name": "python3"
  },
  "language_info": {
   "codemirror_mode": {
    "name": "ipython",
    "version": 3
   },
   "file_extension": ".py",
   "mimetype": "text/x-python",
   "name": "python",
   "nbconvert_exporter": "python",
   "pygments_lexer": "ipython3",
   "version": "3.7.3"
  }
 },
 "nbformat": 4,
 "nbformat_minor": 2
}
