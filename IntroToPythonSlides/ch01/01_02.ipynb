{
 "cells": [
  {
   "cell_type": "markdown",
   "metadata": {},
   "source": [
    "# 1.2 Hardware and Software \n",
    "* Computers can perform calculations and make logical decisions phenomenally faster than human beings can\n",
    "* Today’s personal computers can perform billions of calculations in one second\n",
    "* Supercomputers are already performing thousands of trillions (quadrillions) of instructions per second! "
   ]
  },
  {
   "cell_type": "markdown",
   "metadata": {},
   "source": [
    "# 1.2 Hardware and Software (cont.)\n",
    "* Computers process data under the control of sequences of instructions called computer **programs**\n",
    "* Guide the computer through ordered actions specified by computer programmers\n",
    "* A computer consists of various physical devices referred to as **hardware (keyboard, screen, mouse, solid-state disks, hard disks, memory, DVD drives and processing units"
   ]
  },
  {
   "cell_type": "markdown",
   "metadata": {},
   "source": [
    "## 1.2.1 \tMoore’s Law\n",
    "* For many decades, hardware costs have fallen rapidly\n",
    "* Every year or two, the capacities of computers have approximately doubled inexpensively\n",
    "* This trend is called Moore’s Law\n"
   ]
  },
  {
   "cell_type": "markdown",
   "metadata": {},
   "source": [
    "## 1.2.2 \tComputer Organization\n",
    "* Computers can be envisioned as divided into various logical units or sections"
   ]
  },
  {
   "cell_type": "markdown",
   "metadata": {},
   "source": [
    "### Input Unit\n",
    "* “receiving” section \n",
    "* obtains information (data and computer programs) from input devices and places it at the disposal of the other units for processing"
   ]
  },
  {
   "cell_type": "markdown",
   "metadata": {},
   "source": [
    "### Output Unit\n",
    "* “shipping” section \n",
    "* Takes information the computer has processed and places it on various output devices to make it available for use outside the computer"
   ]
  },
  {
   "cell_type": "markdown",
   "metadata": {},
   "source": [
    "### Memory Unit\n",
    "* Rapid-access, relatively low-capacity “warehouse” section retains information that has been entered through the input unit, making it immediately available for processing when needed\n",
    "* Also retains processed information until it can be placed on output devices by the output unit\n",
    "* Information in the memory unit is **volatile**—it’s typically lost when the computer’s power is turned off\n",
    "* Often called memory, primary memory or RAM (Random Access Memory)\n",
    "* Main memories on desktop and notebook computers contain as much as 128 GB of RAM, though 8 to 16 GB is most common\n",
    "    * GB stands for gigabytes\n",
    "    * A gigabyte is approximately one billion bytes\n",
    "    * A byte is eight bits\n",
    "    * A bit is either a 0 or a 1"
   ]
  },
  {
   "cell_type": "markdown",
   "metadata": {},
   "source": [
    "### Arithmetic and Logic Unit (ALU)\n",
    "* “Manufacturing” section \n",
    "* Performs calculations, such as addition, subtraction, multiplication and division\n",
    "* Also contains the decision mechanisms that allow the computer, for example, to compare two items from the memory unit to determine whether they’re equal\n",
    "* In today’s systems, the ALU is part of the next logical unit, the CPU"
   ]
  },
  {
   "cell_type": "markdown",
   "metadata": {},
   "source": [
    "### Central Processing Unit (CPU)\n",
    "* “Administrative” section \n",
    "* Coordinates and supervises the operation of the other sections\n",
    "* Tells the input unit when information should be read into the memory unit\n",
    "* Tells the ALU when information from the memory unit should be used in calculations \n",
    "* Tells the output unit when to send information from the memory unit to specific output devices\n",
    "* Most computers have **multicore processors** that implement multiple processors on a single integrated-circuit chip\n",
    "* A dual-core processor has two CPUs, a quad-core processor has four and an octa-core processor has eight\n",
    "    * Intel has some processors with up to 72 cores"
   ]
  },
  {
   "cell_type": "markdown",
   "metadata": {},
   "source": [
    "### Secondary Storage Unit\n",
    "* Long-term, high-capacity “warehousing” section\n",
    "* Programs or data not actively being used by the other units normally are placed on secondary storage devices until they’re needed\n",
    "* Information on secondary storage devices is persistent—it’s preserved even when the computer’s power is turned off\n",
    "* Secondary storage information takes much longer to access than information in primary memory, but its cost per unit is much less\n",
    "* Many current gsrd drives hold terabytes (TB) of data\n",
    "    * A terabyte is approximately one trillion bytes\n",
    "    * Typical hard drives on desktop and notebook computers hold up to 4 TB, and some recent desktop-computer hard drives hold up to 15 TB"
   ]
  },
  {
   "cell_type": "markdown",
   "metadata": {},
   "source": [
    "------\n",
    "&copy;1992&ndash;2020 by Pearson Education, Inc. All Rights Reserved. This content is based on Chapter 1 of the book [**Intro to Python for Computer Science and Data Science: Learning to Program with AI, Big Data and the Cloud**](https://amzn.to/2VvdnxE).\n",
    "\n",
    "DISCLAIMER: The authors and publisher of this book have used their \n",
    "best efforts in preparing the book. These efforts include the \n",
    "development, research, and testing of the theories and programs \n",
    "to determine their effectiveness. The authors and publisher make \n",
    "no warranty of any kind, expressed or implied, with regard to these \n",
    "programs or to the documentation contained in these books. The authors \n",
    "and publisher shall not be liable in any event for incidental or \n",
    "consequential damages in connection with, or arising out of, the \n",
    "furnishing, performance, or use of these programs.                  "
   ]
  }
 ],
 "metadata": {
  "kernelspec": {
   "display_name": "Python 3",
   "language": "python",
   "name": "python3"
  },
  "language_info": {
   "codemirror_mode": {
    "name": "ipython",
    "version": 3
   },
   "file_extension": ".py",
   "mimetype": "text/x-python",
   "name": "python",
   "nbconvert_exporter": "python",
   "pygments_lexer": "ipython3",
   "version": "3.7.7"
  }
 },
 "nbformat": 4,
 "nbformat_minor": 4
}
