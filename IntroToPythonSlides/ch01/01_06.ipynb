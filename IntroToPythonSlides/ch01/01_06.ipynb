{
 "cells": [
  {
   "cell_type": "markdown",
   "metadata": {},
   "source": [
    "# 1.6 Operating Systems\n",
    "* Make using computers more convenient for users, application developers and system administrators\n",
    "* Provide services that allow each application to execute safely, efficiently and concurrently with other applications\n",
    "* Core components of the operating system are implemented in the kernel\n",
    "* Linux, Windows and macOS are popular desktop computer operating systems\n",
    "* Google’s Android and Apple’s iOS are the most popular mobile operating systems"
   ]
  },
  {
   "cell_type": "markdown",
   "metadata": {},
   "source": [
    "### Windows—A Proprietary Operating System\n",
    "* In the mid-1980s, Microsoft developed the Windows operating system, consisting of a graphical user interface built on top of DOS (Disk Operating System)\n",
    "* Windows 10 is Microsoft’s latest operating system\n",
    "* Windows is a proprietary operating system controlled by Microsoft \n",
    "* Windows is by far the world’s most widely used desktop operating system"
   ]
  },
  {
   "cell_type": "markdown",
   "metadata": {},
   "source": [
    "### Linux—An Open-Source Operating System\n",
    "* Among the greatest successes of the open-source movement\n",
    "* With open-source development, individuals and companies contribute their efforts in developing, maintaining and evolving software in exchange for the right to use that software for their own purposes, typically at no charge\n",
    "* Open-source code is often scrutinized by a much larger audience than proprietary software, so errors often get removed faster\n",
    "* Open source also encourages innovation"
   ]
  },
  {
   "cell_type": "markdown",
   "metadata": {},
   "source": [
    "### Linux—An Open-Source Operating System (cont.)\n",
    "* Some key open-source organizations:\n",
    "    * Python Software Foundation (responsible for Python)\n",
    "    * GitHub (tools for managing open-source projects)\n",
    "    * The Apache Software Foundation (originally creators of Apache web server, now oversees 350 open-source projects)\n",
    "    * The Eclipse Foundation (the Eclipse Integrated Development Environment helps programmers conveniently develop software)\n",
    "    * The Mozilla Foundation (creators of the Firefox web browser and more)\n",
    "    * OpenML (focuses on open-source tools and data for machine learning)\n",
    "    * OpenAI (does research on artificial intelligence and publishes open-source tools used in AI reinforcement-learning research) \n",
    "    * OpenCV (focuses on open-source computer-vision tools that can be used across a range of operating systems and programming languages)"
   ]
  },
  {
   "cell_type": "markdown",
   "metadata": {},
   "source": [
    "### Linux—An Open-Source Operating System (cont.)\n",
    "* The Linux kernel is developed by a loosely organized team of volunteers \n",
    "* Linux is popular in servers, personal computers and embedded systems (such as the computer systems at the heart of smartphones, smart TVs and automobile systems)\n",
    "* Linux source code (the program code) is available to the public for examination and modification and is free to download and install"
   ]
  },
  {
   "cell_type": "markdown",
   "metadata": {},
   "source": [
    "### Apple’s macOS and Apple’s iOS for iPhone® and iPad® Devices\n",
    "* Apple, founded in 1976 by Steve Jobs and Steve Wozniak, quickly became a leader in personal computing\n",
    "* In 1979, Jobs and several Apple employees visited Xerox PARC (Palo Alto Research Center) to learn about Xerox’s desktop computer that featured a graphical user interface (GUI)\n",
    "* That GUI served as the inspiration for the Apple Macintosh, launched in 1984. "
   ]
  },
  {
   "cell_type": "markdown",
   "metadata": {},
   "source": [
    "### Apple’s macOS and Apple’s iOS for iPhone® and iPad® Devices (cont.)\n",
    "* Objective-C programming language, created by Stepstone, added capabilities for object-oriented programming (OOP) to the C programming language\n",
    "* In 1988, NeXT licensed Objective-C from Stepstone and developed an Objective-C compiler and libraries \n",
    "    * Used as the platform for the NeXTSTEP operating system’s user interface, and Interface Builder—used to construct graphical user interfaces\n",
    "* Apple’s macOS operating system is a descendant of NeXTSTEP\n",
    "* Apple’s proprietary operating system, iOS, is derived from macOS and is used in the iPhone, iPad, Apple Watch and Apple TV devices\n",
    "* In 2014, Apple introduced the Swift programming language\n",
    "    * Became open source in 2015\n",
    "    * The iOS app-development community has largely shifted from Objective-C to Swift"
   ]
  },
  {
   "cell_type": "markdown",
   "metadata": {},
   "source": [
    "### Google’s Android \n",
    "* Android—the fastest growing mobile and smartphone operating system—is based on the Linux kernel and the Java programming language\n",
    "* Android is open source and free. \n",
    "* According to idc.com, as of 2018, Android had 86.8% of the global smartphone market share, compared to 13.2% for Apple\n",
    "* Android is used in numerous smartphones, e-reader devices, tablets, in-store touch-screen kiosks, cars, robots, multimedia players and more"
   ]
  },
  {
   "cell_type": "markdown",
   "metadata": {},
   "source": [
    "### Billions of Devices\n",
    "* In use today are billions of personal computers and an even larger number of mobile devices\n",
    "* Explosive growth of mobile phones, tablets and other devices is creating significant opportunities for programming mobile apps\n",
    "* There are now various tools that enable you to use Python for Android and iOS app development, including BeeWare, Kivy, PyMob, Pythonista and others\n",
    "* Many are cross-platform, meaning that you can use them to develop apps that will run portably on Android, iOS and other platforms (like the web)"
   ]
  },
  {
   "cell_type": "markdown",
   "metadata": {},
   "source": [
    "------\n",
    "&copy;1992&ndash;2020 by Pearson Education, Inc. All Rights Reserved. This content is based on Chapter 1 of the book [**Intro to Python for Computer Science and Data Science: Learning to Program with AI, Big Data and the Cloud**](https://amzn.to/2VvdnxE).\n",
    "\n",
    "DISCLAIMER: The authors and publisher of this book have used their \n",
    "best efforts in preparing the book. These efforts include the \n",
    "development, research, and testing of the theories and programs \n",
    "to determine their effectiveness. The authors and publisher make \n",
    "no warranty of any kind, expressed or implied, with regard to these \n",
    "programs or to the documentation contained in these books. The authors \n",
    "and publisher shall not be liable in any event for incidental or \n",
    "consequential damages in connection with, or arising out of, the \n",
    "furnishing, performance, or use of these programs.                  "
   ]
  }
 ],
 "metadata": {
  "kernelspec": {
   "display_name": "Python 3",
   "language": "python",
   "name": "python3"
  },
  "language_info": {
   "codemirror_mode": {
    "name": "ipython",
    "version": 3
   },
   "file_extension": ".py",
   "mimetype": "text/x-python",
   "name": "python",
   "nbconvert_exporter": "python",
   "pygments_lexer": "ipython3",
   "version": "3.7.7"
  }
 },
 "nbformat": 4,
 "nbformat_minor": 4
}
