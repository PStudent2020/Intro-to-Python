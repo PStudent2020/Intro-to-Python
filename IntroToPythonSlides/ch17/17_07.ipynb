{
 "cells": [
  {
   "cell_type": "markdown",
   "metadata": {},
   "source": [
    "# 17.7 Spark Streaming: Counting Twitter Hashtags Using the `pyspark-notebook` Docker Stack\n",
    "* **Stream tweets** and summarize **top-20 hashtags** in dynamically updating **bar chart** \n",
    "* **Spark streaming** will read tweets and **summarize hashtags**\n",
    "* Parts of this sample app communicate with one another via **network sockets**\n",
    "    * low-level **client/server networking** in which a **client** app communicates with a **server** app over a **network** using techniques **similar to file I/O**\n",
    "    * **socket** represents one **endpoint of a connection**"
   ]
  },
  {
   "cell_type": "markdown",
   "metadata": {},
   "source": [
    "### Launching the Docker Container and Installing Tweepy\n",
    "* For this example, you’ll install the Tweepy library into the Jupyter Docker container.\n",
    "* Follow Section 17.6.2’s instructions for launching the container and installing Python libraries into it.\n",
    "* Use the following command to install Tweepy:\n",
    ">```\n",
    "pip install tweepy\n",
    "```"
   ]
  },
  {
   "cell_type": "markdown",
   "metadata": {},
   "source": [
    "## 17.7.1 Streaming Tweets to a Socket\n",
    "* The script **`starttweetstream.py`** contains modified **`TweetListener` class** from our Data Mining Twitter presentation\n",
    "* **Streams** the specified number of tweets and **sends them to a socket on the local computer**\n",
    "* Requires **`keys.py`** containing **Twitter credentials**"
   ]
  },
  {
   "cell_type": "markdown",
   "metadata": {},
   "source": [
    "### Executing the Script in the Docker Container\n",
    "* **File > New > Terminal** \n",
    "* `cd work`\n",
    "* `ipython starttweetstream.py number_of_tweets search_terms`\n",
    ">```\n",
    "ipython starttweetstream.py 1000 football\n",
    "```\n",
    "* Script displays `\"Waiting for connection\"` until Spark connects to begin streaming the tweets"
   ]
  },
  {
   "cell_type": "markdown",
   "metadata": {},
   "source": [
    "### Class TweetListener  \n",
    "* **Method `on_status`** extracts hashtags, converts to lowercase and creates a space-separated string of hashtags to send to Spark \n",
    "* Uses `connection`’s **`send`** method to send string to whatever is reading from that socket \n",
    "    * **`send`** expects as its argument a **sequence of bytes**\n",
    "    * **`hashtags_string.encode('utf-8')`** converts a string to bytes \n",
    "* Spark streaming automatically reconstructs the strings"
   ]
  },
  {
   "cell_type": "markdown",
   "metadata": {},
   "source": [
    "```python\n",
    "# starttweetstream.py\n",
    "\"\"\"Script to get tweets on topic(s) specified as script argument(s) \n",
    "   and send tweet text to a socket for processing by Spark.\"\"\"\n",
    "import keys\n",
    "import socket\n",
    "import sys\n",
    "import tweepy\n",
    "\n",
    "```"
   ]
  },
  {
   "cell_type": "markdown",
   "metadata": {},
   "source": [
    "```python\n",
    "class TweetListener(tweepy.StreamListener):\n",
    "    \"\"\"Handles incoming Tweet stream.\"\"\"\n",
    "\n",
    "    def __init__(self, api, connection, limit=10000):\n",
    "        \"\"\"Create instance variables for tracking number of tweets.\"\"\"\n",
    "        self.connection = connection\n",
    "        self.tweet_count = 0\n",
    "        self.TWEET_LIMIT = limit  # 10,000 by default\n",
    "        super().__init__(api)  # call superclass's init\n",
    "\n",
    "    def on_connect(self):\n",
    "        \"\"\"Called when your connection attempt is successful, enabling \n",
    "        you to perform appropriate application tasks at that point.\"\"\"\n",
    "        print('Successfully connected to Twitter\\n')\n",
    "\n",
    "```"
   ]
  },
  {
   "cell_type": "markdown",
   "metadata": {},
   "source": [
    "```python\n",
    "    def on_status(self, status):\n",
    "        \"\"\"Called when Twitter pushes a new tweet to you.\"\"\"\n",
    "        # get the hashtags\n",
    "        hashtags = []\n",
    "\n",
    "        for hashtag_dict in status.entities['hashtags']:\n",
    "            hashtags.append(hashtag_dict['text'].lower())\n",
    "\n",
    "        hashtags_string = ' '.join(hashtags) + '\\n'\n",
    "        print(f'Screen name: {status.user.screen_name}:')\n",
    "        print(f'   Hashtags: {hashtags_string}')\n",
    "        self.tweet_count += 1  # track number of tweets processed\n",
    "        \n",
    "        try:\n",
    "            # send requires bytes, so encode the string in utf-8 format\n",
    "            self.connection.send(hashtags_string.encode('utf-8'))  \n",
    "        except Exception as e:\n",
    "            print(f'Error: {e}')\n",
    "\n",
    "        # if TWEET_LIMIT is reached, return False to terminate streaming\n",
    "        return self.tweet_count < self.TWEET_LIMIT\n",
    "    \n",
    "    def on_error(self, status):\n",
    "        print(status)\n",
    "        return True\n",
    "   \n",
    "```     "
   ]
  },
  {
   "cell_type": "markdown",
   "metadata": {},
   "source": [
    "### Main Application \n",
    "* Get the **number of tweets to process** \n",
    "\n",
    "```python\n",
    "if __name__ == '__main__':\n",
    "    tweet_limit = int(sys.argv[1])  # get maximum number of tweets\n",
    "```\n",
    "\n",
    "* Get **socket object** that we’ll use to wait for a connection from the Spark application\n",
    "\n",
    "```python\n",
    "    client_socket = socket.socket()  # create a socket \n",
    "```"
   ]
  },
  {
   "cell_type": "markdown",
   "metadata": {},
   "source": [
    "### Main Application (cont.)\n",
    "* **Bind the socket** to a hostname or IP address and a port number \n",
    "* Script **listens here** for an initial connection  \n",
    "\n",
    "```python\n",
    "    # app will use localhost (this computer) port 9876\n",
    "    client_socket.bind(('localhost', 9876))  \n",
    "```"
   ]
  },
  {
   "cell_type": "markdown",
   "metadata": {},
   "source": [
    "### Main Application (cont.)\n",
    "* **Wait until a connection is received** before starting the stream\n",
    "\n",
    "```python\n",
    "    print('Waiting for connection')\n",
    "    client_socket.listen()  # wait for client to connect\n",
    "    \n",
    "```"
   ]
  },
  {
   "cell_type": "markdown",
   "metadata": {},
   "source": [
    "### Main Application (cont.)\n",
    "* **`accept`** the connection\n",
    "    * Returns a tuple containing a new **socket object** that the script will use to communicate with the Spark application and the **IP address** of the Spark application’s computer\n",
    "\n",
    "```python\n",
    "    # when connection received, get connection/client address\n",
    "    connection, address = client_socket.accept()  \n",
    "    print(f'Connection received from {address}')\n",
    "``` "
   ]
  },
  {
   "cell_type": "markdown",
   "metadata": {},
   "source": [
    "### Main Application (cont.)\n",
    "* Authenticate with Twitter and start the stream\n",
    "\n",
    "```python\n",
    "    # configure Twitter access\n",
    "    auth = tweepy.OAuthHandler(keys.consumer_key, keys.consumer_secret)\n",
    "    auth.set_access_token(keys.access_token, keys.access_token_secret)\n",
    "    \n",
    "    # configure Tweepy to wait if Twitter rate limits are reached\n",
    "    api = tweepy.API(auth, wait_on_rate_limit=True, \n",
    "                     wait_on_rate_limit_notify=True)               \n",
    " \n",
    "    # create the Stream\n",
    "    twitter_stream = tweepy.Stream(api.auth, \n",
    "        TweetListener(api, connection, tweet_limit))\n",
    "\n",
    "    # sys.argv[2] is the first search term\n",
    "    twitter_stream.filter(track=sys.argv[2:]) \n",
    "```\n",
    "\n",
    "* Call **`close`** method on the socket objects to release their resources  \n",
    "\n",
    "```python\n",
    "    connection.close()\n",
    "    client_socket.close()\n",
    "```"
   ]
  },
  {
   "cell_type": "markdown",
   "metadata": {},
   "source": [
    "## 17.7.2 Summarizing Tweet Hashtags; Introducing Spark SQL\n",
    "* Use **Spark streaming** to read the hashtags sent via a socket by the script `starttweetstream.py` and summarize the results.\n",
    "\n",
    "### Importing the Libraries"
   ]
  },
  {
   "cell_type": "code",
   "execution_count": 14,
   "metadata": {},
   "outputs": [],
   "source": [
    "from pyspark import SparkContext\n",
    "from pyspark.streaming import StreamingContext\n",
    "from pyspark.sql import Row, SparkSession\n",
    "from IPython import display\n",
    "import matplotlib.pyplot as plt\n",
    "import seaborn as sns\n",
    "%matplotlib inline "
   ]
  },
  {
   "cell_type": "markdown",
   "metadata": {},
   "source": [
    "### Utility Function to Get the SparkSession \n",
    "* Can use **Spark SQL** to query data in **RDDs**\n",
    "* **Spark SQL** uses a **Spark `DataFrame`** to get a **table view** of the underlying **RDDs**\n",
    "* A **`SparkSession`** is used to **create a `DataFrame` from an RDD**\n",
    "* Can have only one **`SparkSession`** per notebook or app\n",
    "* We borrowed the following function from the [**_Spark Streaming Programming Guide_**](https://spark.apache.org/docs/latest/streaming-programming-guide.html#dataframe-and-sql-operations)\n",
    "    * **Defines the correct way to get a `SparkSession` instance** if it already exists or to create one if it does not yet exist "
   ]
  },
  {
   "cell_type": "code",
   "execution_count": 15,
   "metadata": {},
   "outputs": [],
   "source": [
    "def getSparkSessionInstance(sparkConf):\n",
    "    \"\"\"Spark Streaming Programming Guide's recommended method \n",
    "       for getting an existing SparkSession or creating a new one.\"\"\"\n",
    "    if (\"sparkSessionSingletonInstance\" not in globals()):\n",
    "        globals()[\"sparkSessionSingletonInstance\"] = SparkSession \\\n",
    "            .builder \\\n",
    "            .config(conf=sparkConf) \\\n",
    "            .getOrCreate()\n",
    "    return globals()[\"sparkSessionSingletonInstance\"]"
   ]
  },
  {
   "cell_type": "markdown",
   "metadata": {},
   "source": [
    "### Utility Function to Display a Barchart Based on a Spark DataFrame\n",
    "* Called after Spark processes **each batch of hashtags**\n",
    "* Clears the previous Seaborn barplot, then displays a new one"
   ]
  },
  {
   "cell_type": "code",
   "execution_count": 16,
   "metadata": {},
   "outputs": [],
   "source": [
    "def display_barplot(spark_df, x, y, time, scale=1.0, size=(8, 4.5)):\n",
    "    \"\"\"Displays a Spark DataFrame's contents as a bar plot.\"\"\"\n",
    "    df = spark_df.toPandas()\n",
    "    \n",
    "    # remove prior graph when new one is ready to display\n",
    "    display.clear_output(wait=True) \n",
    "    print(f'TIME: {time}')\n",
    "    \n",
    "    # create and configure a Figure containing a Seaborn barplot \n",
    "    plt.figure(figsize=size)\n",
    "    sns.set(font_scale=scale)\n",
    "    barplot = sns.barplot(data=df, x=x, y=y, \n",
    "                          palette=sns.color_palette('cool', 20))\n",
    "    \n",
    "    # rotate the x-axis labels 90 degrees for readability\n",
    "    for item in barplot.get_xticklabels():\n",
    "        item.set_rotation(90)\n",
    "        \n",
    "    plt.tight_layout()\n",
    "    plt.show()"
   ]
  },
  {
   "cell_type": "markdown",
   "metadata": {},
   "source": [
    "### Utility Function to Summarize the Top-20 Hashtags So Far \n",
    "* In **Spark streaming**, a **`DStream`** is a **sequence of `RDD`s** \n",
    "* Each **`DStream`** represents **mini-batch** of data to process\n",
    "* Can call a **function** to **perform a task** for **every RDD**\n",
    "* **Function `count_tags`** will \n",
    "    * **summarize hashtag counts** in an **RDD**\n",
    "    * **add** them to the **current totals** (maintained by the **`SparkSession`**)\n",
    "    * display an updated **top-20 barplot**"
   ]
  },
  {
   "cell_type": "code",
   "execution_count": 17,
   "metadata": {},
   "outputs": [],
   "source": [
    "def count_tags(time, rdd):\n",
    "    \"\"\"Count hashtags and display top-20 in descending order.\"\"\"\n",
    "    try:\n",
    "        # get SparkSession\n",
    "        spark = getSparkSessionInstance(rdd.context.getConf()) \n",
    "        \n",
    "        # map hashtag string-count tuples to Rows \n",
    "        rows = rdd.map(\n",
    "            lambda tag: Row(hashtag=tag[0], total=tag[1])) \n",
    "        \n",
    "        # create a DataFrame from the Row objects\n",
    "        hashtags_df = spark.createDataFrame(rows)\n",
    "\n",
    "        # create a temporary table view for use with Spark SQL\n",
    "        hashtags_df.createOrReplaceTempView('hashtags')\n",
    "        \n",
    "        # use Spark SQL to get the top 20 hashtags in descending order\n",
    "        top20_df = spark.sql(\n",
    "            \"\"\"select hashtag, total \n",
    "               from hashtags \n",
    "               order by total desc, hashtag asc \n",
    "               limit 20\"\"\")\n",
    "        display_barplot(top20_df, x='hashtag', y='total', time=time)\n",
    "    except Exception as e:\n",
    "        print(f'Exception: {e}')\n"
   ]
  },
  {
   "cell_type": "markdown",
   "metadata": {},
   "source": [
    "### Utility Function to Summarize the Top-20 Hashtags So Far (cont.)\n",
    "1. Get the **`SparkSession`** by calling **`getSparkSessionInstance`** with the **`SparkContext`’s configuration information**\n",
    "    * Every **RDD** can access its **`SparkContext`** via the **`context`**\n",
    "2. **`map`** the `RDD`'s data to **`Row`** objects\n",
    "    * `RDD`s in this example contain **tuples of hashtags and counts**\n",
    "    * **`Row` constructor** uses the **keyword argument names** as **column names**\n",
    "3. Create a **Spark `DataFrame`** containing the **`Row` objects** for use with **Spark SQL**\n",
    "4. **Create a table view** of the **`DataFrame`**\n",
    "    * Enables Spark SQL to query a **`DataFrame`** like a table in an **relational database**\n",
    "5. Query the data using **Spark SQL**\n",
    "    * [Details of Spark SQL’s syntax](https://spark.apache.org/sql/)\n",
    "    * **`SparkSession` `sql` method** performs a **query** \n",
    "    * Returns a new Spark **`DataFrame`** containing the results\n",
    "6. Pass the **Spark `DataFrame`** to `display_barplot` utility function"
   ]
  },
  {
   "cell_type": "markdown",
   "metadata": {},
   "source": [
    "### Getting the `SparkContext` \n",
    "* The rest of the code in this example sets up **Spark streaming** to read text from the **`starttweetstream.py` script** and specifies **how to process the tweets**\n",
    "* Create the **`SparkContext`** "
   ]
  },
  {
   "cell_type": "code",
   "execution_count": 18,
   "metadata": {},
   "outputs": [],
   "source": [
    "sc = SparkContext()"
   ]
  },
  {
   "cell_type": "markdown",
   "metadata": {},
   "source": [
    "### Getting the StreamingContext \n",
    "* For **Spark streaming**, create a **`StreamingContext`** with following arguments\n",
    "    * **`SparkContext`** \n",
    "    * **batch interval** in seconds&mdash;PySpark docs say this **should be at least 10**\n",
    "* For **performance-related issues**, such as **batch intervals**, see the [Performance Tuning section of the **_Spark Streaming Programming Guide_**](https://spark.apache.org/docs/latest/streaming-programming-guide.html#performance-tuning)"
   ]
  },
  {
   "cell_type": "code",
   "execution_count": 19,
   "metadata": {},
   "outputs": [],
   "source": [
    "ssc = StreamingContext(sc, 10)"
   ]
  },
  {
   "cell_type": "markdown",
   "metadata": {},
   "source": [
    "### Setting Up a Checkpoint to Maintain State\n",
    "* Spark streaming **does not maintain state** as you process stream of RDDs\n",
    "* It **_can_ maintain state** via **Spark checkpointing** \n",
    "* Enables **stateful transformations**\n",
    "    * Such as **summarizing collected data** in this example "
   ]
  },
  {
   "cell_type": "code",
   "execution_count": 20,
   "metadata": {},
   "outputs": [],
   "source": [
    "import time\n",
    "ssc.checkpoint(f'checkpoint{time.time()}')  "
   ]
  },
  {
   "cell_type": "markdown",
   "metadata": {},
   "source": [
    "* In a **cloud-based cluster**, you’d specify a **location within HDFS** \n",
    "* In the **Jupyter Docker stack**, Spark creates checkpoint folder in current folder \n",
    "* [More checkpointing details](https://spark.apache.org/docs/latest/streaming-programming-guide.html#checkpointing)"
   ]
  },
  {
   "cell_type": "markdown",
   "metadata": {},
   "source": [
    "### Connecting to the Stream via a Socket\n",
    "* `StreamingContext` method **`socketTextStream`** **connects to a socket** to receive data stream \n",
    "* Returns a **`DStream`** that receives the data"
   ]
  },
  {
   "cell_type": "code",
   "execution_count": 21,
   "metadata": {},
   "outputs": [],
   "source": [
    "stream = ssc.socketTextStream('localhost', 9876)"
   ]
  },
  {
   "cell_type": "markdown",
   "metadata": {},
   "source": [
    "### Tokenizing the Lines of Hashtags\n",
    "* Use **functional style** with a **`DStream`** to specify **processing steps** for **streaming data**\n",
    "* **`flatmap`** space-separated lines of hashtags into **new `DStream`** of **individual hashtags**"
   ]
  },
  {
   "cell_type": "code",
   "execution_count": 22,
   "metadata": {},
   "outputs": [],
   "source": [
    "tokenized = stream.flatMap(lambda line: line.split())"
   ]
  },
  {
   "cell_type": "markdown",
   "metadata": {},
   "source": [
    "### Mapping the Hashtags to Tuples of Hashtag-Count Pairs \n",
    "* **`map`** each hashtag to a **hashtag-count tuple** with an initial count **`1`**"
   ]
  },
  {
   "cell_type": "code",
   "execution_count": 23,
   "metadata": {},
   "outputs": [],
   "source": [
    "mapped = tokenized.map(lambda hashtag: (hashtag, 1))"
   ]
  },
  {
   "cell_type": "markdown",
   "metadata": {},
   "source": [
    "### Totaling the Hashtag Counts So Far\n",
    "* **`updateStateByKey`** receives a **two-argument `lambda`** \n",
    "* **Totals counts** for a given **key** and **adds** them to the **prior total** for that **key**"
   ]
  },
  {
   "cell_type": "code",
   "execution_count": 24,
   "metadata": {},
   "outputs": [],
   "source": [
    "hashtag_counts = mapped.updateStateByKey(\n",
    "    lambda counts, prior_total: sum(counts) + (prior_total or 0)) "
   ]
  },
  {
   "cell_type": "markdown",
   "metadata": {},
   "source": [
    "### Specifying the Method to Call for Every RDD\n",
    "* **`foreachRDD`** passes every processed **RDD** to function **`count_tags`**, which **summarizes top-20 hashtags** so far in a **barplot**"
   ]
  },
  {
   "cell_type": "code",
   "execution_count": 25,
   "metadata": {},
   "outputs": [],
   "source": [
    "hashtag_counts.foreachRDD(count_tags)"
   ]
  },
  {
   "cell_type": "markdown",
   "metadata": {},
   "source": [
    "### Starting the Spark Stream\n",
    "* **`StreamingContext`’s `start` method** begins the streaming process\n",
    "\n",
    "<!--\n",
    "### Sample barplot \n",
    "![Sample barplot produced while processing a stream of tweets about football](./ch16images/TwitterHashtags.png \"Sample barplot produced while processing a stream of tweets about football\")\n",
    "-->"
   ]
  },
  {
   "cell_type": "code",
   "execution_count": 26,
   "metadata": {},
   "outputs": [
    {
     "name": "stdout",
     "output_type": "stream",
     "text": [
      "TIME: 2019-07-29 15:50:50\n"
     ]
    },
    {
     "data": {
      "image/png": "[encoded data removed]",
      "text/plain": [
       "<Figure size 576x324 with 1 Axes>"
      ]
     },
     "metadata": {
      "image/png": {
       "height": 308,
       "width": 560
      }
     },
     "output_type": "display_data"
    }
   ],
   "source": [
    "ssc.start()  # start the Spark streaming"
   ]
  },
  {
   "cell_type": "markdown",
   "metadata": {},
   "source": [
    "------\n",
    "&copy;1992&ndash;2020 by Pearson Education, Inc. All Rights Reserved. This content is based on Chapter 5 of the book [**Intro to Python for Computer Science and Data Science: Learning to Program with AI, Big Data and the Cloud**](https://amzn.to/2VvdnxE).\n",
    "\n",
    "DISCLAIMER: The authors and publisher of this book have used their \n",
    "best efforts in preparing the book. These efforts include the \n",
    "development, research, and testing of the theories and programs \n",
    "to determine their effectiveness. The authors and publisher make \n",
    "no warranty of any kind, expressed or implied, with regard to these \n",
    "programs or to the documentation contained in these books. The authors \n",
    "and publisher shall not be liable in any event for incidental or \n",
    "consequential damages in connection with, or arising out of, the \n",
    "furnishing, performance, or use of these programs.                  "
   ]
  }
 ],
 "metadata": {
  "celltoolbar": "Slideshow",
  "kernelspec": {
   "display_name": "Python 3",
   "language": "python",
   "name": "python3"
  },
  "language_info": {
   "codemirror_mode": {
    "name": "ipython",
    "version": 3
   },
   "file_extension": ".py",
   "mimetype": "text/x-python",
   "name": "python",
   "nbconvert_exporter": "python",
   "pygments_lexer": "ipython3",
   "version": "3.7.3"
  }
 },
 "nbformat": 4,
 "nbformat_minor": 2
}
