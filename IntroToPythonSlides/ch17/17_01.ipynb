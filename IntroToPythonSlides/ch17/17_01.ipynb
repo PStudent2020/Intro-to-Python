{
 "cells": [
  {
   "cell_type": "markdown",
   "metadata": {},
   "source": [
    "# 17.1 Introduction\n",
    "* Discuss popular hardware and software infrastructure for working with big data\n",
    "* Develop complete applications on several desktop and cloud-based big-data platforms"
   ]
  },
  {
   "cell_type": "markdown",
   "metadata": {},
   "source": [
    "### Databases \n",
    "* Critical big-data infrastructure for storing and manipulating massive amounts of data\n",
    "* Critical for securely and confidentially maintaining that data, especially in the context of ever-stricter privacy laws such as \n",
    "    * **HIPAA (Health Insurance Portability and Accountability Act)** in the United States \n",
    "    * **GDPR (General Data Protection Regulation)** for the European Union"
   ]
  },
  {
   "cell_type": "markdown",
   "metadata": {},
   "source": [
    "### Databases (cont.)\n",
    "* Use **Structured Query Language (SQL)** to manipulate **structured data** in **relational databases**\n",
    "* Most data produced today is **unstructured data**\n",
    "    * Facebook posts \n",
    "    * Twitter tweets\n",
    "* Or **semi-structured data** \n",
    "    * JSON documents (like tweets + their metadata)\n",
    "    * XML documents\n",
    "* Relational databases are not geared to the unstructured and semi-structured data in big-data applications"
   ]
  },
  {
   "cell_type": "markdown",
   "metadata": {},
   "source": [
    "### Databases (cont.)\n",
    "* New kinds of databases created to handle big data efficiently\n",
    "* Four major types of **NoSQL databases**\n",
    "    * key–value\n",
    "    * document\n",
    "    * columnar \n",
    "    * graph databases\n",
    "* Overview **NewSQL databases**\n",
    "    * Blend the benefits of relational and NoSQL databases"
   ]
  },
  {
   "cell_type": "markdown",
   "metadata": {},
   "source": [
    "### Apache Hadoop \n",
    "* Much of today’s data is so large that it cannot fit on one system\n",
    "* As big data grew, we needed **distributed data storage** and **parallel processing** capabilities to process the data more efficiently\n",
    "* Led to technologies like **Apache Hadoop** for **distributed data processing** with **massive parallelism** among **clusters of computers** \n",
    "    * Intricate parallelization details are handled for you automatically and correctly\n",
    "* Introduce **Hadoop**, its architecture and how it’s used in big-data applications\n",
    "* Guide you through configuring a **multi-node Hadoop cluster** using the **Microsoft Azure HDInsight cloud service**, then use it to execute a **Hadoop MapReduce** job implemented in Python\n",
    "* HDInsight is not free\n",
    "    * Microsoft gives you a new-account credit that should enable you to run the chapter’s code examples without incurring additional charges "
   ]
  },
  {
   "cell_type": "markdown",
   "metadata": {},
   "source": [
    "## Apache Spark \n",
    "* As big-data processing needs grow, technology community is continually looking for ways to **increase performance**\n",
    "* **Hadoop** breaks tasks into pieces that do lots of disk I/O across many computers\n",
    "* Spark performs certain big-data tasks **in memory** for better performance\n",
    "* Discuss **Apache Spark**, its architecture and how it’s used in high-performance, real-time big-data applications\n",
    "* Implement a **Spark application** using **functional-style filter/map/reduce programming capabilities**"
   ]
  },
  {
   "cell_type": "markdown",
   "metadata": {},
   "source": [
    "## Apache Spark (cont.)\n",
    "* First, you’ll build this example using a **Jupyter Docker stack** that runs locally on your desktop computer, then you’ll implement it using a **cloud-based Microsoft Azure HDInsight multi-node Spark cluster**\n",
    "* Introduce **Spark streaming** for processing **streaming data** in **mini-batches**\n",
    "    * Gathers data for a short time interval, then gives you that batch of data to process\n",
    "    * Implement a **Spark streaming application** that processes **tweets**\n",
    "    * Use **Spark SQL** to query data stored in a **Spark `DataFrame`** which, unlike pandas `DataFrame`s, may contain data distributed over many computers in a cluster"
   ]
  },
  {
   "cell_type": "markdown",
   "metadata": {},
   "source": [
    "### Internet of Things \n",
    "* Conclude with an introduction to the **Internet of Things (IoT)**\n",
    "    * Billions of devices that are continuously producing data worldwide\n",
    "* Introduce the **publish/subscribe model** that IoT and other applications use to connect data users with data providers\n",
    "* Without writing any code, you’ll build a **web-based dashboard** using **Freeboard.io** and a **sample live stream** from the **PubNub messaging service**\n",
    "* You’ll simulate an **Internet-connected thermostat** which **publishes messages** to the free **Dweet.io messaging service** using the **Python module Dweepy**, then create a **dashboard visualization** of the data with **Freeboard.io**\n",
    "* You’ll build a Python client that **subscribes** to a **sample live stream** from the **PubNub** service and **dynamically visualizes the stream** with **Seaborn and a Matplotlib `FuncAnimation`**"
   ]
  },
  {
   "cell_type": "markdown",
   "metadata": {},
   "source": [
    "### Experience Cloud and Desktop Big-Data Software \n",
    "* Cloud vendors focus on ***service-oriented architecture (SOA)*** technology in which they provide **“as-a-Service” capabilities** that applications connect to and use in the **cloud**.\n",
    "* Common services provided by cloud vendors include:\n",
    "\n",
    "| “As-a-Service” acronyms (note that several are the same)\n",
    "| :--- \n",
    "| Big data as a Service (BDaaS)\n",
    "| Hadoop as a Service (HaaS)\n",
    "| Hardware as a Service (HaaS)\n",
    "| Infrastructure as a Service (IaaS)\n",
    "| Platform as a Service (PaaS)\n",
    "| Software as a Service (SaaS)\n",
    "| Storage as a Service (SaaS)\n",
    "| Spark as a Service (SaaS)\n",
    "\n",
    "* See more “as-a-Service” acronyms [here](https://en.wikipedia.org/wiki/Cloud_computing) and [here](https://en.wikipedia.org/wiki/As_a_service)"
   ]
  },
  {
   "cell_type": "markdown",
   "metadata": {},
   "source": [
    "### Experience Cloud and Desktop Big-Data Software (cont.)\n",
    "* Hands-on experience in this chapter with several **cloud-based tools**\n",
    "\t* A **free** MongoDB Atlas cloud-based cluster\n",
    "\t* A multi-node Hadoop cluster running on Microsoft’s Azure HDInsight cloud-based service—for this you’ll use the **credit** that comes with a new Azure account\n",
    "\t* A **free** single-node **Spark “cluster”** running on your desktop computer, using a Jupyter Docker-stack container\n",
    "\t* A multi-node **Spark cluster**, also running on Microsoft’s Azure HDInsight—for this you’ll continue using your Azure new-account **credit**)\n",
    "* Many other options, including cloud-based services from Amazon Web Services, Google Cloud and IBM Watson, and the free **desktop** versions of the Hortonworks and Cloudera platforms (there also are cloud-based paid versions of these)\n",
    "* Also could try a **single-node Spark cluster** running on the **free cloud-based Databricks Community Edition**\n",
    "    * Spark’s creators founded **Databricks**"
   ]
  },
  {
   "cell_type": "markdown",
   "metadata": {},
   "source": [
    "### Experience Cloud and Desktop Big-Data Software (cont.)\n",
    "* **Always check the latest terms and conditions of each service you use** \n",
    "    * **Some require you to enable credit-card billing to use their clusters**\n",
    "    * **Caution: Once you allocate Microsoft Azure HDInsight clusters (or other vendors’ clusters), they incur costs. When you complete the case studies using services such as Microsoft Azure, be sure to delete your cluster(s) and their other resources (like storage). This will help extend the life of your Azure new-account credit.** \n",
    "* If you have questions, the best sources for help are the vendor’s support capabilities and forums\n",
    "    * Also, check sites such as `stackoverflow.com`—other people may have asked questions about similar problems and received answers from the developer community"
   ]
  },
  {
   "cell_type": "markdown",
   "metadata": {},
   "source": [
    "### Data’s Meaning\n",
    "* The previous data-science case studies all focused on AI\n",
    "* Here, we focus on the **big-data infrastructure that supports AI solutions**\n",
    "* As the data used with these technologies continues growing exponentially, we want to learn from that data and do so at blazing speed\n",
    "* We’ll accomplish these goals with a combination of sophisticated algorithms, hardware, software and networking designs\n",
    "* With **more data**, and especially with **big data**, **machine learning** can be even **more effective**"
   ]
  },
  {
   "cell_type": "markdown",
   "metadata": {},
   "source": [
    "### Big-Data Sources\n",
    "* The following articles and sites provide links to hundreds of free big data sources:\n",
    "\n",
    "| Big-data sources\n",
    "| :---\n",
    "| **“Awesome-Public-Datasets,”** GitHub.com, https://github.com/caesar0301/awesome-public-datasets\n",
    "| **“AWS Public Datasets,”** https://aws.amazon.com/public-datasets/\n",
    "| **“Big Data And AI: 30 Amazing (And Free) Public Data Sources For 2018,”** by B. Marr, https://www.forbes.com/sites/bernardmarr/2018/02/26/big-data-and-ai-30-amazing-and-free-public-data-sources-for-2018/\n",
    "| **“Datasets for Data Mining and Data Science,”** http://www.kdnuggets.com/datasets/index.html\n",
    "| **“Exploring Open Data Sets,”** https://datascience.berkeley.edu/open-data-sets/\n",
    "| **“Free Big Data Sources,”** Datamics, http://datamics.com/free-big-data-sources/\n",
    "| **_Hadoop Illuminated_, Chapter 16. Publicly Available Big Data Sets**, http://hadoopilluminated.com/hadoop_illuminated/Public_Bigdata_Sets.html\n",
    "| **“List of Public Data Sources Fit for Machine Learning,”** https://blog.bigml.com/list-of-public-data-sources-fit-for-machine-learning/\n",
    "| **“Open Data,”** Wikipedia, https://en.wikipedia.org/wiki/Open_data\n",
    "| **“Open Data 500 Companies**,” http://www.opendata500.com/us/list/\n",
    "| **“Other Interesting Resources/Big Data and Analytics Educational Resources and Research,”** B. Marr, http://computing.derby.ac.uk/bigdatares/?page_id=223.\n",
    "| **“6 Amazing Sources of Practice Data Sets,”** https://www.jigsawacademy.com/6-amazing-sources-of-practice-data-sets/\n",
    "| **“20 Big Data Repositories You Should Check Out,”** M. Krivanek, http://www.datasciencecentral.com/profiles/blogs/20-free-big-data-sources-everyone-should-check-out\n",
    "| **“70+ Websites to Get Large Data Repositories for Free,”** http://bigdata-madesimple.com/70-websites-to-get-large-data-repositories-for-free/\n",
    "| **“Ten Sources of Free Big Data on Internet,”** A. Brown, https://www.linkedin.com/pulse/ten-sources-free-big-data-internet-alan-brown\n",
    "| **“Top 20 Open Data Sources,”** https://www.linkedin.com/pulse/top-20-open-data-sources-zygimantas-jacikevicius\n",
    "| **“We’re Setting Data, Code and APIs Free,”** NASA, https://open.nasa.gov/open-data/\n",
    "| **“Where Can I Find Large Datasets Open to the Public?”** Quora, https://www.quora.com/Where-can-I-find-large-datasets-open-to-the-public"
   ]
  },
  {
   "cell_type": "markdown",
   "metadata": {},
   "source": [
    "------\n",
    "&copy;1992&ndash;2020 by Pearson Education, Inc. All Rights Reserved. This content is based on Chapter 5 of the book [**Intro to Python for Computer Science and Data Science: Learning to Program with AI, Big Data and the Cloud**](https://amzn.to/2VvdnxE).\n",
    "\n",
    "DISCLAIMER: The authors and publisher of this book have used their \n",
    "best efforts in preparing the book. These efforts include the \n",
    "development, research, and testing of the theories and programs \n",
    "to determine their effectiveness. The authors and publisher make \n",
    "no warranty of any kind, expressed or implied, with regard to these \n",
    "programs or to the documentation contained in these books. The authors \n",
    "and publisher shall not be liable in any event for incidental or \n",
    "consequential damages in connection with, or arising out of, the \n",
    "furnishing, performance, or use of these programs.                  "
   ]
  }
 ],
 "metadata": {
  "celltoolbar": "Slideshow",
  "kernelspec": {
   "display_name": "Python 3",
   "language": "python",
   "name": "python3"
  },
  "language_info": {
   "codemirror_mode": {
    "name": "ipython",
    "version": 3
   },
   "file_extension": ".py",
   "mimetype": "text/x-python",
   "name": "python",
   "nbconvert_exporter": "python",
   "pygments_lexer": "ipython3",
   "version": "3.7.3"
  }
 },
 "nbformat": 4,
 "nbformat_minor": 2
}
