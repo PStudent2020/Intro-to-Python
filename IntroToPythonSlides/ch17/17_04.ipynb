{
 "cells": [
  {
   "cell_type": "markdown",
   "metadata": {},
   "source": [
    "* **Instructor Notes:**\n",
    "    * Before running this notebook's code, add your own keys into the keys.py file\n",
    "    * The app is set up to collect 10,000 tweets&mdash;you can reduce the number to make it execute during class time, but the map will color better if there are some significant differences in tweet counts per senator. So, you might want to execute this the night before your class. \n",
    "    * We've provided the fully executed notebook, which has a map generated on August 25, 2019.\n",
    "    * Every time you execute this, you'll want to first go to mongodb.com and empty your database if you're using their free Atlast cluster, as it provides only 512MB of storage. \n",
    "    * We updated senators.csv as of 2019.\n",
    "    * We modified class TweetListener to clear it's ouptut every time a new tweet arrives so you don't see 10,000 tweets appear inline in the notebook."
   ]
  },
  {
   "cell_type": "code",
   "execution_count": 1,
   "metadata": {},
   "outputs": [],
   "source": [
    "# enable high-res images in notebook \n",
    "%config InlineBackend.figure_format = 'retina'\n",
    "%matplotlib inline"
   ]
  },
  {
   "cell_type": "markdown",
   "metadata": {},
   "source": [
    "# 17.4 Case Study: A MongoDB JSON Document Database \n",
    "* Store and search **JSON** for **10,000 streamed tweets** about **100 U.S. senators**\n",
    "* Summarize **top 10** by **tweet count**\n",
    "* Display **interactive map** containing **tweet count summaries**\n",
    "* 10,000 tweets can take substantial time \n",
    "* **Possible enhancement** &mdash; Use **sentiment analysis** to count **positive**, **negative** and **neutral tweets** mentioning each senator’s **handle**"
   ]
  },
  {
   "cell_type": "markdown",
   "metadata": {},
   "source": [
    "### Free Cloud-Based MongoDB Atlas Cluster \n",
    "* Requires **no installation** \n",
    "* Store up to **512MB of data**\n",
    "* Can store more with\n",
    "    * [**Free MongoDB Community Server**](https://www.mongodb.com/download-center/community), or \n",
    "    * **Paid MongoDB Atlas account**\n",
    "* **Creating your MongoDB Atlas cluster**\n",
    "    * I discuss the details of **signing up** for a MongoDB account, **creating the MongoDB Atlas Cluster**, **configuring** it and getting your **connection string** in my [**Python Fundamentals LiveLessons videos**](https://learning.oreilly.com/videos/python-fundamentals/9780135917411) (big data lesson coming soon) and in [**Python for Programmers, Section 16.4.1**](https://learning.oreilly.com/library/view/Python+for+Programmers,+First+Edition/9780135231364/ch16.xhtml#ch16lev2sec14)"
   ]
  },
  {
   "cell_type": "markdown",
   "metadata": {},
   "source": [
    "### Python Libraries Required for Interacting with MongoDB\n",
    "```\n",
    "conda install -c conda-forge pymongo\n",
    "conda install -c conda-forge dnspython\n",
    "```\n",
    "* **`pymongo` library** &mdash; interact with **MongoDB databases** from Python\n",
    "* **`dnspython` library** &mdash; used as part of connecting to a **MongoDB Atlas Cluster**"
   ]
  },
  {
   "cell_type": "markdown",
   "metadata": {},
   "source": [
    "### keys.py \n",
    "* **`keys.py`** must contain \n",
    "    * your **Twitter credentials** \n",
    "    * your **OpenMapQuest key** \n",
    "    * your **MongoDB connection string** "
   ]
  },
  {
   "cell_type": "markdown",
   "metadata": {},
   "source": [
    "## 17.4.1 Creating the MongoDB Atlas Cluster\n",
    "* To sign up for a free account go to the following address, enter your email address and click **Get started free**\n",
    "> https://mongodb.com\n",
    "* On the next page, enter your name and create a password, then read their terms of service.\n",
    "* If you agree, click **Get started free** on this page and you’ll be taken to the screen for setting up your cluster.\n",
    "* Click **Build my first cluster** to get started.\n",
    "* They walk you through the getting started steps with popup bubbles that describe and point you to each task you need to complete.\n",
    "* They provide default settings for their free Atlas cluster (**M0** as they refer to it), so just give your cluster a name in the **Cluster Name** section, then click **Create Cluster**."
   ]
  },
  {
   "cell_type": "markdown",
   "metadata": {},
   "source": [
    "## 17.4.1 Creating the MongoDB Atlas Cluster (cont.)\n",
    "* They’ll take you to the **Clusters** page and begin creating your new cluster, which takes several minutes.\n",
    "* Next, a **Connect to Atlas** popup tutorial will appear, showing a checklist of additional steps required to get you up and running:\n",
    "\t* **Create your first database user**—This enables you to log into your cluster.\n",
    "\t* **Whitelist your IP address**—This is a **security measure** which ensures that only IP addresses you verify are allowed to interact with your cluster. To connect to this cluster from multiple locations (school, home, work, etc.), you’ll need to whitelist each IP address from which you intend to connect. \n",
    "\t* **Connect to your cluster**—In this step, you’ll locate your **cluster’s connection string**, which will enable your Python code to connect to the server."
   ]
  },
  {
   "cell_type": "markdown",
   "metadata": {},
   "source": [
    "### Creating Your First Database User\n",
    "* In the popup tutorial window, click **Create your first database user** to continue the tutorial, then follow the on-screen prompts to view the cluster’s **Security** tab and click **+ ADD NEW USER**.\n",
    "* In the **Add New User** dialog, create a username and password.\n",
    "* Write these down—you’ll need them momentarily.\n",
    "* Click **Add User** to return to the **Connect to Atlas** popup tutorial."
   ]
  },
  {
   "cell_type": "markdown",
   "metadata": {},
   "source": [
    "### Whitelist Your IP Address\n",
    "* In the popup tutorial window, click **Whitelist your IP address** to continue the tutorial, then follow the on-screen prompts to view the cluster’s **IP Whitelist** and click **+ ADD IP ADDRESS**.\n",
    "* In the **Add Whitelist Entry** dialog, you can either add your computer’s current IP address or allow access from anywhere, which they do not recommend for production databases, but is OK for learning purposes.\n",
    "* Click **ALLOW ACCESS FROM ANYWHERE** then click **Confirm** to return to the **Connect to Atlas** popup tutorial."
   ]
  },
  {
   "cell_type": "markdown",
   "metadata": {},
   "source": [
    "### Connect to Your Cluster\n",
    "* In the popup tutorial window, click **Connect to your cluster** to continue the tutorial, then follow the on-screen prompts to view the cluster’s **Connect to _YourClusterName_** dialog.\n",
    "* Connecting to a MongoDB Atlas database from Python requires a connection string.\n",
    "* To get your connection string, click **Connect Your Application**, then click **Short SRV connection string**.\n",
    "* Your connection string will appear below **Copy the SRV address**.\n",
    "* Click **COPY** to copy the string.\n",
    "* Paste this string into the `keys.py` file as `mongo_connection_string`’s value.\n",
    "* Replace `\"<PASSWORD>\"` in the connection string with your password, and replace the database name `\"test\"` with `\"senators\"`, which will be the database name in this example.\n",
    "* At the bottom of the **Connect to _YourClusterName_**, click **Close**.\n",
    "* You’re now ready to interact with your Atlas cluster."
   ]
  },
  {
   "cell_type": "markdown",
   "metadata": {},
   "source": [
    "## 17.4.2 Streaming Tweets into MongoDB\n",
    "### Use Tweepy to Authenticate with Twitter and Get the API Object"
   ]
  },
  {
   "cell_type": "code",
   "execution_count": 2,
   "metadata": {},
   "outputs": [],
   "source": [
    "import tweepy, keys"
   ]
  },
  {
   "cell_type": "code",
   "execution_count": 3,
   "metadata": {},
   "outputs": [],
   "source": [
    "auth = tweepy.OAuthHandler(\n",
    "    keys.consumer_key, keys.consumer_secret)\n",
    "auth.set_access_token(keys.access_token, \n",
    "    keys.access_token_secret)"
   ]
  },
  {
   "cell_type": "code",
   "execution_count": 4,
   "metadata": {},
   "outputs": [],
   "source": [
    "api = tweepy.API(auth, wait_on_rate_limit=True, \n",
    "                 wait_on_rate_limit_notify=True)               "
   ]
  },
  {
   "cell_type": "markdown",
   "metadata": {},
   "source": [
    "### Loading the Senators’ Data \n",
    "* **`senators.csv`** (provided in notebook's folder) contains each senator's \n",
    "    * two-letter state code\n",
    "    * name\n",
    "    * party \n",
    "    * Twitter handle\n",
    "    * Twitter ID\n",
    "* **Twitter handle and ID** used to track tweets **to**, **from** and **mentioning** each senator \n",
    "* When following users via **numeric Twitter IDs**, must submit IDs as **strings**"
   ]
  },
  {
   "cell_type": "markdown",
   "metadata": {},
   "source": [
    "### Loading the Senators’ Data (cont.)"
   ]
  },
  {
   "cell_type": "code",
   "execution_count": 5,
   "metadata": {},
   "outputs": [],
   "source": [
    "import pandas as pd"
   ]
  },
  {
   "cell_type": "code",
   "execution_count": 6,
   "metadata": {},
   "outputs": [],
   "source": [
    "senators_df = pd.read_csv('senators.csv')"
   ]
  },
  {
   "cell_type": "code",
   "execution_count": 7,
   "metadata": {},
   "outputs": [],
   "source": [
    "senators_df['TwitterID'] = senators_df['TwitterID'].astype(str)"
   ]
  },
  {
   "cell_type": "code",
   "execution_count": 8,
   "metadata": {},
   "outputs": [
    {
     "data": {
      "text/html": [
       "<div>\n",
       "<style scoped>\n",
       "    .dataframe tbody tr th:only-of-type {\n",
       "        vertical-align: middle;\n",
       "    }\n",
       "\n",
       "    .dataframe tbody tr th {\n",
       "        vertical-align: top;\n",
       "    }\n",
       "\n",
       "    .dataframe thead th {\n",
       "        text-align: right;\n",
       "    }\n",
       "</style>\n",
       "<table border=\"1\" class=\"dataframe\">\n",
       "  <thead>\n",
       "    <tr style=\"text-align: right;\">\n",
       "      <th></th>\n",
       "      <th>State</th>\n",
       "      <th>Name</th>\n",
       "      <th>Party</th>\n",
       "      <th>TwitterHandle</th>\n",
       "      <th>TwitterID</th>\n",
       "    </tr>\n",
       "  </thead>\n",
       "  <tbody>\n",
       "    <tr>\n",
       "      <th>0</th>\n",
       "      <td>AL</td>\n",
       "      <td>Richard Shelby</td>\n",
       "      <td>R</td>\n",
       "      <td>SenShelby</td>\n",
       "      <td>21111098</td>\n",
       "    </tr>\n",
       "    <tr>\n",
       "      <th>1</th>\n",
       "      <td>AL</td>\n",
       "      <td>Doug Jomes</td>\n",
       "      <td>D</td>\n",
       "      <td>SenDougJones</td>\n",
       "      <td>941080085121175552</td>\n",
       "    </tr>\n",
       "    <tr>\n",
       "      <th>2</th>\n",
       "      <td>AK</td>\n",
       "      <td>Lisa Murkowski</td>\n",
       "      <td>R</td>\n",
       "      <td>lisamurkowski</td>\n",
       "      <td>18061669</td>\n",
       "    </tr>\n",
       "    <tr>\n",
       "      <th>3</th>\n",
       "      <td>AK</td>\n",
       "      <td>Dan Sullivan</td>\n",
       "      <td>R</td>\n",
       "      <td>SenDanSullivan</td>\n",
       "      <td>2891210047</td>\n",
       "    </tr>\n",
       "    <tr>\n",
       "      <th>4</th>\n",
       "      <td>AZ</td>\n",
       "      <td>Martha McSally</td>\n",
       "      <td>R</td>\n",
       "      <td>SenMcSallyAZ</td>\n",
       "      <td>2964949642</td>\n",
       "    </tr>\n",
       "  </tbody>\n",
       "</table>\n",
       "</div>"
      ],
      "text/plain": [
       "  State            Name Party   TwitterHandle           TwitterID\n",
       "0    AL  Richard Shelby     R       SenShelby            21111098\n",
       "1    AL      Doug Jomes     D    SenDougJones  941080085121175552\n",
       "2    AK  Lisa Murkowski     R   lisamurkowski            18061669\n",
       "3    AK    Dan Sullivan     R  SenDanSullivan          2891210047\n",
       "4    AZ  Martha McSally     R    SenMcSallyAZ          2964949642"
      ]
     },
     "execution_count": 8,
     "metadata": {},
     "output_type": "execute_result"
    }
   ],
   "source": [
    "senators_df.head()"
   ]
  },
  {
   "cell_type": "markdown",
   "metadata": {},
   "source": [
    "### Configuring the `MongoClient` "
   ]
  },
  {
   "cell_type": "code",
   "execution_count": 9,
   "metadata": {},
   "outputs": [],
   "source": [
    "from pymongo import MongoClient"
   ]
  },
  {
   "cell_type": "code",
   "execution_count": 10,
   "metadata": {},
   "outputs": [],
   "source": [
    "atlas_client = MongoClient(keys.mongo_connection_string)"
   ]
  },
  {
   "cell_type": "markdown",
   "metadata": {},
   "source": [
    "* Get **`pymongo` `Database`** object representing the `senators` database\n",
    "* **Creates the database** if it does not exist\n",
    "* Will be used to store the collection of **tweet JSON documents**"
   ]
  },
  {
   "cell_type": "code",
   "execution_count": 11,
   "metadata": {},
   "outputs": [],
   "source": [
    "db = atlas_client.senators "
   ]
  },
  {
   "cell_type": "markdown",
   "metadata": {},
   "source": [
    "### Setting up Tweet Stream\n",
    "* **`TweetListener`** uses the **`db` object** representing the **senators database** to store tweets \n",
    "    * Depending on the rate at which people are tweeting about the senators, it may take **minutes to hours** to get **10,000 tweets**"
   ]
  },
  {
   "cell_type": "code",
   "execution_count": 12,
   "metadata": {},
   "outputs": [],
   "source": [
    "from tweetlistener import TweetListener"
   ]
  },
  {
   "cell_type": "code",
   "execution_count": 13,
   "metadata": {},
   "outputs": [],
   "source": [
    "tweet_limit = 10000  "
   ]
  },
  {
   "cell_type": "code",
   "execution_count": 14,
   "metadata": {},
   "outputs": [],
   "source": [
    "twitter_stream = tweepy.Stream(api.auth, \n",
    "    TweetListener(api, db, tweet_limit)) "
   ]
  },
  {
   "cell_type": "markdown",
   "metadata": {},
   "source": [
    "### Starting the Live Tweet Stream\n",
    "* Currently, can **track** up to **400 keywords** and **follow** up to **5,000 Twitter IDs** at a time\n",
    "    * **`track`** senators’ Twitter handles as keywords\n",
    "    * **`follow`** their **IDs**  \n",
    "* Together, this will get tweets **from**, **to** and **about** each senator"
   ]
  },
  {
   "cell_type": "code",
   "execution_count": 15,
   "metadata": {},
   "outputs": [
    {
     "name": "stdout",
     "output_type": "stream",
     "text": [
      "    Screen name: Kathy Buckley\n",
      "     Created at: Mon Jul 29 15:28:42 +0000 2019\n",
      "Tweets received: 10000\n"
     ]
    }
   ],
   "source": [
    "twitter_stream.filter(track=senators_df.TwitterHandle.tolist(),\n",
    "    follow=senators_df.TwitterID.tolist())"
   ]
  },
  {
   "cell_type": "markdown",
   "metadata": {},
   "source": [
    "<!-- ```\n",
    "    Screen name: XXXXXXX\n",
    "     Created at: Sun Dec 16 17:19:19 +0000 2018\n",
    "Tweets received: 1\n",
    "...\n",
    "```\n",
    "-->"
   ]
  },
  {
   "cell_type": "markdown",
   "metadata": {},
   "source": [
    "### Class `TweetListener` \n",
    "* For this example, we slightly modified class `TweetListener` from the “Data Mining Twitter” chapter.\n",
    "* Much of the Twitter and Tweepy code shown below is identical to the code you saw previously, so we’ll focus on only the new concepts here:  "
   ]
  },
  {
   "cell_type": "markdown",
   "metadata": {},
   "source": [
    "```python\n",
    "# tweetlistener.py\n",
    "\"\"\"TweetListener downloads tweets and stores them in MongoDB.\"\"\"\n",
    "import json\n",
    "import tweepy\n",
    "from IPython.display import clear_output\n",
    "\n",
    "class TweetListener(tweepy.StreamListener):\n",
    "    \"\"\"Handles incoming Tweet stream.\"\"\"\n",
    "\n",
    "```"
   ]
  },
  {
   "cell_type": "markdown",
   "metadata": {},
   "source": [
    "```python\n",
    "    def __init__(self, api, database, limit=10000):\n",
    "        \"\"\"Create instance variables for tracking number of tweets.\"\"\"\n",
    "        self.db = database\n",
    "        self.tweet_count = 0\n",
    "        self.TWEET_LIMIT = limit  # 10,000 by default\n",
    "        super().__init__(api)  # call superclass's init\n",
    "\n",
    "    def on_connect(self):\n",
    "        \"\"\"Called when your connection attempt is successful, enabling \n",
    "        you to perform appropriate application tasks at that point.\"\"\"\n",
    "        print('Successfully connected to Twitter\\n')\n",
    "\n",
    "```"
   ]
  },
  {
   "cell_type": "markdown",
   "metadata": {},
   "source": [
    "```python\n",
    "    def on_data(self, data):\n",
    "        \"\"\"Called when Twitter pushes a new tweet to you.\"\"\"\n",
    "        self.tweet_count += 1  # track number of tweets processed\n",
    "        json_data = json.loads(data)  # convert string to JSON\n",
    "        self.db.tweets.insert_one(json_data)  # store in tweets collection\n",
    "        clear_output()  # ADDED: show one tweet at a time in Jupyter Notebook\n",
    "        print(f'    Screen name: {json_data[\"user\"][\"name\"]}') \n",
    "        print(f'     Created at: {json_data[\"created_at\"]}')         \n",
    "        print(f'Tweets received: {self.tweet_count}')         \n",
    "\n",
    "        # if TWEET_LIMIT is reached, return False to terminate streaming\n",
    "        return self.tweet_count < self.TWEET_LIMIT\n",
    "    \n",
    "    def on_error(self, status):\n",
    "        print(status)\n",
    "        return True\n",
    "```"
   ]
  },
  {
   "cell_type": "markdown",
   "metadata": {},
   "source": [
    "### Class `TweetListener` (cont.)\n",
    "* Previously, `TweetListener` overrode method `on_status` to receive Tweepy `Status` objects representing tweets\n",
    "* Here, we override the `on_data` method instead \n",
    "* Rather than `Status` objects, `on_data` receives each tweet object’s **raw JSON**\n",
    "* We convert the JSON string received by `on_data` into a Python JSON object\n",
    "* Each MongoDB database contains one or more **`Collections`** of documents\n",
    "* The following expression accesses the `Database` object `db`’s `tweets Collection`, creating it if it does not already exist\n",
    "```python\n",
    "self.db.tweets\n",
    "```\n",
    "* We use the `tweets Collection`’s **`insert_one` method** to store the JSON object in the `tweets` collection"
   ]
  },
  {
   "cell_type": "markdown",
   "metadata": {},
   "source": [
    "### Counting Tweets for Each Senator \n",
    "* MongoDB **text search** requires a **text index** specifying **document field(s) to search** \n",
    "\t* MongoDB [index types](https://docs.mongodb.com/manual/indexes), [text indexes](https://docs.mongodb.com/manual/core/index-text) and [operators](https://docs.mongodb.com/manual/reference/operator)\n",
    "* A **text index** is defined as a **tuple** containing **field name** to search and **index type** (`'text'`)\n",
    "* **Wildcard field name (\\$\\*\\*)** indexes **all** text fields for a **full-text search**"
   ]
  },
  {
   "cell_type": "code",
   "execution_count": 16,
   "metadata": {},
   "outputs": [
    {
     "data": {
      "text/plain": [
       "'$**_text'"
      ]
     },
     "execution_count": 16,
     "metadata": {},
     "output_type": "execute_result"
    }
   ],
   "source": [
    "db.tweets.create_index([('$**', 'text')])"
   ]
  },
  {
   "cell_type": "markdown",
   "metadata": {},
   "source": [
    "### Counting Tweets for Each Senator (cont.)\n",
    "* Use **`tweets` `Collection`’s `count_documents` method** and **full-text search** to count the total number of documents in the collection that contain the specified text\n",
    "    * Find every **twitter handle** in `senators_df.TwitterHandle` column\n",
    "    * `{\"$text\": {\"$search\": senator}}` indicates that we’re **using the `text` index** to **`search`** for the value of **`senator`**"
   ]
  },
  {
   "cell_type": "code",
   "execution_count": 17,
   "metadata": {},
   "outputs": [],
   "source": [
    "tweet_counts = []"
   ]
  },
  {
   "cell_type": "code",
   "execution_count": 18,
   "metadata": {},
   "outputs": [],
   "source": [
    "for senator in senators_df.TwitterHandle:\n",
    "    tweet_counts.append(db.tweets.count_documents(\n",
    "        {\"$text\": {\"$search\": senator}}))"
   ]
  },
  {
   "cell_type": "markdown",
   "metadata": {},
   "source": [
    "### Show Tweet Counts for Each Senator \n",
    "* Create copy of **`DataFrame` `senators_df`** adding a new column of **`tweet_counts`** \n",
    "* Display the **top-10 senators by tweet count**"
   ]
  },
  {
   "cell_type": "code",
   "execution_count": 19,
   "metadata": {},
   "outputs": [],
   "source": [
    "tweet_counts_df = senators_df.assign(Tweets=tweet_counts)  "
   ]
  },
  {
   "cell_type": "code",
   "execution_count": 20,
   "metadata": {},
   "outputs": [
    {
     "data": {
      "text/html": [
       "<div>\n",
       "<style scoped>\n",
       "    .dataframe tbody tr th:only-of-type {\n",
       "        vertical-align: middle;\n",
       "    }\n",
       "\n",
       "    .dataframe tbody tr th {\n",
       "        vertical-align: top;\n",
       "    }\n",
       "\n",
       "    .dataframe thead th {\n",
       "        text-align: right;\n",
       "    }\n",
       "</style>\n",
       "<table border=\"1\" class=\"dataframe\">\n",
       "  <thead>\n",
       "    <tr style=\"text-align: right;\">\n",
       "      <th></th>\n",
       "      <th>State</th>\n",
       "      <th>Name</th>\n",
       "      <th>Party</th>\n",
       "      <th>TwitterHandle</th>\n",
       "      <th>TwitterID</th>\n",
       "      <th>Tweets</th>\n",
       "    </tr>\n",
       "  </thead>\n",
       "  <tbody>\n",
       "    <tr>\n",
       "      <th>84</th>\n",
       "      <td>TX</td>\n",
       "      <td>John Cornyn</td>\n",
       "      <td>R</td>\n",
       "      <td>JohnCornyn</td>\n",
       "      <td>13218102</td>\n",
       "      <td>1632</td>\n",
       "    </tr>\n",
       "    <tr>\n",
       "      <th>33</th>\n",
       "      <td>KY</td>\n",
       "      <td>Rand Paul</td>\n",
       "      <td>R</td>\n",
       "      <td>RandPaul</td>\n",
       "      <td>216881337</td>\n",
       "      <td>1509</td>\n",
       "    </tr>\n",
       "    <tr>\n",
       "      <th>12</th>\n",
       "      <td>CT</td>\n",
       "      <td>Christopher Murphy</td>\n",
       "      <td>D</td>\n",
       "      <td>ChrisMurphyCT</td>\n",
       "      <td>150078976</td>\n",
       "      <td>1334</td>\n",
       "    </tr>\n",
       "    <tr>\n",
       "      <th>32</th>\n",
       "      <td>KY</td>\n",
       "      <td>Mitch McConnell</td>\n",
       "      <td>R</td>\n",
       "      <td>SenateMajLdr</td>\n",
       "      <td>1249982359</td>\n",
       "      <td>1302</td>\n",
       "    </tr>\n",
       "    <tr>\n",
       "      <th>62</th>\n",
       "      <td>NY</td>\n",
       "      <td>Chuck Schumer</td>\n",
       "      <td>D</td>\n",
       "      <td>SenSchumer</td>\n",
       "      <td>17494010</td>\n",
       "      <td>1078</td>\n",
       "    </tr>\n",
       "    <tr>\n",
       "      <th>17</th>\n",
       "      <td>FL</td>\n",
       "      <td>Marco Rubio</td>\n",
       "      <td>R</td>\n",
       "      <td>marcorubio</td>\n",
       "      <td>15745368</td>\n",
       "      <td>440</td>\n",
       "    </tr>\n",
       "    <tr>\n",
       "      <th>16</th>\n",
       "      <td>FL</td>\n",
       "      <td>Rick Scott</td>\n",
       "      <td>R</td>\n",
       "      <td>SenRickScott</td>\n",
       "      <td>131546062</td>\n",
       "      <td>411</td>\n",
       "    </tr>\n",
       "    <tr>\n",
       "      <th>78</th>\n",
       "      <td>SC</td>\n",
       "      <td>Lindsey Graham</td>\n",
       "      <td>R</td>\n",
       "      <td>LindseyGrahamSC</td>\n",
       "      <td>432895323</td>\n",
       "      <td>372</td>\n",
       "    </tr>\n",
       "    <tr>\n",
       "      <th>58</th>\n",
       "      <td>NJ</td>\n",
       "      <td>Cory Booker</td>\n",
       "      <td>D</td>\n",
       "      <td>CoryBooker</td>\n",
       "      <td>15808765</td>\n",
       "      <td>363</td>\n",
       "    </tr>\n",
       "    <tr>\n",
       "      <th>9</th>\n",
       "      <td>CA</td>\n",
       "      <td>Kamala Harris</td>\n",
       "      <td>D</td>\n",
       "      <td>SenKamalaHarris</td>\n",
       "      <td>803694179079458816</td>\n",
       "      <td>336</td>\n",
       "    </tr>\n",
       "  </tbody>\n",
       "</table>\n",
       "</div>"
      ],
      "text/plain": [
       "   State                Name Party    TwitterHandle           TwitterID  \\\n",
       "84    TX         John Cornyn     R       JohnCornyn            13218102   \n",
       "33    KY           Rand Paul     R         RandPaul           216881337   \n",
       "12    CT  Christopher Murphy     D    ChrisMurphyCT           150078976   \n",
       "32    KY     Mitch McConnell     R     SenateMajLdr          1249982359   \n",
       "62    NY       Chuck Schumer     D       SenSchumer            17494010   \n",
       "17    FL         Marco Rubio     R       marcorubio            15745368   \n",
       "16    FL         Rick Scott      R     SenRickScott           131546062   \n",
       "78    SC      Lindsey Graham     R  LindseyGrahamSC           432895323   \n",
       "58    NJ         Cory Booker     D       CoryBooker            15808765   \n",
       "9     CA       Kamala Harris     D  SenKamalaHarris  803694179079458816   \n",
       "\n",
       "    Tweets  \n",
       "84    1632  \n",
       "33    1509  \n",
       "12    1334  \n",
       "32    1302  \n",
       "62    1078  \n",
       "17     440  \n",
       "16     411  \n",
       "78     372  \n",
       "58     363  \n",
       "9      336  "
      ]
     },
     "execution_count": 20,
     "metadata": {},
     "output_type": "execute_result"
    }
   ],
   "source": [
    "tweet_counts_df.sort_values(by='Tweets', ascending=False).head(10)"
   ]
  },
  {
   "cell_type": "markdown",
   "metadata": {},
   "source": [
    "### Get the State Locations for Plotting Markers \n",
    "* Get each **state’s latitude and longitude** coordinates for **plotting on a map**\n",
    "* **`state_codes.py`** contains a dictionary that maps **two-letter state codes** to **full state names**\n",
    "    * Used with **`geopy`** to look up the location of each state"
   ]
  },
  {
   "cell_type": "code",
   "execution_count": 21,
   "metadata": {},
   "outputs": [],
   "source": [
    "from geopy import OpenMapQuest"
   ]
  },
  {
   "cell_type": "code",
   "execution_count": 22,
   "metadata": {},
   "outputs": [],
   "source": [
    "import time"
   ]
  },
  {
   "cell_type": "code",
   "execution_count": 23,
   "metadata": {},
   "outputs": [],
   "source": [
    "from state_codes import state_codes"
   ]
  },
  {
   "cell_type": "markdown",
   "metadata": {},
   "source": [
    "* Get the **`geocoder` object** to **translate location names** into **`Location` objects**"
   ]
  },
  {
   "cell_type": "code",
   "execution_count": 24,
   "metadata": {},
   "outputs": [],
   "source": [
    "geo = OpenMapQuest(api_key=keys.mapquest_key) "
   ]
  },
  {
   "cell_type": "markdown",
   "metadata": {},
   "source": [
    "### Get the State Locations for Plotting Markers (cont.)\n",
    "* Get and sort the unique state names"
   ]
  },
  {
   "cell_type": "code",
   "execution_count": 25,
   "metadata": {},
   "outputs": [],
   "source": [
    "states = tweet_counts_df.State.unique()  # get unique state names"
   ]
  },
  {
   "cell_type": "code",
   "execution_count": 26,
   "metadata": {},
   "outputs": [],
   "source": [
    "states.sort() "
   ]
  },
  {
   "cell_type": "markdown",
   "metadata": {},
   "source": [
    "### Get the State Locations for Plotting Markers (cont.)\n",
    "* Look up **each state’s location**\n",
    "* Call `geocode` with state name followed by `', USA'` \n",
    "    * Ensures that we get United States locations"
   ]
  },
  {
   "cell_type": "code",
   "execution_count": 27,
   "metadata": {},
   "outputs": [],
   "source": [
    "locations = []"
   ]
  },
  {
   "cell_type": "code",
   "execution_count": 28,
   "metadata": {},
   "outputs": [
    {
     "name": "stdout",
     "output_type": "stream",
     "text": [
      "Wyoming, United States of America\n"
     ]
    }
   ],
   "source": [
    "from IPython.display import clear_output\n",
    "\n",
    "for state in states:\n",
    "    processed = False\n",
    "    delay = .1 \n",
    "    while not processed:\n",
    "        try: \n",
    "            locations.append(geo.geocode(state_codes[state] + ', USA'))\n",
    "            clear_output()  # clear cell's current output before showing next one\n",
    "            print(locations[-1])  \n",
    "            processed = True\n",
    "        except:  # timed out, so wait before trying again\n",
    "            print('OpenMapQuest service timed out. Waiting.')\n",
    "            time.sleep(delay)\n",
    "            delay += .1"
   ]
  },
  {
   "cell_type": "markdown",
   "metadata": {},
   "source": [
    "### Grouping the Tweet Counts by State \n",
    "* **Tweet total** for a states' two senators is used to **color the map**\n",
    "    * **Darker colors** represent **higher tweet counts**\n",
    "* **`DataFrame` method `groupby`** to group the senators by state \n",
    "    * **`as_index=False`**&mdash;state codes should be a column in returned **`GroupBy`** object, rather than indices for the object's rows\n",
    "* **`GroupBy`** object's **`sum`** method totals the numeric data by state"
   ]
  },
  {
   "cell_type": "code",
   "execution_count": 29,
   "metadata": {},
   "outputs": [],
   "source": [
    "tweets_counts_by_state = tweet_counts_df.groupby(\n",
    "    'State', as_index=False).sum()"
   ]
  },
  {
   "cell_type": "code",
   "execution_count": 30,
   "metadata": {},
   "outputs": [
    {
     "data": {
      "text/html": [
       "<div>\n",
       "<style scoped>\n",
       "    .dataframe tbody tr th:only-of-type {\n",
       "        vertical-align: middle;\n",
       "    }\n",
       "\n",
       "    .dataframe tbody tr th {\n",
       "        vertical-align: top;\n",
       "    }\n",
       "\n",
       "    .dataframe thead th {\n",
       "        text-align: right;\n",
       "    }\n",
       "</style>\n",
       "<table border=\"1\" class=\"dataframe\">\n",
       "  <thead>\n",
       "    <tr style=\"text-align: right;\">\n",
       "      <th></th>\n",
       "      <th>State</th>\n",
       "      <th>Tweets</th>\n",
       "    </tr>\n",
       "  </thead>\n",
       "  <tbody>\n",
       "    <tr>\n",
       "      <th>0</th>\n",
       "      <td>AK</td>\n",
       "      <td>28</td>\n",
       "    </tr>\n",
       "    <tr>\n",
       "      <th>1</th>\n",
       "      <td>AL</td>\n",
       "      <td>15</td>\n",
       "    </tr>\n",
       "    <tr>\n",
       "      <th>2</th>\n",
       "      <td>AR</td>\n",
       "      <td>13</td>\n",
       "    </tr>\n",
       "    <tr>\n",
       "      <th>3</th>\n",
       "      <td>AZ</td>\n",
       "      <td>31</td>\n",
       "    </tr>\n",
       "    <tr>\n",
       "      <th>4</th>\n",
       "      <td>CA</td>\n",
       "      <td>397</td>\n",
       "    </tr>\n",
       "  </tbody>\n",
       "</table>\n",
       "</div>"
      ],
      "text/plain": [
       "  State  Tweets\n",
       "0    AK      28\n",
       "1    AL      15\n",
       "2    AR      13\n",
       "3    AZ      31\n",
       "4    CA     397"
      ]
     },
     "execution_count": 30,
     "metadata": {},
     "output_type": "execute_result"
    }
   ],
   "source": [
    "tweets_counts_by_state.head()"
   ]
  },
  {
   "cell_type": "markdown",
   "metadata": {},
   "source": [
    "### Creating the Map "
   ]
  },
  {
   "cell_type": "code",
   "execution_count": 31,
   "metadata": {},
   "outputs": [],
   "source": [
    "import folium"
   ]
  },
  {
   "cell_type": "code",
   "execution_count": 32,
   "metadata": {},
   "outputs": [],
   "source": [
    "usmap = folium.Map(location=[39.8283, -98.5795], \n",
    "                   zoom_start=4, detect_retina=True,\n",
    "                   tiles='Stamen Toner')"
   ]
  },
  {
   "cell_type": "markdown",
   "metadata": {},
   "source": [
    "### Creating a Choropleth to Color the Map\n",
    "* A **choropleth** shades areas in a map using magnitudes of numerical values to determine color\n",
    "* For a **detailed description of the arguments** below, see my [**Python Fundamentals LiveLessons videos**](https://learning.oreilly.com/videos/python-fundamentals/9780135917411) (big data lesson coming soon) or [**Python for Programmers, Section 16.4.2** (under the heading \"Creating a Choropleth to Color the Map\"](https://learning.oreilly.com/library/view/python-for-programmers/9780135231364/ch16.xhtml#ch16lev2sec15)"
   ]
  },
  {
   "cell_type": "code",
   "execution_count": 33,
   "metadata": {},
   "outputs": [],
   "source": [
    "choropleth = folium.Choropleth(\n",
    "    geo_data='us-states.json',\n",
    "    name='choropleth',\n",
    "    data=tweets_counts_by_state,\n",
    "    columns=['State', 'Tweets'],\n",
    "    key_on='feature.id',\n",
    "    fill_color='YlOrRd',\n",
    "    fill_opacity=0.7,\n",
    "    line_opacity=0.2,\n",
    "    legend_name='Tweets by State'\n",
    ").add_to(usmap)\n",
    "\n",
    "layer = folium.LayerControl().add_to(usmap)"
   ]
  },
  {
   "cell_type": "markdown",
   "metadata": {},
   "source": [
    "### Creating a Choropleth to Color the Map (cont.)\n",
    "* **`geo_data='us-states.json'`**—This is the file containing the GeoJSON that specifies the shapes to color.\n",
    "* **`name='choropleth'`**—Folium displays the `Choropleth` as a layer over the map. This is the name for that layer that will appear in the map’s layer controls, which enable you to hide and show the layers. These controls appear when you click the layers icon () on the map\n",
    "* **`data=tweets_counts_by_state`**—This is a pandas `DataFrame` (or `Series`) containing the values that determine the `Choropleth` colors"
   ]
  },
  {
   "cell_type": "markdown",
   "metadata": {},
   "source": [
    "### Creating a Choropleth to Color the Map (cont.)\n",
    "* **`columns=['State', 'Tweets']`**—When the `data` is a `DataFrame`, this is a list of two columns representing the keys and the corresponding values used to color the `Choropleth`. \n",
    "* **`key_on='feature.id'`**—This is a variable in the GeoJSON file to which the `Choropleth` binds the values in the `columns` argument\n",
    "* **`fill_color='YlOrRd'`**—This is a color map specifying the colors to use to fill in the states. Folium provides 12 colormaps: `'BuGn'`, `'BuPu'`, `'GnBu'`, `'OrRd'`, `'PuBu'`, `'PuBuGn'`, `'PuRd'`, `'RdPu'`, `'YlGn'`, `'YlGnBu'`, `'YlOrBr'` and `'YlOrRd'`. You should experiment with these to find the most effective and eye-pleasing ones for your application(s)."
   ]
  },
  {
   "cell_type": "markdown",
   "metadata": {},
   "source": [
    "### Creating a Choropleth to Color the Map (cont.)\n",
    "* **`fill_opacity=0.7`**—A value from 0.0 (transparent) to 1.0 (opaque) specifying the transparency of the fill colors displayed in the states.\n",
    "* **`line_opacity=0.2`**—A value from 0.0 (transparent) to 1.0 (opaque) specifying the transparency of lines used to delineate the states.\n",
    "* **`legend_name='Tweets by State'`**—At the top of the map, the `Choropleth` displays a color bar (the legend) indicating the value range represented by the colors. This `legend_name` text appears below the color bar to indicate what the colors represent.\n",
    "* [Complete list of `Choropleth` keyword arguments](http://python-visualization.github.io/folium/modules.html#folium.features.Choropleth)"
   ]
  },
  {
   "cell_type": "markdown",
   "metadata": {},
   "source": [
    "### Creating the Map Markers for Each State (1 of 1)\n",
    "* Sort senators in **descending order** by **tweet count**\n",
    "* **`groupby`** maintains **original row order** in each group\n",
    "* **`index`** &mdash; used to look up each state’s location in **`locations` list**\n",
    "* **name** &mdash; two-letter **state code**\n",
    "* **`group`** &mdash; collection of a **state's two senators**"
   ]
  },
  {
   "cell_type": "code",
   "execution_count": 34,
   "metadata": {},
   "outputs": [],
   "source": [
    "sorted_df = tweet_counts_df.sort_values(by='Tweets', ascending=False)\n",
    "\n",
    "for index, (name, group) in enumerate(sorted_df.groupby('State')):\n",
    "    strings = [state_codes[name]]  # used to assemble popup text\n",
    "\n",
    "    for s in group.itertuples():\n",
    "        strings.append(f'{s.Name} ({s.Party}); Tweets: {s.Tweets}')\n",
    "        \n",
    "    text = '<br>'.join(strings)  \n",
    "    popup = folium.Popup(text, max_width=200)\n",
    "    marker = folium.Marker(\n",
    "        (locations[index].latitude, locations[index].longitude), \n",
    "        popup=popup)\n",
    "    marker.add_to(usmap) "
   ]
  },
  {
   "cell_type": "markdown",
   "metadata": {},
   "source": [
    "### Saving and Displaying the Map \n",
    "* **Instructor note**: You also can evaluate the `usmap` object in a code cell to display the map in a notebook."
   ]
  },
  {
   "cell_type": "code",
   "execution_count": 35,
   "metadata": {},
   "outputs": [],
   "source": [
    "usmap.save('SenatorsTweets.html')"
   ]
  },
  {
   "cell_type": "code",
   "execution_count": 36,
   "metadata": {},
   "outputs": [
    {
     "data": {
      "text/html": [
       "\n",
       "        <iframe\n",
       "            width=\"800\"\n",
       "            height=\"450\"\n",
       "            src=\"./SenatorsTweets.html\"\n",
       "            frameborder=\"0\"\n",
       "            allowfullscreen\n",
       "        ></iframe>\n",
       "        "
      ],
      "text/plain": [
       "<IPython.lib.display.IFrame at 0x1222132e8>"
      ]
     },
     "execution_count": 36,
     "metadata": {},
     "output_type": "execute_result"
    }
   ],
   "source": [
    "from IPython.display import IFrame\n",
    "IFrame(src=\"./SenatorsTweets.html\", width=800, height=450)"
   ]
  },
  {
   "cell_type": "markdown",
   "metadata": {},
   "source": [
    "------\n",
    "&copy;1992&ndash;2020 by Pearson Education, Inc. All Rights Reserved. This content is based on Chapter 5 of the book [**Intro to Python for Computer Science and Data Science: Learning to Program with AI, Big Data and the Cloud**](https://amzn.to/2VvdnxE).\n",
    "\n",
    "DISCLAIMER: The authors and publisher of this book have used their \n",
    "best efforts in preparing the book. These efforts include the \n",
    "development, research, and testing of the theories and programs \n",
    "to determine their effectiveness. The authors and publisher make \n",
    "no warranty of any kind, expressed or implied, with regard to these \n",
    "programs or to the documentation contained in these books. The authors \n",
    "and publisher shall not be liable in any event for incidental or \n",
    "consequential damages in connection with, or arising out of, the \n",
    "furnishing, performance, or use of these programs.                  "
   ]
  }
 ],
 "metadata": {
  "celltoolbar": "Slideshow",
  "kernelspec": {
   "display_name": "Python 3",
   "language": "python",
   "name": "python3"
  },
  "language_info": {
   "codemirror_mode": {
    "name": "ipython",
    "version": 3
   },
   "file_extension": ".py",
   "mimetype": "text/x-python",
   "name": "python",
   "nbconvert_exporter": "python",
   "pygments_lexer": "ipython3",
   "version": "3.7.3"
  }
 },
 "nbformat": 4,
 "nbformat_minor": 2
}
