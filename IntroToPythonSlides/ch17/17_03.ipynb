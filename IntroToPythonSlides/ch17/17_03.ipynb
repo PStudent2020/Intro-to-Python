{
 "cells": [
  {
   "cell_type": "markdown",
   "metadata": {},
   "source": [
    "# 17.3 NoSQL and NewSQL Big-Data Databases: A Brief Tour \n",
    "* For decades, RDBMSs have been the standard in data processing.\n",
    "* Require **structured data** that fits into neat rectangular tables.\n",
    "* As the **size of the data** and the **number of tables and relationships increases**, **relational databases** become **more difficult to manipulate efficiently**.\n",
    "* In big data, **NoSQL** and **NewSQL** databases have emerged to deal with the kinds of data storage and processing demands that traditional relational databases cannot meet.\n",
    "* **Big data requires massive databases**, often spread across data centers worldwide in **huge clusters of commodity computers**.\n",
    "* [According to **`statista.com`**](https://www.statista.com/statistics/500458/worldwide-datacenter-and-it-sites/), there are currently over 8 million data centers worldwide."
   ]
  },
  {
   "cell_type": "markdown",
   "metadata": {},
   "source": [
    "# 17.3 NoSQL and NewSQL Big-Data Databases: A Brief Tour (cont.)\n",
    "* **NoSQL** originally meant what its name implies.\n",
    "* **Growing importance of SQL in big data**—such as SQL on Hadoop and Spark SQL\n",
    "    * **NoSQL** now is said to stand for **“Not Only SQL.”** \n",
    "* Meant for \n",
    "    * **Unstructured data**, like **photos**, **videos** and the **natural language** found in **e-mails**, **text messages** and **social-media posts**, and **semi-structured data** like **JSON** and **XML documents**.\n",
    "    * **Semi-structured data** often wraps **unstructured data** with additional information called **metadata**"
   ]
  },
  {
   "cell_type": "markdown",
   "metadata": {},
   "source": [
    "# 17.3 NoSQL and NewSQL Big-Data Databases: A Brief Tour (cont.)\n",
    "* **Metadata** adds structure to the **unstructured video data**, making it **semi-structured** (like Tweet JSON, shown previously). \n",
    "* The next several subsections overview the **four NoSQL database categories**\n",
    "\t* **key–value**\n",
    "\t* **document**\n",
    "\t* **columnar** (also called **column-based**)\n",
    "\t* **graph**"
   ]
  },
  {
   "cell_type": "markdown",
   "metadata": {},
   "source": [
    "## 17.3.1 NoSQL Key–Value Databases\n",
    "* Like Python dictionaries, [**key–value databases**](https://en.wikipedia.org/wiki/Key-value_database) store **key–value pairs**\n",
    "* Otimized for distributed systems and big-data processing.\n",
    "* For **reliability**, they tend to **replicate data in multiple cluster nodes**.\n",
    "* Some **key–value databases**, such as **Redis**, are **implemented in memory for performance**, and others **store data on disk**, such as **HBase**, which runs on top of **Hadoop’s HDFS distributed file system**.\n",
    "* Other popular key–value databases include **Amazon DynamoDB**, **Google Cloud Datastore** and **Couchbase**.\n",
    "* DynamoDB and Couchbase are **multi-model databases** that **also support documents**.\n",
    "* **HBase** is also a **column-oriented database**."
   ]
  },
  {
   "cell_type": "markdown",
   "metadata": {},
   "source": [
    "## 17.3.2 NoSQL Document Databases \n",
    "* A [**document database**](https://en.wikipedia.org/wiki/Document-oriented_database) stores **semi-structured data**, such as **JSON** or **XML documents**.\n",
    "* In **document databases**, you typically add indexes for specific attributes, so you can more efficiently locate and manipulate documents.\n",
    "    * Assume you’re storing **JSON documents** produced by **IoT devices** and each document contains a type attribute.\n",
    "    * You might add an index for this attribute so you can filter documents based on their types.\n",
    "    * Without indexes, you can still perform that task, it will just be slower because you have to search each document in its entirety to find the attribute."
   ]
  },
  {
   "cell_type": "markdown",
   "metadata": {},
   "source": [
    "## 17.3.2 NoSQL Document Databases (cont.)\n",
    "* **Most popular document database** (and [**most popular overall NoSQL database**](https://db-engines.com/en/ranking)) is **MongoDB**\n",
    "    * Name derives from a sequence of letters embedded in the word “hu**mongo**us.” \n",
    "* We’ll store a large number of **tweets** in **MongoDB for processing**.\n",
    "    * Recall that Twitter’s APIs return **tweets in JSON format**, so they can be stored directly in MongoDB.\n",
    "    * After obtaining the tweets we’ll summarize them in a **pandas `DataFrame`** and on a **Folium map**.\n",
    "* Other popular document databases include Amazon DynamoDB (also a key–value database), Microsoft Azure Cosmos DB and Apache CouchDB."
   ]
  },
  {
   "cell_type": "markdown",
   "metadata": {},
   "source": [
    "## 17.3.3 NoSQL Columnar Databases\n",
    "* In a relational database, a common query operation is to get a specific column’s value for every row.\n",
    "* Because data is organized into rows, a query that selects a specific column can perform poorly.\n",
    "* The database system must get every matching row, locate the required column and discard the rest of the row’s information.\n",
    "* A **columnar database**, also called a **column-oriented database**, is similar to a relational database, but it stores structured data in columns rather than rows.\n",
    "    * https://en.wikipedia.org/wiki/Columnar_database\n",
    "    * https://www.predictiveanalyticstoday.com/top-wide-columnar-store-databases/"
   ]
  },
  {
   "cell_type": "markdown",
   "metadata": {},
   "source": [
    "## 17.3.3 NoSQL Columnar Databases (cont.)\n",
    "* Because all of a column’s elements are stored together, selecting all the data for a given column is more efficient.\n",
    "* Consider our `authors` table in the `books` database:\n",
    "```\n",
    "        first    last\n",
    "id                   \n",
    "1        Paul  Deitel\n",
    "2      Harvey  Deitel\n",
    "3       Abbey  Deitel\n",
    "4         Dan   Quirk\n",
    "5   Alexander    Wald\n",
    "```\n",
    "\n",
    "* In a relational database, all the data for a row is stored together."
   ]
  },
  {
   "cell_type": "markdown",
   "metadata": {},
   "source": [
    "## 17.3.3 NoSQL Columnar Databases (cont.)\n",
    "* If we consider each row as a Python tuple, the rows would be represented as `(1, 'Paul', 'Deitel'), (2, 'Harvey', 'Deitel')`, etc.\n",
    "* In a **columnar database**, all the values for a given column would be stored together, as in `(1, 2, 3, 4, 5)`, `('Paul', 'Harvey', 'Abbey', 'Dan', 'Alexander')` and `('Deitel', 'Deitel', 'Deitel', 'Quirk', 'Wald')`.\n",
    "* The elements in each column are maintained in row order, so the value at a given index in each column belongs to the same row.\n",
    "* Popular **columnar databases** include **MariaDB ColumnStore** and **HBase**. "
   ]
  },
  {
   "cell_type": "markdown",
   "metadata": {},
   "source": [
    "## 17.3.4 NoSQL Graph Databases \n",
    "* [A **graph** models relationships between objects](https://en.wikipedia.org/wiki/Graph_theory).\n",
    "* The objects are called **nodes** (or **vertices**) and the relationships are called **edges**.\n",
    "* Edges are **directional**.\n",
    "* For example, an **edge** representing an airline flight points from the origin city to the destination city, but not the reverse.\n",
    "* A [**graph database**](https://en.wikipedia.org/wiki/Graph_database) stores nodes, edges and their attributes. "
   ]
  },
  {
   "cell_type": "markdown",
   "metadata": {},
   "source": [
    "## 17.3.4 NoSQL Graph Databases (2 of x)\n",
    "* If you use social networks, like Instagram, Snapchat, Twitter and Facebook, consider your **social graph**, which consists of the people you know (**nodes**) and the **relationships** between them (**edges**).\n",
    "* Every person has their own **social graph**, and these are **interconnected**.\n",
    "* The famous **“six degrees of separation” problem** says that any two people in the world are connected to one another by following a [maximum of six edges in the **worldwide social graph**](https://en.wikipedia.org/wiki/Six_degrees_of_separation)."
   ]
  },
  {
   "cell_type": "markdown",
   "metadata": {},
   "source": [
    "## 17.3.4 NoSQL Graph Databases (3 of x)\n",
    "* Many companies use graph databases to create **recommendation engines**.\n",
    "    * When you browse a product on Amazon, they use a **graph of users and products** to show you **comparable products** people browsed before making a purchase.\n",
    "    * When you browse movies on **Netflix**, they use a **graph of users and movies they liked** to suggest movies that might be of interest to you.\n",
    "* One of the most **popular graph databases** is **Neo4j**.\n",
    "* [**Real-world use-cases** for graph databases](https://neo4j.com/graphgists/)\n",
    "    * With most of the use-cases, **sample graph diagrams** produced by Neo4j are shown.\n",
    "    * These visualize the relationships between the graph nodes.\n",
    "    * [Check out Neo4j’s free PDF book, **_Graph Databases_**](https://neo4j.com/graph-databases-book-sx2)."
   ]
  },
  {
   "cell_type": "markdown",
   "metadata": {},
   "source": [
    "## 17.3.5 NewSQL Databases\n",
    "* Key advantages of **relational databases** include their **security** and **transaction support**.\n",
    "* In particular, relational databases typically use [**ACID (Atomicity, Consistency, Isolation, Durability)**](https://en.wikipedia.org/wiki/ACID) transactions: \n",
    "\t* **Atomicity** ensures that the database is modified only if **all** of a transaction’s steps are successful. If you go to an ATM to withdraw $100, that money is not removed from your account unless you have enough money to cover the withdrawal **and** there is enough money in the ATM to satisfy your request. \n",
    "\t* **Consistency** ensures that the database state is always valid. In the withdrawal example above, your new account balance after the transaction will reflect precisely what you withdrew from your account (and possibly ATM fees).\n",
    "\t* **Isolation** ensures that **concurrent transactions** occur as if they were performed sequentially. For example, if two people share a joint bank account and both attempt to withdraw money at the same time from two separate ATMs, one transaction must wait until the other completes. \n",
    "\t* **Durability** ensures that **changes** to the database **survive even hardware failures**.  "
   ]
  },
  {
   "cell_type": "markdown",
   "metadata": {},
   "source": [
    "## 17.3.5 NewSQL Databases\n",
    "* If you research benefits and disadvantages of NoSQL databases, you’ll see that **NoSQL databases generally do not provide ACID support**.\n",
    "* **The types of applications that use NoSQL databases typically do not require the guarantees that ACID-compliant databases provide.**\n",
    "* Many NoSQL databases typically adhere to the **BASE (Basic Availability, Soft-state, Eventual consistency)** model, which focuses more on the database’s **availability**.\n",
    "* Whereas, ACID databases guarantee consistency when you write to the database, **BASE databases provide consistency at some later point in time**. \n",
    "* **NewSQL databases blend** the benefits of both **relational and NoSQL databases** for big-data processing tasks.\n",
    "* Some **popular NewSQL databases** include **VoltDB**, **MemSQL**, **Apache Ignite** and **Google Spanner**. "
   ]
  },
  {
   "cell_type": "markdown",
   "metadata": {},
   "source": [
    "------\n",
    "&copy;1992&ndash;2020 by Pearson Education, Inc. All Rights Reserved. This content is based on Chapter 5 of the book [**Intro to Python for Computer Science and Data Science: Learning to Program with AI, Big Data and the Cloud**](https://amzn.to/2VvdnxE).\n",
    "\n",
    "DISCLAIMER: The authors and publisher of this book have used their \n",
    "best efforts in preparing the book. These efforts include the \n",
    "development, research, and testing of the theories and programs \n",
    "to determine their effectiveness. The authors and publisher make \n",
    "no warranty of any kind, expressed or implied, with regard to these \n",
    "programs or to the documentation contained in these books. The authors \n",
    "and publisher shall not be liable in any event for incidental or \n",
    "consequential damages in connection with, or arising out of, the \n",
    "furnishing, performance, or use of these programs.                  "
   ]
  }
 ],
 "metadata": {
  "celltoolbar": "Slideshow",
  "kernelspec": {
   "display_name": "Python 3",
   "language": "python",
   "name": "python3"
  },
  "language_info": {
   "codemirror_mode": {
    "name": "ipython",
    "version": 3
   },
   "file_extension": ".py",
   "mimetype": "text/x-python",
   "name": "python",
   "nbconvert_exporter": "python",
   "pygments_lexer": "ipython3",
   "version": "3.7.3"
  }
 },
 "nbformat": 4,
 "nbformat_minor": 2
}
