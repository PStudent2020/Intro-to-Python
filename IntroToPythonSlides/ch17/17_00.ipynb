{
 "cells": [
  {
   "cell_type": "markdown",
   "metadata": {},
   "source": [
    "17. Big Data: Big Data: Hadoop, Spark, NoSQL and IoT "
   ]
  },
  {
   "cell_type": "markdown",
   "metadata": {},
   "source": [
    "# Objectives\n",
    "* Understand what big data is and how quickly it’s getting bigger.\n",
    "* Manipulate a SQLite relational database using Structured Query Language (SQL).\n",
    "* Understand the four major types of NoSQL databases.\n",
    "* Store tweets in a MongoDB NoSQL JSON document database and visualize them on a Folium map. \n",
    "* Understand Apache Hadoop and how it’s used in big-data batch-processing applications.\n",
    "* Build a Hadoop MapReduce application on Microsoft’s Azure HDInsight cloud service.\n",
    "* Understand Apache Spark and how it’s used in high-performance, real-time big-data applications.\n",
    "* Use Spark streaming to process data in mini-batches. \n",
    "* Understand the Internet of Things (`IoT`) and the publish/subscribe model.\n",
    "* Publish messages from a simulated Internet-connected device and visualize its messages in a dashboard.\n",
    "* Subscribe to PubNub’s live Twitter and IoT streams and visualize the data. "
   ]
  },
  {
   "cell_type": "markdown",
   "metadata": {},
   "source": [
    "# Outline \n",
    "* [17.1 Introduction](./17_01.ipynb)\n",
    "* [17.2 Relational Databases and Structured Query Language (SQL)](./17_02.ipynb)\n",
    "    * 17.2.1 A books Database\n",
    "    * 17.2.2 SELECT Queries\n",
    "    * 17.2.3 WHERE Clause\n",
    "    * 17.2.4 ORDER BY Clause\n",
    "    * 17.2.5 Merging Data from Multiple Tables: INNER JOIN\n",
    "    * 17.2.6 INSERT INTO Statement\n",
    "    * 17.2.7 UPDATE Statement\n",
    "    * 17.2.8 DELETE FROM Statement"
   ]
  },
  {
   "cell_type": "markdown",
   "metadata": {},
   "source": [
    "# Outline (cont.)\n",
    "* [17.3 NoSQL and NewSQL Big-Data Databases: A Brief Tour](./17_03.ipynb)\n",
    "    * 17.3.1 NoSQL Key–Value Databases\n",
    "    * 17.3.2 NoSQL Document Databases\n",
    "    * 17.3.3 NoSQL Columnar Databases\n",
    "    * 17.3.4 NoSQL Graph Databases\n",
    "    * 17.3.5 NewSQL Databases\n",
    "* [17.4 Case Study: A MongoDB JSON Document Database](./17_04.ipynb)\n",
    "    * 17.4.1 Creating the MongoDB Atlas Cluster\n",
    "    * 17.4.2 Streaming Tweets into MongoDB"
   ]
  },
  {
   "cell_type": "markdown",
   "metadata": {},
   "source": [
    "# Outline (cont.)\n",
    "* [17.5 Hadoop](./17_05.ipynb)\n",
    "    * 17.5.1 Hadoop Overview\n",
    "    * 17.5.2 Summarizing Word Lengths in Romeo and Juliet via MapReduce\n",
    "    * 17.5.3 Creating an Apache Hadoop Cluster in Microsoft Azure HDInsight\n",
    "    * 17.5.4 Hadoop Streaming\n",
    "    * 17.5.5 Implementing the Mapper\n",
    "    * 17.5.6 Implementing the Reducer\n",
    "    * 17.5.7 Preparing to Run the MapReduce Example\n",
    "    * 17.5.8 Running the MapReduce Job"
   ]
  },
  {
   "cell_type": "markdown",
   "metadata": {},
   "source": [
    "# Outline (cont.)\n",
    "* [17.6 Spark](./17_06.ipynb)\n",
    "    * 17.6.1 Spark Overview\n",
    "    * 17.6.2 Docker and the Jupyter Docker Stacks\n",
    "    * 17.6.3 Word Count with Spark\n",
    "    * 17.6.4 Spark Word Count on Microsoft Azure\n",
    "* [17.7 Spark Streaming: Counting Twitter Hashtags Using the pyspark-notebook Docker Stack](./17_07.ipynb)\n",
    "    * 17.7.1 Streaming Tweets to a Socket\n",
    "    * 17.7.2 Summarizing Tweet Hashtags; Introducing Spark SQL"
   ]
  },
  {
   "cell_type": "markdown",
   "metadata": {},
   "source": [
    "# Outline (cont.)\n",
    "* [17.8 Internet of Things and Dashboards](./17_08.ipynb)\n",
    "    * 17.8.1 Publish and Subscribe\n",
    "    * 17.8.2 Visualizing a PubNub Sample Live Stream with a Freeboard Dashboard\n",
    "    * 17.8.3 Simulating an Internet-Connected Thermostat in Python\n",
    "    * 17.8.4 Creating the Dashboard with Freeboard.io\n",
    "    * 17.8.5 Creating a Python PubNub Subscriber\n",
    "* 17.9 Wrap-Up\n",
    "* Exercises"
   ]
  },
  {
   "cell_type": "markdown",
   "metadata": {},
   "source": [
    "------\n",
    "&copy;1992&ndash;2020 by Pearson Education, Inc. All Rights Reserved. This content is based on Chapter 5 of the book [**Intro to Python for Computer Science and Data Science: Learning to Program with AI, Big Data and the Cloud**](https://amzn.to/2VvdnxE).\n",
    "\n",
    "DISCLAIMER: The authors and publisher of this book have used their \n",
    "best efforts in preparing the book. These efforts include the \n",
    "development, research, and testing of the theories and programs \n",
    "to determine their effectiveness. The authors and publisher make \n",
    "no warranty of any kind, expressed or implied, with regard to these \n",
    "programs or to the documentation contained in these books. The authors \n",
    "and publisher shall not be liable in any event for incidental or \n",
    "consequential damages in connection with, or arising out of, the \n",
    "furnishing, performance, or use of these programs.                  "
   ]
  }
 ],
 "metadata": {
  "celltoolbar": "Slideshow",
  "kernelspec": {
   "display_name": "Python 3",
   "language": "python",
   "name": "python3"
  },
  "language_info": {
   "codemirror_mode": {
    "name": "ipython",
    "version": 3
   },
   "file_extension": ".py",
   "mimetype": "text/x-python",
   "name": "python",
   "nbconvert_exporter": "python",
   "pygments_lexer": "ipython3",
   "version": "3.7.3"
  }
 },
 "nbformat": 4,
 "nbformat_minor": 2
}
