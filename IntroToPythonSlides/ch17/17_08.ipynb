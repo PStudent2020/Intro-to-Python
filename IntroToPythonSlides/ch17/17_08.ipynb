{
 "cells": [
  {
   "cell_type": "markdown",
   "metadata": {},
   "source": [
    "# 17.8 Internet of Things and Dashboards\n",
    "* Internet has grown to billions of connected computers, smartphones, tablets and an enormous range of other device types \n",
    "* **Any device connected to the Internet is a “thing” in the Internet of Things (IoT)**\n",
    "* Each device has a unique **Internet protocol address (IP address)** that identifies it\n",
    "* [“Top research firms such as Gartner and McKinsey predict a jump from the 6 billion connected devices we have worldwide today, to **20–30 billion by 2020**”](https://www.pubnub.com/developers/tech/how-pubnub-works/) \n",
    "* Various predictions say that number could be **50 billion**"
   ]
  },
  {
   "cell_type": "markdown",
   "metadata": {},
   "source": [
    "# 17.8 Internet of Things and Dashboards\n",
    "\n",
    "| Small subset of IoT device types and applications\n",
    "| :---\n",
    "| **activity trackers**—Apple Watch, FitBit, …\n",
    "| **personal assistants**—Amazon Echo (Alexa), Apple HomePod (Siri), Google Home (Google Assistant)\n",
    "| **appliances**—ovens, coffee makers, refrigerators, …\n",
    "| **driverless cars**\n",
    "| **earthquake sensors**\n",
    "| **healthcare**—blood glucose monitors for diabetics, blood pressure monitors, electrocardiograms (EKG/ECG), electroencephalograms (EEG), heart monitors, ingestible sensors, pacemakers, sleep trackers, …\n",
    "| **sensors**—chemical, gas, GPS, humidity, light, motion, pressure, temperature, …\n",
    "| **smart home**—lights, garage openers, video cameras, doorbells, irrigation controllers, security devices, smart locks, smart plugs, smoke detectors, thermostats, air vents\n",
    "| **tracking devices**\n",
    "| **wireless network devices**"
   ]
  },
  {
   "cell_type": "markdown",
   "metadata": {},
   "source": [
    "## 17.8.1 Publish and Subscribe \n",
    "* **IoT devices** (and more) commonly communicate via **pub/sub (publisher/subscriber) systems**\n",
    "* **Publisher** &mdash; Anything that **sends a message** to a **cloud-based service**, which in turn **sends** that **message** to all **subscribers**\n",
    "    * **Publisher** specifies a **topic** or **channel**\n",
    "* **Subscriber** specifies one or more **topics** or **channels** for which they’d like to **receive messages**"
   ]
  },
  {
   "cell_type": "markdown",
   "metadata": {},
   "source": [
    "## 17.8.2 Visualizing a PubNub Sample Live Stream with a Freeboard Dashboard\n",
    "* **PubNub** is geared to **real-time pub/sub applications** \n",
    "* Many **use-cases** \n",
    "    * IoT, chat, online multiplayer games, social apps, collaborative apps\n",
    "* Provides several **demo live streams**, including one that **simulates IoT sensors** \n",
    "* Common to **visualize** live data **streams** for **monitoring purposes**\n",
    "* [Here is a **Freeboard.io web-based dashboard**](https://freeboard.io/board/5d335719d4982c3074000469) that &mdash; **without writing code** &mdash; connects to a **live data stream** and **visualizes the data** \n",
    "* For each **sensor**, we used a **Gauge**  and a **Sparkline** \n",
    "    * **Sparkline** &mdash; **Line graph without axes** that shows **data value changing over time**\n",
    "* **Lecture Note: Show some of the settings**"
   ]
  },
  {
   "cell_type": "markdown",
   "metadata": {},
   "source": [
    "### Signing up for Freeboard.io\n",
    "* [Register for a Freeboard.io 30-day trial](https://freeboard.io/signup)\n",
    "* Once registered, the **My Freeboards** page appears\n",
    "* If you’d like, you can click the **Try a Tutorial** button and **visualize data** from your **smartphone**\n"
   ]
  },
  {
   "cell_type": "markdown",
   "metadata": {},
   "source": [
    "### Creating a New Dashboard\n",
    "* In the upper-right corner of the **My Freeboards** page, enter `Sensor Dashboard` in the **enter a name** field, then click the **Create New** button to create a dashboard.\n",
    "* This displays the dashboard designer."
   ]
  },
  {
   "cell_type": "markdown",
   "metadata": {},
   "source": [
    "### Adding a Data Source\n",
    "* If you add your data source(s) before designing your dashboard, you’ll be able to configure each visualization as you add it:\n",
    "\t1. Under **DATASOURCES**, click **ADD** to specify a new data source. \n",
    "\t2. The **DATASOURCE** dialog’s **TYPE** drop-down list shows the currently supported data sources, though you can develop plug-ins for new data sources as well\n",
    "        * Select **PubNub**\n",
    "        * The web page for each PubNub sample live stream specifies the **Channel** and **Subscribe key**\n",
    "        * Copy these values from PubNub’s Sensor Network page at https://www.pubnub.com/developers/realtime-data-streams/sensor-network/, then insert their values in the corresponding **DATASOURCE** dialog fields\n",
    "        * Provide a **NAME** for your data source, then click **SAVE**"
   ]
  },
  {
   "cell_type": "markdown",
   "metadata": {},
   "source": [
    "### Adding a Pane for the Humidity Sensor\n",
    "* A Freeboard.io dashboard is divided into panes that group visualizations.\n",
    "* Multiple panes can be dragged to rearrange them.\n",
    "* Click the **+ Add Pane** button to add a new pane.\n",
    "* Each pane can have a title.\n",
    "* To set it, click the wrench icon on the pane, specify `Humidity` for the **TITLE**, then click **SAVE**. "
   ]
  },
  {
   "cell_type": "markdown",
   "metadata": {},
   "source": [
    "### Adding a Gauge to the Humidity Pane \n",
    "* To add **visualizations** to a **pane**, click its + button to display the **WIDGET** dialog.\n",
    "* The **TYPE** drop-down list shows several **built-in widgets**.\n",
    "* Choose **Gauge**.\n",
    "* To the right of the **VALUE** field, click **+ DATASOURCE**, then select the name of your data source.\n",
    "* This displays the available values from that **data source**.\n",
    "* Click **humidity** to select the humidity sensor’s value.\n",
    "* For **UNITS**, **specify `%`**, then click **SAVE**.\n",
    "* This displays the new visualization, which immediately begins showing values from the sensor stream. \n",
    "* Notice that the humidity value has four digits of precision to the right of the decimal point."
   ]
  },
  {
   "cell_type": "markdown",
   "metadata": {},
   "source": [
    "### Adding a Gauge to the Humidity Pane (cont.)\n",
    "* PubNub supports JavaScript expressions, so you can use them to perform calculations or format data.\n",
    "* For example, you can use JavaScript’s function `Math.round` to round the humidity value to the closest integer.\n",
    "* To do so, hover the mouse over the gauge and click its wrench icon.\n",
    "* Then, insert `\"Math.round(\"` before the text in the **VALUE** field and `\")\"` after the text, then click `SAVE`."
   ]
  },
  {
   "cell_type": "markdown",
   "metadata": {},
   "source": [
    "### Adding a Sparkline to the Humidity Pane\n",
    "* A **sparkline** is a line graph without axes that’s typically used to give you a sense of how a data value is changing over time.\n",
    "* Add a sparkline for the humidity sensor by clicking the humidity pane’s `+` button, then selecting Sparkline from the **TYPE** drop-down list.\n",
    "* For the **VALUE**, once again select your data source and **humidity**, then click **SAVE**. "
   ]
  },
  {
   "cell_type": "markdown",
   "metadata": {},
   "source": [
    "### Completing the Dashboard\n",
    "* Using the techniques above, add two more panes and drag them to the right of the first.\n",
    "* Name them **Radiation Level** and **Ambient Temperature**, respectively, and configure each pane with a **Gauge** and **Sparkline** as shown above.\n",
    "* For the **Radiation Level** gauge, specify `Millirads/Hour` for the **UNITS** and `400` for the **MAXIMUM**.\n",
    "* For the **Ambient Temperature** gauge, specify `Celsius` for the **UNITS** and `50` for the **MAXIMUM**. "
   ]
  },
  {
   "cell_type": "markdown",
   "metadata": {},
   "source": [
    "## 17.8.3 Simulating an Internet-Connected Thermostat in Python\n",
    "* Common to use **IoT simulators** for **testing**, especially if you **do not have access to actual devices and sensors** during development\n",
    "* Many **cloud vendors** have **IoT simulation** capabilities\n",
    "    * **IBM Watson IoT Platform**, **IOTIFY.io**, ...\n",
    "* We'll create a **script** that **simulates IoT thermostat** \n",
    "    * Uses **`dweet.io`**  to publish periodic **JSON messages**—called **dweets** (like a **tweet from a device**)"
   ]
  },
  {
   "cell_type": "markdown",
   "metadata": {},
   "source": [
    "## 17.8.3 Simulating an Internet-Connected Thermostat in Python (cont.)\n",
    "* We'll simulate a **temperature sensor** that can issue\n",
    "    * **low-temperature warnings** before pipes freeze\n",
    "    * **high-temperature warnings** to indicate there might be a fire\n",
    "* Our **dweets** will contain \n",
    "    * **location** \n",
    "    * **temperature**\n",
    "    * **low** or **high temperature warnings** if the temperature drops to **3 degrees Celsius** or rises to **35 degrees Celsius**\n",
    "* Use **`freeboard.io`** to create a **dashboard**"
   ]
  },
  {
   "cell_type": "markdown",
   "metadata": {},
   "source": [
    "### Installing Dweepy\n",
    "* `pip install dweepy`\n",
    "* [Dweepy documentation](https://github.com/paddycarey/dweepy)"
   ]
  },
  {
   "cell_type": "markdown",
   "metadata": {},
   "source": [
    "### Invoking the `simulator.py` Script\n",
    "* Script `simulator.py` simulates our thermostat \n",
    "* Invoke script with two command-line arguments\n",
    "\n",
    "> `ipython simulator.py 1000 1`\n",
    "\n",
    "* **number of total messages** to simulate \n",
    "* **delay** in seconds **between sending dweets**\n",
    "* Can **immediately begin tracking** messages on the `dweet.io` site at \n",
    "> https://dweet.io/follow/temperature-simulator-deitel-python"
   ]
  },
  {
   "cell_type": "markdown",
   "metadata": {},
   "source": [
    "### Sending Dweets \n",
    "* **`dweet.io`** is a public service, so **any app** can **publish** or **subscribe** to messages\n",
    "* **Do not need to register** to use the service\n",
    "* When publishing, specify a **unique name for your device** \n",
    "    * We used `'temperature-simulator-deitel-python'` \n",
    "* On first call to **`dweepy`’s `dweet_for` function** to send a dweet, `dweet.io` **creates the device name**\n",
    "    * Function receives **device name** and a **dictionary** representing the **message to send**\n",
    "    * Sends dictionary in **JSON** format"
   ]
  },
  {
   "cell_type": "markdown",
   "metadata": {},
   "source": [
    "### Script That Sends Dweets \n",
    " \n",
    "```python\n",
    "# simulator.py\n",
    "\"\"\"A connected thermostat simulator that publishes JSON\n",
    "messages to dweet.io\"\"\"\n",
    "import dweepy\n",
    "import sys\n",
    "import time\n",
    "import random\n",
    "\n",
    "MIN_CELSIUS_TEMP = -25  \n",
    "MAX_CELSIUS_TEMP = 45 \n",
    "MAX_TEMP_CHANGE = 2\n",
    "\n",
    "# get the number of messages to simulate and delay between them\n",
    "NUMBER_OF_MESSAGES = int(sys.argv[1]) \n",
    "MESSAGE_DELAY = int(sys.argv[2])\n",
    "\n",
    "dweeter = 'temperature-simulator-deitel-python'  # provide a unique name\n",
    "thermostat = {'Location': 'Boston, MA, USA',\n",
    "              'Temperature': 20, \n",
    "              'LowTempWarning': False,\n",
    "              'HighTempWarning': False}\n",
    "\n",
    "```"
   ]
  },
  {
   "cell_type": "markdown",
   "metadata": {},
   "source": [
    "\t\n",
    "```python\n",
    "print('Temperature simulator starting')\n",
    "\n",
    "for message in range(NUMBER_OF_MESSAGES):\n",
    "    # generate a random number in the range -MAX_TEMP_CHANGE \n",
    "    # through MAX_TEMP_CHANGE and add it to the current temperature\n",
    "    thermostat['Temperature'] += random.randrange(\n",
    "        -MAX_TEMP_CHANGE, MAX_TEMP_CHANGE + 1)\n",
    "    \n",
    "    # ensure that the temperature stays within range\n",
    "    if thermostat['Temperature'] < MIN_CELSIUS_TEMP:\n",
    "        thermostat['Temperature'] = MIN_CELSIUS_TEMP\n",
    "    \n",
    "    if thermostat['Temperature'] > MAX_CELSIUS_TEMP:\n",
    "        thermostat['Temperature'] = MAX_CELSIUS_TEMP\n",
    "    \n",
    "    # check for low temperature warning\n",
    "    if thermostat['Temperature'] < 3:\n",
    "        thermostat['LowTempWarning'] = True\n",
    "    else:\n",
    "        thermostat['LowTempWarning'] = False\n",
    "\n",
    "    # check for high temperature warning\n",
    "    if thermostat['Temperature'] > 35:\n",
    "        thermostat['HighTempWarning'] = True\n",
    "    else:\n",
    "        thermostat['HighTempWarning'] = False\n",
    "\n",
    "    # send the dweet to dweet.io via dweepy\n",
    "    print(f'Messages sent: {message + 1}\\r', end='')\n",
    "    dweepy.dweet_for(dweeter, thermostat)\n",
    "    time.sleep(MESSAGE_DELAY)\n",
    "\n",
    "print('Temperature simulator finished')\n",
    "```"
   ]
  },
  {
   "cell_type": "markdown",
   "metadata": {},
   "source": [
    "## 17.8.4 Creating the Dashboard with Freeboard.io \n",
    "Dashboard contains:\n",
    "* A **Gauge** widget showing the **current temperature**\n",
    "* A **Text** widget to show the  **current temperature** in **Fahrenheit** \n",
    "* Two **Indicator Light** widgets for low and high temperature warnings\n",
    "\n",
    "<img src=\"./ch17images/thermostat1.png\" alt=\"Streaming temperature sensor visualization\" width=150 style=\"float:left; padding:10px\"/> \n",
    "<img src=\"./ch17images/thermostat2.png\" alt=\"Streaming temperature sensor visualization\" width=150 style=\"float:left; padding:10px\"/>\n",
    "\n",
    "<img src=\"./ch17images/thermostat3.png\" alt=\"Streaming temperature sensor visualization\" width=150 style=\"float:left; padding:10px\"/>"
   ]
  },
  {
   "cell_type": "markdown",
   "metadata": {},
   "source": [
    "## 16.8.5 Creating a Python PubNub Subscriber \n",
    "* **`pubnub` module** for performing **pub/sub operations**\n",
    "* [Seven **sample streams** for you to experiment with—four real-time streams and **three simulated streams**](https://www.pubnub.com/developers/realtime-data-streams/)\n",
    "\t* **Twitter Stream**—Up to 50 tweets-per-second from **live Twitter stream** \n",
    "\t* **Hacker News Articles**—Streams this site’s **recent articles**\n",
    "\t* **State Capital Weather**—Streams **weather data** for the U.S. state capitals\n",
    "\t* **Wikipedia Changes**—Stream of **Wikipedia edits** \n",
    "\t* **Game State Sync**—**Simulated** multiplayer game data\n",
    "\t* **Sensor Network**—**Simulated sensor data**: radiation, humidity, temperature and ambient light\n",
    "\t* **Market Orders**—**Simulated stock orders** for five fake companies"
   ]
  },
  {
   "cell_type": "markdown",
   "metadata": {},
   "source": [
    "## 17.8.5 Creating a Python PubNub Subscriber (cont.)\n",
    "* We'll **subscribe** to their **Market Orders stream**, then **visualize** changing stock prices in a **barplot**\n",
    "    * Also can [publish messages to streams](https://www.pubnub.com/docs/python/pubnub-python-sdk)\n",
    "* `pip install \"pubnub>=4.1.2\"`\n",
    "* **`stocklistener.py`** subscribes to the stream and visualizes the stock prices"
   ]
  },
  {
   "cell_type": "markdown",
   "metadata": {},
   "source": [
    "### Message Format\n",
    "* **Simulated Market Orders** stream returns **JSON objects** containing five key–value pairs with the keys **`'bid_price'`**, **`'order_quantity'`**, **`'symbol'`**, **`'timestamp'`** and **`'trade_type'`**\n",
    "    * We’ll use `'bid_price'` and `'symbol'`\n",
    "* **PubNub client** returns **JSON objects** as Python **dictionaries**"
   ]
  },
  {
   "cell_type": "markdown",
   "metadata": {},
   "source": [
    "### Importing the Libraries\n",
    "```python\n",
    "# stocklistener.py\n",
    "\"\"\"Visualizing a PubNub live stream.\"\"\"\n",
    "from matplotlib import animation\n",
    "import matplotlib.pyplot as plt\n",
    "import pandas as pd\n",
    "import random \n",
    "import seaborn as sns\n",
    "import sys\n",
    "\n",
    "from pubnub.callbacks import SubscribeCallback\n",
    "from pubnub.enums import PNStatusCategory\n",
    "from pubnub.pnconfiguration import PNConfiguration\n",
    "from pubnub.pubnub import PubNub\n",
    "\n",
    "```"
   ]
  },
  {
   "cell_type": "markdown",
   "metadata": {},
   "source": [
    "### Initialize List and DataFrame Used for Storing Company Names and Prices\n",
    "* Pandas **`DataFrame` `companies_df`** stores each company’s **last price**\n",
    " \n",
    "```python\n",
    "companies = ['Apple', 'Bespin Gas', 'Elerium', 'Google', 'Linen Cloth']\n",
    "\n",
    "# DataFrame to store last stock prices \n",
    "companies_df = pd.DataFrame(\n",
    "    {'company': companies, 'price' : [0, 0, 0, 0, 0]})\n",
    "\n",
    "```"
   ]
  },
  {
   "cell_type": "markdown",
   "metadata": {},
   "source": [
    "### Class `SensorSubscriberCallback`\n",
    "* A PubNub stream **listener** receives **status notifications** and **messages from the channel**\n",
    "* Subclass of **`SubscribeCallback`** (module `pubnub.callbacks`)\n",
    "* **Overridden method `status`** &mdash; called by PubNub client each time a **status notification arrives**\n",
    "    * We check for **subscribed to** or **unsubscribed from** a channel messages\n",
    "* **Overridden method `message`** &mdash; called when a **message arrives from the channel**\n",
    "    * Stores new stock price\n",
    "\n",
    "```python\n",
    "class SensorSubscriberCallback(SubscribeCallback):\n",
    "    \"\"\"SensorSubscriberCallback receives messages from PubNub.\"\"\"\n",
    "    def __init__(self, df, limit=1000):\n",
    "        \"\"\"Create instance variables for tracking number of tweets.\"\"\"\n",
    "        self.df = df  # DataFrame to store last stock prices\n",
    "        self.order_count = 0\n",
    "        self.MAX_ORDERS = limit  # 1000 by default\n",
    "        super().__init__()  # call superclass's init\n",
    "```"
   ]
  },
  {
   "cell_type": "markdown",
   "metadata": {},
   "source": [
    "```python\n",
    "    def status(self, pubnub, status):\n",
    "        if status.category == PNStatusCategory.PNConnectedCategory:\n",
    "            print('Connected to PubNub')\n",
    "        elif status.category == PNStatusCategory.PNAcknowledgmentCategory:\n",
    "            print('Disconnected from PubNub')\n",
    "```"
   ]
  },
  {
   "cell_type": "markdown",
   "metadata": {},
   "source": [
    "```python\n",
    "    def message(self, pubnub, message):\n",
    "        symbol = message.message['symbol']\n",
    "        bid_price = message.message['bid_price']\n",
    "        print(symbol, bid_price)\n",
    "        self.df.at[companies.index(symbol), 'price'] = bid_price\n",
    "        self.order_count += 1\n",
    "        \n",
    "        # if MAX_ORDERS is reached, unsubscribe from PubNub channel\n",
    "        if self.order_count == self.MAX_ORDERS:\n",
    "            pubnub.unsubscribe_all()\n",
    "```"
   ]
  },
  {
   "cell_type": "markdown",
   "metadata": {},
   "source": [
    "### Function `update` Visualizes the Stock Prices \n",
    "\n",
    "```python\n",
    "def update(frame_number):\n",
    "    \"\"\"Configures bar plot contents for each animation frame.\"\"\"\n",
    "    plt.cla()  # clear old barplot\n",
    "    axes = sns.barplot(\n",
    "        data=companies_df, x='company', y='price', palette='cool')\n",
    "    axes.set(xlabel='Company', ylabel='Price')  \n",
    "    plt.tight_layout()\n",
    "```"
   ]
  },
  {
   "cell_type": "markdown",
   "metadata": {},
   "source": [
    "### Configuring the Application\n",
    "\n",
    "```python\n",
    "if __name__ == '__main__':\n",
    "    sns.set_style('whitegrid')  # white background with gray grid lines\n",
    "    figure = plt.figure('Stock Prices')  # Figure for animation\n",
    "```"
   ]
  },
  {
   "cell_type": "markdown",
   "metadata": {},
   "source": [
    "### Configuring the FuncAnimation and Displaying the Window\n",
    "* **Matplotlib’s `show` method** normally **blocks** a script from continuing until you close the `Figure`\n",
    "    * **`block=False`** allows execution to continue \n",
    "    * we'll **configure Pubnub client** next\n",
    "* For **detailed intro to Matplotlib `FuncAnimation`**, see my [**Python Fundamentals LiveLessons videos**](https://learning.oreilly.com/videos/python-fundamentals/9780135917411/9780135917411-PFLL_Lesson06_17) (two videos) and in [**Python for Programmers, Section 6.4**](https://learning.oreilly.com/library/view/python-for-programmers/9780135231364/ch06.xhtml#ch06lev1sec4)\n",
    "\n",
    "```python\n",
    "    # configure and start animation that calls function update\n",
    "    stock_animation = animation.FuncAnimation(\n",
    "        figure, update, repeat=False, interval=33)\n",
    "    plt.show(block=False)  # display window\n",
    "```"
   ]
  },
  {
   "cell_type": "markdown",
   "metadata": {},
   "source": [
    "### Configuring the PubNub Client\n",
    "* Specify the **PubNub subscription key**\n",
    "    * **Used with the channel name** to **subscribe to the channel**\n",
    "* The `SensorSubscriberCallback` object is passed to the **`PubNub` client’s `add_listener` method** to register it to **receive messages from the channel**\n",
    "\n",
    "```python\n",
    "    # set up pubnub-market-orders sensor stream key\n",
    "    config = PNConfiguration()\n",
    "    config.subscribe_key = 'sub-c-4377ab04-f100-11e3-bffd-02ee2ddab7fe'\n",
    " \n",
    "    # create PubNub client and register a SubscribeCallback\n",
    "    pubnub = PubNub(config) \n",
    "    pubnub.add_listener(\n",
    "        SensorSubscriberCallback(df=companies_df, \n",
    "            limit=int(sys.argv[1] if len(sys.argv) > 1 else 1000))\n",
    "```"
   ]
  },
  {
   "cell_type": "markdown",
   "metadata": {},
   "source": [
    "### Subscribing to the Channel\n",
    "* **Completes subscription process** by indicating that we wish to **receive messages** from **channel `'pubnub-market-orders'`**\n",
    "* **`execute()`** tells client to **begin listening** for messages\n",
    "\n",
    "```python\n",
    "    # subscribe to pubnub-sensor-network channel and begin streaming\n",
    "    pubnub.subscribe().channels('pubnub-market-orders').execute()\n",
    "```"
   ]
  },
  {
   "cell_type": "markdown",
   "metadata": {},
   "source": [
    "### Ensuring the Figure Remains on the Screen\n",
    "```python\n",
    "    plt.show()  # keeps graph on screen until you dismiss its window\n",
    "```\n",
    "\n",
    "<img alt=\"PubNub Python client screen capture\" src=\"./ch17images/stockprices.png\" width=400/>"
   ]
  },
  {
   "cell_type": "markdown",
   "metadata": {},
   "source": [
    "------\n",
    "&copy;1992&ndash;2020 by Pearson Education, Inc. All Rights Reserved. This content is based on Chapter 5 of the book [**Intro to Python for Computer Science and Data Science: Learning to Program with AI, Big Data and the Cloud**](https://amzn.to/2VvdnxE).\n",
    "\n",
    "DISCLAIMER: The authors and publisher of this book have used their \n",
    "best efforts in preparing the book. These efforts include the \n",
    "development, research, and testing of the theories and programs \n",
    "to determine their effectiveness. The authors and publisher make \n",
    "no warranty of any kind, expressed or implied, with regard to these \n",
    "programs or to the documentation contained in these books. The authors \n",
    "and publisher shall not be liable in any event for incidental or \n",
    "consequential damages in connection with, or arising out of, the \n",
    "furnishing, performance, or use of these programs.                  "
   ]
  }
 ],
 "metadata": {
  "celltoolbar": "Slideshow",
  "kernelspec": {
   "display_name": "Python 3",
   "language": "python",
   "name": "python3"
  },
  "language_info": {
   "codemirror_mode": {
    "name": "ipython",
    "version": 3
   },
   "file_extension": ".py",
   "mimetype": "text/x-python",
   "name": "python",
   "nbconvert_exporter": "python",
   "pygments_lexer": "ipython3",
   "version": "3.7.3"
  }
 },
 "nbformat": 4,
 "nbformat_minor": 2
}
