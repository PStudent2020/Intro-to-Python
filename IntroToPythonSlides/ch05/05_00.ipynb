{
 "cells": [
  {
   "cell_type": "markdown",
   "metadata": {
    "slideshow": {
     "slide_type": "slide"
    }
   },
   "source": [
    "# 5. Sequences: Lists and Tuples"
   ]
  },
  {
   "cell_type": "markdown",
   "metadata": {
    "slideshow": {
     "slide_type": "slide"
    }
   },
   "source": [
    "### Objectives \n",
    "In this chapter, you’ll:\n",
    "* Create and initialize lists and tuples.\n",
    "* Refer to elements of lists, tuples and strings.\n",
    "* Sort and search lists, and search tuples. \n",
    "* Pass lists and tuples to functions and methods."
   ]
  },
  {
   "cell_type": "markdown",
   "metadata": {
    "slideshow": {
     "slide_type": "slide"
    }
   },
   "source": [
    "### Objectives (cont.)\n",
    "* Use list methods to perform common manipulations, such as searching for items, sorting a list, inserting items and removing items.\n",
    "* Use additional Python functional-style programming capabilities, including lambdas and the operations filter, map and reduce."
   ]
  },
  {
   "cell_type": "markdown",
   "metadata": {
    "slideshow": {
     "slide_type": "slide"
    }
   },
   "source": [
    "### Objectives (cont.)\n",
    "* Use functional-style list comprehensions to create lists quickly and easily, and use generator expressions to generate values on demand.\n",
    "* Use two-dimensional lists.\n",
    "* Enhance your analysis and presentation skills with the Seaborn and Matplotlib visualization libraries. "
   ]
  },
  {
   "cell_type": "markdown",
   "metadata": {
    "slideshow": {
     "slide_type": "slide"
    }
   },
   "source": [
    "### Outline\n",
    "* [5.1   \tIntroduction](05_01.ipynb)\n",
    "* [5.2   \tLists](05_02.ipynb)\n",
    "* [5.3   \tTuples](05_03.ipynb)\n",
    "* [5.4   \tUnpacking Sequences](05_04.ipynb)\n",
    "* [5.5   \tSequence Slicing](05_05.ipynb)\n",
    "* [5.6   \tdel Statement](05_06.ipynb)\n",
    "* [5.7   \tPassing Lists to Functions](05_07.ipynb)"
   ]
  },
  {
   "cell_type": "markdown",
   "metadata": {
    "slideshow": {
     "slide_type": "slide"
    }
   },
   "source": [
    "### Outline (cont.)\n",
    "* [5.8   \tSorting Lists](05_08.ipynb)\n",
    "* [5.9   \tSearching Sequences](05_09.ipynb)\n",
    "* [5.10   \tOther List Methods](05_10.ipynb)\n",
    "* [5.11   \tSimulating Stacks with Lists](05_11.ipynb)\n",
    "* [5.12   \tList Comprehensions](05_12.ipynb)\n",
    "* [5.13   \tGenerator Expressions](05_13.ipynb)\n",
    "* [5.14   \tFilter, Map and Reduce](05_14.ipynb)"
   ]
  },
  {
   "cell_type": "markdown",
   "metadata": {
    "slideshow": {
     "slide_type": "slide"
    }
   },
   "source": [
    "### Outline (cont.)\n",
    "* [5.15   \tOther Sequence Processing Functions](05_15.ipynb)\n",
    "* [5.16   \tTwo-Dimensional Lists](05_16.ipynb)\n",
    "* [5.17   \tIntro to Data Science: Simulation and Static Visualizations](05_17.ipynb)\n",
    "    * 5.17.1 \tSample Graphs for 600, 60,000 and 6,000,000 Die Rolls\n",
    "    * 5.17.2 \tVisualizing Die-Roll Frequencies and Percentages\n",
    "* 5.18   \tWrap-Up \n",
    "* Exercises"
   ]
  },
  {
   "cell_type": "markdown",
   "metadata": {},
   "source": [
    "------\n",
    "&copy;1992&ndash;2020 by Pearson Education, Inc. All Rights Reserved. This content is based on Chapter 5 of the book [**Intro to Python for Computer Science and Data Science: Learning to Program with AI, Big Data and the Cloud**](https://amzn.to/2VvdnxE).\n",
    "\n",
    "DISCLAIMER: The authors and publisher of this book have used their \n",
    "best efforts in preparing the book. These efforts include the \n",
    "development, research, and testing of the theories and programs \n",
    "to determine their effectiveness. The authors and publisher make \n",
    "no warranty of any kind, expressed or implied, with regard to these \n",
    "programs or to the documentation contained in these books. The authors \n",
    "and publisher shall not be liable in any event for incidental or \n",
    "consequential damages in connection with, or arising out of, the \n",
    "furnishing, performance, or use of these programs.                  "
   ]
  }
 ],
 "metadata": {
  "celltoolbar": "Slideshow",
  "kernelspec": {
   "display_name": "Python 3",
   "language": "python",
   "name": "python3"
  },
  "language_info": {
   "codemirror_mode": {
    "name": "ipython",
    "version": 3
   },
   "file_extension": ".py",
   "mimetype": "text/x-python",
   "name": "python",
   "nbconvert_exporter": "python",
   "pygments_lexer": "ipython3",
   "version": "3.7.3"
  }
 },
 "nbformat": 4,
 "nbformat_minor": 2
}
