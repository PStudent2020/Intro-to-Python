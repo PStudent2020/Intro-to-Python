{
 "cells": [
  {
   "cell_type": "markdown",
   "metadata": {},
   "source": [
    "# 5.1 Introduction\n",
    "* **Collections** are prepackaged data structures consisting of related data items. \n",
    "* Examples of collections:\n",
    "    * Favorite songs on your smartphone\n",
    "    * Contacts list\n",
    "    * A library’s books\n",
    "    * Cards in a card game\n",
    "    * Favorite sports team’s players\n",
    "    * Stocks in an investment portfolio\n",
    "    * Patients in a cancer study \n",
    "    * Shopping list. \n",
    "* Lists (which are modifiable) and tuples (which are not) have many common capabilities. \n",
    "* Each can hold items of the same or different types. \n",
    "* Lists can **dynamically resize** as necessary.\n",
    "* The Intro to Data Science section uses the visualization libraries Seaborn and Matplotlib to interactively develop static bar charts containing the die frequencies. "
   ]
  },
  {
   "cell_type": "markdown",
   "metadata": {},
   "source": [
    "------\n",
    "&copy;1992&ndash;2020 by Pearson Education, Inc. All Rights Reserved. This content is based on Chapter 5 of the book [**Intro to Python for Computer Science and Data Science: Learning to Program with AI, Big Data and the Cloud**](https://amzn.to/2VvdnxE).\n",
    "\n",
    "DISCLAIMER: The authors and publisher of this book have used their \n",
    "best efforts in preparing the book. These efforts include the \n",
    "development, research, and testing of the theories and programs \n",
    "to determine their effectiveness. The authors and publisher make \n",
    "no warranty of any kind, expressed or implied, with regard to these \n",
    "programs or to the documentation contained in these books. The authors \n",
    "and publisher shall not be liable in any event for incidental or \n",
    "consequential damages in connection with, or arising out of, the \n",
    "furnishing, performance, or use of these programs.                  "
   ]
  }
 ],
 "metadata": {
  "celltoolbar": "Slideshow",
  "kernelspec": {
   "display_name": "Python 3",
   "language": "python",
   "name": "python3"
  },
  "language_info": {
   "codemirror_mode": {
    "name": "ipython",
    "version": 3
   },
   "file_extension": ".py",
   "mimetype": "text/x-python",
   "name": "python",
   "nbconvert_exporter": "python",
   "pygments_lexer": "ipython3",
   "version": "3.7.3"
  }
 },
 "nbformat": 4,
 "nbformat_minor": 2
}
