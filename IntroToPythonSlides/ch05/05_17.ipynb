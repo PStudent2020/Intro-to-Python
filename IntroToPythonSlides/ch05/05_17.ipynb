{
 "cells": [
  {
   "cell_type": "markdown",
   "metadata": {},
   "source": [
    "# 5.17 Intro to Data Science: Simulation and Static Visualizations\n",
    "\n",
    "**Instructor Note: This notebook's code has been organized into cells differently than the snippets presented in the book. In a notebook, all the code that affects the visualization's appearance must appear in the same cell. Any code that modifies that appearance would have to re-display the visualization. For this reason, snippet numbers in this notebook do not match with the snippet numbers in the book.**"
   ]
  },
  {
   "cell_type": "markdown",
   "metadata": {},
   "source": [
    "* Visualizations help you “get to know” your data. \n",
    "* Give you a powerful way to understand data that goes beyond simply looking at raw data.\n",
    "* The **Seaborn visualization library** is built over the **Matplotlib visualization library** and simplifies many Matplotlib operations. "
   ]
  },
  {
   "cell_type": "markdown",
   "metadata": {},
   "source": [
    "## 5.17.1 Sample Graphs for 600, 60,000 and 6,000,000 Die Rolls\n",
    "* A vertical bar chart that for 600 die rolls summarizes the frequencies with which each of the six faces appear, and their percentages of the total.\n",
    "* Seaborn refers to this type of graph as a **bar plot**: "
   ]
  },
  {
   "cell_type": "markdown",
   "metadata": {},
   "source": [
    "![Screen capture of a vertical bar chart for 600 die rolls summarizing the frequencies with which each of the six faces appear, and their percentages of the total](ch05images/Seaborn_01.png \"Screen capture of a vertical bar chart for 600 die rolls summarizing the frequencies with which each of the six faces appear, and their percentages of the total\")"
   ]
  },
  {
   "cell_type": "markdown",
   "metadata": {},
   "source": [
    "* Expect about 100 occurrences of each die face. \n",
    "* For a small number of rolls, none of the frequencies is exactly 100 and most of the percentages are not close to 16.667% (about 1/6th). \n",
    "* For 60,000 die rolls, the bars will become much closer in size. \n",
    "* At 6,000,000 die rolls, they’ll appear to be exactly the same size.\n",
    "* “Law of large numbers” at work. "
   ]
  },
  {
   "cell_type": "markdown",
   "metadata": {},
   "source": [
    "* The first screen capture below shows the results for 60,000 die rolls—expect about 10,000 of each face. \n",
    "* The second screen capture below shows the results for 6,000,000 rolls—expect about 1,000,000 of each face\n",
    "* With more die rolls, the frequency percentages are much closer to the expected 16.667%."
   ]
  },
  {
   "cell_type": "markdown",
   "metadata": {},
   "source": [
    "![Screen capture of a vertical bar chart for 60,000 die rolls summarizing the frequencies with which each of the six faces appear, and their percentages of the total](ch05images/Seaborn_02.png \"Screen capture of a vertical bar chart for 60,000 die rolls summarizing the frequencies with which each of the six faces appear, and their percentages of the total\")"
   ]
  },
  {
   "cell_type": "markdown",
   "metadata": {},
   "source": [
    "![Screen capture of a vertical bar chart for 6,000,000 die rolls summarizing the frequencies with which each of the six faces appear, and their percentages of the total](ch05images/Seaborn_03.png \"Screen capture of a vertical bar chart for 6,000,000 die rolls summarizing the frequencies with which each of the six faces appear, and their percentages of the total\")\n",
    " "
   ]
  },
  {
   "cell_type": "markdown",
   "metadata": {},
   "source": [
    "## 5.17.2 Visualizing Die-Roll Frequencies and Percentages"
   ]
  },
  {
   "cell_type": "markdown",
   "metadata": {},
   "source": [
    "### Launching IPython for Interactive Matplotlib Development\n",
    "* To enable IPython's built-in support for interactively developing Matplotlib graphs:\n",
    "\n",
    "```python\n",
    "ipython --matplotlib\n",
    "```"
   ]
  },
  {
   "cell_type": "markdown",
   "metadata": {},
   "source": [
    "### Importing the Libraries\n",
    "**Note: `%matplotlib inline` is an IPython magic that enables Matplotlib-based graphics to be displayed directly in the notebook. We've separated by two blank lines the snippets that were combined into a single cell.**"
   ]
  },
  {
   "cell_type": "code",
   "execution_count": null,
   "metadata": {},
   "outputs": [],
   "source": [
    "%matplotlib inline\n",
    "import matplotlib.pyplot as plt"
   ]
  },
  {
   "cell_type": "code",
   "execution_count": null,
   "metadata": {},
   "outputs": [],
   "source": [
    "import numpy as np"
   ]
  },
  {
   "cell_type": "code",
   "execution_count": null,
   "metadata": {},
   "outputs": [],
   "source": [
    "import random"
   ]
  },
  {
   "cell_type": "code",
   "execution_count": null,
   "metadata": {},
   "outputs": [],
   "source": [
    "import seaborn as sns"
   ]
  },
  {
   "cell_type": "markdown",
   "metadata": {},
   "source": [
    "1. **`matplotlib.pyplot`** contains the Matplotlib library’s graphing capabilities that we use. This module typically is imported with the name `plt`. \n",
    "2. NumPy (Numerical Python) library includes the function `unique` that we’ll use to summarize the die rolls. The **`numpy` module** typically is imported as `np`. \n",
    "3. `random` contains Python’s random-number generation functions.\n",
    "4. **`seaborn`** contains the Seaborn library’s graphing capabilities we use. This module typically is imported with the name `sns`. "
   ]
  },
  {
   "cell_type": "markdown",
   "metadata": {},
   "source": [
    "### Rolling the Die and Calculating Die Frequencies"
   ]
  },
  {
   "cell_type": "code",
   "execution_count": null,
   "metadata": {},
   "outputs": [],
   "source": [
    "rolls = [random.randrange(1, 7) for i in range(600)]"
   ]
  },
  {
   "cell_type": "markdown",
   "metadata": {},
   "source": [
    "* NumPy's **`unique` function** expects an `ndarray` argument and returns an `ndarray`. \n",
    "* If you pass a list, NumPy converts it to an `ndarray` for better performance. \n",
    "* Keyword argument **`return_counts`**`=True` tells `unique` to count each unique value’s number of occurrences\n",
    "* In this case, `unique` returns a **tuple of two one-dimensional `ndarray`s** containing the **sorted unique values** and their corresponding frequencies, respectively. "
   ]
  },
  {
   "cell_type": "code",
   "execution_count": null,
   "metadata": {},
   "outputs": [],
   "source": [
    "values, frequencies = np.unique(rolls, return_counts=True)"
   ]
  },
  {
   "cell_type": "markdown",
   "metadata": {},
   "source": [
    "### Creating the Initial Bar Plot"
   ]
  },
  {
   "cell_type": "markdown",
   "metadata": {},
   "source": [
    "### Setting the Window Title and Labeling the x- and y-Axes"
   ]
  },
  {
   "cell_type": "markdown",
   "metadata": {},
   "source": [
    "### Finalizing the Bar Plot"
   ]
  },
  {
   "cell_type": "code",
   "execution_count": null,
   "metadata": {},
   "outputs": [],
   "source": [
    "title = f'Rolling a Six-Sided Die {len(rolls):,} Times'\n",
    "\n",
    "\n",
    "sns.set_style('whitegrid')  # default is white with no grid\n",
    "\n",
    "\n",
    "# create and display the bar plot\n",
    "axes = sns.barplot(x=values, y=frequencies, palette='bright')\n",
    "\n",
    "\n",
    "# set the title of the plot\n",
    "axes.set_title(title)\n",
    "\n",
    "\n",
    "# label the axes\n",
    "axes.set(xlabel='Die Value', ylabel='Frequency')  \n",
    "\n",
    "\n",
    "# scale the y-axis to add room for text above bars\n",
    "axes.set_ylim(top=max(frequencies) * 1.10)\n",
    "\n",
    "\n",
    "# create and display the text for each bar\n",
    "for bar, frequency in zip(axes.patches, frequencies):\n",
    "    text_x = bar.get_x() + bar.get_width() / 2.0  \n",
    "    text_y = bar.get_height() \n",
    "    text = f'{frequency:,}\\n{frequency / len(rolls):.3%}'\n",
    "    axes.text(text_x, text_y, text, \n",
    "              fontsize=11, ha='center', va='bottom')"
   ]
  },
  {
   "cell_type": "markdown",
   "metadata": {},
   "source": [
    "### Rolling Again and Updating the Bar Plot—Introducing IPython Magics"
   ]
  },
  {
   "cell_type": "code",
   "execution_count": null,
   "metadata": {},
   "outputs": [],
   "source": [
    "# plt.cla()\n",
    "# We placed this code in a comment because it was meant for use \n",
    "# in an interactive IPython session in which we clear the window,\n",
    "# then display a new graph in it. In a notebook, we can simply \n",
    "# display a new graph inline."
   ]
  },
  {
   "cell_type": "markdown",
   "metadata": {},
   "source": [
    "When you execute the next cell, the notebook will add another cell below it containing the code in Snippet 5. You should then change 600 to 60000."
   ]
  },
  {
   "cell_type": "code",
   "execution_count": null,
   "metadata": {},
   "outputs": [],
   "source": [
    "%recall 5"
   ]
  },
  {
   "cell_type": "markdown",
   "metadata": {},
   "source": [
    "When you execute the next cell, the notebook will add another cell below it containing the code in Snippets 6-7. Executing that cell will produce a new graph."
   ]
  },
  {
   "cell_type": "code",
   "execution_count": null,
   "metadata": {},
   "outputs": [],
   "source": [
    "%recall 6-7"
   ]
  },
  {
   "cell_type": "markdown",
   "metadata": {},
   "source": [
    "### Saving Snippets to a File with the %save Magic "
   ]
  },
  {
   "cell_type": "code",
   "execution_count": null,
   "metadata": {},
   "outputs": [],
   "source": [
    "%save RollDie.py 1-7"
   ]
  },
  {
   "cell_type": "code",
   "execution_count": null,
   "metadata": {},
   "outputs": [],
   "source": [
    "# plt.cla()\n",
    "# We placed this code in a comment because it was meant for use \n",
    "# in an interactive IPython session in which we clear the window,\n",
    "# then display a new graph in it. In a notebook, we can simply \n",
    "# display a new graph inline."
   ]
  },
  {
   "cell_type": "markdown",
   "metadata": {},
   "source": [
    "### Command-Line Arguments; Displaying a Plot from a Script\n",
    "* Provided with this chapter’s examples is an edited version of the `RollDie.py` file you saved above. \n",
    "* We added comments and a two modifications so you can run the script with an argument that specifies the number of die rolls, as in:\n",
    "```python\n",
    "ipython RollDieWithArg.py 600\n",
    "```\n",
    "\n",
    "* **`sys` module** enables a script to receive _command-line arguments_ that are passed into the program. \n",
    "* These include the script’s name and any values that appear to the right of it when you execute the script. \n",
    "* The `sys` module’s **`argv`** list contains the arguments. \n",
    "* **_Matplotlib and Seaborn do not automatically display the plot for you when you create it in a script_**. So at the end of the script we added the following call to Matplotlib’s **`show`** function, which displays the window containing the graph:\n",
    "```python\n",
    "plt.show()\n",
    "```"
   ]
  },
  {
   "cell_type": "code",
   "execution_count": null,
   "metadata": {},
   "outputs": [],
   "source": [
    "run RollDieWithArg.py 6000"
   ]
  },
  {
   "cell_type": "markdown",
   "metadata": {},
   "source": [
    "------\n",
    "&copy;1992&ndash;2020 by Pearson Education, Inc. All Rights Reserved. This content is based on Chapter 5 of the book [**Intro to Python for Computer Science and Data Science: Learning to Program with AI, Big Data and the Cloud**](https://amzn.to/2VvdnxE).\n",
    "\n",
    "DISCLAIMER: The authors and publisher of this book have used their \n",
    "best efforts in preparing the book. These efforts include the \n",
    "development, research, and testing of the theories and programs \n",
    "to determine their effectiveness. The authors and publisher make \n",
    "no warranty of any kind, expressed or implied, with regard to these \n",
    "programs or to the documentation contained in these books. The authors \n",
    "and publisher shall not be liable in any event for incidental or \n",
    "consequential damages in connection with, or arising out of, the \n",
    "furnishing, performance, or use of these programs.                  "
   ]
  }
 ],
 "metadata": {
  "kernelspec": {
   "display_name": "Python 3",
   "language": "python",
   "name": "python3"
  },
  "language_info": {
   "codemirror_mode": {
    "name": "ipython",
    "version": 3
   },
   "file_extension": ".py",
   "mimetype": "text/x-python",
   "name": "python",
   "nbconvert_exporter": "python",
   "pygments_lexer": "ipython3",
   "version": "3.7.3"
  }
 },
 "nbformat": 4,
 "nbformat_minor": 2
}
