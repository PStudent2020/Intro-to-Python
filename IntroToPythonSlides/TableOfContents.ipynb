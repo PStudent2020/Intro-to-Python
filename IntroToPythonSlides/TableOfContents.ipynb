{
 "cells": [
  {
   "cell_type": "markdown",
   "metadata": {
    "slideshow": {
     "slide_type": "slide"
    }
   },
   "source": [
    "## Intro to Python for Computer Science and Data Science:<br>Learning to Program with AI, Big Data and the Cloud\n",
    "\n",
    "<a href=\"https://amzn.to/2LiDCmt\"><img alt=\"Intro to Python for Computer Science and Data Science: Learning to Program with AI, Big Data and the Cloud\" src=\"./images/IntroToPythonCover.png\" width=\"200\" border=\"1\"></a>"
   ]
  },
  {
   "cell_type": "markdown",
   "metadata": {
    "slideshow": {
     "slide_type": "slide"
    }
   },
   "source": [
    "# Questions? \n",
    "* <paul@deitel.com>\n",
    "* [Facebook](https://www.deitel.com/DeitelFan)\n",
    "* [Twitter](https://twitter.com/deitel) (@deitel)\n",
    "* [LinkedIn](https://linkedin.com/company/deitel-&-associates)\n",
    "* [YouTube](https://youtube.com/DeitelTV)\n"
   ]
  },
  {
   "cell_type": "markdown",
   "metadata": {
    "slideshow": {
     "slide_type": "slide"
    }
   },
   "source": [
    "# Multitiered Learning Approach\n",
    "### Print book \n",
    "* [**_Intro to Python for Computer Science and Data Science:<br>Learning to Program with AI, Big Data and the Cloud_**](https://amzn.to/2LiDCmt)\n",
    "\n",
    "### E-Book at VitalSource.com or Redshelf.com\n",
    "Students may rent or purchase e-books from  \n",
    "* [**VitalSource.com**](https://www.vitalsource.com/products/intro-to-python-for-computer-science-and-data-paul-j-deitel-harvey-deitel-v9780135404812)\n",
    "* [**RedShelf.com**](https://redshelf.com/book/1157786/intro-to-python-for-computer-science-and-data-science-1157786-9780135404812-paul-j-deitel-harvey-deitel)\n",
    "\n",
    "### VideoNotes\n",
    "* We provide extensive **VideoNotes** in which co-author Paul Deitel teaches the core Python concepts in Chapters 1-10. \n",
    "* These videos, plus additional videos based on Chapters 12-17 are available to Safari Online Learning subscribers in our **[_Python Fundamentals LiveLessons_ video training](https://learning.oreilly.com/videos/python-fundamentals/9780135917411)** \n",
    "* The videos also can be purchased in five parts from https://informit.com \n",
    "    * Parts 1-3 correspond to Chapters 1-10, so anyone with access to the VideoNotes does not need to purchase these parts."
   ]
  },
  {
   "cell_type": "markdown",
   "metadata": {},
   "source": [
    "# [Anaconda Python Distribution](https://www.anaconda.com/distribution/)\n",
    "* **Windows**, **macOS** and **Linux**\n",
    "* **Python**, the **IPython interpreter** and **Jupyter Notebooks**\n",
    "* Includes wide range of **software packages** and **libraries** commonly used in **Python programming**, **scientific computing**, **data science**, **AI** and more"
   ]
  },
  {
   "cell_type": "markdown",
   "metadata": {
    "slideshow": {
     "slide_type": "slide"
    }
   },
   "source": [
    "# Links to Each Chapter's Objectives/Outline Slides\n",
    "The notebooks linked here each have links to the corresponding chapter's slides:\n",
    "1. [Introduction to Computers and Python](ch01/01_00.ipynb) \n",
    "2. [Introduction to Python Programming](ch02/02_00.ipynb) \n",
    "3. [Control Statements and Program Development](ch03/03_00.ipynb) \n",
    "4. [Functions](ch04/04_00.ipynb)\n",
    "5. [Sequences: Lists and Tuples](ch05/05_00.ipynb) \n",
    "6. [Dictionaries and Sets](ch06/06_00.ipynb) \n",
    "7. [Array-Oriented Programming with NumPy](ch07/07_00.ipynb) \n",
    "8. [Strings: A Deeper Look](ch08/08_00.ipynb) \n",
    "9. [Files and Exceptions](ch09/09_00.ipynb) \n",
    "10. [Object-Oriented Programming](ch10/10_00.ipynb)\n",
    "11. [Computer Science Thinking: Recursion, Searching, Sorting and Big O](ch11/11_00.ipynb)\n",
    "12. [Natural Language Processing (NLP)](ch12/12_00.ipynb)\n",
    "13. [Data Mining Twitter](ch13/13_00.ipynb)\n",
    "14. [IBM Watson and Congnitive Computing](ch14/14_00.ipynb)\n",
    "15. [Machine Learning: Classification, Regression and Clustering](ch15/15_00.ipynb)\n",
    "16. **Coming Soon** [Deep Learning](ch16/16_00.ipynb)\n",
    "17. **Coming Soon** [Big Data: Hadoop, Spark, NoSQL and IoT](ch17/17_00.ipynb)"
   ]
  },
  {
   "cell_type": "markdown",
   "metadata": {},
   "source": [
    "------\n",
    "&copy;1992&ndash;2020 by Pearson Education, Inc. All Rights Reserved. This content is based on Chapter 1 of the book [**Intro to Python for Computer Science and Data Science: Learning to Program with AI, Big Data and the Cloud**](https://amzn.to/2VvdnxE).\n",
    "\n",
    "DISCLAIMER: The authors and publisher of this book have used their \n",
    "best efforts in preparing the book. These efforts include the \n",
    "development, research, and testing of the theories and programs \n",
    "to determine their effectiveness. The authors and publisher make \n",
    "no warranty of any kind, expressed or implied, with regard to these \n",
    "programs or to the documentation contained in these books. The authors \n",
    "and publisher shall not be liable in any event for incidental or \n",
    "consequential damages in connection with, or arising out of, the \n",
    "furnishing, performance, or use of these programs.                  "
   ]
  }
 ],
 "metadata": {
  "kernelspec": {
   "display_name": "Python 3",
   "language": "python",
   "name": "python3"
  },
  "language_info": {
   "codemirror_mode": {
    "name": "ipython",
    "version": 3
   },
   "file_extension": ".py",
   "mimetype": "text/x-python",
   "name": "python",
   "nbconvert_exporter": "python",
   "pygments_lexer": "ipython3",
   "version": "3.7.7"
  },
  "nbTranslate": {
   "displayLangs": [
    "*"
   ],
   "hotkey": "alt-t",
   "langInMainMenu": true,
   "sourceLang": "en",
   "targetLang": "fr",
   "useGoogleTranslate": true
  }
 },
 "nbformat": 4,
 "nbformat_minor": 4
}
