{
 "cells": [
  {
   "cell_type": "markdown",
   "metadata": {},
   "source": [
    "# 15.7 Case Study: Unsupervised Machine Learning, Part 2—k-Means Clustering (1 of 2)\n",
    "* **Simplest** unsupervised machine learning algorithm \n",
    "* Analyze **unlabeled samples** and **attempt to place them in clusters**\n",
    "* **_k_** hyperparameter represents **number of clusters** to impose on the data\n",
    "* Organizes clusters using **distance calculations** similar to the **k-NN classification** "
   ]
  },
  {
   "cell_type": "markdown",
   "metadata": {},
   "source": [
    "# 15.7 Case Study: Unsupervised Machine Learning, Part 2—k-Means Clustering (2 of 2)\n",
    "* Each **cluster** is grouped around a **centroid** (cluster’s **center point**)\n",
    "* Initially, the algorithm **chooses _k_ centroids at random** from **dataset’s samples**\n",
    "* **Remaining samples** placed in the cluster whose **centroid is the closest** \n",
    "* **Centroids are iteratively recalculated** and **samples re-assigned** to clusters until, for all clusters, **distances** from a given centroid to the samples in its cluster are **minimized**\n",
    "Results are:\n",
    "\t* **one-dimensional array of labels** indicating **cluster** to which **each sample belongs** \n",
    "\t* **two-dimensional array of clusters' centroids** "
   ]
  },
  {
   "cell_type": "markdown",
   "metadata": {},
   "source": [
    "### Iris Dataset \n",
    "* **Iris dataset** &mdash; commonly analyzed with **classification and clustering**\n",
    "\t* Fisher, R.A., “The use of multiple measurements in taxonomic problems,” Annual Eugenics, 7, Part II, 179-188 (1936); also in “Contributions to Mathematical Statistics” (John Wiley, NY, 1950).\n",
    "* Dataset is **labeled** &mdash; we’ll **ignore labels** to demonstrate clustering\n",
    "    * Use labels later to determine **how well k-means algorithm clustered samples**\n",
    "* **\"Toy dataset\"** &mdash; has only **150 samples** and **four features**\n",
    "    * **50 samples** for each of **three _Iris_ flower species** (balanced classes)\n",
    "    * **Iris setosa**, **Iris versicolor** and **Iris virginica**\n",
    "    * Features: **sepal length**, **sepal width**, **petal length** and **petal width**, all measured in centimeters. \n",
    "    * **Sepals** are **larger outer parts** of each flower that protect smaller inside **petals** before buds bloom"
   ]
  },
  {
   "cell_type": "markdown",
   "metadata": {},
   "source": [
    "**Iris setosa**: https://commons.wikimedia.org/wiki/File:Wild_iris_KEFJ_(9025144383).jpg.\n",
    "Credit: Courtesy of Nation Park services.\n",
    "\n",
    "<img src=\"./ch15images/Wild_iris_KEFJ_(9025144383).png\" alt=\"https://commons.wikimedia.org/wiki/File:Wild_iris_KEFJ_(9025144383).jpg. Credit: Courtesy of Nation Park services.\" width=300/>"
   ]
  },
  {
   "cell_type": "markdown",
   "metadata": {},
   "source": [
    "**Iris versicolor**: https://commons.wikimedia.org/wiki/Iris_versicolor#/media/File:IrisVersicolor-FoxRoost-Newfoundland.jpg. \n",
    "Credit: Courtesy of Jefficus, https://commons.wikimedia.org/w/index.php?title=User:Jefficus&action=edit&redlink=1\n",
    "\n",
    "<img src=\"./ch15images/IrisVersicolor-FoxRoost-Newfoundland.png\" alt=\"Iris versicolor: https://commons.wikimedia.org/wiki/Iris_versicolor#/media/File:IrisVersicolor-FoxRoost-Newfoundland.jpg. Credit: Courtesy of Jefficus, https://commons.wikimedia.org/w/index.php?title=User:Jefficus&action=edit&redlink=1.\" width=300/>"
   ]
  },
  {
   "cell_type": "markdown",
   "metadata": {},
   "source": [
    "**Iris virginica**: https://commons.wikimedia.org/wiki/File:IMG_7911-Iris_virginica.jpg. Credit: Christer T Johansson.\n",
    "\n",
    "<img src=\"./ch15images/IMG_7911-Iris_virginica.png\" alt=\"Iris virginica: https://commons.wikimedia.org/wiki/File:IMG_7911-Iris_virginica.jpg. Credit: Christer T Johansson.\" width=300/>"
   ]
  },
  {
   "cell_type": "markdown",
   "metadata": {},
   "source": [
    "## 15.7.1 Loading the Iris Dataset\n",
    "* **Classifies samples** by **labeling** them with the integers **0, 1 and 2**, representing **Iris setosa**, **Iris versicolor** and **Iris virginica**, respectively "
   ]
  },
  {
   "cell_type": "code",
   "execution_count": null,
   "metadata": {},
   "outputs": [],
   "source": [
    "from sklearn.datasets import load_iris"
   ]
  },
  {
   "cell_type": "code",
   "execution_count": null,
   "metadata": {},
   "outputs": [],
   "source": [
    "iris = load_iris()"
   ]
  },
  {
   "cell_type": "code",
   "execution_count": null,
   "metadata": {},
   "outputs": [],
   "source": [
    "print(iris.DESCR)"
   ]
  },
  {
   "cell_type": "markdown",
   "metadata": {},
   "source": [
    "### Checking the Numbers of Samples, Features and Targets \n",
    "* Array `target_names` contains names for the `target` array’s numeric labels\n",
    "* **`dtype='<U10'`** &mdash; elements are **strings with a max of 10 characters**\n",
    "* `feature_names` contains names for each column in the `data` array"
   ]
  },
  {
   "cell_type": "code",
   "execution_count": null,
   "metadata": {},
   "outputs": [],
   "source": [
    "iris.data.shape"
   ]
  },
  {
   "cell_type": "code",
   "execution_count": null,
   "metadata": {},
   "outputs": [],
   "source": [
    "iris.target.shape"
   ]
  },
  {
   "cell_type": "code",
   "execution_count": null,
   "metadata": {},
   "outputs": [],
   "source": [
    "iris.target_names"
   ]
  },
  {
   "cell_type": "code",
   "execution_count": null,
   "metadata": {},
   "outputs": [],
   "source": [
    "iris.feature_names"
   ]
  },
  {
   "cell_type": "markdown",
   "metadata": {},
   "source": [
    "## 15.7.2 Exploring the Iris Dataset: Descriptive Statistics with a Pandas"
   ]
  },
  {
   "cell_type": "code",
   "execution_count": null,
   "metadata": {},
   "outputs": [],
   "source": [
    "import pandas as pd"
   ]
  },
  {
   "cell_type": "code",
   "execution_count": null,
   "metadata": {},
   "outputs": [],
   "source": [
    "# pd.set_option('max_columns', 5)  # needed only in IPython interactive mode"
   ]
  },
  {
   "cell_type": "code",
   "execution_count": null,
   "metadata": {},
   "outputs": [],
   "source": [
    "# pd.set_option('display.width', None)  # needed only in IPython interactive mode"
   ]
  },
  {
   "cell_type": "markdown",
   "metadata": {},
   "source": [
    "* Create a `DataFrame` containing the `data` array’s contents\n",
    "* Use **`feature_names`** as the **column names**"
   ]
  },
  {
   "cell_type": "code",
   "execution_count": null,
   "metadata": {},
   "outputs": [],
   "source": [
    "iris_df = pd.DataFrame(iris.data, columns=iris.feature_names)"
   ]
  },
  {
   "cell_type": "markdown",
   "metadata": {},
   "source": [
    "* Add a column containing each sample’s species name\n",
    "* **List comprehension** uses each value in **`target` array** to look up the corresponding **species name** in **`target_names` array**"
   ]
  },
  {
   "cell_type": "code",
   "execution_count": null,
   "metadata": {},
   "outputs": [],
   "source": [
    "iris_df['species'] = [iris.target_names[i] for i in iris.target]"
   ]
  },
  {
   "cell_type": "markdown",
   "metadata": {},
   "source": [
    "* Look at a few samples  "
   ]
  },
  {
   "cell_type": "code",
   "execution_count": null,
   "metadata": {},
   "outputs": [],
   "source": [
    "iris_df.head()"
   ]
  },
  {
   "cell_type": "markdown",
   "metadata": {},
   "source": [
    "* Calculate descriptive statistics on the numeric columns"
   ]
  },
  {
   "cell_type": "code",
   "execution_count": null,
   "metadata": {},
   "outputs": [],
   "source": [
    "pd.set_option('precision', 2)"
   ]
  },
  {
   "cell_type": "code",
   "execution_count": null,
   "metadata": {},
   "outputs": [],
   "source": [
    "iris_df.describe()"
   ]
  },
  {
   "cell_type": "markdown",
   "metadata": {},
   "source": [
    "* Calling `describe` on the `'species'` column confirms that it contains three unique values"
   ]
  },
  {
   "cell_type": "code",
   "execution_count": null,
   "metadata": {},
   "outputs": [],
   "source": [
    "iris_df['species'].describe()"
   ]
  },
  {
   "cell_type": "markdown",
   "metadata": {},
   "source": [
    "* We **know in advance** that there are **three classes** to which the samples belong\n",
    "    * This is **not** typically the case in **unsupervised machine learning**"
   ]
  },
  {
   "cell_type": "markdown",
   "metadata": {},
   "source": [
    "## 15.7.3 Visualizing the Dataset with a Seaborn pairplot \n",
    "* To **learn more about your data**, **visualize** how the features relate to one another\n",
    "* Four features &mdash; cannot graph one against other three in a single graph\n",
    "* Can **plot pairs of features** against one another \n",
    "* **Seaborn function `pairplot`** creates a **grid of graphs**"
   ]
  },
  {
   "cell_type": "code",
   "execution_count": null,
   "metadata": {},
   "outputs": [],
   "source": [
    "import seaborn as sns"
   ]
  },
  {
   "cell_type": "code",
   "execution_count": null,
   "metadata": {},
   "outputs": [],
   "source": [
    "# sns.set(font_scale=1.1)"
   ]
  },
  {
   "cell_type": "code",
   "execution_count": null,
   "metadata": {},
   "outputs": [],
   "source": [
    "sns.set_style('whitegrid')"
   ]
  },
  {
   "cell_type": "code",
   "execution_count": null,
   "metadata": {},
   "outputs": [],
   "source": [
    "grid = sns.pairplot(data=iris_df, vars=iris_df.columns[0:4], hue='species')"
   ]
  },
  {
   "cell_type": "markdown",
   "metadata": {},
   "source": [
    "## 15.7.3 Visualizing the Dataset with a Seaborn pairplot (cont.)\n",
    "* The keyword arguments are:\n",
    "\t* `data`—The `DataFrame` (or two-dimensional array or list) containing the data to plot.\n",
    "\t* `vars`—A sequence containing the names of the variables to plot. For a `DataFrame`, these are the names of the columns to plot. Here, we use the first four `DataFrame` columns, representing the sepal length, sepal width, petal length and petal width, respectively.\n",
    "\t* `hue`—The `DataFrame` column that’s used to determine colors of the plotted data. In this case, we’ll color the data by **Iris** species. "
   ]
  },
  {
   "cell_type": "markdown",
   "metadata": {},
   "source": [
    "## 15.7.3 Visualizing the Dataset with a Seaborn pairplot (cont.)\n",
    "* The graphs along the top-left-to-bottom-right diagonal, show the **distribution** of just the feature plotted in that column, with the range of values (left-to-right) and the number of samples with those values (top-to-bottom). \n",
    "* Other graphs in a column show **scatter plots** of the other features against the feature on the **x**-axis. \n",
    "* Interestingly, **all the scatter plots clearly separate the _Iris setosa_ blue dots from the other species’ orange and green dots**, indicating that **_Iris setosa_** is indeed in a **“class by itself.”**\n",
    "* The other two species can **sometimes be confused with one another**, as indicated by the overlapping orange and green dots. \n",
    "\t* It would be difficult to distinguish between these two species if we had only the sepal measurements available to us."
   ]
  },
  {
   "cell_type": "markdown",
   "metadata": {},
   "source": [
    "### Displaying the `pairplot` in One Color\n",
    "* If you remove the `hue` keyword argument, `pairplot` uses only **one color** to plot all the data because it does not know how to distinguish the species: "
   ]
  },
  {
   "cell_type": "code",
   "execution_count": null,
   "metadata": {},
   "outputs": [],
   "source": [
    "grid = sns.pairplot(data=iris_df, vars=iris_df.columns[0:4])"
   ]
  },
  {
   "cell_type": "markdown",
   "metadata": {},
   "source": [
    "### Displaying the `pairplot` in One Color (cont.)\n",
    "* In this case, the **graphs along the diagonal are histograms** showing the **distributions of all the values for that feature, regardless of the species**. \n",
    "* It appears that there **may be only _two_ distinct clusters**, even though for this dataset we know there are **three** species. \n",
    "\t* If you do not know the number of clusters in advance, you might ask a **domain expert** who is thoroughly familiar with the data. \n",
    "\t* Such a person might know that there are three species in the dataset, which would be valuable information as we try to perform machine learning on the data.\n",
    "* The `pairplot` diagrams work well for a **small number of features** or a subset of features so that you have a small number of rows and columns, and for a relatively small number of samples so you can see the data points. \n",
    "* As the number of features and samples increases, each scatter plot quickly becomes too small to read. "
   ]
  },
  {
   "cell_type": "markdown",
   "metadata": {},
   "source": [
    "## 15.7.4 Using a `KMeans` Estimator\n",
    "* Use k-means clustering via **`KMeans` estimator** to place each sample in the Iris dataset into a cluster\n",
    "\n",
    "### Creating the `KMeans` Estimator \n",
    "* [`KMeans` default arguments](https://scikit-learn.org/stable/modules/generated/sklearn.cluster.KMeans.html)\n",
    "* When you **train a `KMeans` estimator**, it calculates for each cluster a **centroid** representing the **cluster’s center data point** \n",
    "\t* Often, you’ll rely on **domain experts** to help **choose an appropriate _k_** (`n_clusters`). \n",
    "* Can also use **hyperparameter tuning** to estimate the appropriate **k**"
   ]
  },
  {
   "cell_type": "code",
   "execution_count": null,
   "metadata": {},
   "outputs": [],
   "source": [
    "from sklearn.cluster import KMeans"
   ]
  },
  {
   "cell_type": "code",
   "execution_count": null,
   "metadata": {},
   "outputs": [],
   "source": [
    "kmeans = KMeans(n_clusters=3, random_state=11)"
   ]
  },
  {
   "cell_type": "markdown",
   "metadata": {},
   "source": [
    "### Fitting the Model Via the `KMeans` object’s `fit` Method\n",
    "* When the training completes, the `KMeans` object contains: \n",
    "\t* **`labels_` array** with values from **`0` to `n_clusters - 1`**, indicating the clusters to which the samples belong\n",
    "\t* **`cluster_centers_` array** in which **each row represents a centroid**"
   ]
  },
  {
   "cell_type": "code",
   "execution_count": null,
   "metadata": {},
   "outputs": [],
   "source": [
    "kmeans.fit(iris.data)"
   ]
  },
  {
   "cell_type": "markdown",
   "metadata": {},
   "source": [
    "### Comparing the Cluster Labels to the Iris Dataset’s Target Values \n",
    "* **Iris dataset** is **labeled**, so we can look at **`target` array values** to get a sense of **how well the k-means algorithm clustered the samples** \n",
    "    * With **unlabeled data**, we’d depend on a **domain expert** to help **evaluate whether the predicted classes make sense**\n",
    "* First 50 samples are **Iris setosa**, next 50 are **Iris versicolor**, last 50 are **Iris virginica**\n",
    "    * **`target` array** represents these with values **0–2** \n",
    "* If **`KMeans` chose clusters perfectly**, then **each group of 50 elements in the estimator’s `labels_` array should have a distinct label**. \n",
    "    * **`KMeans` labels** are **not related** to dataset’s **`target` array** "
   ]
  },
  {
   "cell_type": "markdown",
   "metadata": {},
   "source": [
    "### Comparing the Cluster Labels to the Iris Dataset’s Target Values (cont.)\n",
    "* First 50 samples should be **one cluster** "
   ]
  },
  {
   "cell_type": "code",
   "execution_count": null,
   "metadata": {},
   "outputs": [],
   "source": [
    "print(kmeans.labels_[0:50])"
   ]
  },
  {
   "cell_type": "markdown",
   "metadata": {},
   "source": [
    "* Next 50 samples should be a **second cluster** (two are not)"
   ]
  },
  {
   "cell_type": "code",
   "execution_count": null,
   "metadata": {},
   "outputs": [],
   "source": [
    "print(kmeans.labels_[50:100])"
   ]
  },
  {
   "cell_type": "markdown",
   "metadata": {},
   "source": [
    "* Last 50 samples should be a **third cluster** (14 are not)"
   ]
  },
  {
   "cell_type": "code",
   "execution_count": null,
   "metadata": {},
   "outputs": [],
   "source": [
    "print(kmeans.labels_[100:150])"
   ]
  },
  {
   "cell_type": "markdown",
   "metadata": {},
   "source": [
    "* Results confirm what we saw in **`pairplot` diagrams**\n",
    "    * **Iris setosa** is “in a class by itself” \n",
    "    * There is confusion between **Iris versicolor** and **Iris virginica**"
   ]
  },
  {
   "cell_type": "markdown",
   "metadata": {},
   "source": [
    "## 15.7.5 Dimensionality Reduction with Principal Component Analysis\n",
    "* Use **`PCA` estimator** to perform dimensionality reduction from **4 to 2 dimensions**\n",
    "\t* [Algorithm’s details](https://scikit-learn.org/stable/modules/decomposition.html#pca) beyond scope"
   ]
  },
  {
   "cell_type": "code",
   "execution_count": null,
   "metadata": {},
   "outputs": [],
   "source": [
    "from sklearn.decomposition import PCA"
   ]
  },
  {
   "cell_type": "code",
   "execution_count": null,
   "metadata": {},
   "outputs": [],
   "source": [
    "pca = PCA(n_components=2, random_state=11)"
   ]
  },
  {
   "cell_type": "markdown",
   "metadata": {},
   "source": [
    "### Transforming the Iris Dataset’s Features into Two Dimensions"
   ]
  },
  {
   "cell_type": "code",
   "execution_count": null,
   "metadata": {},
   "outputs": [],
   "source": [
    "pca.fit(iris.data)  # trains estimator once"
   ]
  },
  {
   "cell_type": "code",
   "execution_count": null,
   "metadata": {},
   "outputs": [],
   "source": [
    "iris_pca = pca.transform(iris.data)  # can be called many times to reduce data"
   ]
  },
  {
   "cell_type": "markdown",
   "metadata": {},
   "source": [
    "* We'll call **`transform`** again to **reduce the cluster centroids from four dimensions to two** for plotting \n",
    "* **`transform`** returns an array with same number of rows as `iris.data`, but only two columns"
   ]
  },
  {
   "cell_type": "code",
   "execution_count": null,
   "metadata": {},
   "outputs": [],
   "source": [
    "iris_pca.shape"
   ]
  },
  {
   "cell_type": "markdown",
   "metadata": {},
   "source": [
    "### Visualizing the Reduced Data \n",
    "* Place reduced data in a **`DataFrame`** and **add a species column** that we’ll use to **determine dot colors**"
   ]
  },
  {
   "cell_type": "code",
   "execution_count": null,
   "metadata": {},
   "outputs": [],
   "source": [
    "iris_pca_df = pd.DataFrame(iris_pca, \n",
    "                           columns=['Component1', 'Component2'])"
   ]
  },
  {
   "cell_type": "code",
   "execution_count": null,
   "metadata": {},
   "outputs": [],
   "source": [
    "iris_pca_df['species'] = iris_df.species"
   ]
  },
  {
   "cell_type": "markdown",
   "metadata": {},
   "source": [
    "* Scatterplot the data with Seaborn\n",
    "* Each **centroid** in **`cluster_centers_`** array has **same number of features** (four) as dataset's samples\n",
    "* **To plot centroids**, we must **reduce their dimensions**\n",
    "* Think of a **centroid** as the **“average” sample in its cluster**\n",
    "\t* So each centroid should be **transformed** using **same `PCA` estimator** as **other samples**"
   ]
  },
  {
   "cell_type": "code",
   "execution_count": null,
   "metadata": {},
   "outputs": [],
   "source": [
    "axes = sns.scatterplot(data=iris_pca_df, x='Component1', \n",
    "    y='Component2', hue='species', legend='brief') \n",
    "\n",
    "# reduce centroids to 2 dimensions\n",
    "iris_centers = pca.transform(kmeans.cluster_centers_)\n",
    "\n",
    "# plot centroids as larger black dots\n",
    "import matplotlib.pyplot as plt\n",
    "\n",
    "dots = plt.scatter(iris_centers[:,0], iris_centers[:,1], s=100, c='k')"
   ]
  },
  {
   "cell_type": "markdown",
   "metadata": {},
   "source": [
    "## 15.7.6 Choosing the Best Clustering Estimator \n",
    "* **Run multiple clustering algorithms** and see **how well they cluster Iris species** \n",
    "\t* We’re running `KMeans` here on the **small** Iris dataset\n",
    "    * If you experience **performance problems with `KMeans`** on larger datasets, consider **`MiniBatchKMeans`**\n",
    "    * Documentation indicates **`MiniBatchKMeans` is faster on large datasets** and the results are almost as good"
   ]
  },
  {
   "cell_type": "markdown",
   "metadata": {},
   "source": [
    "## 15.7.6 Choosing the Best Clustering Estimator (cont.)\n",
    "* For the `DBSCAN` and `MeanShift` estimators, we do **not** specify number of clusters in advance"
   ]
  },
  {
   "cell_type": "code",
   "execution_count": null,
   "metadata": {},
   "outputs": [],
   "source": [
    "from sklearn.cluster import DBSCAN, MeanShift,\\\n",
    "    SpectralClustering, AgglomerativeClustering"
   ]
  },
  {
   "cell_type": "code",
   "execution_count": null,
   "metadata": {},
   "outputs": [],
   "source": [
    "estimators = {\n",
    "    'KMeans': kmeans,\n",
    "    'DBSCAN': DBSCAN(),\n",
    "    'MeanShift': MeanShift(),\n",
    "    'SpectralClustering': SpectralClustering(n_clusters=3),\n",
    "    'AgglomerativeClustering': \n",
    "        AgglomerativeClustering(n_clusters=3)\n",
    "}"
   ]
  },
  {
   "cell_type": "markdown",
   "metadata": {},
   "source": [
    "## 15.7.6 Choosing the Best Clustering Estimator (cont.)"
   ]
  },
  {
   "cell_type": "code",
   "execution_count": null,
   "metadata": {},
   "outputs": [],
   "source": [
    "import numpy as np"
   ]
  },
  {
   "cell_type": "code",
   "execution_count": null,
   "metadata": {},
   "outputs": [],
   "source": [
    "for name, estimator in estimators.items():\n",
    "    estimator.fit(iris.data)\n",
    "    print(f'\\n{name}:')\n",
    "    for i in range(0, 101, 50):\n",
    "        labels, counts = np.unique(\n",
    "            estimator.labels_[i:i+50], return_counts=True)\n",
    "        print(f'{i}-{i+50}:')\n",
    "        for label, count in zip(labels, counts):\n",
    "            print(f'   label={label}, count={count}')          "
   ]
  },
  {
   "cell_type": "markdown",
   "metadata": {},
   "source": [
    "## 15.7.6 Choosing the Best Clustering Estimator (cont.)\n",
    "* **`DBSCAN` correctly predicted three clusters** (labeled `-1`, `0` and `1`)\n",
    "    * Placed 84 of the 100 **Iris virginica** and **Iris versicolor** in the same cluster\n",
    "* **`MeanShift` predicted only two clusters** (labeled as `0` and `1`)\n",
    "    * Placed 99 of 100 **Iris virginica** and **Iris versicolor** samples in same cluster"
   ]
  },
  {
   "cell_type": "markdown",
   "metadata": {},
   "source": [
    "------\n",
    "&copy;1992&ndash;2020 by Pearson Education, Inc. All Rights Reserved. This content is based on Chapter 5 of the book [**Intro to Python for Computer Science and Data Science: Learning to Program with AI, Big Data and the Cloud**](https://amzn.to/2VvdnxE).\n",
    "\n",
    "DISCLAIMER: The authors and publisher of this book have used their \n",
    "best efforts in preparing the book. These efforts include the \n",
    "development, research, and testing of the theories and programs \n",
    "to determine their effectiveness. The authors and publisher make \n",
    "no warranty of any kind, expressed or implied, with regard to these \n",
    "programs or to the documentation contained in these books. The authors \n",
    "and publisher shall not be liable in any event for incidental or \n",
    "consequential damages in connection with, or arising out of, the \n",
    "furnishing, performance, or use of these programs.                  "
   ]
  }
 ],
 "metadata": {
  "kernelspec": {
   "display_name": "Python 3",
   "language": "python",
   "name": "python3"
  },
  "language_info": {
   "codemirror_mode": {
    "name": "ipython",
    "version": 3
   },
   "file_extension": ".py",
   "mimetype": "text/x-python",
   "name": "python",
   "nbconvert_exporter": "python",
   "pygments_lexer": "ipython3",
   "version": "3.7.3"
  }
 },
 "nbformat": 4,
 "nbformat_minor": 2
}
