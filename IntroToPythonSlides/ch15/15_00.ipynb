{
 "cells": [
  {
   "cell_type": "markdown",
   "metadata": {},
   "source": [
    "# 15. Machine Learning: Classification, Regression and Clustering\n",
    "## Objectives\n",
    "* Use scikit-learn with popular datasets to perform machine learning studies.\n",
    "* Use Seaborn and Matplotlib to visualize and explore data. \n",
    "* Perform supervised machine learning with k-nearest neighbors classification and linear regression.\n",
    "* Perform multi-classification with Digits dataset.\n",
    "* Divide a dataset into training, test and validation sets.\n",
    "* Tune model hyperparameters with k-fold cross-validation.\n",
    "* Measure model performance.\n",
    "* Display a confusion matrix showing classification prediction hits and misses.\n",
    "* Perform multiple linear regression with the California Housing dataset.\n",
    "* Perform dimensionality reduction with PCA and t-SNE on the Iris and Digits datasets to prepare them for two-dimensional visualizations.\n",
    "* Perform unsupervised machine learning with k-means clustering and the Iris dataset."
   ]
  },
  {
   "cell_type": "markdown",
   "metadata": {},
   "source": [
    "## Outline\n",
    "* \t[15.1  Introduction to Machine Learning](./15_01.ipynb)\n",
    "\t* 15.1.1 Scikit-Learn\n",
    "\t* 15.1.2 Types of Machine Learning\n",
    "\t* 15.1.3 Datasets Bundled with Scikit-Learn\n",
    "\t* 15.1.4 Steps in a Typical Data Science Study\n",
    "*\t[15.2   \tCase Study: Classification with k-Nearest Neighbors and the Digits Dataset, Part 1](./15_02.ipynb)\n",
    "\t* 15.2.1 k-Nearest Neighbors Algorithm\n",
    "\t* 15.2.2 Loading the Dataset\n",
    "\t* 15.2.3 Visualizing the Data\n",
    "\t* 15.2.4 Splitting the Data for Training and Testing\n",
    "\t* 15.2.5 Creating the Model\n",
    "\t* 15.2.6 Training the Model\n",
    "\t* 15.2.7 Predicting Digit Classes"
   ]
  },
  {
   "cell_type": "markdown",
   "metadata": {},
   "source": [
    "## Outline (cont.)\n",
    "* \t[15.3 Case Study: Classification with k-Nearest Neighbors and the Digits Dataset, Part 2](./15_03.ipynb)\n",
    "\t* 15.3.1 Metrics for Model Accuracy\n",
    "\t* 15.3.2 K-Fold Cross-Validation\n",
    "\t* 15.3.3 Running Multiple Models to Find the Best One\n",
    "\t* 15.3.4 Hyperparameter Tuning\n",
    "*\t[15.4   \tCase Study: Time Series and Simple Linear Regression](./15_04.ipynb)"
   ]
  },
  {
   "cell_type": "markdown",
   "metadata": {},
   "source": [
    "## Outline (cont.)\n",
    "*\t[15.5   \tCase Study: Multiple Linear Regression with the California Housing Dataset](./15_05.ipynb)\n",
    "\t* 15.5.1 Loading the Dataset\n",
    "\t* 15.5.2 Exploring the Data with Pandas\n",
    "\t* 15.5.3 Visualizing the Features\n",
    "\t* 15.5.4 Splitting the Data for Training and Testing\n",
    "\t* 15.5.5 Training the Model\n",
    "\t* 15.5.6 Testing the Model\n",
    "\t* 15.5.7 Visualizing the Expected vs. Predicted Prices\n",
    "\t* 15.5.8 Regression Model Metrics\n",
    "\t* 15.5.9 Choosing the Best Model"
   ]
  },
  {
   "cell_type": "markdown",
   "metadata": {},
   "source": [
    "## Outline (cont.)\n",
    "*\t[15.6   \tCase Study: Unsupervised Machine Learning, Part 1—Dimensionality Reduction](./15_06.ipynb)\n",
    "*\t[15.7   \tCase Study: Unsupervised Machine Learning, Part 2—k-Means Clustering](./15_07.ipynb)\n",
    "\t* 15.7.1 Loading the Iris Dataset\n",
    "\t* 15.7.2 Exploring the Iris Dataset: Descriptive Statistics with Pandas\n",
    "\t* 15.7.3 \tVisualizing the Dataset with a Seaborn `pairplot`\n",
    "\t* 15.7.4 \tUsing a `KMeans` Estimator\n",
    "\t* 15.7.5 \tDimensionality Reduction with Principal Component Analysis\n",
    "\t* 15.7.6 Choosing the Best Clustering Estimator\n",
    "*\t15.8   \tWrap-Up \n",
    "* Exercises"
   ]
  },
  {
   "cell_type": "markdown",
   "metadata": {},
   "source": [
    "------\n",
    "&copy;1992&ndash;2020 by Pearson Education, Inc. All Rights Reserved. This content is based on Chapter 5 of the book [**Intro to Python for Computer Science and Data Science: Learning to Program with AI, Big Data and the Cloud**](https://amzn.to/2VvdnxE).\n",
    "\n",
    "DISCLAIMER: The authors and publisher of this book have used their \n",
    "best efforts in preparing the book. These efforts include the \n",
    "development, research, and testing of the theories and programs \n",
    "to determine their effectiveness. The authors and publisher make \n",
    "no warranty of any kind, expressed or implied, with regard to these \n",
    "programs or to the documentation contained in these books. The authors \n",
    "and publisher shall not be liable in any event for incidental or \n",
    "consequential damages in connection with, or arising out of, the \n",
    "furnishing, performance, or use of these programs.                  "
   ]
  }
 ],
 "metadata": {
  "celltoolbar": "Slideshow",
  "kernelspec": {
   "display_name": "Python 3",
   "language": "python",
   "name": "python3"
  },
  "language_info": {
   "codemirror_mode": {
    "name": "ipython",
    "version": 3
   },
   "file_extension": ".py",
   "mimetype": "text/x-python",
   "name": "python",
   "nbconvert_exporter": "python",
   "pygments_lexer": "ipython3",
   "version": "3.7.3"
  }
 },
 "nbformat": 4,
 "nbformat_minor": 2
}
