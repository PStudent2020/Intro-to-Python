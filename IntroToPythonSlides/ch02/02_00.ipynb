{
 "cells": [
  {
   "cell_type": "markdown",
   "metadata": {
    "slideshow": {
     "slide_type": "slide"
    }
   },
   "source": [
    "# 2. Introduction to Python Programming"
   ]
  },
  {
   "cell_type": "markdown",
   "metadata": {
    "slideshow": {
     "slide_type": "slide"
    }
   },
   "source": [
    "### Objectives (1 of 3)\n",
    "In this chapter, you’ll:\n",
    "* Continue using IPython interactive mode to enter code snippets and see their results immediately.\n",
    "* Write simple Python statements and scripts.\n",
    "* Create variables to store data for later use.\n",
    "* Become familiar with built-in data types."
   ]
  },
  {
   "cell_type": "markdown",
   "metadata": {
    "slideshow": {
     "slide_type": "slide"
    }
   },
   "source": [
    "### Objectives (2 of 3)\n",
    "* Use built-in function `print` to display text.\n",
    "* Use arithmetic operators and comparison operators, and understand their precedence.\n",
    "* Use single-, double- and triple-quoted strings.\n",
    "* Use built-in function `input` to prompt the user to enter data at the keyboard and get that data for use in the program."
   ]
  },
  {
   "cell_type": "markdown",
   "metadata": {
    "slideshow": {
     "slide_type": "slide"
    }
   },
   "source": [
    "### Objectives (3 of 3)\n",
    "* Convert text to integer values with built-in function `int`.\n",
    "* Use comparison operators and the `if` statement to decide whether to execute a statement or group of statements.\n",
    "* Learn about objects and Python’s dynamic typing.\n",
    "* Use built-in function `type` to get an object’s type.   "
   ]
  },
  {
   "cell_type": "markdown",
   "metadata": {
    "slideshow": {
     "slide_type": "slide"
    }
   },
   "source": [
    "### Outline\n",
    "* 2.1 Introduction \n",
    "* [2.2 Variables and Assignment Statements](./02_02.ipynb)\n",
    "* [2.3 Arithmetic](02_03.ipynb)\n",
    "* [2.4 Function `print` and an Intro to Single- and Double-Quoted Strings](02_04.ipynb)\n",
    "* [2.5 Triple-Quoted Strings](02_05.ipynb)"
   ]
  },
  {
   "cell_type": "markdown",
   "metadata": {
    "slideshow": {
     "slide_type": "slide"
    }
   },
   "source": [
    "### Outline (cont.)\n",
    "* [2.6 Getting Input from the User](02_06.ipynb)\n",
    "* [2.7 Decision Making: The `if` Statement and Comparison Operators](02_07.ipynb)\n",
    "* [2.8 Objects and Dynamic Typing](02_08.ipynb)\n",
    "* [2.9 Intro to Data Science: Basic Descriptive Statistics](02_09.ipynb)"
   ]
  },
  {
   "cell_type": "markdown",
   "metadata": {},
   "source": [
    "------\n",
    "&copy;1992&ndash;2020 by Pearson Education, Inc. All Rights Reserved. This content is based on Chapter 2 of the book [**Intro to Python for Computer Science and Data Science: Learning to Program with AI, Big Data and the Cloud**](https://amzn.to/2VvdnxE).\n",
    "\n",
    "DISCLAIMER: The authors and publisher of this book have used their \n",
    "best efforts in preparing the book. These efforts include the \n",
    "development, research, and testing of the theories and programs \n",
    "to determine their effectiveness. The authors and publisher make \n",
    "no warranty of any kind, expressed or implied, with regard to these \n",
    "programs or to the documentation contained in these books. The authors \n",
    "and publisher shall not be liable in any event for incidental or \n",
    "consequential damages in connection with, or arising out of, the \n",
    "furnishing, performance, or use of these programs.                  "
   ]
  }
 ],
 "metadata": {
  "celltoolbar": "Slideshow",
  "kernelspec": {
   "display_name": "Python 3",
   "language": "python",
   "name": "python3"
  },
  "language_info": {
   "codemirror_mode": {
    "name": "ipython",
    "version": 3
   },
   "file_extension": ".py",
   "mimetype": "text/x-python",
   "name": "python",
   "nbconvert_exporter": "python",
   "pygments_lexer": "ipython3",
   "version": "3.7.7"
  }
 },
 "nbformat": 4,
 "nbformat_minor": 4
}
