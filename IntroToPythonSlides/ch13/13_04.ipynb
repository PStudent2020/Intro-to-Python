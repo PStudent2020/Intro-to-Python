{
 "cells": [
  {
   "cell_type": "markdown",
   "metadata": {},
   "source": [
    "# 13.4 Getting Twitter Credentials—Creating an App \n",
    "* Must obtain **credentials** for interacting with the Twitter APIs\n",
    "* First, [create an **app**](https://developer.twitter.com) and perform the following steps in the next several slides\n",
    "* **Each app has separate credentials**"
   ]
  },
  {
   "cell_type": "markdown",
   "metadata": {},
   "source": [
    "# 13.4 Getting Twitter Credentials—Creating an App (cont.)\n",
    "1. Click the drop-down menu for your account and **select `Apps`**\n",
    "2. Click **Create an app**\n",
    "3. Specify your app’s name in the **App name** field\n",
    "    * If you **send** tweets via the API, this will be the **tweets’ sender** \n",
    "    * Shown to users if you create applications that require a user to log in via Twitter\n",
    "    * For our examples, `\"`_YourName_ `Test App\"` is fine"
   ]
  },
  {
   "cell_type": "markdown",
   "metadata": {},
   "source": [
    "# 13.4 Getting Twitter Credentials—Creating an App (cont.)\n",
    "4. In the **Application description field**, describe your app\n",
    "    * Normally describes what your app does\n",
    "    * For our examples, \"`Learning to use the Twitter API.`\"\n",
    "5. In the **Website URL** field, enter your website\n",
    "    * Supposed to be the website where you host your app\n",
    "    * For our examples, use your Twitter URL: `https://twitter.com/`_YourUserName_"
   ]
  },
  {
   "cell_type": "markdown",
   "metadata": {},
   "source": [
    "# 13.4 Getting Twitter Credentials—Creating an App (cont.)\n",
    "6. **Tell us how this app will be used** \n",
    "    * Enter a description of at least 100 characters that helps Twitter employees understand what your app does\n",
    "    * For our examples, \"`I am new to Twitter app development and am simply learning how to use the Twitter APIs for educational purposes.`\"\n",
    "7. Leave the remaining fields empty, click **Create**, carefully review the (lengthy) developer terms and click **Create** again"
   ]
  },
  {
   "cell_type": "markdown",
   "metadata": {},
   "source": [
    "### Getting Your Credentials \n",
    "* Twitter displays a **web page for managing your app**\n",
    "    * **App details**, **Keys and tokens** and **Permissions** tabs\n",
    "* Click **Keys and tokens** to view your app’s **credentials**\n",
    "* Shows **Consumer API keys**—the **API key** and the **API secret key**\n",
    "* Click **Create** to get an **access token** and **access token secret**\n",
    "* **All four** are required to **authenticate**"
   ]
  },
  {
   "cell_type": "markdown",
   "metadata": {},
   "source": [
    "### Storing Your Credentials \n",
    "* **Do not include your API keys and access tokens in your source code**\n",
    "* **Store your keys in a separate file** and don't share it\n",
    "* Good practice would be to use an encryption library such as [**bcrypt**](https://github.com/pyca/bcrypt/) \n",
    "* We placed our keys in `keys.py` in the `ch12` folder\n",
    "* **IMPORTANT:** Replace **`YourConsumerKey`**, **`YourConsumerSecret`**, **`YourAccessToken`** and **`YourAccessTokenSecret`** before importing `keys.py` into this chapter's examples"
   ]
  },
  {
   "cell_type": "markdown",
   "metadata": {},
   "source": [
    "<hr style=\"height:2px; border:none; color:#AAA; background-color:#AAA;\">"
   ]
  },
  {
   "cell_type": "markdown",
   "metadata": {},
   "source": [
    "### OAuth 2.0 \n",
    "* These are all part of the **OAuth 2.0 authentication process**\n",
    "    * Sometimes called the **OAuth dance**\n",
    "* **Tweepy handles the OAuth 2.0 authentication details for you**"
   ]
  },
  {
   "cell_type": "markdown",
   "metadata": {},
   "source": [
    "------\n",
    "&copy;1992&ndash;2020 by Pearson Education, Inc. All Rights Reserved. This content is based on Chapter 5 of the book [**Intro to Python for Computer Science and Data Science: Learning to Program with AI, Big Data and the Cloud**](https://amzn.to/2VvdnxE).\n",
    "\n",
    "DISCLAIMER: The authors and publisher of this book have used their \n",
    "best efforts in preparing the book. These efforts include the \n",
    "development, research, and testing of the theories and programs \n",
    "to determine their effectiveness. The authors and publisher make \n",
    "no warranty of any kind, expressed or implied, with regard to these \n",
    "programs or to the documentation contained in these books. The authors \n",
    "and publisher shall not be liable in any event for incidental or \n",
    "consequential damages in connection with, or arising out of, the \n",
    "furnishing, performance, or use of these programs.                  "
   ]
  }
 ],
 "metadata": {
  "celltoolbar": "Slideshow",
  "kernelspec": {
   "display_name": "Python 3",
   "language": "python",
   "name": "python3"
  },
  "language_info": {
   "codemirror_mode": {
    "name": "ipython",
    "version": 3
   },
   "file_extension": ".py",
   "mimetype": "text/x-python",
   "name": "python",
   "nbconvert_exporter": "python",
   "pygments_lexer": "ipython3",
   "version": "3.7.3"
  }
 },
 "nbformat": 4,
 "nbformat_minor": 2
}
