{
 "cells": [
  {
   "cell_type": "markdown",
   "metadata": {},
   "source": [
    "# 13.12 Cleaning/Preprocessing Tweets for Analysis\n",
    "* **Data cleaning** is one of data scientists' most common tasks \n",
    "* Some NLP tasks for normalizing tweets\n",
    "    * Converting all text to the same case\n",
    "    * Removing `#` from hashtags, `@`-mentions, duplicates, hashtags\n",
    "    * Removing excess whitespace, punctuation, **stop words**, URLs\n",
    "    * Removing `RT` (retweet) and `FAV` (favorite) \n",
    "    * **Stemming** and **lemmatization**\n",
    "    * **Tokenization**"
   ]
  },
  {
   "cell_type": "markdown",
   "metadata": {},
   "source": [
    "### [**tweet-preprocessor**](https://github.com/s/preprocessor) Library and TextBlob Utility Functions\n",
    "* tweet-preprocessor can automatically remove any combination of\n",
    "\t* URLs\n",
    "\t* `@`-mentions (like `@nasa`)\n",
    "\t* hashtags (like `#mars`)\n",
    "\t* Twitter reserved words (like, `RT` for retweet and `FAV` for favorite, which is similar to a “like” on other social networks)\n",
    "\t* emojis (all or just smileys) \n",
    "\t* numbers "
   ]
  },
  {
   "cell_type": "markdown",
   "metadata": {},
   "source": [
    "### tweet-preprocessor Constants for Cleaning Options\n",
    "\n",
    "| Option\t| Option constant\n",
    "| :---\t| :---\n",
    "| @-Mentions (e.g., `@nasa`)\t| `OPT.MENTION` \n",
    "| Emoji\t| `OPT.EMOJI` \n",
    "| Hashtag (e.g., `#mars`)\t| `OPT.HASHTAG` \n",
    "| Number\t| `OPT.NUMBER` \n",
    "| Reserved Words (`RT` and `FAV`)\t| `OPT.RESERVED` \n",
    "| Smiley\t| `OPT.SMILEY` \n",
    "| URL\t| `OPT.URL` "
   ]
  },
  {
   "cell_type": "markdown",
   "metadata": {},
   "source": [
    "### Installing tweet-preprocessor\n",
    ">```python\n",
    "pip install tweet-preprocessor\n",
    "```\n"
   ]
  },
  {
   "cell_type": "markdown",
   "metadata": {},
   "source": [
    "### Cleaning a Tweet \n",
    "* Remove reserved word (RT for \"retweet\") and a URL\n",
    "* The tweet-preprocessor library’s module name is **`preprocessor`** and they recommend importing as **`p`**"
   ]
  },
  {
   "cell_type": "code",
   "execution_count": null,
   "metadata": {},
   "outputs": [],
   "source": [
    "import preprocessor as p"
   ]
  },
  {
   "cell_type": "code",
   "execution_count": null,
   "metadata": {},
   "outputs": [],
   "source": [
    "p.set_options(p.OPT.URL, p.OPT.RESERVED)"
   ]
  },
  {
   "cell_type": "code",
   "execution_count": null,
   "metadata": {},
   "outputs": [],
   "source": [
    "tweet_text = 'RT A sample retweet with a URL https://nasa.gov'"
   ]
  },
  {
   "cell_type": "code",
   "execution_count": null,
   "metadata": {},
   "outputs": [],
   "source": [
    "p.clean(tweet_text)"
   ]
  },
  {
   "cell_type": "markdown",
   "metadata": {},
   "source": [
    "------\n",
    "&copy;1992&ndash;2020 by Pearson Education, Inc. All Rights Reserved. This content is based on Chapter 5 of the book [**Intro to Python for Computer Science and Data Science: Learning to Program with AI, Big Data and the Cloud**](https://amzn.to/2VvdnxE).\n",
    "\n",
    "DISCLAIMER: The authors and publisher of this book have used their \n",
    "best efforts in preparing the book. These efforts include the \n",
    "development, research, and testing of the theories and programs \n",
    "to determine their effectiveness. The authors and publisher make \n",
    "no warranty of any kind, expressed or implied, with regard to these \n",
    "programs or to the documentation contained in these books. The authors \n",
    "and publisher shall not be liable in any event for incidental or \n",
    "consequential damages in connection with, or arising out of, the \n",
    "furnishing, performance, or use of these programs.                  "
   ]
  }
 ],
 "metadata": {
  "kernelspec": {
   "display_name": "Python 3",
   "language": "python",
   "name": "python3"
  },
  "language_info": {
   "codemirror_mode": {
    "name": "ipython",
    "version": 3
   },
   "file_extension": ".py",
   "mimetype": "text/x-python",
   "name": "python",
   "nbconvert_exporter": "python",
   "pygments_lexer": "ipython3",
   "version": "3.7.3"
  }
 },
 "nbformat": 4,
 "nbformat_minor": 2
}
