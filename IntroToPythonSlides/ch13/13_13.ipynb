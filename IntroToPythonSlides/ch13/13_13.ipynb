{
 "cells": [
  {
   "cell_type": "markdown",
   "metadata": {},
   "source": [
    "# 13.13 Twitter Streaming API\n",
    "* Streams **randomly selected** live tweets up to a **maximum of one percent of the tweets per day**\n",
    "* According to https://InternetLiveStats.com\n",
    "    * Approximately 8500 tweets per second\n",
    "    * Nearly **750 million tweets per day**\n",
    "* So Streaming API gives you **free access to approximately 7.5 million tweets/day**"
   ]
  },
  {
   "cell_type": "markdown",
   "metadata": {},
   "source": [
    "## 13.13.1 Creating a Subclass of `StreamListener` \n",
    "* A stream uses a **persistent** connection to **push** tweets to your app\n",
    "* Streaming rate varies tremendously, based on search criteria\n",
    "* Subclass of Tweepy’s **`StreamListener`** listens for tweets\n",
    "    * Notified when each new tweet (or other Twitter message) arrives\n",
    "* Each message results in a call to a **`StreamListener` method**\n",
    "* **Override** only the **methods you need**\n",
    "* [Additional `StreamListener` methods](https://github.com/tweepy/tweepy/blob/master/tweepy/streaming.py)  "
   ]
  },
  {
   "cell_type": "markdown",
   "metadata": {},
   "source": [
    "### `StreamListener` Methods\n",
    "| Method&nbsp;&nbsp;&nbsp;&nbsp;&nbsp;&nbsp;&nbsp;&nbsp;&nbsp;&nbsp;&nbsp;&nbsp;&nbsp;&nbsp;&nbsp;&nbsp;&nbsp;&nbsp;&nbsp;&nbsp;&nbsp;&nbsp;&nbsp;&nbsp;&nbsp;&nbsp;&nbsp;&nbsp;&nbsp;&nbsp;&nbsp;&nbsp;&nbsp;&nbsp;&nbsp;&nbsp;&nbsp;&nbsp;&nbsp;&nbsp;&nbsp;&nbsp;&nbsp;&nbsp;&nbsp;&nbsp;&nbsp;&nbsp;&nbsp;&nbsp;&nbsp;&nbsp;&nbsp;&nbsp;&nbsp;&nbsp;&nbsp;&nbsp;| Description\n",
    "| :---\t| :---\n",
    "| `on_connect(self)` \t| Called when you successfully connect to the Twitter stream. This is for statements that should execute only if your app is connected to the stream.\n",
    "| `on_status(self, status)` \t| Called when a tweet arrives—status is an object of Tweepy’s Status.\n",
    "| `on_limit(self, track)` \t| Called when a limit notice arrives. This occurs if your search matches more tweets than Twitter can deliver based on its current streaming rate limits. In this case, the limit notice contains the number of matching tweets that could not be delivered.\n",
    "| `on_error(self, status_code)` \t| Called in response to error codes sent by Twitter. \n",
    "| `on_timeout(self)` \t| Called if the connection times out—that is, the Twitter server is not responding.\n",
    "| `on_warning(self, notice)` \t| Called if Twitter sends a disconnect warning to indicate that the connection might be closed. For example, Twitter maintains a queue of the tweets it’s pushing to your app. If the app does not read the tweets fast enough, `on_warning`’s notice argument will contain a warning message indicating that the connection will terminate if the queue becomes full. "
   ]
  },
  {
   "cell_type": "markdown",
   "metadata": {},
   "source": [
    "### Class `TweetListener` Defined in `tweetlistener.py`\n",
    "```python  \n",
    "# tweetlistener.py\n",
    "\"\"\"tweepy.StreamListener subclass that processes tweets as they arrive.\"\"\"\n",
    "import tweepy\n",
    "from textblob import TextBlob\n",
    "\n",
    "class TweetListener(tweepy.StreamListener):\n",
    "    \"\"\"Handles incoming Tweet stream.\"\"\"\n",
    "```"
   ]
  },
  {
   "cell_type": "markdown",
   "metadata": {},
   "source": [
    "```python  \n",
    "    def __init__(self, api, limit=10):\n",
    "        \"\"\"Create instance variables for tracking number of tweets.\"\"\"\n",
    "        self.tweet_count = 0\n",
    "        self.TWEET_LIMIT = limit\n",
    "        super().__init__(api)  # call superclass's init\n",
    "\n",
    "    def on_connect(self):\n",
    "        \"\"\"Called when your connection attempt is successful, enabling \n",
    "        you to perform appropriate application tasks at that point.\"\"\"\n",
    "        print('Connection successful\\n')\n",
    "```"
   ]
  },
  {
   "cell_type": "markdown",
   "metadata": {},
   "source": [
    "```python  \n",
    "    def on_status(self, status):\n",
    "        \"\"\"Called when Twitter pushes a new tweet to you.\"\"\"\n",
    "        # get the tweet text\n",
    "        try:  \n",
    "            tweet_text = status.extended_tweet.full_text\n",
    "        except: \n",
    "            tweet_text = status.text\n",
    "\n",
    "        print(f'Screen name: {status.user.screen_name}:')\n",
    "        print(f'   Language: {status.lang}')\n",
    "        print(f'     Status: {tweet_text}')\n",
    "\n",
    "        if status.lang != 'en':\n",
    "            print(f' Translated: {TextBlob(tweet_text).translate()}')\n",
    "\n",
    "        print()\n",
    "        self.tweet_count += 1  # track number of tweets processed\n",
    "\n",
    "        # if TWEET_LIMIT is reached, return False to terminate streaming\n",
    "        return self.tweet_count <= self.TWEET_LIMIT\n",
    "```"
   ]
  },
  {
   "cell_type": "markdown",
   "metadata": {},
   "source": [
    "<hr style=\"height:2px; border:none; color:#AAA; background-color:#AAA;\">"
   ]
  },
  {
   "cell_type": "markdown",
   "metadata": {},
   "source": [
    "### Class `TweetListener: __init__` Method \n",
    "* `limit` is the total number of tweets to process—10 by default\n",
    "* Enables you to control the number of tweets to receive\n",
    "* If `limit` is `None`, the stream will not terminate automatically"
   ]
  },
  {
   "cell_type": "markdown",
   "metadata": {},
   "source": [
    "<hr style=\"height:2px; border:none; color:#AAA; background-color:#AAA;\">"
   ]
  },
  {
   "cell_type": "markdown",
   "metadata": {},
   "source": [
    "### Class `TweetListener: on_connect` Method \n",
    "* Called when your app successfully connects to the Twitter stream"
   ]
  },
  {
   "cell_type": "markdown",
   "metadata": {},
   "source": [
    "<hr style=\"height:2px; border:none; color:#AAA; background-color:#AAA;\">"
   ]
  },
  {
   "cell_type": "markdown",
   "metadata": {},
   "source": [
    "### Class `TweetListener`: `on_status` Method \n",
    "* Called by Tweepy **when each tweet arrives**\n",
    "* Second parameter receives a **Tweepy `Status` object** representing the tweet \n",
    "* If `on_status` returns `True`, the stream remains open\n",
    "* When `on_status` returns `False`, **Tweepy disconnects** from the stream\n",
    "\n",
    "* **Instructor Note:** In the published book, the last line of this method has a `<=` test that should be `<`&mdash;that's fixed in the version provided with these slides"
   ]
  },
  {
   "cell_type": "markdown",
   "metadata": {},
   "source": [
    "# 13.13.2 Initiating Stream Processing\n",
    "### Authenticating"
   ]
  },
  {
   "cell_type": "code",
   "execution_count": null,
   "metadata": {},
   "outputs": [],
   "source": [
    "import tweepy"
   ]
  },
  {
   "cell_type": "code",
   "execution_count": null,
   "metadata": {},
   "outputs": [],
   "source": [
    "import keys"
   ]
  },
  {
   "cell_type": "code",
   "execution_count": null,
   "metadata": {},
   "outputs": [],
   "source": [
    "auth = tweepy.OAuthHandler(keys.consumer_key, \n",
    "                           keys.consumer_secret)"
   ]
  },
  {
   "cell_type": "code",
   "execution_count": null,
   "metadata": {},
   "outputs": [],
   "source": [
    "auth.set_access_token(keys.access_token, \n",
    "                      keys.access_token_secret)"
   ]
  },
  {
   "cell_type": "code",
   "execution_count": null,
   "metadata": {},
   "outputs": [],
   "source": [
    "api = tweepy.API(auth, wait_on_rate_limit=True, \n",
    "                 wait_on_rate_limit_notify=True)"
   ]
  },
  {
   "cell_type": "markdown",
   "metadata": {},
   "source": [
    "### Creating a `TweetListener` \n",
    "* Initializing with the `api` object\n",
    "* 10 tweets will stream by default\n"
   ]
  },
  {
   "cell_type": "code",
   "execution_count": null,
   "metadata": {},
   "outputs": [],
   "source": [
    "from tweetlistener import TweetListener"
   ]
  },
  {
   "cell_type": "code",
   "execution_count": null,
   "metadata": {},
   "outputs": [],
   "source": [
    "tweet_listener = TweetListener(api)"
   ]
  },
  {
   "cell_type": "markdown",
   "metadata": {},
   "source": [
    "### Creating a `Stream` \n",
    "* A Tweepy **`Stream`** object to manages the connection to the Twitter stream\n",
    "* Passes the messages to your `TweetListener` "
   ]
  },
  {
   "cell_type": "code",
   "execution_count": null,
   "metadata": {},
   "outputs": [],
   "source": [
    "tweet_stream = tweepy.Stream(auth=api.auth, \n",
    "                             listener=tweet_listener)"
   ]
  },
  {
   "cell_type": "markdown",
   "metadata": {},
   "source": [
    "### Starting the Tweet Stream \n",
    "* Use the `Stream` object’s **`filter` method** \n",
    "* `track` parameter specifies a list of search terms\n",
    "* Streaming API returns full tweet **JSON objects** for tweets that match any of the terms, **not just in the tweet’s text, but also in @-mentions, hashtags, expanded URLs and other information**  \n",
    "* Might not see search terms you’re tracking if you look only at tweets' text\n",
    "\n",
    "* **Instructor Note:** We removed the `is_async` argument to ensure that the streamed tweets all appear below this cell in the notebook. Also, since the book was published, the Mars Rover is no longer in service. So we changed the search string here to `football`"
   ]
  },
  {
   "cell_type": "code",
   "execution_count": null,
   "metadata": {},
   "outputs": [],
   "source": [
    "tweet_stream.filter(track=['football'])  #, is_async=True) "
   ]
  },
  {
   "cell_type": "markdown",
   "metadata": {},
   "source": [
    "### Asynchronous vs. Synchronous Streams\n",
    "* `is_async=True` &mdash; initiate an **asynchronous tweet stream** \n",
    "* Code can continue executing while `StreamListener` waits for tweets \n",
    "* In IPython, can terminate an asynchronous tweet stream early:  \n",
    ">```python\n",
    "tweet_stream.running=False\n",
    "```\n",
    "* Without `is_async=True`, the stream is **synchronous** and the next In [] prompt appears **after the stream terminates**"
   ]
  },
  {
   "cell_type": "markdown",
   "metadata": {},
   "source": [
    "### Other filter Method Parameters\n",
    "* [Other `filter` method parameters](https://developer.twitter.com/en/docs/tweets/filter-realtime/guides/basic-stream-parameters) for refining your tweet searches\n"
   ]
  },
  {
   "cell_type": "markdown",
   "metadata": {},
   "source": [
    "### Twitter Restrictions Note\n",
    "* If you're storing tweets, Twitter requires you to delete any message or location data for which you receive a deletion message\n",
    "* Your listener’s **`on_delete` method** will be called \n",
    "* [Deletion rules and message details](https://developer.twitter.com/en/docs/tweets/filter-realtime/guides/streaming-message-types)"
   ]
  },
  {
   "cell_type": "markdown",
   "metadata": {},
   "source": [
    "------\n",
    "&copy;1992&ndash;2020 by Pearson Education, Inc. All Rights Reserved. This content is based on Chapter 5 of the book [**Intro to Python for Computer Science and Data Science: Learning to Program with AI, Big Data and the Cloud**](https://amzn.to/2VvdnxE).\n",
    "\n",
    "DISCLAIMER: The authors and publisher of this book have used their \n",
    "best efforts in preparing the book. These efforts include the \n",
    "development, research, and testing of the theories and programs \n",
    "to determine their effectiveness. The authors and publisher make \n",
    "no warranty of any kind, expressed or implied, with regard to these \n",
    "programs or to the documentation contained in these books. The authors \n",
    "and publisher shall not be liable in any event for incidental or \n",
    "consequential damages in connection with, or arising out of, the \n",
    "furnishing, performance, or use of these programs.                  "
   ]
  }
 ],
 "metadata": {
  "kernelspec": {
   "display_name": "Python 3",
   "language": "python",
   "name": "python3"
  },
  "language_info": {
   "codemirror_mode": {
    "name": "ipython",
    "version": 3
   },
   "file_extension": ".py",
   "mimetype": "text/x-python",
   "name": "python",
   "nbconvert_exporter": "python",
   "pygments_lexer": "ipython3",
   "version": "3.7.3"
  }
 },
 "nbformat": 4,
 "nbformat_minor": 2
}
