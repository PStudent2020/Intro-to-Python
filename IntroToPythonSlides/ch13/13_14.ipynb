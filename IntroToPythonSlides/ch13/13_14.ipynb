{
 "cells": [
  {
   "cell_type": "markdown",
   "metadata": {},
   "source": [
    "# 13.14 Tweet Sentiment Analysis \n",
    "* Political researchers might use during elections to understand how people feel about specific politicians and issues, and **how they're likely to vote**\n",
    "* Companies might use to see what people are saying about their products and competitors’ products\n",
    "* Script `sentimentlistener.py` checks sentiment on a specified topic for a specified number of tweets"
   ]
  },
  {
   "cell_type": "code",
   "execution_count": null,
   "metadata": {},
   "outputs": [],
   "source": [
    "run sentimentlistener.py football 10"
   ]
  },
  {
   "cell_type": "markdown",
   "metadata": {},
   "source": [
    "<hr style=\"height:2px; border:none; color:#AAA; background-color:#AAA;\">"
   ]
  },
  {
   "cell_type": "markdown",
   "metadata": {},
   "source": [
    "### `sentimentlistener.py`\n",
    "* **Instructor Note:** In the published book, the last line of method `on_status` has a `<=` test that should be `<`&mdash;that's fixed in the version provided with these slides\n",
    "\n",
    "```python\n",
    "# sentimentlisener.py\n",
    "\"\"\"Script that searches for tweets that match a search string\n",
    "and tallies the number of positive, neutral and negative tweets.\"\"\"\n",
    "import keys\n",
    "import preprocessor as p \n",
    "import sys\n",
    "from textblob import TextBlob\n",
    "import tweepy\n",
    "\n",
    "class SentimentListener(tweepy.StreamListener):\n",
    "    \"\"\"Handles incoming Tweet stream.\"\"\"\n",
    "```"
   ]
  },
  {
   "cell_type": "markdown",
   "metadata": {},
   "source": [
    "```python  \n",
    "    def __init__(self, api, sentiment_dict, topic, limit=10):\n",
    "        \"\"\"Configure the SentimentListener.\"\"\"\n",
    "        self.sentiment_dict = sentiment_dict\n",
    "        self.tweet_count = 0\n",
    "        self.topic = topic\n",
    "        self.TWEET_LIMIT = limit\n",
    "\n",
    "        # set tweet-preprocessor to remove URLs/reserved words\n",
    "        p.set_options(p.OPT.URL, p.OPT.RESERVED) \n",
    "        super().__init__(api)  # call superclass's init\n",
    "```"
   ]
  },
  {
   "cell_type": "markdown",
   "metadata": {},
   "source": [
    "```python  \n",
    "    def on_status(self, status):\n",
    "        \"\"\"Called when Twitter pushes a new tweet to you.\"\"\"\n",
    "        # get the tweet's text\n",
    "        try:  \n",
    "            tweet_text = status.extended_tweet.full_text\n",
    "        except: \n",
    "            tweet_text = status.text\n",
    "\n",
    "        # ignore retweets \n",
    "        if tweet_text.startswith('RT'):\n",
    "            return\n",
    "\n",
    "        tweet_text = p.clean(tweet_text)  # clean the tweet\n",
    "        \n",
    "        # ignore tweet if the topic is not in the tweet text\n",
    "        if self.topic.lower() not in tweet_text.lower():\n",
    "            return\n",
    "\n",
    "        # update self.sentiment_dict with the polarity\n",
    "        blob = TextBlob(tweet_text)\n",
    "        if blob.sentiment.polarity > 0:\n",
    "            sentiment = '+'\n",
    "            self.sentiment_dict['positive'] += 1 \n",
    "        elif blob.sentiment.polarity == 0:\n",
    "            sentiment = ' '\n",
    "            self.sentiment_dict['neutral'] += 1 \n",
    "        else:\n",
    "            sentiment = '-'\n",
    "            self.sentiment_dict['negative'] += 1 \n",
    "            \n",
    "        # display the tweet\n",
    "        print(f'{sentiment} {status.user.screen_name}: {tweet_text}\\n')\n",
    "        \n",
    "        self.tweet_count += 1  # track number of tweets processed\n",
    "\n",
    "        # if TWEET_LIMIT is reached, return False to terminate streaming\n",
    "        return self.tweet_count < self.TWEET_LIMIT\n",
    "```"
   ]
  },
  {
   "cell_type": "markdown",
   "metadata": {},
   "source": [
    "```python  \n",
    "def main():\n",
    "    # configure the OAuthHandler\n",
    "    auth = tweepy.OAuthHandler(keys.consumer_key, keys.consumer_secret)\n",
    "    auth.set_access_token(keys.access_token, keys.access_token_secret)\n",
    "\n",
    "    # get the API object\n",
    "    api = tweepy.API(auth, wait_on_rate_limit=True, \n",
    "                     wait_on_rate_limit_notify=True)\n",
    "                 \n",
    "    # create the StreamListener subclass object\n",
    "    search_key = sys.argv[1]\n",
    "    limit = int(sys.argv[2])  # number of tweets to tally\n",
    "    sentiment_dict = {'positive': 0, 'neutral': 0, 'negative': 0}\n",
    "    sentiment_listener = SentimentListener(api, \n",
    "        sentiment_dict, search_key, limit)\n",
    "\n",
    "    # set up Stream \n",
    "    stream = tweepy.Stream(auth=api.auth, listener=sentiment_listener)\n",
    "\n",
    "    # start filtering English tweets containing search_key\n",
    "    stream.filter(track=[search_key], languages=['en'], is_async=False)  \n",
    "\n",
    "    print(f'Tweet sentiment for \"{search_key}\"')\n",
    "    print('Positive:', sentiment_dict['positive'])\n",
    "    print(' Neutral:', sentiment_dict['neutral'])\n",
    "    print('Negative:', sentiment_dict['negative'])\n",
    "\n",
    "# call main if this file is executed as a script\n",
    "if __name__ == '__main__':\n",
    "    main()\n",
    "```"
   ]
  },
  {
   "cell_type": "markdown",
   "metadata": {},
   "source": [
    "### Class `SentimentListener: __init__` Method\n",
    "* `sentiment_dict`—dictionary to **keep track of tweet sentiments**\n",
    "* `topic`—**topic we’re searching for** in the tweet text  \n",
    "* `limit`—**max tweets to process** (not including the ones we eliminate)"
   ]
  },
  {
   "cell_type": "markdown",
   "metadata": {},
   "source": [
    "### Method `on_status` \n",
    "For each tweet:\n",
    "* gets the tweet’s text \n",
    "* skips the tweet if it’s a retweet \n",
    "* cleans the tweet to remove URLs and reserved words (like FAV) \n",
    "* skips the tweet if it does not have the topic in the tweet text \n",
    "* uses a `TextBlob` to check sentiment and updates the `sentiment_dict`  \n",
    "* prints tweet preceded by sentiment: `+` for positive, space for neutral, `-` for negative  \n",
    "* checks whether we’ve processed max number of tweets "
   ]
  },
  {
   "cell_type": "markdown",
   "metadata": {},
   "source": [
    "### Main Application\n",
    "* Function `main` is **called when you execute the file as a script**\n",
    "    * Gets the command-line arguments\n",
    "    * Creates the `sentiment_dict` dictionary to track tweet sentiments\n",
    "    * Creates the `SentimentListener`\n",
    "    * Creates the `Stream` object\n",
    "    * Initiates the stream by calling `Stream` method `filter`\n",
    "* **Synchronous stream** so we display the sentiment report only **after** `limit` tweets are processed\n",
    "* `filter` **keyword argument `languages`** specifies a list of language codes\n",
    "    * **`'en'`** indicates Twitter should return only **English language tweets**"
   ]
  },
  {
   "cell_type": "markdown",
   "metadata": {},
   "source": [
    "------\n",
    "&copy;1992&ndash;2020 by Pearson Education, Inc. All Rights Reserved. This content is based on Chapter 5 of the book [**Intro to Python for Computer Science and Data Science: Learning to Program with AI, Big Data and the Cloud**](https://amzn.to/2VvdnxE).\n",
    "\n",
    "DISCLAIMER: The authors and publisher of this book have used their \n",
    "best efforts in preparing the book. These efforts include the \n",
    "development, research, and testing of the theories and programs \n",
    "to determine their effectiveness. The authors and publisher make \n",
    "no warranty of any kind, expressed or implied, with regard to these \n",
    "programs or to the documentation contained in these books. The authors \n",
    "and publisher shall not be liable in any event for incidental or \n",
    "consequential damages in connection with, or arising out of, the \n",
    "furnishing, performance, or use of these programs.                  "
   ]
  }
 ],
 "metadata": {
  "kernelspec": {
   "display_name": "Python 3",
   "language": "python",
   "name": "python3"
  },
  "language_info": {
   "codemirror_mode": {
    "name": "ipython",
    "version": 3
   },
   "file_extension": ".py",
   "mimetype": "text/x-python",
   "name": "python",
   "nbconvert_exporter": "python",
   "pygments_lexer": "ipython3",
   "version": "3.7.3"
  }
 },
 "nbformat": 4,
 "nbformat_minor": 2
}
