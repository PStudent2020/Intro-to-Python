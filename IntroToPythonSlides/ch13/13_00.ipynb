{
 "cells": [
  {
   "cell_type": "markdown",
   "metadata": {},
   "source": [
    "# 13. Data Mining Twitter"
   ]
  },
  {
   "cell_type": "markdown",
   "metadata": {},
   "source": [
    "# Objectives\n",
    "* Understand Twitter’s impact\n",
    "on businesses, brands,\n",
    "reputation, sentiment\n",
    "analysis, predictions and\n",
    "more.\n",
    "* Use Tweepy, one of the most\n",
    "popular Python Twitter API\n",
    "clients for data mining Twitter.\n",
    "* Use the Twitter Search API to\n",
    "download past tweets that\n",
    "meet your criteria.\n",
    "* Use the Twitter Streaming API\n",
    "to sample the stream of live\n",
    "tweets as they’re happening."
   ]
  },
  {
   "cell_type": "markdown",
   "metadata": {},
   "source": [
    "# Objectives (cont.)\n",
    "* See that the tweet objects\n",
    "returned by Twitter contain\n",
    "valuable information beyond\n",
    "the tweet text.\n",
    "* Use the natural language\n",
    "processing techniques you\n",
    "learned in the last chapter to\n",
    "clean and preprocess tweets to\n",
    "prepare them for analysis.\n",
    "* Perform sentiment analysis on\n",
    "tweets.\n",
    "* Spot trends with Twitter’s\n",
    "Trends API.\n",
    "* Map tweets using folium and\n",
    "OpenStreetMap.\n",
    "* Understand various ways to\n",
    "store tweets using techniques\n",
    "discussed throughout this\n",
    "book."
   ]
  },
  {
   "cell_type": "markdown",
   "metadata": {},
   "source": [
    "# Outline\n",
    "* [13.1 Introduction](./13_01.ipynb)\n",
    "* [13.2 Overview of the Twitter APIs](./13_02.ipynb)\n",
    "* [13.3 Creating a Twitter Account](./13_03.ipynb)\n",
    "* [13.4 Getting Twitter Credentials—Creating an App](./13_04.ipynb)\n",
    "* [13.5 What’s in a Tweet?](./13_05.ipynb)\n",
    "* [13.6 Tweepy](./13_06.ipynb)\n",
    "* [13.7 Authenticating with Twitter Via Tweepy](./13_07-11.ipynb) &mdash; Contains sections 13.7-11\n",
    "* 13.8 Getting Information About a Twitter Account\n",
    "* 13.9 Introduction to Tweepy Cursors: Getting an Account’s Followers and Friends\n",
    "    * 13.9.1 Determining an Account’s Followers\n",
    "    * 13.9.2 Determining Whom an Account Follows\n",
    "    * 13.9.3 Getting a User’s Recent Tweets\n",
    "* 13.10 Searching Recent Tweets\n",
    "* 13.11 Spotting Trends: Twitter Trends API\n",
    "    * 13.11.1 Places with Trending Topics\n",
    "    * 13.11.2 Getting a List of Trending Topics\n",
    "    * 13.11.3 Create a Word Cloud from Trending Topics\n",
    "* [13.12 Cleaning/Preprocessing Tweets for Analysis](./13_012.ipynb)\n",
    "* [13.13 Twitter Streaming API](./13_13.ipynb)\n",
    "    * 13.13.1 Creating a Subclass of StreamListener\n",
    "    * 13.13.2 Initiating Stream Processing\n",
    "* [13.14 Tweet Sentiment Analysis](./13_0.ipynb)\n",
    "* [13.15 Geocoding and Mapping](./13_0.ipynb)\n",
    "    * 13.15.1 Getting and Mapping the Tweets\n",
    "    * 13.15.2 Utility Functions in tweetutilities.py\n",
    "    * 13.15.3 Class LocationListener\n",
    "* [13.16 Ways to Store Tweets](./13_0.ipynb)\n",
    "* [13.17 Twitter and Time Series](./13_0.ipynb)\n",
    "* 13.18 Wrap-Up\n",
    "* Exercises"
   ]
  },
  {
   "cell_type": "markdown",
   "metadata": {},
   "source": [
    "------\n",
    "&copy;1992&ndash;2020 by Pearson Education, Inc. All Rights Reserved. This content is based on Chapter 5 of the book [**Intro to Python for Computer Science and Data Science: Learning to Program with AI, Big Data and the Cloud**](https://amzn.to/2VvdnxE).\n",
    "\n",
    "DISCLAIMER: The authors and publisher of this book have used their \n",
    "best efforts in preparing the book. These efforts include the \n",
    "development, research, and testing of the theories and programs \n",
    "to determine their effectiveness. The authors and publisher make \n",
    "no warranty of any kind, expressed or implied, with regard to these \n",
    "programs or to the documentation contained in these books. The authors \n",
    "and publisher shall not be liable in any event for incidental or \n",
    "consequential damages in connection with, or arising out of, the \n",
    "furnishing, performance, or use of these programs.                  "
   ]
  }
 ],
 "metadata": {
  "celltoolbar": "Slideshow",
  "kernelspec": {
   "display_name": "Python 3",
   "language": "python",
   "name": "python3"
  },
  "language_info": {
   "codemirror_mode": {
    "name": "ipython",
    "version": 3
   },
   "file_extension": ".py",
   "mimetype": "text/x-python",
   "name": "python",
   "nbconvert_exporter": "python",
   "pygments_lexer": "ipython3",
   "version": "3.7.3"
  }
 },
 "nbformat": 4,
 "nbformat_minor": 2
}
