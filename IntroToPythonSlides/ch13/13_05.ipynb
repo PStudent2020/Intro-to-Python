{
 "cells": [
  {
   "cell_type": "markdown",
   "metadata": {},
   "source": [
    "# 13.5 What’s in a Tweet? \n",
    "* Twitter API methods return **JSON (JavaScript Object Notation)** objects\n",
    "* Text-based **data-interchange format** \n",
    "* Represents objects as **collections of name–value pairs** (like dictionaries)\n",
    "* Commonly used in web services\n",
    "* Human and computer readable"
   ]
  },
  {
   "cell_type": "markdown",
   "metadata": {},
   "source": [
    "# 13.5 What’s in a Tweet? (cont.)\n",
    "* **JSON object format**:\n",
    ">```python\n",
    "{propertyName1: value1, propertyName2: value2}\n",
    "```\n",
    "* **JSON array format (like Python list)**:\n",
    ">```python\n",
    "[value1, value2, value3]\n",
    "```\n",
    "* **Tweepy handles the JSON for you** behind the scenes"
   ]
  },
  {
   "cell_type": "markdown",
   "metadata": {},
   "source": [
    "### Key Properties of a Tweet Object \n",
    "* A tweet (or **status update**) object contains many **metadata** attributes that describe aspects of the tweet:\n",
    "\t* when it was created \n",
    "\t* who created it,\n",
    "\t* lists of hashtags, urls, `@`-mentions, images, videos and more"
   ]
  },
  {
   "cell_type": "markdown",
   "metadata": {},
   "source": [
    "### Key Properties of a Tweet Object (cont.)\n",
    "| Attribute \t| Description\n",
    "| :---\t| :---\n",
    "| **`created_at`** \t| The creation date and time in UTC (Coordinated Universal Time) format.\n",
    "| **`entities`** \t| Twitter extracts `hashtag`s, `url`s, `user_mention`s (that is, `@_username_ mentions`), `media` (such as images and videos), `symbols` and `polls` from tweets and places them into the entities dictionary as lists that you can access with these keys. \n",
    "| **`extended_tweet`** \t| For tweets over 140 characters, contains details such as the tweet’s `full_text` and entities\n",
    "| **`favorite_count`** \t| Number of times other users favorited the tweet.\n",
    "| **`coordinates`** \t| The coordinates (latitude and longitude) from which the tweet was sent. This is often `null` (None in Python) because many users disable sending location data."
   ]
  },
  {
   "cell_type": "markdown",
   "metadata": {},
   "source": [
    "### Key Properties of a Tweet Object (cont.)\n",
    "| Attribute \t| Description\n",
    "| :---\t| :---\n",
    "| **`place`** \t| Users can associate a place with a tweet. If they do, this will be a [place object](https://developer.twitter.com/en/docs/tweets/data-dictionary/overview/geo-objects#place-dictionary); otherwise, it’ll be `null` (None in Python).\n",
    "| **`id`**  \t| The integer ID of the tweet. Twitter recommends using `id_str` for portability.\n",
    "| **`id_str`** \t| The string representation of the tweet’s integer ID.\n",
    "| **`lang`** \t| Language of the tweet, such as `'en'` for English or `'fr'` for French.\n",
    "| **`retweet_count`** \t| Number of times other users retweeted the tweet.\n",
    "| **`text`** \t| The text of the tweet. If the tweet uses the new 280-character limit and contains more than 140 characters, this property will be truncated and the truncated property will be set to _true_. This might also occur if a 140-character tweet was retweeted and became more than 140 characters as a result. \n",
    "| **`user`** \t| The User object representing the user that posted the tweet. [User object JSON properties](https://developer.twitter.com/en/docs/tweets/data-dictionary/overview/user-object)"
   ]
  },
  {
   "cell_type": "markdown",
   "metadata": {},
   "source": [
    "### Sample Tweet JSON \n",
    "* Sample JSON for the following tweet from the `@nasa` account: \n",
    ">```\n",
    "@NoFear1075 Great question, Anthony! Throughout its seven-year mission, \n",
    "our Parker #SolarProbe spacecraft... https://t.co/xKd6ym8waT'\n",
    "```\n",
    "* Some fields in Tweet JSON are not returned by every API method\n",
    "* Differences explained in the online docs "
   ]
  },
  {
   "cell_type": "markdown",
   "metadata": {},
   "source": [
    "```python\n",
    "{'created_at': 'Wed Sep 05 18:19:34 +0000 2018',\n",
    " 'id': 1037404890354606082,\n",
    " 'id_str': '1037404890354606082',\n",
    " 'text': '@NoFear1075 Great question, Anthony! Throughout its seven-year \n",
    "          mission, our Parker #SolarProbe spacecraft… https://t.co/xKd6ym8waT',\n",
    " 'truncated': True,\n",
    " 'entities': {'hashtags': [{'text': 'SolarProbe', 'indices': [84, 95]}],\n",
    "    'symbols': [],\n",
    "    'user_mentions': [{'screen_name': 'NoFear1075',\n",
    "        'name': 'Anthony Perrone',\n",
    "        'id': 284339791,\n",
    "        'id_str': '284339791',\n",
    "        'indices': [0, 11]}],\n",
    "    'urls': [{'url': 'https://t.co/xKd6ym8waT',\n",
    "        'expanded_url': 'https://twitter.com/i/web/status/\n",
    "            1037404890354606082',\n",
    "        'display_url': 'twitter.com/i/web/status/1…',\n",
    "        'indices': [117, 140]}]},\n",
    " 'source': '<a href=\"http://twitter.com\" rel=\"nofollow\">Twitter Web \n",
    "          Client</a>',\n",
    "```"
   ]
  },
  {
   "cell_type": "markdown",
   "metadata": {},
   "source": [
    "```python\n",
    " 'in_reply_to_status_id': 1037390542424956928,\n",
    " 'in_reply_to_status_id_str': '1037390542424956928',\n",
    " 'in_reply_to_user_id': 284339791,\n",
    " 'in_reply_to_user_id_str': '284339791',\n",
    " 'in_reply_to_screen_name': 'NoFear1075',\n",
    " 'user': {'id': 11348282,\n",
    "    'id_str': '11348282',\n",
    "    'name': 'NASA',\n",
    "    'screen_name': 'NASA',\n",
    "    'location': '',\n",
    "    'description': 'Explore the universe and discover our home planet with \n",
    "            @NASA. We usually post in EST (UTC-5)',\n",
    "    'url': 'https://t.co/TcEE6NS8nD',\n",
    "    'entities': {'url': {'urls': [{'url': 'https://t.co/TcEE6NS8nD',\n",
    "            'expanded_url': 'http://www.nasa.gov',\n",
    "            'display_url': 'nasa.gov',\n",
    "            'indices': [0, 23]}]},\n",
    "     'description': {'urls': []}},\n",
    "    'protected': False,\n",
    "    'followers_count': 29486081,\n",
    "    'friends_count': 287,\n",
    "    'listed_count': 91928,\n",
    "    'created_at': 'Wed Dec 19 20:20:32 +0000 2007',\n",
    "    'favourites_count': 3963,\n",
    "    'time_zone': None,\n",
    "    'geo_enabled': False,\n",
    "    'verified': True,\n",
    "    'statuses_count': 53147,\n",
    "    'lang': 'en',\n",
    "```"
   ]
  },
  {
   "cell_type": "markdown",
   "metadata": {},
   "source": [
    "```python\n",
    "    'contributors_enabled': False,\n",
    "    'is_translator': False,\n",
    "    'is_translation_enabled': False,\n",
    "    'profile_background_color': '000000',\n",
    "    'profile_background_image_url': 'http://abs.twimg.com/images/themes/\n",
    "            theme1/bg.png',\n",
    "    'profile_background_image_url_https': 'https://abs.twimg.com/images/\n",
    "            themes/theme1/bg.png',\n",
    "    'profile_image_url': 'http://pbs.twimg.com/profile_images/188302352/\n",
    "            nasalogo_twitter_normal.jpg',\n",
    "    'profile_image_url_https': 'https://pbs.twimg.com/profile_images/\n",
    "            188302352/nasalogo_twitter_normal.jpg',\n",
    "    'profile_banner_url': 'https://pbs.twimg.com/profile_banners/11348282/\n",
    "             1535145490',\n",
    "    'profile_link_color': '205BA7',\n",
    "    'profile_sidebar_border_color': '000000',\n",
    "    'profile_sidebar_fill_color': 'F3F2F2',\n",
    "    'profile_text_color': '000000',\n",
    "    'profile_use_background_image': True,\n",
    "    'has_extended_profile': True,\n",
    "    'default_profile': False,\n",
    "    'default_profile_image': False,\n",
    "    'following': True,\n",
    "    'follow_request_sent': False,\n",
    "    'notifications': False,\n",
    "    'translator_type': 'regular'},\n",
    " 'geo': None,\n",
    " 'coordinates': None,\n",
    " 'place': None,\n",
    " 'contributors': None,\n",
    " 'is_quote_status': False,\n",
    " 'retweet_count': 7,\n",
    " 'favorite_count': 19,\n",
    " 'favorited': False,\n",
    " 'retweeted': False,\n",
    " 'possibly_sensitive': False,\n",
    " 'lang': 'en'}\n",
    "\n",
    "```"
   ]
  },
  {
   "cell_type": "markdown",
   "metadata": {},
   "source": [
    "### Twitter JSON Object Resources \n",
    "* [Complete list of the tweet object attributes](https://developer.twitter.com/en/docs/tweets/data-dictionary/overview/tweet-object.html)\n",
    "* [Additional details that were added when Twitter moved from a limit of 140 to 280 characters per tweet](https://developer.twitter.com/en/docs/tweets/data-dictionary/overview/intro-to-tweet-json.html#extendedtweet)\n",
    "* [General overview of all the JSON objects that Twitter APIs return, and links to the specific object details](https://developer.twitter.com/en/docs/tweets/data-dictionary/overview/intro-to-tweet-json)"
   ]
  },
  {
   "cell_type": "markdown",
   "metadata": {},
   "source": [
    "------\n",
    "&copy;1992&ndash;2020 by Pearson Education, Inc. All Rights Reserved. This content is based on Chapter 5 of the book [**Intro to Python for Computer Science and Data Science: Learning to Program with AI, Big Data and the Cloud**](https://amzn.to/2VvdnxE).\n",
    "\n",
    "DISCLAIMER: The authors and publisher of this book have used their \n",
    "best efforts in preparing the book. These efforts include the \n",
    "development, research, and testing of the theories and programs \n",
    "to determine their effectiveness. The authors and publisher make \n",
    "no warranty of any kind, expressed or implied, with regard to these \n",
    "programs or to the documentation contained in these books. The authors \n",
    "and publisher shall not be liable in any event for incidental or \n",
    "consequential damages in connection with, or arising out of, the \n",
    "furnishing, performance, or use of these programs.                  "
   ]
  }
 ],
 "metadata": {
  "celltoolbar": "Slideshow",
  "kernelspec": {
   "display_name": "Python 3",
   "language": "python",
   "name": "python3"
  },
  "language_info": {
   "codemirror_mode": {
    "name": "ipython",
    "version": 3
   },
   "file_extension": ".py",
   "mimetype": "text/x-python",
   "name": "python",
   "nbconvert_exporter": "python",
   "pygments_lexer": "ipython3",
   "version": "3.7.3"
  }
 },
 "nbformat": 4,
 "nbformat_minor": 2
}
