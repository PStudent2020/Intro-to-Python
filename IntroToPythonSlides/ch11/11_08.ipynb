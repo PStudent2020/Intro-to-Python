{
 "cells": [
  {
   "cell_type": "markdown",
   "metadata": {},
   "source": [
    "# 11.8 Efficiency of Algorithms: Big O\n",
    "* Searching algorithms all accomplish the same goal—finding an element matching a given search key if such an element exists\n",
    "* Several things differentiate search algorithms from one another\n",
    "* The major difference is the amount of effort they require to complete the search\n",
    "* Described with Big O notation, which indicates how hard an algorithm may have to work to solve a problem\n",
    "* Depends mainly on how many data elements there are\n",
    "* We use Big O to describe the worst-case run times for various searching and sorting algorithms"
   ]
  },
  {
   "cell_type": "markdown",
   "metadata": {},
   "source": [
    "### O(1) Algorithms\n",
    "* Suppose an algorithm is designed to test whether the first element of an array is equal to the second\n",
    "* If the array has 10 elements, this algorithm requires one comparison\n",
    "* If the array has 1000 elements, it still requires one comparison\n",
    "* Algorithm is completely independent of the number of elements in the array\n",
    "* Said to have a constant run time, which is represented in Big O notation as **_O(1)_** \n",
    "* Pronounced as “order one” \n",
    "* An algorithm that’s **_O(1)_** does not necessarily require only one comparison\n",
    "    * Means that the number of comparisons is constant—it does not grow as the size of the array increases\n",
    "  "
   ]
  },
  {
   "cell_type": "markdown",
   "metadata": {},
   "source": [
    "### O(n) Algorithms\n",
    "* An algorithm that tests whether the first array element is equal to any of the other array elements requires at most **_n_** – 1 comparisons, where **_n_** is the number of array elements\n",
    "* If the array has 10 elements, this algorithm requires up to nine comparisons\n",
    "* If the array has 1000 elements, it requires up to 999 comparisons\n",
    "* As **_n_** grows larger, the **_n_** part of **_n_** – 1 “dominates,” and subtracting 1 becomes inconsequential\n",
    "* Big O is designed to highlight dominant terms and ignore terms that become unimportant\n",
    "* An algorithm that requires a total of **_n_** – 1 comparisons is said to be **_O(n)_**\n",
    "* Said to have a linear run time\n",
    "* Pronounced “on the order of n” or simply “order n”"
   ]
  },
  {
   "cell_type": "markdown",
   "metadata": {},
   "source": [
    "### O(n2) Algorithms\n",
    "* Suppose you have an algorithm that tests whether any element of an array is duplicated elsewhere in the array\n",
    "    * First element must be compared with every other element in the array\n",
    "    * Second element must be compared with every other element except the first (it was already compared to the first)\n",
    "    * The third element must be compared with every other element except the first two\n",
    "* In the end, this algorithm makes (**_n_** – 1) + (**_n_** – 2) + … + 2 + 1 or **_n_**<sup>2</sup>/2 – **_n_**/2 comparisons\n",
    "* As **_n_** increases, the **_n_**<sup>2</sup> term dominates, and the **_n_** term becomes inconsequential\n",
    "* Big O notation highlights the **_n_**<sup>2</sup> term, ignoring **_n_**/2"
   ]
  },
  {
   "cell_type": "markdown",
   "metadata": {},
   "source": [
    "### O(n2) Algorithms (cont.)\n",
    "* Big O is concerned with how an algorithm’s run time grows in relation to the number of items processed\n",
    "* Suppose an algorithm requires **_n_**<sup>2</sup> comparisons\n",
    "    * With four elements, the algorithm requires 16 comparisons\n",
    "    * With eight elements, 64 comparisons\n",
    "* Doubling the number of elements **quadruples** the number of comparisons\n",
    "* Consider a similar algorithm requiring **_n_**<sup>2</sup>/2 comparisons\n",
    "    * With four elements, the algorithm requires eight comparisons; with eight elements, 32 comparisons\n",
    "* Again, doubling the number of elements quadruples the number of comparisons\n",
    "* Both algorithms grow as the square of **_n_**, so Big O ignores the constant, and both algorithms are considered to be O(**_n_**<sup>2</sup>)\n",
    "    * Referred to as quadratic run time and pronounced “on the order of n-squared” or “order n-squared.”"
   ]
  },
  {
   "cell_type": "markdown",
   "metadata": {},
   "source": [
    "### O(n2) Algorithms (cont.)\n",
    "* When **_n_** is small, O(**_n_**<sup>2</sup>) algorithms (on today’s computers) will not noticeably affect performance, but as **_n_** grows, you’ll start to notice performance degradation\n",
    "* An O(**_n_**<sup>2</sup>) algorithm running on a million-element array would require a trillion “operations” (where each could execute several machine instructions)\n",
    "    * We tested one of this chapter’s O(**_n_**<sup>2</sup>) algorithms on a 100,000-element array using a current desktop computer, and it ran for many minutes\n",
    "* A billion-element array (not unusual in today’s big-data applications) would require a quintillion operations, which on that same desktop computer would take approximately 13.3 years to complete! \n",
    "* O(**_n_**<sup>2</sup>) algorithms are easy to write\n",
    "* Algorithms with more favorable Big O measures often take a bit more cleverness and work to create, but their superior performance can be well worth the extra effort, especially as **_n_** gets large "
   ]
  },
  {
   "cell_type": "markdown",
   "metadata": {},
   "source": [
    "### Big O of the Linear Search\n",
    "* Linear search algorithm runs in O(**_n_**) time\n",
    "* Worst case is that every element must be checked to determine whether the search item exists in the array\n",
    "* If the size of the array is doubled, the number of comparisons that the algorithm must perform is also doubled\n",
    "* Can provide outstanding performance if the element matching the search key happens to be at or near the front of the array\n",
    "    * However, we seek algorithms that perform well, on average, across all searches\n",
    "* Easy to program, but it can be slow compared to other search algorithms"
   ]
  },
  {
   "cell_type": "markdown",
   "metadata": {},
   "source": [
    "------\n",
    "&copy;1992&ndash;2020 by Pearson Education, Inc. All Rights Reserved. This content is based on Chapter 5 of the book [**Intro to Python for Computer Science and Data Science: Learning to Program with AI, Big Data and the Cloud**](https://amzn.to/2VvdnxE).\n",
    "\n",
    "DISCLAIMER: The authors and publisher of this book have used their \n",
    "best efforts in preparing the book. These efforts include the \n",
    "development, research, and testing of the theories and programs \n",
    "to determine their effectiveness. The authors and publisher make \n",
    "no warranty of any kind, expressed or implied, with regard to these \n",
    "programs or to the documentation contained in these books. The authors \n",
    "and publisher shall not be liable in any event for incidental or \n",
    "consequential damages in connection with, or arising out of, the \n",
    "furnishing, performance, or use of these programs.                  "
   ]
  }
 ],
 "metadata": {
  "kernelspec": {
   "display_name": "Python 3",
   "language": "python",
   "name": "python3"
  },
  "language_info": {
   "codemirror_mode": {
    "name": "ipython",
    "version": 3
   },
   "file_extension": ".py",
   "mimetype": "text/x-python",
   "name": "python",
   "nbconvert_exporter": "python",
   "pygments_lexer": "ipython3",
   "version": "3.7.3"
  }
 },
 "nbformat": 4,
 "nbformat_minor": 2
}
