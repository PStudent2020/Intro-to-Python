{
 "cells": [
  {
   "cell_type": "markdown",
   "metadata": {},
   "source": [
    "# 11.1 Introduction\n",
    "* Here, we concentrate on some key aspects of computer science thinking that go\n",
    "beyond programming fundamentals\n",
    "* Focus on performance issues is a nice way to transition into AI and big data techniques that place extraordinary performance demands on a system’s resources"
   ]
  },
  {
   "cell_type": "markdown",
   "metadata": {},
   "source": [
    "# 11.1 Introduction (cont.)\n",
    "* Recursive functions (or methods) call themselves, either directly or indirectly through other functions (or methods)\n",
    "    * Can help solve problems more naturally when an iterative solution is not apparent\n",
    "* We'll look at searching and sorting arrays and other sequences\n",
    "    * Fascinating problems, because no matter what algorithms you use, the final result is the same\n",
    "    * Choose algorithms that perform \"the best\"—most likely, the ones that run the fastest or use the least memory\n",
    "* For big data applications, you’ll want to choose algorithms that are easy to parallelize\n",
    "    * Put lots of processors to work simultaneously\n",
    "   "
   ]
  },
  {
   "cell_type": "markdown",
   "metadata": {},
   "source": [
    "# 11.1 Introduction (cont.)\n",
    "* Intimate relationship between algorithm design and performance\n",
    "* Simplest and most apparent algorithms often perform poorly and that developing more sophisticated algorithms can lead to superior performance\n",
    "* Big O notation concisely classifies algorithms by how hard they have to work to get the job done\n",
    "    * Helps you compare the efficiency of algorithms.\n",
    "* Optional section: Develop an animated visualization of the selection sort so you can see it \"in action.\" \n",
    "    * Great for understanding how algorithms work\n"
   ]
  },
  {
   "cell_type": "markdown",
   "metadata": {},
   "source": [
    "------\n",
    "&copy;1992&ndash;2020 by Pearson Education, Inc. All Rights Reserved. This content is based on Chapter 5 of the book [**Intro to Python for Computer Science and Data Science: Learning to Program with AI, Big Data and the Cloud**](https://amzn.to/2VvdnxE).\n",
    "\n",
    "DISCLAIMER: The authors and publisher of this book have used their \n",
    "best efforts in preparing the book. These efforts include the \n",
    "development, research, and testing of the theories and programs \n",
    "to determine their effectiveness. The authors and publisher make \n",
    "no warranty of any kind, expressed or implied, with regard to these \n",
    "programs or to the documentation contained in these books. The authors \n",
    "and publisher shall not be liable in any event for incidental or \n",
    "consequential damages in connection with, or arising out of, the \n",
    "furnishing, performance, or use of these programs.                  "
   ]
  }
 ],
 "metadata": {
  "celltoolbar": "Slideshow",
  "kernelspec": {
   "display_name": "Python 3",
   "language": "python",
   "name": "python3"
  },
  "language_info": {
   "codemirror_mode": {
    "name": "ipython",
    "version": 3
   },
   "file_extension": ".py",
   "mimetype": "text/x-python",
   "name": "python",
   "nbconvert_exporter": "python",
   "pygments_lexer": "ipython3",
   "version": "3.7.3"
  }
 },
 "nbformat": 4,
 "nbformat_minor": 2
}
