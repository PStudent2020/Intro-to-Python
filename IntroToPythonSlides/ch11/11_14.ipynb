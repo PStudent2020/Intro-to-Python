{
 "cells": [
  {
   "cell_type": "markdown",
   "metadata": {},
   "source": [
    "# 11.14 Big O Summary for This Chapter’s Searching and Sorting Algorithms\n",
    "* Searching and sorting algorithms covered in this chapter\n",
    "with the Big O for each\n",
    "\n",
    "| Algorithm | Location | Big O\n",
    "| :---  | :--- | :---\n",
    "| Searching Algorithms: | &nbsp; | &nbsp; \n",
    "| Linear search | Section 11.7 | O(**_n_**)\n",
    "| Binary search | Section 11.9 | O(log **_n_**)\n",
    "| Recursive binary search | Exercise 11.18 | O(log **_n_**)\n",
    "| Sorting Algorithms: | &nbsp;  | &nbsp; \n",
    "| Selection sort | Section 11.11 | O(**_n_**<sup>2</sup>)\n",
    "| Insertion sort | Section 11.12 | O(**_n_**<sup>2</sup>)\n",
    "| Merge sort | Section 11.13 | O(**_n_** log **_n_**)"
   ]
  },
  {
   "cell_type": "markdown",
   "metadata": {},
   "source": [
    "# 11.14 Big O Summary for This Chapter’s Searching and Sorting Algorithms (cont.)\n",
    "* Big O values we’ve covered in this chapter along with a number of values for **_n_** to highlight the differences in the growth rates\n",
    "\n",
    "| **_n_** = | O(log **_n_**) | O(**_n_**) | O(**_n_** log **_n_**) | O(**_n_**<sup>2</sup>)\n",
    "| :--- | :--- | :--- | :--- | :---\n",
    "| 1 | 0 | 1 | 0 | 1\n",
    "| 2 | 1 | 2 | 2 | 4\n",
    "| 3 | 1 | 3 | 3 | 9\n",
    "| 4 | 1 | 4 | 4 | 16\n",
    "| 5 | 1 | 5 | 5 | 25\n",
    "| 10 | 1 | 10 | 10 | 100\n",
    "| 100 | 2 | 100 | 200 | 10,000\n",
    "| 1000 | 3 | 1000 | 3000 | 10<sup>6</sup>\n",
    "| 1,000,000 | 6 | 1,000,000 | 6,000,000 | 10<sup>12</sup>\n",
    "| 1,000,000,000 | 9 | 1,000,000,000 | 9,000,000,000 | 10<sup>18</sup>"
   ]
  },
  {
   "cell_type": "markdown",
   "metadata": {},
   "source": [
    "------\n",
    "&copy;1992&ndash;2020 by Pearson Education, Inc. All Rights Reserved. This content is based on Chapter 5 of the book [**Intro to Python for Computer Science and Data Science: Learning to Program with AI, Big Data and the Cloud**](https://amzn.to/2VvdnxE).\n",
    "\n",
    "DISCLAIMER: The authors and publisher of this book have used their \n",
    "best efforts in preparing the book. These efforts include the \n",
    "development, research, and testing of the theories and programs \n",
    "to determine their effectiveness. The authors and publisher make \n",
    "no warranty of any kind, expressed or implied, with regard to these \n",
    "programs or to the documentation contained in these books. The authors \n",
    "and publisher shall not be liable in any event for incidental or \n",
    "consequential damages in connection with, or arising out of, the \n",
    "furnishing, performance, or use of these programs.                  "
   ]
  }
 ],
 "metadata": {
  "kernelspec": {
   "display_name": "Python 3",
   "language": "python",
   "name": "python3"
  },
  "language_info": {
   "codemirror_mode": {
    "name": "ipython",
    "version": 3
   },
   "file_extension": ".py",
   "mimetype": "text/x-python",
   "name": "python",
   "nbconvert_exporter": "python",
   "pygments_lexer": "ipython3",
   "version": "3.7.3"
  }
 },
 "nbformat": 4,
 "nbformat_minor": 2
}
