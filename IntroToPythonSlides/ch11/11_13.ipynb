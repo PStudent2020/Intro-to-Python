{
 "cells": [
  {
   "cell_type": "markdown",
   "metadata": {},
   "source": [
    "# 11.13 Merge Sort\n",
    "* An efficient sorting algorithm \n",
    "    * Conceptually more complex than selection sort and insertion sort\n",
    "* Sorts an array by splitting it into two equal-sized subarrays, sorting each subarray, then merging them into one larger array\n",
    "    * With an odd number of elements, the algorithm creates the two subarrays such that one has one more element than the other"
   ]
  },
  {
   "cell_type": "markdown",
   "metadata": {},
   "source": [
    "# 11.13 Merge Sort (cont.)\n",
    "* Implementation of merge sort in this example is recursive\n",
    "* Base case is an array with one element, which is, of course, sorted\n",
    "* Recursion step splits the array into two approximately equal pieces, recursively sorts them, then merges the two sorted arrays into one larger, sorted array"
   ]
  },
  {
   "cell_type": "markdown",
   "metadata": {},
   "source": [
    "# 11.13 Merge Sort (cont.)\n",
    "* Suppose the algorithm has already merged smaller arrays to create sorted arrays\n",
    ">`array1`: `14 20 34 56 77`  \n",
    ">`array2`: `15 30 51 52 93`\n",
    "* Merge sort combines these two arrays into one larger, sorted array\n",
    "* Smallest element in `array1` is `14` (located in index 0 of `array1`)\n",
    "* Smallest element in `array2` is 15 (located in index 0 of `array2`)\n",
    "* To determine the smallest element in the larger array, the algorithm compares `14` and `15`\n",
    "* The value from `array1` is smaller, so `14` becomes the first\n",
    "element in the merged array\n",
    "* The algorithm continues by comparing `20` (the second element\n",
    "in `array1`) to `15` (the first element in `array2`)\n",
    "* The value from `array2` is smaller, so `15` becomes the second element in the larger array\n",
    "* The algorithm continues by comparing `20` to `30`, with `20` becoming the third element in the array, and so on."
   ]
  },
  {
   "cell_type": "markdown",
   "metadata": {},
   "source": [
    "## 11.13.1 Merge Sort Implementation\n",
    "* `mergesort.py` defines:\n",
    "    * Function `merge_sort` to initiate the sorting\n",
    "    * Function `sort_array` to implement the recursive merge sort algorithm—this is called by function `merge_sort`\n",
    "    * Function `merge` to merge two sorted subarrays into a single sorted subarray\n",
    "    * Function `subarray_string` to get a subarray’s string representation for output purposes to help visualize the sort\n",
    "    * Function `main` tests function `merge_sort`\n",
    "* It’s well worth your time to step through this program's outputs to fully understand this elegant and fast sorting algorithm"
   ]
  },
  {
   "cell_type": "markdown",
   "metadata": {},
   "source": [
    "### Function `merge_sort` \n",
    "* Calls function `sort_array` to initiate the recursive algorithm, passing `0` and `len(data) - 1` as the low and high indices of the array to be sorted\n",
    "    * These values tell function `sort_array` to operate on the entire array"
   ]
  },
  {
   "cell_type": "code",
   "execution_count": null,
   "metadata": {},
   "outputs": [],
   "source": [
    "# mergesort.py\n",
    "\"\"\"Sorting an array with merge sort.\"\"\"\n",
    "import numpy as np \n",
    "\n",
    "# calls recursive sort_array method to begin merge sorting\n",
    "def merge_sort(data):\n",
    "    sort_array(data, 0, len(data) - 1)  "
   ]
  },
  {
   "cell_type": "markdown",
   "metadata": {},
   "source": [
    "### Recursive Function `sort_array` \n",
    "* Performs the recursive merge sort algorithm\n",
    "* If the size of the array is 1, the array is already sorted, so the function returns immediately\n",
    "* If the size of the array is greater than 1, the function splits the array in two, recursively calls function `sort_array` to sort the two subarrays, then merges them.\n",
    "    * The first recursive call to function sort_array operates on the first half of the array, and the second recursive call operates on the second half of the array\n",
    "    * When these two function calls return, each half of the array has been sorted\n",
    "* The call to function `merge` with the indices for the two halves of the array, combines the two sorted arrays into one\n",
    "larger sorted array"
   ]
  },
  {
   "cell_type": "code",
   "execution_count": null,
   "metadata": {},
   "outputs": [],
   "source": [
    "def sort_array(data, low, high):\n",
    "    \"\"\"Split data, sort subarrays and merge them into sorted array.\"\"\"\n",
    "    # test base case size of array equals 1     \n",
    "    if (high - low) >= 1:  # if not base case\n",
    "        middle1 = (low + high) // 2  # calculate middle of array\n",
    "        middle2 = middle1 + 1  # calculate next element over     \n",
    "\n",
    "        # output split step\n",
    "        print(f'split:   {subarray_string(data, low, high)}') \n",
    "        print(f'         {subarray_string(data, low, middle1)}') \n",
    "        print(f'         {subarray_string(data, middle2, high)}\\n') \n",
    "\n",
    "        # split array in half then sort each half (recursive calls)\n",
    "        sort_array(data, low, middle1)  # first half of array       \n",
    "        sort_array(data, middle2, high)  # second half of array     \n",
    "\n",
    "        # merge two sorted arrays after split calls return\n",
    "        merge(data, low, middle1, middle2, high)              \n",
    "    "
   ]
  },
  {
   "cell_type": "markdown",
   "metadata": {},
   "source": [
    "### Function `merge` \n",
    "* The `while` loop iterates until the end of either subarray is reached, merging the sorted subarrays\n",
    "* When the `while` loop completes, one entire subarray has been placed in the combined array, but the other subarray still contains data\n",
    "    * The `if/else` statement after the loop uses slices to fill the appropriate elements of the combined array with the remaining elements \n",
    "* Finally, the function copies the combined array into the original array that `data` references"
   ]
  },
  {
   "cell_type": "code",
   "execution_count": null,
   "metadata": {},
   "outputs": [],
   "source": [
    "# merge two sorted subarrays into one sorted subarray             \n",
    "def merge(data, left, middle1, middle2, right):\n",
    "    left_index = left  # index into left subarray              \n",
    "    right_index = middle2  # index into right subarray         \n",
    "    combined_index = left  # index into temporary working array\n",
    "    merged = [0] * len(data)  # working array        \n",
    "  \n",
    "    # output two subarrays before merging\n",
    "    print(f'merge:   {subarray_string(data, left, middle1)}') \n",
    "    print(f'         {subarray_string(data, middle2, right)}') \n",
    "\n",
    "    # merge arrays until reaching end of either         \n",
    "    while left_index <= middle1 and right_index <= right:\n",
    "        # place smaller of two current elements into result  \n",
    "        # and move to next space in arrays                   \n",
    "        if data[left_index] <= data[right_index]:       \n",
    "            merged[combined_index] = data[left_index]\n",
    "            combined_index += 1\n",
    "            left_index += 1\n",
    "        else:                                                 \n",
    "            merged[combined_index] = data[right_index] \n",
    "            combined_index += 1\n",
    "            right_index += 1\n",
    "\n",
    "    # if left array is empty                                \n",
    "    if left_index == middle2:  # if True, copy in rest of right array\n",
    "        merged[combined_index:right + 1] = data[right_index:right + 1]\n",
    "    else:  # right array is empty, copy in rest of left array\n",
    "        merged[combined_index:right + 1] = data[left_index:middle1 + 1]\n",
    "\n",
    "    data[left:right + 1] = merged[left:right + 1]  # copy back to data\n",
    "\n",
    "    # output merged array\n",
    "    print(f'         {subarray_string(data, left, right)}\\n') \n",
    "    "
   ]
  },
  {
   "cell_type": "markdown",
   "metadata": {},
   "source": [
    "### Function `subarray_string` \n",
    "* Throughout the algorithm, we display portions of the array to show the split and merge operations"
   ]
  },
  {
   "cell_type": "code",
   "execution_count": null,
   "metadata": {},
   "outputs": [],
   "source": [
    "# method to output certain values in array\n",
    "def subarray_string(data, low, high):\n",
    "    temp = '   ' * low  # spaces for alignment\n",
    "    temp += ' '.join(str(item) for item in data[low:high + 1])\n",
    "    return temp\n",
    "    "
   ]
  },
  {
   "cell_type": "markdown",
   "metadata": {},
   "source": [
    "### Function `main`"
   ]
  },
  {
   "cell_type": "code",
   "execution_count": null,
   "metadata": {},
   "outputs": [],
   "source": [
    "def main():\n",
    "    data = np.array([34, 56, 14, 20, 77, 51, 93, 30, 15, 52])\n",
    "    print(f'Unsorted array: {data}\\n')\n",
    "    merge_sort(data) \n",
    "    print(f'\\nSorted array: {data}\\n')"
   ]
  },
  {
   "cell_type": "code",
   "execution_count": null,
   "metadata": {},
   "outputs": [],
   "source": [
    "# call main to execute the sort (we removed the if statement from the script in the book)\n",
    "main()"
   ]
  },
  {
   "cell_type": "markdown",
   "metadata": {},
   "source": [
    "## 11.13.2 Big O of the Merge Sort\n",
    "* Merge sort is far more efficient than insertion or selection sort\n",
    "* Consider the first (nonrecursive) call to `sort_array`\n",
    "* This results in two recursive calls to `sort_array` with subarrays each approximately half the original array’s size, and a single call to `merge`, which requires, at worst, **_n_** – 1 comparisons to fill the original array, which is O(**_n_**) \n",
    "* The two calls to `sort_array` result in four more recursive `sort_array calls`, each with a subarray approximately a quarter of the original array’s size, along with two calls to `merge` that each require, at worst, **_n_**/2 – 1 comparisons, for a total number of comparisons of O(**_n_**)\n",
    "* This process continues, each `sort_array` call generating two additional `sort_array` calls and a `merge` call until the algorithm has split the array into one-element subarrays"
   ]
  },
  {
   "cell_type": "markdown",
   "metadata": {},
   "source": [
    "## 11.13.2 Big O of the Merge Sort (cont.)\n",
    "* At each level, O(**_n_**) comparisons are required to merge the subarrays\n",
    "* Each level splits the arrays in half, so doubling the array size requires one more level\n",
    "* Quadrupling the array size requires two more levels\n",
    "* This pattern is logarithmic and results in log<sub>2</sub>**_n_** levels\n",
    "* Total efficiency of O(**_n_** log **_n_**) which, of course, is much faster than the O(**_n_**<sup>2</sup>) sorts we studied"
   ]
  },
  {
   "cell_type": "markdown",
   "metadata": {},
   "source": [
    "------\n",
    "&copy;1992&ndash;2020 by Pearson Education, Inc. All Rights Reserved. This content is based on Chapter 5 of the book [**Intro to Python for Computer Science and Data Science: Learning to Program with AI, Big Data and the Cloud**](https://amzn.to/2VvdnxE).\n",
    "\n",
    "DISCLAIMER: The authors and publisher of this book have used their \n",
    "best efforts in preparing the book. These efforts include the \n",
    "development, research, and testing of the theories and programs \n",
    "to determine their effectiveness. The authors and publisher make \n",
    "no warranty of any kind, expressed or implied, with regard to these \n",
    "programs or to the documentation contained in these books. The authors \n",
    "and publisher shall not be liable in any event for incidental or \n",
    "consequential damages in connection with, or arising out of, the \n",
    "furnishing, performance, or use of these programs.                  "
   ]
  }
 ],
 "metadata": {
  "kernelspec": {
   "display_name": "Python 3",
   "language": "python",
   "name": "python3"
  },
  "language_info": {
   "codemirror_mode": {
    "name": "ipython",
    "version": 3
   },
   "file_extension": ".py",
   "mimetype": "text/x-python",
   "name": "python",
   "nbconvert_exporter": "python",
   "pygments_lexer": "ipython3",
   "version": "3.7.3"
  }
 },
 "nbformat": 4,
 "nbformat_minor": 2
}
