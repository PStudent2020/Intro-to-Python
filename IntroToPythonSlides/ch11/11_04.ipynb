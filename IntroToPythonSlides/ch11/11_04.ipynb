{
 "cells": [
  {
   "cell_type": "markdown",
   "metadata": {},
   "source": [
    "# 11.4 Recursive Fibonacci Series Example\n",
    "* Fibonacci series, begins with 0 and 1 and has the property that each subsequent Fibonacci number is the sum of the previous two\n",
    "> 0, 1, 1, 2, 3, 5, 8, 13, 21, …\n",
    "* This series occurs in nature and describes a form of spiral\n",
    "* Ratio of successive Fibonacci numbers converges on a constant value of 1.618…\n",
    "    * Called the golden ratio or the golden mean\n",
    "* Humans tend to find the golden mean aesthetically pleasing\n",
    "    * Architects often design windows, rooms and buildings whose length and width are in the ratio of the golden mean\n",
    "    * Postcards often are designed with a golden-mean length-to-width ratio"
   ]
  },
  {
   "cell_type": "markdown",
   "metadata": {},
   "source": [
    "# 11.4 Recursive Fibonacci Series Example (cont.)\n",
    "* Defined recursively as follows:\n",
    "> `fibonacci(0)` is defined to be 0  \n",
    "> `fibonacci(1)` is defined to be 1  \n",
    "> `fibonacci(n) = fibonacci(n – 1) + fibonacci(n – 2)`\n",
    "* Two base cases\n",
    "    * `fibonacci(0)` is 0, and\n",
    "    * `fibonacci(1)` is 1."
   ]
  },
  {
   "cell_type": "markdown",
   "metadata": {},
   "source": [
    "### Function `fibonacci` \n",
    "* Initial call to function `fibonacci` is not a recursive call\n",
    "* All subsequent calls from function `fibonacci`’s block are recursive \n",
    "* Each call immediately tests for the base cases\n",
    "    * **_n_** equal to 0 or **_n_** equal to 1\n",
    "    * If so, returns **_n_**, because `fibonacci(0)` is `0` and `fibonacci(1)` is `1`\n",
    "* **_n_** greater than 1 generates two recursive calls for slightly smaller problems than the original call"
   ]
  },
  {
   "cell_type": "code",
   "execution_count": null,
   "metadata": {},
   "outputs": [],
   "source": [
    "def fibonacci(n):\n",
    "    if n in (0, 1):  # base cases\n",
    "        return n\n",
    "    else:\n",
    "        return fibonacci(n - 1) + fibonacci(n - 2)"
   ]
  },
  {
   "cell_type": "markdown",
   "metadata": {},
   "source": [
    "    \n",
    "\n",
    "### Testing Function `fibonacci` "
   ]
  },
  {
   "cell_type": "code",
   "execution_count": null,
   "metadata": {},
   "outputs": [],
   "source": [
    "for n in range(41):\n",
    "    print(f'Fibonacci({n}) = {fibonacci(n)}')"
   ]
  },
  {
   "cell_type": "markdown",
   "metadata": {},
   "source": [
    "### Analyzing the Calls to Function `fibonacci` \n",
    "* Evaluation of fibonacci(3)\n",
    "\n",
    "![Diagram of fibonacci(3)](./ch11images/AAEMYSV0.png)"
   ]
  },
  {
   "cell_type": "markdown",
   "metadata": {},
   "source": [
    "### Complexity Issues\n",
    "* Caution about recursive programs \n",
    "* Each non-base-case invocation of `fibonacci` results in two more recursive calls\n",
    "* This set of recursive calls rapidly gets out of hand\n",
    "* `fibonacci(20)` requires 21,891 calls \n",
    "* `fibonacci(30)` requires 2,692,537 calls!\n",
    "* Each consecutive Fibonacci number you calculate results in a substantial increase in calculation time and in the number of calls\n",
    "* `fibonacci(31)` requires 4,356,617 calls\n",
    "* `fibonacci(32)` requires 7,049,155 calls!\n",
    "* Problems of this nature can humble even the world’s most powerful computers\n",
    "* Avoid Fibonacci-style recursive programs, because they result in an exponential “explosion” of function calls"
   ]
  },
  {
   "cell_type": "markdown",
   "metadata": {},
   "source": [
    "------\n",
    "&copy;1992&ndash;2020 by Pearson Education, Inc. All Rights Reserved. This content is based on Chapter 5 of the book [**Intro to Python for Computer Science and Data Science: Learning to Program with AI, Big Data and the Cloud**](https://amzn.to/2VvdnxE).\n",
    "\n",
    "DISCLAIMER: The authors and publisher of this book have used their \n",
    "best efforts in preparing the book. These efforts include the \n",
    "development, research, and testing of the theories and programs \n",
    "to determine their effectiveness. The authors and publisher make \n",
    "no warranty of any kind, expressed or implied, with regard to these \n",
    "programs or to the documentation contained in these books. The authors \n",
    "and publisher shall not be liable in any event for incidental or \n",
    "consequential damages in connection with, or arising out of, the \n",
    "furnishing, performance, or use of these programs.                  "
   ]
  }
 ],
 "metadata": {
  "kernelspec": {
   "display_name": "Python 3",
   "language": "python",
   "name": "python3"
  },
  "language_info": {
   "codemirror_mode": {
    "name": "ipython",
    "version": 3
   },
   "file_extension": ".py",
   "mimetype": "text/x-python",
   "name": "python",
   "nbconvert_exporter": "python",
   "pygments_lexer": "ipython3",
   "version": "3.7.3"
  }
 },
 "nbformat": 4,
 "nbformat_minor": 2
}
