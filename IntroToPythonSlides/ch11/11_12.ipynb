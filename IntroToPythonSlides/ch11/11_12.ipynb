{
 "cells": [
  {
   "cell_type": "markdown",
   "metadata": {},
   "source": [
    "# 11.12 Insertion Sort\n",
    "* Another simple, but inefficient, sorting algorithm\n",
    "* First iteration takes the second element in the array and, if it’s less than the first element, swaps it with the first element\n",
    "* Second iteration looks at the third element and inserts it into the correct position with respect to the first two, so all three elements are in order\n",
    "* At the **_i_**th iteration of this algorithm, the first **_i_** elements in the original array will be sorted"
   ]
  },
  {
   "cell_type": "markdown",
   "metadata": {},
   "source": [
    "# 11.12 Insertion Sort (cont.)\n",
    "* Consider the following array\n",
    ">`34 56 14 20 77 51 93 30 15 52`\n",
    "\n",
    "* Insertion sort looks at the first two elements of the array, `34` and `56`\n",
    "    * Already in order, so the algorithm continues\n",
    "    * If they were out of order, the algorithm would swap them\n",
    "* Next iteration looks at the third value, `14`\n",
    "    * Less than `56`, so the program stores `14` in a temporary variable and moves `56` one element to the right\n",
    "    * The algorithm then checks and determines that `14` is less than `34`, so it moves `34` one element to the right\n",
    "    * The algorithm has now reached the beginning of the array, so it places `14` in element 0\n",
    "* The array now is\n",
    ">`14 34 56 20 77 51 93 30 15 52`"
   ]
  },
  {
   "cell_type": "markdown",
   "metadata": {},
   "source": [
    "# 11.12 Insertion Sort (cont.)\n",
    "* Next iteration stores `20` in a temporary variable\n",
    "    * Compares `20` to `56` and moves `56` one element to the right because it’s larger than `20`\n",
    "    * Next, compares `20` to `34`, moving `34` right one element\n",
    "    * When the algorithm compares `20` to `14`, it observes that `20` is larger than `14` and places `20` in element 1\n",
    "* The array now is\n",
    ">`14 20 34 56 77 51 93 30 15 52`\n",
    "* Using this algorithm, at the **_i_**th iteration, the first **_i_** elements of the original array are sorted, but may not be in their final locations\n",
    "    * Smaller values may be located later in the array"
   ]
  },
  {
   "cell_type": "markdown",
   "metadata": {},
   "source": [
    "## 11.12.1 Insertion Sort Implementation\n",
    "\n",
    "**Note: The last two lines of source code in this example have been modified from the print book so you can execute the example inside the notebook.**"
   ]
  },
  {
   "cell_type": "markdown",
   "metadata": {},
   "source": [
    "### Function `insertion_sort`\n",
    "* In each iteration, variable `insert` holds the value of the element that will be inserted into the sorted portion of the array\n",
    "* Variable move_item keeps track of where to insert the element\n",
    "* The nested `while` loop locates the position where `insert`'s value should be inserted\n",
    "* After the nested loop ends, the next statement inserts the element into place"
   ]
  },
  {
   "cell_type": "code",
   "execution_count": null,
   "metadata": {},
   "outputs": [],
   "source": [
    "# insertionsort.py\n",
    "\"\"\"Sorting an array with insertion sort.\"\"\"\n",
    "import numpy as np\n",
    "from ch11utilities import print_pass\n",
    "\n",
    "def insertion_sort(data):\n",
    "    \"\"\"Sort an array using insertion sort.\"\"\"\n",
    "    # loop over len(data) - 1 elements      \n",
    "    for next in range(1, len(data)):\n",
    "        insert = data[next]  # value to insert \n",
    "        move_item = next  # location to place element\n",
    "\n",
    "        # search for place to put current element         \n",
    "        while move_item > 0 and data[move_item - 1] > insert:  \n",
    "            # shift element right one slot\n",
    "            data[move_item] = data[move_item - 1]         \n",
    "            move_item -= 1                                      \n",
    "                                              \n",
    "        data[move_item] = insert  # place inserted element \n",
    "        print_pass(data, next, move_item)  # output pass of algorithm"
   ]
  },
  {
   "cell_type": "code",
   "execution_count": null,
   "metadata": {},
   "outputs": [],
   "source": [
    "def main(): \n",
    "    data = np.array([34, 56, 14, 20, 77, 51, 93, 30, 15, 52])\n",
    "    print(f'Unsorted array: {data}\\n')\n",
    "    insertion_sort(data) \n",
    "    print(f'\\nSorted array: {data}\\n')"
   ]
  },
  {
   "cell_type": "code",
   "execution_count": null,
   "metadata": {},
   "outputs": [],
   "source": [
    "# call mainto execute the sort\n",
    "main()"
   ]
  },
  {
   "cell_type": "markdown",
   "metadata": {},
   "source": [
    "# 11.12.2 Big O of the Insertion Sort\n",
    "* Insertion sort also runs in O(**_n_**<sup>2</sup>) time\n",
    "* Algorithm contains nested loops\n",
    "* The outer `for` loop iterates `len(data) - 1` times, inserting an element into the appropriate position among the elements sorted so far\n",
    "    * `len(data) - 1` is equivalent to **_n_** – 1 (as `len(data)` is the size of the array)\n",
    "* The nested `while` loop iterates over the preceding elements in the array\n",
    "    * Worst case, this loop requires **_n_** – 1 comparisons\n",
    "    * Each iteration runs in O(**_n_**) time\n",
    "* In Big O notation, nested loops mean that you must multiply the number of comparisons\n",
    "    * For each iteration of an outer loop, there will be a certain number of iterations of the inner loop\n",
    "    * In this algorithm, for each O(**_n_**) iterations of the outer loop, there will be O(**_n_**) iterations of the inner loop\n",
    "    * Multiplying these values results in O(**_n_**<sup>2</sup>)"
   ]
  },
  {
   "cell_type": "markdown",
   "metadata": {},
   "source": [
    "------\n",
    "&copy;1992&ndash;2020 by Pearson Education, Inc. All Rights Reserved. This content is based on Chapter 5 of the book [**Intro to Python for Computer Science and Data Science: Learning to Program with AI, Big Data and the Cloud**](https://amzn.to/2VvdnxE).\n",
    "\n",
    "DISCLAIMER: The authors and publisher of this book have used their \n",
    "best efforts in preparing the book. These efforts include the \n",
    "development, research, and testing of the theories and programs \n",
    "to determine their effectiveness. The authors and publisher make \n",
    "no warranty of any kind, expressed or implied, with regard to these \n",
    "programs or to the documentation contained in these books. The authors \n",
    "and publisher shall not be liable in any event for incidental or \n",
    "consequential damages in connection with, or arising out of, the \n",
    "furnishing, performance, or use of these programs.                  "
   ]
  }
 ],
 "metadata": {
  "kernelspec": {
   "display_name": "Python 3",
   "language": "python",
   "name": "python3"
  },
  "language_info": {
   "codemirror_mode": {
    "name": "ipython",
    "version": 3
   },
   "file_extension": ".py",
   "mimetype": "text/x-python",
   "name": "python",
   "nbconvert_exporter": "python",
   "pygments_lexer": "ipython3",
   "version": "3.7.3"
  }
 },
 "nbformat": 4,
 "nbformat_minor": 2
}
