{
 "cells": [
  {
   "cell_type": "markdown",
   "metadata": {},
   "source": [
    "# 11.3 Recursive Factorial Example\n",
    "* Recursive problem-solving approaches have several elements in common\n",
    "* A recursive function is capable of solving only the simplest case(s), or base case(s)\n",
    "* If you call the function with a base case, it immediately returns a result\n",
    "* If you call the function with a more complex problem, it typically divides the problem into two pieces\n",
    "    * One that the function knows how to do \n",
    "    * One that it does not know how to do\n",
    "        * This latter piece must be a slightly simpler or smaller version of the original problem\n",
    "        * Because this new problem resembles the original problem, the function calls a fresh copy of itself to work on the smaller problem—this is referred to as a recursive call and is also called the recursion step"
   ]
  },
  {
   "cell_type": "markdown",
   "metadata": {},
   "source": [
    "# 11.3 Recursive Factorial Example (cont.)\n",
    "* Recursion step executes while the original function call is still active (i.e., it has not finished executing)\n",
    "    * Can result in many more recursive calls as the function divides each new subproblem into two conceptual pieces\n",
    "* For recursion to terminate, the sequence of smaller and smaller problems must converge on a base case\n",
    "* When the function recognizes the base case, it returns a result to the previous copy of the function\n",
    "    * A sequence of returns ensues until the original function call returns the final result to the caller"
   ]
  },
  {
   "cell_type": "markdown",
   "metadata": {},
   "source": [
    "### Recursive Factorial Approach \n",
    "* Recursive factorial representation can be written as:\n",
    "> n! = n · (n – 1)!\n",
    "* 5! is equal to 5 · 4!, as in:\n",
    "> 5! = 5 · 4 · 3 · 2 · 1  \n",
    "> 5! = 5 · (4 · 3 · 2 · 1)  \n",
    "> 5! = 5 · (4!)"
   ]
  },
  {
   "cell_type": "markdown",
   "metadata": {},
   "source": [
    "### Visualizing Recursion\n",
    "* Evaluation of 5! would proceed as shown below\n",
    "* Left column shows how the succession of recursive calls proceeds until 1! (the base case) is evaluated to be 1\n",
    "* Right column shows from bottom to top the values returned from each recursive call to its caller until the final value is calculated and returned\n",
    "![Diagram of solving 5!](./ch11images/AAEMYST0.png)"
   ]
  },
  {
   "cell_type": "markdown",
   "metadata": {},
   "source": [
    "### Implementing a Recursive Factorial Function \n",
    "* Recursive function `factorial` first determines whether the terminating condition number <= 1 is True\n",
    "* If True (the base case), `factorial` returns 1 \n",
    "    * No further recursion is necessary\n",
    "*  If number is greater than 1, the second `return` statement expresses the problem as the product of `number` and a recursive call to `factorial` that evaluates `factorial(number - 1)`\n",
    "    * Slightly smaller problem than the original calculation, `factorial(number)`\n",
    "* Function `factorial` must receive a nonnegative argument"
   ]
  },
  {
   "cell_type": "code",
   "execution_count": null,
   "metadata": {},
   "outputs": [],
   "source": [
    "def factorial(number):\n",
    "    \"\"\"Return factorial of number.\"\"\"\n",
    "    if number <= 1:\n",
    "        return 1\n",
    "    return number * factorial(number - 1)  # recursive call"
   ]
  },
  {
   "cell_type": "markdown",
   "metadata": {},
   "source": [
    "* Call `factorial` for the values 0-10\n",
    "* Factorial values grow quickly\n",
    "* Python does not limit the size of an integer, unlike many other programming languages"
   ]
  },
  {
   "cell_type": "code",
   "execution_count": null,
   "metadata": {},
   "outputs": [],
   "source": [
    "for i in range(11):\n",
    "    print(f'{i}! = {factorial(i)}')"
   ]
  },
  {
   "cell_type": "markdown",
   "metadata": {},
   "source": [
    "### Indirect Recursion\n",
    "* A recursive function may call another function, which may, in turn, make a call back to\n",
    "the recursive function\n",
    "* Known as an indirect recursive call or indirect recursion"
   ]
  },
  {
   "cell_type": "markdown",
   "metadata": {},
   "source": [
    "### Stack Overflow and Infinite Recursion\n",
    "* Amount of memory in a computer is finite, so only a certain amount of memory can be used to store activation records on the function-call stack\n",
    "* If more recursive function calls occur than can have their activation records stored on the stack, a fatal error known as stack overflow occurs\n",
    "* Typically is the result of infinite recursion\n",
    "    * Caused by omitting the base case or \n",
    "    * writing the recursion step incorrectly so that it does not converge on the base case"
   ]
  },
  {
   "cell_type": "markdown",
   "metadata": {},
   "source": [
    "### Recursion and the Function-Call Stack\n",
    "* “Functions” chapter introduced the function-call stack data structure \n",
    "* That discussion also applies to recursive function calls\n",
    "* Each recursive function call gets its own stack frame on the function-call stack\n",
    "* When a given call completes, the system pops the function’s stack frame from the stack and control returns to the caller, possibly another copy of the same function"
   ]
  },
  {
   "cell_type": "markdown",
   "metadata": {},
   "source": [
    "------\n",
    "&copy;1992&ndash;2020 by Pearson Education, Inc. All Rights Reserved. This content is based on Chapter 5 of the book [**Intro to Python for Computer Science and Data Science: Learning to Program with AI, Big Data and the Cloud**](https://amzn.to/2VvdnxE).\n",
    "\n",
    "DISCLAIMER: The authors and publisher of this book have used their \n",
    "best efforts in preparing the book. These efforts include the \n",
    "development, research, and testing of the theories and programs \n",
    "to determine their effectiveness. The authors and publisher make \n",
    "no warranty of any kind, expressed or implied, with regard to these \n",
    "programs or to the documentation contained in these books. The authors \n",
    "and publisher shall not be liable in any event for incidental or \n",
    "consequential damages in connection with, or arising out of, the \n",
    "furnishing, performance, or use of these programs.                  "
   ]
  }
 ],
 "metadata": {
  "kernelspec": {
   "display_name": "Python 3",
   "language": "python",
   "name": "python3"
  },
  "language_info": {
   "codemirror_mode": {
    "name": "ipython",
    "version": 3
   },
   "file_extension": ".py",
   "mimetype": "text/x-python",
   "name": "python",
   "nbconvert_exporter": "python",
   "pygments_lexer": "ipython3",
   "version": "3.7.3"
  }
 },
 "nbformat": 4,
 "nbformat_minor": 2
}
