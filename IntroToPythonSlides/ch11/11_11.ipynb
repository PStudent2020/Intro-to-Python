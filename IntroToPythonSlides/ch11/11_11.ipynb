{
 "cells": [
  {
   "cell_type": "markdown",
   "metadata": {},
   "source": [
    "# 11.11 Selection Sort\n",
    "* A simple, but inefficient, sorting algorithm\n",
    "* First iteration selects the smallest element in the array and swaps it with the first element\n",
    "* Second iteration selects the second-smallest item (which is the smallest item of the remaining elements) and swaps it with the second element\n",
    "* The algorithm continues until the last iteration selects the second-largest element and swaps it with the second-tolast index, leaving the largest element in the last index"
   ]
  },
  {
   "cell_type": "markdown",
   "metadata": {},
   "source": [
    "# 11.11 Selection Sort (cont.)\n",
    "* Consider the array\n",
    "> `34 56 14 20 77 51 93 30 15 52`\n",
    "* First iteration determines the smallest element (14) of this array (at index 2), then swaps 14 with 34, resulting in\n",
    "> `14 56 34 20 77 51 93 30 15 52`\n",
    "* Second iteration determines the smallest value of the remaining elements (all elements except 14), which is 15 at index 8 and swaps 15 with 56, resulting in\n",
    "> `14 15 34 20 77 51 93 30 56 52`\n",
    "* Third iteration determines the next smallest value (20) and swaps it with 34.\n",
    "> `14 15 20 34 77 51 93 30 56 52`\n",
    "* Process continues until the array is fully sorted\n",
    "> `14 15 20 30 34 51 52 56 77 93`"
   ]
  },
  {
   "cell_type": "markdown",
   "metadata": {},
   "source": [
    "# 11.11.1 Selection Sort Implementation\n",
    "\n",
    "**Note: The last two lines of source code in this example have been modified from the print book so you can execute the example inside the notebook.**\n"
   ]
  },
  {
   "cell_type": "markdown",
   "metadata": {},
   "source": [
    "### Function `selection_sort` \n",
    "* Outer loop iterates `len(data) - 1` times\n",
    "* `smallest` stores the index of the smallest element in the remaining array\n",
    "* Initializes `smallest` to the current index `index1`\n",
    "* Inner loop iterates over remaining elements\n",
    "    * For each, compares its value to the value of the smallest element\n",
    "    * If the current element is smaller than the smallest, assigns the current element’s index to `smallest`\n",
    "* When inner loop finishes, `smallest` will contain the index of the smallest element in the remaining array\n",
    "* Next, we use tuple packing and unpacking to swap the smallest remaining element into the next ordered spot in the array"
   ]
  },
  {
   "cell_type": "code",
   "execution_count": null,
   "metadata": {},
   "outputs": [],
   "source": [
    "# selectionsort.py\n",
    "\"\"\"Sorting an array with selection sort.\"\"\"\n",
    "import numpy as np\n",
    "from ch11utilities import print_pass\n",
    "\n",
    "def selection_sort(data):\n",
    "    \"\"\"Sort array using selection sort.\"\"\"\n",
    "    # loop over len(data) - 1 elements      \n",
    "    for index1 in range(len(data) - 1):\n",
    "        smallest = index1  # first index of remaining array\n",
    "\n",
    "        # loop to find index of smallest element                      \n",
    "        for index2 in range(index1 + 1, len(data)): \n",
    "            if data[index2] < data[smallest]:\n",
    "                smallest = index2\n",
    "                                              \n",
    "        # swap smallest element into position\n",
    "        data[smallest], data[index1] = data[index1], data[smallest]  \n",
    "        print_pass(data, index1 + 1, smallest)\n",
    "        \n"
   ]
  },
  {
   "cell_type": "markdown",
   "metadata": {},
   "source": [
    "### Function `main` "
   ]
  },
  {
   "cell_type": "code",
   "execution_count": null,
   "metadata": {},
   "outputs": [],
   "source": [
    "def main(): \n",
    "    data = np.array([34, 56, 14, 20, 77, 51, 93, 30, 15, 52])\n",
    "    print(f'Unsorted array: {data}\\n')\n",
    "    selection_sort(data) \n",
    "    print(f'\\nSorted array: {data}\\n')"
   ]
  },
  {
   "cell_type": "code",
   "execution_count": null,
   "metadata": {},
   "outputs": [],
   "source": [
    "# call main to run the sort\n",
    "main()"
   ]
  },
  {
   "cell_type": "markdown",
   "metadata": {},
   "source": [
    "## 11.11.2 Utility Function print_pass\n",
    "\n",
    "```python\n",
    "# ch11utilities.py\n",
    "\"\"\"Utility function for printing a pass of the\n",
    "insertion_sort and selection_sort algorithms\"\"\"\n",
    "\n",
    "def print_pass(data, pass_number, index):\n",
    "    \"\"\"Print a pass of the algorithm.\"\"\"\n",
    "    label = f'after pass {pass_number}: '\n",
    "    print(label, end='')\n",
    "\n",
    "    # output elements up to selected item\n",
    "    print(' '.join(str(d) for d in data[:index]),\n",
    "          end=' ' if index != 0 else '')\n",
    "\n",
    "    print(f'{data[index]}* ', end='') # indicate swap with *\n",
    "\n",
    "    # output rest of elements\n",
    "    print(' '.join(str(d) for d in data[index + 1:len(data)]))\n",
    "\n",
    "    # underline elements that are sorted after this pass_number\n",
    "    print(f'{\" \" * len(label)}{\"-- \" * pass_number}')\n",
    "```"
   ]
  },
  {
   "cell_type": "markdown",
   "metadata": {},
   "source": [
    "## 11.11.3 Big O of the Selection Sort\n",
    "* Selection sort runs in O(**_n_**<sup>2</sup>) time\n",
    "* Function selection_sort uses nested loops\n",
    "    * The outer one iterates over the first **_n_** – 1 elements in the array, swapping the smallest remaining item into its sorted position\n",
    "    * The inner loop iterates over each item in the remaining array, searching for the smallest element, executing **_n_** – 1 times during the first outer loop iteration, **_n_** – 2 times during the second, then **_n_** – 3, …, 3, 2, 1\n",
    "* The inner loop will iterate a total of **_n_**(**_n_** – 1)/2 or (**_n_**<sup>2</sup> – **_n_**)/2\n",
    "* In Big O, smaller terms drop out, and constants are ignored, leaving O(**_n_**<sup>2</sup>)"
   ]
  },
  {
   "cell_type": "markdown",
   "metadata": {},
   "source": [
    "------\n",
    "&copy;1992&ndash;2020 by Pearson Education, Inc. All Rights Reserved. This content is based on Chapter 5 of the book [**Intro to Python for Computer Science and Data Science: Learning to Program with AI, Big Data and the Cloud**](https://amzn.to/2VvdnxE).\n",
    "\n",
    "DISCLAIMER: The authors and publisher of this book have used their \n",
    "best efforts in preparing the book. These efforts include the \n",
    "development, research, and testing of the theories and programs \n",
    "to determine their effectiveness. The authors and publisher make \n",
    "no warranty of any kind, expressed or implied, with regard to these \n",
    "programs or to the documentation contained in these books. The authors \n",
    "and publisher shall not be liable in any event for incidental or \n",
    "consequential damages in connection with, or arising out of, the \n",
    "furnishing, performance, or use of these programs.                  "
   ]
  }
 ],
 "metadata": {
  "kernelspec": {
   "display_name": "Python 3",
   "language": "python",
   "name": "python3"
  },
  "language_info": {
   "codemirror_mode": {
    "name": "ipython",
    "version": 3
   },
   "file_extension": ".py",
   "mimetype": "text/x-python",
   "name": "python",
   "nbconvert_exporter": "python",
   "pygments_lexer": "ipython3",
   "version": "3.7.3"
  }
 },
 "nbformat": 4,
 "nbformat_minor": 2
}
