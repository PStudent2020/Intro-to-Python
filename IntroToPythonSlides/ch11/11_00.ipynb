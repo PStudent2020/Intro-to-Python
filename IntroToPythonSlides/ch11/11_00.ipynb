{
 "cells": [
  {
   "cell_type": "markdown",
   "metadata": {},
   "source": [
    "# 11. Computer Science Thinking: Recursion, Searching, Sorting and Big O\n",
    "\n",
    "# Objectives\n",
    "* Learn the concept of recursion.\n",
    "* Write and use recursive\n",
    "functions.\n",
    "* Determine the base case and\n",
    "recursion step in a recursive\n",
    "algorithm.\n",
    "* Learn how the system handles\n",
    "recursive function calls.\n",
    "* Compare recursion and\n",
    "iteration, including when it’s\n",
    "best to use each approach.\n",
    "* Search for a given value in an\n",
    "array using linear search and\n",
    "binary search.\n",
    "* Sort arrays using the simple\n",
    "iterative selection and\n",
    "insertion sort algorithms.\n",
    "* Sort arrays using the more\n",
    "complex but higherperformance\n",
    "recursive merge\n",
    "sort algorithm.\n",
    "* Use Big O notation to\n",
    "compare the efficiencies of\n",
    "searching and sorting\n",
    "algorithms.\n",
    "* Use Seaborn and Matplotlib to\n",
    "build an animated selection\n",
    "sort algorithm visualization."
   ]
  },
  {
   "cell_type": "markdown",
   "metadata": {},
   "source": [
    "### Outline\n",
    "* [11.1 Introduction](./11_01.ipynb)\n",
    "* [11.2 Factorials](./11_02.ipynb)\n",
    "* [11.3 Recursive Factorial Example](./11_03.ipynb)\n",
    "* [11.4 Recursive Fibonacci Series Example](./11_04.ipynb)\n",
    "* [11.5 Recursion vs. Iteration](./11_05.ipynb)\n",
    "* [11.6 Searching and Sorting](./11_06.ipynb)\n",
    "* [11.7 Linear Search](./11_07.ipynb)\n",
    "* [11.8 Efficiency of Algorithms: Big O](./11_08.ipynb)\n",
    "* 11.9 Binary Search\n",
    "    * [11.9.1 Binary Search Implementation](./11_09.01.ipynb)\n",
    "    * [11.9.2 Big O of the Binary Search](./11_09.02.ipynb)\n",
    "* [11.10 Sorting Algorithms](./11_10.ipynb)\n",
    "* [11.11 Selection Sort](./11_11.ipynb)\n",
    "    * 11.11.1 Selection Sort Implementation\n",
    "    * 11.11.2 Utility Function print_pass\n",
    "    * 11.11.3 Big O of the Selection Sort\n",
    "* [11.12 Insertion Sort](./11_12.ipynb)\n",
    "    * 11.12.1 Insertion Sort Implementation\n",
    "    * 11.12.2 Big O of the Insertion Sort\n",
    "* [11.13 Merge Sort](./11_13.ipynb)\n",
    "    * 11.13.1 Merge Sort Implementation\n",
    "    * 11.13.2 Big O of the Merge Sort\n",
    "* [11.14 Big O Summary for This Chapter’s Searching and Sorting Algorithms](./11_14.ipynb)\n",
    "* [11.15 Visualizing Algorithms](./11_15.ipynb)\n",
    "    * 11.15.1 Generator Functions\n",
    "    * 11.15.2 Implementing the Selection Sort Animation\n",
    "* 11.16 Wrap-Up\n",
    "* Exercises"
   ]
  },
  {
   "cell_type": "markdown",
   "metadata": {},
   "source": [
    "------\n",
    "&copy;1992&ndash;2020 by Pearson Education, Inc. All Rights Reserved. This content is based on Chapter 5 of the book [**Intro to Python for Computer Science and Data Science: Learning to Program with AI, Big Data and the Cloud**](https://amzn.to/2VvdnxE).\n",
    "\n",
    "DISCLAIMER: The authors and publisher of this book have used their \n",
    "best efforts in preparing the book. These efforts include the \n",
    "development, research, and testing of the theories and programs \n",
    "to determine their effectiveness. The authors and publisher make \n",
    "no warranty of any kind, expressed or implied, with regard to these \n",
    "programs or to the documentation contained in these books. The authors \n",
    "and publisher shall not be liable in any event for incidental or \n",
    "consequential damages in connection with, or arising out of, the \n",
    "furnishing, performance, or use of these programs.                  "
   ]
  }
 ],
 "metadata": {
  "celltoolbar": "Slideshow",
  "kernelspec": {
   "display_name": "Python 3",
   "language": "python",
   "name": "python3"
  },
  "language_info": {
   "codemirror_mode": {
    "name": "ipython",
    "version": 3
   },
   "file_extension": ".py",
   "mimetype": "text/x-python",
   "name": "python",
   "nbconvert_exporter": "python",
   "pygments_lexer": "ipython3",
   "version": "3.7.3"
  }
 },
 "nbformat": 4,
 "nbformat_minor": 2
}
