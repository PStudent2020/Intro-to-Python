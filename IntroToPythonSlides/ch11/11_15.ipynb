{
 "cells": [
  {
   "cell_type": "markdown",
   "metadata": {},
   "source": [
    "Before running this notebook, be sure that you have previously executed the following commands, which we specified in the Before You Begin section of the book:\n",
    "\n",
    "```\n",
    "pip install ipympl\n",
    "conda install nodejs\n",
    "jupyter labextension install @jupyter-widgets/jupyterlab-manager\n",
    "jupyter labextension install jupyter-matplotlib\n",
    "```"
   ]
  },
  {
   "cell_type": "code",
   "execution_count": null,
   "metadata": {},
   "outputs": [],
   "source": [
    "%matplotlib widget"
   ]
  },
  {
   "cell_type": "markdown",
   "metadata": {},
   "source": [
    "# 11.15 Visualizing Algorithms\n",
    "* Animated visualizations can help you understand how algorithms work\n",
    "\n",
    "### Pysine: Playing Musical Notes\n",
    "* To enhance the animation, we’ll use the Pysine module to play musical notes representing the bar’s magnitudes\n",
    "* Pysine uses MIDI (Musical Instrument Digital Interface) to generate musical notes based on sound frequencies specified in hertz\n",
    "* `pip install pysine`"
   ]
  },
  {
   "cell_type": "markdown",
   "metadata": {},
   "source": [
    "### Executing the Animation\n",
    "* To sort the values in the range 1–10\n",
    ">```\n",
    "ipython selectionsortanimation.py 10\n",
    "```\n",
    "* Bar colors:\n",
    "    * Gray bars are not yet sorted and are not currently being compared\n",
    "    * When locating the smallest element to swap into position, the animation displays one purple and one red bar\n",
    "        * The purple bar represents the value at index\n",
    "smallest\n",
    "        * The red bar is the other remaining element currently being compared\n",
    "        * The red bar moves once for each comparison\n",
    "        * The purple bar moves only if a smaller element is found during the current pass"
   ]
  },
  {
   "cell_type": "markdown",
   "metadata": {},
   "source": [
    "### Executing the Animation (cont.)\n",
    "* Bar colors (cont.)\n",
    "    * The animation displays in purple both bars participating in a swap\n",
    "    * A light green bar indicates an element that has been placed into its final position\n",
    "    * Dark green bars are displayed one at a time when the sort completes to emphasize the final sorted order"
   ]
  },
  {
   "cell_type": "markdown",
   "metadata": {},
   "source": [
    "## 11.15.1 Generator Functions\n",
    "* Generator expressions are similar to list comprehensions, but create generator objects that produce values on demand using lazy evaluation\n",
    "* The `selection_sort` function in the next subsection implements the selection sort algorithm but is interspersed with:\n",
    "    * statements that keep track of the information we display in the animation,\n",
    "    * `yield` and `yield from` statements that provide values for the `FuncAnimation` to pass to the `update` function\n",
    "    * `play_sound` calls to play musical notes"
   ]
  },
  {
   "cell_type": "markdown",
   "metadata": {},
   "source": [
    "## 11.15.1 Generator Functions (cont.)\n",
    "* `yield` and `yield from` make `selection_sort` a generator function\n",
    "* Generator functions are lazy and return values on demand\n",
    "* The `FuncAnimation` obtains values on demand from the generator and passes them to `update` to animate the algorithm."
   ]
  },
  {
   "cell_type": "markdown",
   "metadata": {},
   "source": [
    "### `yield` Statements\n",
    "* `yield` keyword returnq the next generated item, then the function's execution suspends until the program requests another item\n",
    "* When the Python interpreter encounters a generator function call, it creates an iterable generator object that keeps track of the next value to generate"
   ]
  },
  {
   "cell_type": "markdown",
   "metadata": {},
   "source": [
    "### `yield` Statements (cont.)\n",
    "* A generator function that iterates through a sequence of values and returns the square of each value:"
   ]
  },
  {
   "cell_type": "code",
   "execution_count": 1,
   "metadata": {},
   "outputs": [],
   "source": [
    "def square_generator(values):\n",
    "    for value in values:\n",
    "        yield value ** 2"
   ]
  },
  {
   "cell_type": "code",
   "execution_count": 2,
   "metadata": {},
   "outputs": [],
   "source": [
    "numbers = [10, 20, 30]"
   ]
  },
  {
   "cell_type": "code",
   "execution_count": 3,
   "metadata": {},
   "outputs": [],
   "source": [
    "squares = square_generator(numbers)"
   ]
  },
  {
   "cell_type": "code",
   "execution_count": 4,
   "metadata": {},
   "outputs": [
    {
     "name": "stdout",
     "output_type": "stream",
     "text": [
      "100  400  900  "
     ]
    }
   ],
   "source": [
    "for number in squares:\n",
    "    print(number, end='  ')"
   ]
  },
  {
   "cell_type": "markdown",
   "metadata": {},
   "source": [
    "### `yield` Statements (cont.)\n",
    "* You must create a new generator object each time you wish to iterate through the generator’s values again\n",
    "* Can access generator values one at a time with built in function `next`\n",
    "* When there are no more items to process, the generator raises a `StopIteration` exception, which is how a `for` statement knows when to stop iterating through any iterable object"
   ]
  },
  {
   "cell_type": "code",
   "execution_count": 5,
   "metadata": {},
   "outputs": [],
   "source": [
    "squares = square_generator(numbers)"
   ]
  },
  {
   "cell_type": "code",
   "execution_count": 6,
   "metadata": {},
   "outputs": [
    {
     "data": {
      "text/plain": [
       "100"
      ]
     },
     "execution_count": 6,
     "metadata": {},
     "output_type": "execute_result"
    }
   ],
   "source": [
    "next(squares)"
   ]
  },
  {
   "cell_type": "code",
   "execution_count": 7,
   "metadata": {},
   "outputs": [
    {
     "data": {
      "text/plain": [
       "400"
      ]
     },
     "execution_count": 7,
     "metadata": {},
     "output_type": "execute_result"
    }
   ],
   "source": [
    "next(squares)"
   ]
  },
  {
   "cell_type": "code",
   "execution_count": 8,
   "metadata": {},
   "outputs": [
    {
     "data": {
      "text/plain": [
       "900"
      ]
     },
     "execution_count": 8,
     "metadata": {},
     "output_type": "execute_result"
    }
   ],
   "source": [
    "next(squares)"
   ]
  },
  {
   "cell_type": "code",
   "execution_count": 9,
   "metadata": {},
   "outputs": [
    {
     "ename": "StopIteration",
     "evalue": "",
     "output_type": "error",
     "traceback": [
      "\u001b[0;31m------------------------------------------------------------------------\u001b[0m",
      "\u001b[0;31mStopIteration\u001b[0m                          Traceback (most recent call last)",
      "\u001b[0;32m<ipython-input-9-e7cf8d24b3b2>\u001b[0m in \u001b[0;36m<module>\u001b[0;34m\u001b[0m\n\u001b[0;32m----> 1\u001b[0;31m \u001b[0mnext\u001b[0m\u001b[0;34m(\u001b[0m\u001b[0msquares\u001b[0m\u001b[0;34m)\u001b[0m\u001b[0;34m\u001b[0m\u001b[0;34m\u001b[0m\u001b[0m\n\u001b[0m",
      "\u001b[0;31mStopIteration\u001b[0m: "
     ]
    }
   ],
   "source": [
    "next(squares)"
   ]
  },
  {
   "cell_type": "markdown",
   "metadata": {},
   "source": [
    "## 11.15.2 Implementing the Selection Sort Animation\n",
    "### import Statements\n",
    "* `ch11soundutilities.py` contains our function `play_sound` "
   ]
  },
  {
   "cell_type": "code",
   "execution_count": 10,
   "metadata": {},
   "outputs": [],
   "source": [
    "# selectionsortanimation.py\n",
    "\"\"\"Animated selection sort visualization.\"\"\"\n",
    "from matplotlib import animation\n",
    "import matplotlib.pyplot as plt\n",
    "import numpy as np\n",
    "import seaborn as sns\n",
    "import sys\n",
    "from ch11soundutilities import play_sound"
   ]
  },
  {
   "cell_type": "markdown",
   "metadata": {},
   "source": [
    "### `update` Function That Displays Each Animation Frame\n",
    "* Matplotlib `FuncAnimation` calls `update` once per animation frame to redraw the animation’s graphical elements\n",
    "* The `update` method’s `frame_data` parameter receives a tuple, which we unpack into:\n",
    "    * `data`—the array being sorted\n",
    "    * `colors`—an array of color names containing the specific color for each bar\n",
    "    * `swaps`—an integer representing the number of swaps performed so far\n",
    "    * `comparisons`—an integer representing the number of comparisons performed so far"
   ]
  },
  {
   "cell_type": "code",
   "execution_count": 11,
   "metadata": {},
   "outputs": [],
   "source": [
    "def update(frame_data):\n",
    "    \"\"\"Display bars representing the current state.\"\"\"    \n",
    "    # unpack info for graph update\n",
    "    data, colors, swaps, comparisons = frame_data\n",
    "    plt.cla()  # clear old contents of current Figure\n",
    "\n",
    "    # create barplot and set its xlabel\n",
    "    bar_positions = np.arange(len(data))\n",
    "    axes = sns.barplot(bar_positions, data, palette=colors)  # new bars\n",
    "    axes.set(xlabel=f'Comparisons: {comparisons}; Swaps: {swaps}',\n",
    "             xticklabels=data)  "
   ]
  },
  {
   "cell_type": "markdown",
   "metadata": {},
   "source": [
    "### `flash_bars` Function That Flashes the Bars About to be Swapped\n",
    "* We emphasize when the algorithm swaps two element values by calling `flash_bars` before and after a swap to flash the corresponding bars\n",
    "* Last two parameters are used only in the `yield` statements\n",
    "    * Each `yield` throughout this example returns a tuple of the values the `FuncAnimation` passes to `update`'s `frame_data` parameter\n",
    "* When the `play_sound` calls occur before the swap, the notes play in decreasing pitch to indicate that the values are out of order\n",
    "* When the `play_sound` calls occur after the swap, the notes play in increasing pitch to indicate that the values are now in order"
   ]
  },
  {
   "cell_type": "code",
   "execution_count": 12,
   "metadata": {},
   "outputs": [],
   "source": [
    "def flash_bars(index1, index2, data, colors, swaps, comparisons):\n",
    "    \"\"\"Flash the bars about to be swapped and play their notes.\"\"\"\n",
    "    for x in range(0, 2):\n",
    "        colors[index1], colors[index2] = 'white', 'white'\n",
    "        yield (data, colors, swaps, comparisons) \n",
    "        colors[index1], colors[index2] = 'purple', 'purple'\n",
    "        yield (data, colors, swaps, comparisons) \n",
    "        play_sound(data[index1], seconds=0.05)\n",
    "        play_sound(data[index2], seconds=0.05)"
   ]
  },
  {
   "cell_type": "markdown",
   "metadata": {},
   "source": [
    "### `selection_sort` as a Generator Function\n",
    "* The `colors` array specifies that all the bars should be `'lightgray'` initially\n",
    "* We modify this array’s elements throughout the algorithm to emphasize bars in different ways\n",
    "* Each time values are `yield`ed, the `FuncAnimation` passes them to the `update` function\n",
    "* First `yield` causes the animation to display the bars in their initial unsorted order"
   ]
  },
  {
   "cell_type": "code",
   "execution_count": 13,
   "metadata": {},
   "outputs": [],
   "source": [
    "def selection_sort(data):\n",
    "    \"\"\"Sort data using the selection sort algorithm and\n",
    "    yields values that update uses to visualize the algorithm.\"\"\"\n",
    "    swaps = 0  \n",
    "    comparisons = 0\n",
    "    colors = ['lightgray'] * len(data)  # list of bar colors\n",
    "    \n",
    "    # display initial bars representing shuffled values\n",
    "    yield (data, colors, swaps, comparisons)    \n",
    "    \n",
    "    # loop over len(data) - 1 elements    \n",
    "    for index1 in range(0, len(data) - 1):\n",
    "        print('outerloop')\n",
    "        smallest = index1\n",
    "        \n",
    "        # loop to find index of smallest element's index   \n",
    "        for index2 in range(index1 + 1, len(data)):\n",
    "            print('innerloop')\n",
    "            comparisons += 1\n",
    "            colors[smallest] = 'purple'\n",
    "            colors[index2] = 'red'            \n",
    "            yield (data, colors, swaps, comparisons) \n",
    "            play_sound(data[index2], seconds=0.05)\n",
    "\n",
    "            # compare elements at positions index and smallest\n",
    "            if data[index2] < data[smallest]:\n",
    "                colors[smallest] = 'lightgray'\n",
    "                smallest = index2\n",
    "                colors[smallest] = 'purple'\n",
    "                yield (data, colors, swaps, comparisons) \n",
    "            else: \n",
    "                colors[index2] = 'lightgray'\n",
    "                yield (data, colors, swaps, comparisons) \n",
    "            \n",
    "        # ensure that last bar is not purple\n",
    "        colors[-1] = 'lightgray'\n",
    "        \n",
    "        # flash the bars about to be swapped\n",
    "        yield from flash_bars(index1, smallest, data, colors, \n",
    "                              swaps, comparisons)\n",
    "\n",
    "        # swap the elements at positions index1 and smallest\n",
    "        swaps += 1\n",
    "        data[smallest], data[index1] = data[index1], data[smallest]  \n",
    "        \n",
    "        # flash the bars that were just swapped\n",
    "        yield from flash_bars(index1, smallest, data, colors, \n",
    "                              swaps, comparisons)\n",
    "        \n",
    "        # indicate that bar index1 is now in its final spot\n",
    "        colors[index1] = 'lightgreen'\n",
    "        yield (data, colors, swaps, comparisons)    \n",
    "\n",
    "    # indicate that last bar is now in its final spot\n",
    "    colors[-1] = 'lightgreen'\n",
    "    yield (data, colors, swaps, comparisons)    \n",
    "    play_sound(data[-1], seconds=0.05)\n",
    "\n",
    "    # play each bar's note once and color it darker green\n",
    "    for index in range(len(data)):\n",
    "        colors[index] = 'green'\n",
    "        yield (data, colors, swaps, comparisons)\n",
    "        play_sound(data[index], seconds=0.05)"
   ]
  },
  {
   "cell_type": "markdown",
   "metadata": {},
   "source": [
    "### `selection_sort` as a Generator Function (cont.)\n",
    "* Every iteration of the nested loop adds one to `comparisons` to keep track of the total number of comparisons performed\n",
    "* The bar at the index `smallest` is always colored purple during a pass of the algorithm\n",
    "* The bar at the index `index2` is always colored red (the value being compared with the smallest) during a pass of the algorithm’s nested loop\n",
    "* Every nested loop iteration `yield`s `data`, `colors`, `swaps` and `comparisons`, so we can see the purple and red bars indicating the values that are being compared"
   ]
  },
  {
   "cell_type": "markdown",
   "metadata": {},
   "source": [
    "### `selection_sort` as a Generator Function (cont.)\n",
    "* The nested loop's nested `if/else` statement ensures that only one bar is red and one is purple during the comparisons and `yield`s values for the next animation frame\n",
    "* Each iteration of the outer loop ends with a swap, so we flash the corresponding bars before the swap, increment the swaps counter, perform the swap and flash the corresponding bars again"
   ]
  },
  {
   "cell_type": "markdown",
   "metadata": {},
   "source": [
    "### `selection_sort` as a Generator Function (cont.)\n",
    "* When one generator function (in this case `selection_sort`) needs to `yield` the results of another, chained generator functions are required\n",
    "* In this case, you must call the latter function (`flash_bars`), in a `yield from` statement to ensure that the values `yield`ed by `flash_bars` “pass through” to the `FuncAnimation` for the next `update` call"
   ]
  },
  {
   "cell_type": "markdown",
   "metadata": {},
   "source": [
    "### `selection_sort` as a Generator Function (cont.)\n",
    "* When the algorithm’s outer loop completes, the last element of data is in its final position, so we color it light green, `yield` to draw the next animation frame and play that bar’s note\n",
    "* To complete the animation, we convert each bar one at a time to a darker green, `yield` to draw the next animation frame and play that bar’s musical note\n",
    "* The `FuncAnimation` terminates when the source of its animation-frame data has no more values"
   ]
  },
  {
   "cell_type": "markdown",
   "metadata": {},
   "source": [
    "### `main` Function That Launches the Animation\n",
    "* Recall that a `FuncAnimation`'s `frames` keyword argument receives a value that specifies how many animation frames to execute\n",
    "* In this example, the `frames` keyword argument receives a call to the generator function `selection_sort`\n",
    "* The number of animation frames depends on when the generator “runs out” of values\n",
    "* Values `yield`ed by `selection_sort` are the source of the `update` function’s `frame_data`"
   ]
  },
  {
   "cell_type": "code",
   "execution_count": 14,
   "metadata": {},
   "outputs": [],
   "source": [
    "def main():\n",
    "    number_of_values = int(sys.argv[1]) if len(sys.argv) == 2 else 10 \n",
    "\n",
    "    figure = plt.figure('Selection Sort')  # Figure to display barplot\n",
    "    numbers = np.arange(1, number_of_values + 1)  # create array \n",
    "    np.random.shuffle(numbers)  # shuffle the array\n",
    "\n",
    "    # start the animation\n",
    "    anim = animation.FuncAnimation(figure, update, repeat=False,\n",
    "        frames=selection_sort(numbers), interval=50)\n",
    "\n",
    "    plt.show()  # display the Figure"
   ]
  },
  {
   "cell_type": "markdown",
   "metadata": {},
   "source": [
    "**Instuctor Note: If this does not execute in your notebook, the Jupyter Lab extensions may have changed--this was still under development when we created the notebook. In this case, just run the script with IPython at the command line.**"
   ]
  },
  {
   "cell_type": "code",
   "execution_count": null,
   "metadata": {},
   "outputs": [],
   "source": [
    "# call main to execute the animation (we removed the if statement from the script in the book)\n",
    "main()"
   ]
  },
  {
   "cell_type": "markdown",
   "metadata": {},
   "source": [
    "### Sound Utility Functions\n",
    "The file `ch11soundutilities.py` contains two constants that we use to calculate musical note frequencies programmatically and three functions that play MIDI notes"
   ]
  },
  {
   "cell_type": "markdown",
   "metadata": {},
   "source": [
    "------\n",
    "&copy;1992&ndash;2020 by Pearson Education, Inc. All Rights Reserved. This content is based on Chapter 5 of the book [**Intro to Python for Computer Science and Data Science: Learning to Program with AI, Big Data and the Cloud**](https://amzn.to/2VvdnxE).\n",
    "\n",
    "DISCLAIMER: The authors and publisher of this book have used their \n",
    "best efforts in preparing the book. These efforts include the \n",
    "development, research, and testing of the theories and programs \n",
    "to determine their effectiveness. The authors and publisher make \n",
    "no warranty of any kind, expressed or implied, with regard to these \n",
    "programs or to the documentation contained in these books. The authors \n",
    "and publisher shall not be liable in any event for incidental or \n",
    "consequential damages in connection with, or arising out of, the \n",
    "furnishing, performance, or use of these programs.                  "
   ]
  }
 ],
 "metadata": {
  "kernelspec": {
   "display_name": "Python 3",
   "language": "python",
   "name": "python3"
  },
  "language_info": {
   "codemirror_mode": {
    "name": "ipython",
    "version": 3
   },
   "file_extension": ".py",
   "mimetype": "text/x-python",
   "name": "python",
   "nbconvert_exporter": "python",
   "pygments_lexer": "ipython3",
   "version": "3.7.3"
  }
 },
 "nbformat": 4,
 "nbformat_minor": 2
}
