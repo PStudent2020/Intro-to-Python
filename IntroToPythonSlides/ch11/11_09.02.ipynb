{
 "cells": [
  {
   "cell_type": "markdown",
   "metadata": {},
   "source": [
    "# 11.9.2 Big O of the Binary Search\n",
    "* Worst-case scenario: Searching a sorted array of 1023 elements takes only 10 comparisons with binary search\n",
    "* Repeatedly dividing 1023 by 2 (because after each comparison we can eliminate half the array) and rounding down (because we also remove the middle element) yields 511, 255, 127, 63, 31, 15, 7, 3, 1 and 0\n",
    "* 1023 (which is 2<sup>10</sup> – 1) is divided by 2 only 10 times to get the value 0, which indicates that there are no more elements to test\n",
    "* Dividing by 2 is equivalent to one comparison in the binary search algorithm\n",
    "* An array of 1,048,575 (2<sup>20</sup> – 1) elements takes a maximum of 20 comparisons"
   ]
  },
  {
   "cell_type": "markdown",
   "metadata": {},
   "source": [
    "# 11.9.2 Big O of the Binary Search\n",
    "* An array of about one billion elements takes a maximum of 30 comparisons\n",
    "* Tremendous improvement over linear search\n",
    "    * For a one-billion-element array, this is a difference between an average of 500 million comparisons for the linear search and a maximum of only 30 comparisons for the binary search!\n",
    "* Maximum number of comparisons needed for the binary search of any sorted array is the exponent of the first power of 2 greater than the number of elements in the array, which is represented as log<sub>2</sub>**_n_**\n",
    "* From a Big O perspective, all logarithms grow at roughly the same rate, so in Big O, the base can be omitted\n",
    "* O(log **_n_**) for a binary search, which is also known as logarithmic run time and pronounced as “order log n.” \n",
    "* Assumes the array is sorted, which could take time"
   ]
  },
  {
   "cell_type": "markdown",
   "metadata": {},
   "source": [
    "------\n",
    "&copy;1992&ndash;2020 by Pearson Education, Inc. All Rights Reserved. This content is based on Chapter 5 of the book [**Intro to Python for Computer Science and Data Science: Learning to Program with AI, Big Data and the Cloud**](https://amzn.to/2VvdnxE).\n",
    "\n",
    "DISCLAIMER: The authors and publisher of this book have used their \n",
    "best efforts in preparing the book. These efforts include the \n",
    "development, research, and testing of the theories and programs \n",
    "to determine their effectiveness. The authors and publisher make \n",
    "no warranty of any kind, expressed or implied, with regard to these \n",
    "programs or to the documentation contained in these books. The authors \n",
    "and publisher shall not be liable in any event for incidental or \n",
    "consequential damages in connection with, or arising out of, the \n",
    "furnishing, performance, or use of these programs.                  "
   ]
  }
 ],
 "metadata": {
  "kernelspec": {
   "display_name": "Python 3",
   "language": "python",
   "name": "python3"
  },
  "language_info": {
   "codemirror_mode": {
    "name": "ipython",
    "version": 3
   },
   "file_extension": ".py",
   "mimetype": "text/x-python",
   "name": "python",
   "nbconvert_exporter": "python",
   "pygments_lexer": "ipython3",
   "version": "3.7.3"
  }
 },
 "nbformat": 4,
 "nbformat_minor": 2
}
