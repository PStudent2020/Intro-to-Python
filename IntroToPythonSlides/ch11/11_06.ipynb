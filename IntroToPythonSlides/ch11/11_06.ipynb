{
 "cells": [
  {
   "cell_type": "markdown",
   "metadata": {},
   "source": [
    "# 11.6 Searching and Sorting\n",
    "* Searching data involves determining whether a value (referred to as the search key) is present in the data and, if so, finding its location\n",
    "    * Two popular search algorithms are the simple linear search and the faster but more complex binary search\n",
    "* Sorting places data in ascending or descending order, based on one or more sort keys\n",
    "* We selection sort and insertion sort, along with the more efficient but more complex merge sort"
   ]
  },
  {
   "cell_type": "markdown",
   "metadata": {},
   "source": [
    "| Chapter | Algorithm | Location\n",
    "| :--- | :--- | :---\n",
    "| **_Searching Algorithms, Functions and Methods_** | | \n",
    "| 5 | List method index | Section 5.9\n",
    "| 8 | String methods count, index and rindex. | Section 8.7\n",
    "| 8 | re module functions search, match, findall and finditer | Section 8.12\n",
    "| 15 | Linear search | Section 11.7\n",
    "| 15 | Binary search | Section 11.9\n",
    "| 15 | Recursive binary search | Exercise 11.18\n",
    "| **_Sorting Algorithms, Functions and Methods_** |  | \n",
    "| 5 | List method sort | Section 5.8\n",
    "| 5 | Built-in function sorted | Section 5.8\n",
    "| 5 | Built-in function sorted with a key | Exercise 5.15\n",
    "| 7 | DataFrame methods sort_index and sort_values | Section 7.14\n",
    "| 11 | Selection sort | Section 11.11\n",
    "| 11 | Insertion sort | Section 11.12\n",
    "| 11 | Recursive merge sort | Section 11.13\n",
    "| 11 | Bucket sort | Exercise 11.17\n",
    "| 11 | Recursive quicksort | Exercise 11.19"
   ]
  },
  {
   "cell_type": "markdown",
   "metadata": {},
   "source": [
    "------\n",
    "&copy;1992&ndash;2020 by Pearson Education, Inc. All Rights Reserved. This content is based on Chapter 5 of the book [**Intro to Python for Computer Science and Data Science: Learning to Program with AI, Big Data and the Cloud**](https://amzn.to/2VvdnxE).\n",
    "\n",
    "DISCLAIMER: The authors and publisher of this book have used their \n",
    "best efforts in preparing the book. These efforts include the \n",
    "development, research, and testing of the theories and programs \n",
    "to determine their effectiveness. The authors and publisher make \n",
    "no warranty of any kind, expressed or implied, with regard to these \n",
    "programs or to the documentation contained in these books. The authors \n",
    "and publisher shall not be liable in any event for incidental or \n",
    "consequential damages in connection with, or arising out of, the \n",
    "furnishing, performance, or use of these programs.                  "
   ]
  }
 ],
 "metadata": {
  "celltoolbar": "Slideshow",
  "kernelspec": {
   "display_name": "Python 3",
   "language": "python",
   "name": "python3"
  },
  "language_info": {
   "codemirror_mode": {
    "name": "ipython",
    "version": 3
   },
   "file_extension": ".py",
   "mimetype": "text/x-python",
   "name": "python",
   "nbconvert_exporter": "python",
   "pygments_lexer": "ipython3",
   "version": "3.7.3"
  }
 },
 "nbformat": 4,
 "nbformat_minor": 2
}
