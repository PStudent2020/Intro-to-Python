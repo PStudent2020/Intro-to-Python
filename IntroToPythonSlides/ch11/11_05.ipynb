{
 "cells": [
  {
   "cell_type": "markdown",
   "metadata": {},
   "source": [
    "# 11.5 Recursion vs. Iteration\n",
    "* Both iteration and recursion are based on a control statement\n",
    "    * Iteration uses an iteration statement \n",
    "    * Recursion uses a selection statement \n",
    "* Both involve iteration\n",
    "    * Iteration explicitly uses an iteration statement\n",
    "    * Recursion achieves iteration through repeated function calls\n",
    "* Both involve a termination test\n",
    "    * Iteration terminates when the loop-continuation condition fails\n",
    "    * Recursion terminates when a base case is reached\n",
    "* Both gradually approach termination\n",
    "* Both can occur infinitely\n",
    "    * An infinite loop occurs with iteration if the loop-continuation test never becomes false\n",
    "    * Infinite recursion occurs if the recursion step does not reduce the problem in a manner that converges on the base case, or if the base case is mistakenly not tested"
   ]
  },
  {
   "cell_type": "markdown",
   "metadata": {},
   "source": [
    "### Negatives of Recursion\n",
    "* Recursion repeatedly invokes the mechanism, and consequently the overhead, of function calls\n",
    "* Can be expensive in terms of both processor time and memory space\n",
    "* Each recursive call causes another copy of the function’s variables to be stored in the stack frame\n",
    "    * Can consume considerable memory space\n",
    "* Iteration avoids these repeated function calls and extra memory assignments\n",
    "* However, for some algorithms that are easily expressed and understood with recursion, iterative solutions are not readily apparent"
   ]
  },
  {
   "cell_type": "markdown",
   "metadata": {},
   "source": [
    "------\n",
    "&copy;1992&ndash;2020 by Pearson Education, Inc. All Rights Reserved. This content is based on Chapter 5 of the book [**Intro to Python for Computer Science and Data Science: Learning to Program with AI, Big Data and the Cloud**](https://amzn.to/2VvdnxE).\n",
    "\n",
    "DISCLAIMER: The authors and publisher of this book have used their \n",
    "best efforts in preparing the book. These efforts include the \n",
    "development, research, and testing of the theories and programs \n",
    "to determine their effectiveness. The authors and publisher make \n",
    "no warranty of any kind, expressed or implied, with regard to these \n",
    "programs or to the documentation contained in these books. The authors \n",
    "and publisher shall not be liable in any event for incidental or \n",
    "consequential damages in connection with, or arising out of, the \n",
    "furnishing, performance, or use of these programs.                  "
   ]
  }
 ],
 "metadata": {
  "celltoolbar": "Slideshow",
  "kernelspec": {
   "display_name": "Python 3",
   "language": "python",
   "name": "python3"
  },
  "language_info": {
   "codemirror_mode": {
    "name": "ipython",
    "version": 3
   },
   "file_extension": ".py",
   "mimetype": "text/x-python",
   "name": "python",
   "nbconvert_exporter": "python",
   "pygments_lexer": "ipython3",
   "version": "3.7.3"
  }
 },
 "nbformat": 4,
 "nbformat_minor": 2
}
